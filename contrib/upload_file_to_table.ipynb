{
 "cells": [
  {
   "attachments": {},
   "cell_type": "markdown",
   "id": "80fc1ab5",
   "metadata": {},
   "source": [
    "# Uploading and downloading file to SQL Server using flask api"
   ]
  },
  {
   "attachments": {},
   "cell_type": "markdown",
   "id": "24e87fe8",
   "metadata": {},
   "source": [
    "## Goal\n",
    "In this flask application, the goal is to upload data from an excel file into a SQL server table called ZIP_CODE. The excel contains many columns, but the requirement is to only upload five columns (ZIP, Latitude, Longitude, City, State, County Names, and Time zone). \n",
    "We will be building a flask application which allow users to pass the file path and name in URL as query parameters. The program will read the file and upload required filed into the database. \n",
    "The second part of the program allow users to downlaod the content of the table into a excel file. "
   ]
  },
  {
   "attachments": {},
   "cell_type": "markdown",
   "id": "2dc49972",
   "metadata": {},
   "source": [
    "## Flask\n",
    "Flask is a web framework. It provides tools, libraries, and technologies to build a web application. Flask is part of the categories of micro-framework. Micro-framework is a framework with little or no dependencies on external libraries. That makes flaks lightweight, and there is little dependency on updating and watching for security bugs. "
   ]
  },
  {
   "cell_type": "markdown",
   "id": "007fb2a5",
   "metadata": {},
   "source": [
    "## SQLalchemy\n",
    "SQLAlchemy is the Python SQL toolkit and Object Relational Mapper that gives application developers the full power and flexibility of SQL.\n",
    "It provides a full suite of well-known enterprise-level persistence patterns designed for efficient and high-performing database access, adapted into a simple and Pythonic domain language.\n",
    "More details can be found at:- https://www.sqlalchemy.org/\n"
   ]
  },
  {
   "attachments": {},
   "cell_type": "markdown",
   "id": "18213233",
   "metadata": {},
   "source": [
    "## Steps\n",
    "1.\tRead the file and create a data frame. \n",
    "2.\tDrop unwanted columns from the data frame.\n",
    "3.\tDo required data preparation/cleaning (in this example we will be modifying ZIP columns, making it a string and padding it will additional zeros to make it fixed 5 characters. )\n",
    "4.\tCreate database connection (using sqlalchecy)\n",
    "5.\tUpload the content to the table /Download the content to a file\n"
   ]
  },
  {
   "cell_type": "code",
   "execution_count": 1,
   "id": "e59cd4a2",
   "metadata": {},
   "outputs": [],
   "source": [
    "# Import required libraries\n",
    "from sqlalchemy import create_engine\n",
    "import pandas as pd\n",
    "import os\n",
    "from flask import Flask, request, jsonify, make_response\n"
   ]
  },
  {
   "cell_type": "code",
   "execution_count": null,
   "id": "68c60794",
   "metadata": {},
   "outputs": [],
   "source": [
    "app = Flask(__name__)\n",
    "\n",
    "# Method to be called for uploading the exls file to the database. \n",
    "# exmple of URL need to be passed to invoke this method\n",
    "# http://127.0.0.1:5000/upload?filepath=S:\\kkeshav\\Zip\\&filename=uszips.xlsx\n",
    "@app.route(\"/upload\", methods=['GET'])\n",
    "def file_upload():\n",
    "    try:\n",
    "        #Capture the File path from the query string\n",
    "        file_path = request.args.get('filepath')\n",
    "        \n",
    "        # Capture the file name from the query string\n",
    "        file_name = request.args.get('filename')        \n",
    "        file_location = file_path + file_name\n",
    "        \n",
    "        # Create a datframe from the data in the file mentioned in the query string\n",
    "        df = pd.read_excel(file_location)\n",
    "       \n",
    "        # data preparation\n",
    "        # There can be several steps of data cleaning and prepration\n",
    "        # In this example we will be removing unwanted columns and make zip column as string with fixed length of 5 charecters\n",
    "        \n",
    "        # Converting zip into string and padding required 0 to make it of 5 digits\n",
    "        df['zip'] = df['zip'].astype(str)\n",
    "        df['zip'] = df['zip'].str.zfill(5)\n",
    "\n",
    "        # Drop all columns which are not required for the table.\n",
    "        df = df.drop(['state_name', 'zcta', 'parent_zcta', 'population', 'density', 'county_fips','county_fips_all', 'county_weights', 'county_names_all', 'imprecise', 'military'], axis=1)\n",
    "\n",
    "\n",
    "        # Rename the column name of the data frame to match the tables column name.\n",
    "        df.rename(columns = {'lat':'Latitude', 'lng':'Longitude', 'city':'City', 'state_id':'StateId', 'county_name':'CountyNames', 'timezone':'TimeZone'}, inplace = True)\n",
    "       \n",
    "         # get the datbase connection using the method database_connection defined under main\n",
    "        engine = database_connection()\n",
    "        \n",
    "        #Upload the data from xlsx file to the database table\n",
    "        df.to_sql('ZIP_CODE',engine, if_exists='replace')\n",
    "        \n",
    "        # IF all good return a sucess message to the client else send the failure message\n",
    "        return \" Data sucessfully inserted !...\"\n",
    "    except:\n",
    "        return (\"Error inserting data ! ...\")\n",
    "    \n",
    "# Method to be called for downloading the content of the databse table to the file. \n",
    "# exmple of URL need to be passed to invoke this method\n",
    "# http://127.0.0.1:5000/download?filepath=S:\\kkeshav\\Zip\\&filename=downloadedfile.xlsx\n",
    "@app.route(\"/download\", methods=['GET'])\n",
    "def file_download():\n",
    "    try:\n",
    "        # get the datbase connection using the method database_connection defined under main\n",
    "        engine = database_connection()\n",
    "        \n",
    "        # Create datframe using selected data from the table\n",
    "        df_table= pd.read_sql('select * from ZIP_CODE', engine)\n",
    "        \n",
    "        # Get the File path and File name from the query string passed in the request\n",
    "        file_path = request.args.get('filepath')\n",
    "        file_name = request.args.get('filename')\n",
    "        file_location = file_path + file_name\n",
    "        \n",
    "        # Created directry as the file path provided in the query string\n",
    "        os.makedirs(file_path, exist_ok=True)\n",
    "        \n",
    "        # Create the file as passed in query string and Write dataframe to the file\n",
    "        df_table.to_excel(file_location)\n",
    "        \n",
    "        # If all good return sucess response to user with file path and file name\n",
    "        return (\"The file ... \" + file_name + \" is available at ... \" + file_path )\n",
    "        \n",
    "    except:\n",
    "        return (\"Error downloading the data ! ...\")\n",
    "               \n",
    "\n",
    "if __name__ == '__main__':\n",
    "    \n",
    "    # Common function to create datbase connection. The function returns enging.\n",
    "    def database_connection():\n",
    "        \n",
    "        # Database configs (host, user_id, passowrd, Database name )\n",
    "        svr = 'essql1.walton.uark.edu'\n",
    "        uid = 'uszip_user'\n",
    "        pwd = 'GohogsUA2'\n",
    "        db = 'USZIPCODE'\n",
    "\n",
    "        # create connection to the database as engine\n",
    "        engine = create_engine(f\"mssql+pyodbc://{uid}:{pwd}@{svr}/{db}?driver=ODBC+Driver+17+for+SQL+Server&TrustServerCertificate=yes\", fast_executemany=True)\n",
    "        return (engine)\n",
    "\n",
    "    app.run()"
   ]
  },
  {
   "cell_type": "markdown",
   "id": "a8e1dab8",
   "metadata": {},
   "source": [
    "## URL template\n",
    "\n",
    "Upload - http://127.0.0.1:5000/upload?filepath=S:\\kkeshav\\Zip\\&filename=uszips.xlsx\n",
    "\n",
    "Download - http://127.0.0.1:5000/download?filepath=S:\\kkeshav\\Zip\\&filename=downloadedfile.xlsx"
   ]
  },
  {
   "attachments": {},
   "cell_type": "markdown",
   "id": "bdcdee4f",
   "metadata": {},
   "source": [
    "## Data source\n",
    "https://www.unitedstateszipcodes.org/zip-code-database/\n"
   ]
  }
 ],
 "metadata": {
  "kernelspec": {
   "display_name": "Python 3.9.13 ('base')",
   "language": "python",
   "name": "python3"
  },
  "language_info": {
   "codemirror_mode": {
    "name": "ipython",
    "version": 3
   },
   "file_extension": ".py",
   "mimetype": "text/x-python",
   "name": "python",
   "nbconvert_exporter": "python",
   "pygments_lexer": "ipython3",
   "version": "3.9.13"
  },
  "vscode": {
   "interpreter": {
    "hash": "d4d1e4263499bec80672ea0156c357c1ee493ec2b1c70f0acce89fc37c4a6abe"
   }
  }
 },
 "nbformat": 4,
 "nbformat_minor": 5
}
