{
 "cells": [
  {
   "cell_type": "markdown",
   "id": "6fda513e",
   "metadata": {},
   "source": [
    "# Working with IRS data\n",
    "The data that I provided for my portion of the Zipcode database is IRS income data. There are two main fields that i focused on providing which are: Total Income Amount and Total Adjusted Gross Income. The IRS provides this data at a zipcode income bucket level. I will be grabbing this data from the IRS site using python and then will roll this data up to a zipcode level throughout several years of data. \n",
    "\n",
    "My data can be accessed through the SQL tables in our database and can be paired with the other tables that are also at the Zipcode level by joining on Zipcode and Year keys. \n",
    "\n",
    "Source Table which contains the files as is from the IRS site: IRS_ZIPCODE_SOURCE\n",
    "Cleaned Table which is rolled up to the Zipcode level: IRS_ZIPCODE\n",
    "\n",
    "A data dictionary is provided at the link below covering the metrics used along with basic collection information. As years are added to the IRS data files the year range inside of the for loop should be increased. \n",
    "\n",
    "Source Link: https://www.irs.gov/statistics/soi-tax-stats-individual-income-tax-statistics-zip-code-data-soi\n",
    "\n",
    "Simple Data Dictionary:\n",
    "\n",
    "* *State*: State that the data tax data is covering\n",
    "* *Zipcode*: Zipcode that the IRS data is covering\n",
    "* *AGI Stub*: These are adjusted gross income braket ranges, The source data comes at the Zip AGI level\n",
    "* *N1*: This column is the sample size or number of returns inside of the grouping\n",
    "* *A00100*: This column is the average Adjusted Gross Income for the grouping\n",
    "* *A02650*: This column is the average Total Income Amount for the grouping"
   ]
  },
  {
   "cell_type": "code",
   "execution_count": null,
   "id": "1f550fae",
   "metadata": {},
   "outputs": [],
   "source": [
    "import requests\n",
    "import pandas as pd\n",
    "import sqlalchemy\n",
    "\n",
    "\n",
    "#This function takes a link to the IRS website and a year and pulls the CSV from the IRS site and adds a year column\n",
    "\n",
    "def getdata(link, year):\n",
    "    df = pd.read_csv(link)\n",
    "    data = df[['STATE', 'zipcode', 'agi_stub', 'N1', 'A00100', 'A02650']]\n",
    "    data = data.rename(columns={\"STATE\": \"State\", \"agi_stub\":\"AGI_Stub\", \"zipcode\": \"Zipcode\", \"N1\":\"Number_Of_Returns\", \"A00100\":\"Adjusted_Gross_Income\",\n",
    "                    \"A02650\":\"Total_Income_Amount\"})\n",
    "    data['Date_Year'] = year\n",
    "    return(data)\n",
    "\n",
    "#This intializes the table that we will store the output of our for loop in\n",
    "finaltable = pd.DataFrame(columns=['State', 'Zipcode', 'AGI_Stub', 'Number_Of_Returns', 'Adjusted_Gross_Income', 'Total_Income_Amount'])\n"
   ]
  },
  {
   "cell_type": "markdown",
   "id": "7b83dff9",
   "metadata": {},
   "source": [
    "This for loop will loop through the year ranges using the last two digits of a year and will create the string logic the \n",
    "IRS uses to then call a function to get the csv with the IRS data. Then it appends this data to the table created above.\n"
   ]
  },
  {
   "cell_type": "code",
   "execution_count": null,
   "id": "2cc2ffd1",
   "metadata": {},
   "outputs": [],
   "source": [
    "for i in range(17,19):\n",
    "    year = 2000 + iy\n",
    "    query = 'https://www.irs.gov/pub/irs-soi/' + str(i) + 'zpallagi.csv'\n",
    "    data = getdata(query, year)\n",
    "    finaltable = finaltable.append(data)\n",
    "\n",
    "# Credentials for the database are stored here which are later used to call the create_engine function\n",
    "svr = getenv('svr')\n",
    "db = getenv('db')\n",
    "uid = getenv('uid')\n",
    "pwd = getenv('pwd')"
   ]
  },
  {
   "cell_type": "markdown",
   "id": "8d25084b",
   "metadata": {},
   "source": [
    "The below establishes the connection to our database\n"
   ]
  },
  {
   "cell_type": "code",
   "execution_count": null,
   "id": "44d23ee5",
   "metadata": {},
   "outputs": [],
   "source": [
    "\n",
    "engine = sqlalchemy.create_engine(f\"mssql+pyodbc://{uid}:{pwd}@{svr}/{db}?driver=ODBC+Driver+18+for+SQL+Server&TrustServerCertificate=yes\", fast_executemany=True)"
   ]
  },
  {
   "cell_type": "markdown",
   "id": "992a8d30",
   "metadata": {},
   "source": [
    "This code takes the above table we created and writes it to the database under the table name \"IRS_ZIPCODE_SOURCE\""
   ]
  },
  {
   "cell_type": "code",
   "execution_count": null,
   "id": "7f1deb97",
   "metadata": {},
   "outputs": [],
   "source": [
    "try:\n",
    "    finaltable.to_sql(\"IRS_ZIPCODE_SOURCE\", engine, if_exists='replace', index=False)\n",
    "    print(\"Source Table Success\")\n",
    "except:\n",
    "    print(\"Source Table Load Failure\")"
   ]
  },
  {
   "cell_type": "markdown",
   "id": "f6da3143",
   "metadata": {},
   "source": [
    "This section handles preparing and cleaning the data to be rolled up to the zipcode level. It takes a weighted average of the AGI stubs to produce an average at the zipcode level which will be used in the database.\n"
   ]
  },
  {
   "cell_type": "code",
   "execution_count": null,
   "id": "c8e09136",
   "metadata": {},
   "outputs": [],
   "source": [
    "finaltable['Total_Adjusted_Gross_Income'] = finaltable['Number_Of_Returns'] * finaltable['Adjusted_Gross_Income']\n",
    "finaltable['Total_Income_Amount'] = finaltable['Number_Of_Returns'] * finaltable['Total_Income_Amount']\n",
    "data = finaltable\n",
    "data.drop([\"Adjusted_Gross_Income\"], axis = 1, inplace=True)\n",
    "data = data.groupby(['State', 'Zipcode', 'Date_Year'], as_index = False).sum()\n",
    "data['Average_Adjusted_Gross_Income'] = data['Total_Adjusted_Gross_Income'] / data['Number_Of_Returns']\n",
    "data['Average_Total_Income_Amount'] = data['Total_Income_Amount'] / data['Number_Of_Returns']"
   ]
  },
  {
   "cell_type": "markdown",
   "id": "7455b51c",
   "metadata": {},
   "source": [
    "This code takes the above table we created and writes it to the database under the table name \"IRS_ZIPCODE\"\n"
   ]
  },
  {
   "cell_type": "code",
   "execution_count": null,
   "id": "1745d40a",
   "metadata": {},
   "outputs": [],
   "source": [
    "try:\n",
    "    data.to_sql(\"IRS_ZIPCODE\", engine, if_exists='replace', index=False)\n",
    "    print(\"Final Table Sucess\")\n",
    "    \n",
    "except:\n",
    "    print(\"Final Table Load Failure\")"
   ]
  }
 ],
 "metadata": {
  "kernelspec": {
   "display_name": "Python 3.9.13 ('base')",
   "language": "python",
   "name": "python3"
  },
  "language_info": {
   "codemirror_mode": {
    "name": "ipython",
    "version": 3
   },
   "file_extension": ".py",
   "mimetype": "text/x-python",
   "name": "python",
   "nbconvert_exporter": "python",
   "pygments_lexer": "ipython3",
   "version": "3.9.12"
  },
  "vscode": {
   "interpreter": {
    "hash": "d4d1e4263499bec80672ea0156c357c1ee493ec2b1c70f0acce89fc37c4a6abe"
   }
  }
 },
 "nbformat": 4,
 "nbformat_minor": 5
}
