{
 "cells": [
  {
   "attachments": {},
   "cell_type": "markdown",
   "metadata": {},
   "source": [
    "# Creating new Queries\n",
    "\n",
    "New queries should follow the below template with your desired path in the place of URL_PATH\n",
    "\n",
    "    from .__init__ import app\n",
    "    from .__init__ import sqlQuery\n",
    "\n",
    "    @app.route(\"/URL_PATH/<x>\")\n",
    "        def api_return_table(x):\n",
    "        return sqlQuery(f\"SELECT * FROM {x}\")\n",
    "\n",
    "URL paths can be passed down by being placed within \"<>\" as described [here](https://flask.palletsprojects.com/en/2.2.x/quickstart/#routing)\n",
    "\n",
    "URL arguments can be accessed as described [here](https://stackoverflow.com/questions/24892035/how-can-i-get-the-named-parameters-from-a-url-using-flask)\n",
    "\n",
    "the sqlQuery method can then be used to send a query directly to the DB. "
   ]
  }
 ],
 "metadata": {
  "kernelspec": {
   "display_name": "base",
   "language": "python",
   "name": "python3"
  },
  "language_info": {
   "name": "python",
   "version": "3.9.12 (main, Apr  5 2022, 06:56:58) \n[GCC 7.5.0]"
  },
  "orig_nbformat": 4,
  "vscode": {
   "interpreter": {
    "hash": "d4d1e4263499bec80672ea0156c357c1ee493ec2b1c70f0acce89fc37c4a6abe"
   }
  }
 },
 "nbformat": 4,
 "nbformat_minor": 2
}
