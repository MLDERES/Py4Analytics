{
 "cells": [
  {
   "cell_type": "markdown",
   "metadata": {},
   "source": [
    "# Making Decisions & Looping\n",
    "By now you have a solid understanding of a few of the data types that Python makes available to everyone.  Numbers, strings, list and dictionaries.  But often times we want to do more than just Python as a fancy calculator or simple word processor, for this need to combine together a set of actions that will be completed over and over again.  We want to let our algorithms make decisions or repeat actions until a particular condition is met.  \n",
    "\n",
    "Let's take a quick look at a loop that counts from 1 to 10\n",
    "\n",
    "Before going on, make sure that you have run the first cell in this notebook otherwise you may not see all the output that is intended**"
   ]
  },
  {
   "cell_type": "code",
   "execution_count": null,
   "metadata": {},
   "outputs": [],
   "source": [
    "from IPython.core.interactiveshell import InteractiveShell\n",
    "InteractiveShell.ast_node_interactivity = \"all\""
   ]
  },
  {
   "cell_type": "code",
   "execution_count": null,
   "metadata": {
    "tags": []
   },
   "outputs": [],
   "source": [
    "# Start with a counter at 0\n",
    "counter = 0\n",
    "# While the counter is less than 10 repeat the following\n",
    "while counter <= 10:\n",
    "    # Output the current value\n",
    "    print(f'{counter}')\n",
    "    # Increment the counter by 1\n",
    "    counter = counter + 1\n",
    "\n",
    "print('All Done')"
   ]
  },
  {
   "cell_type": "markdown",
   "metadata": {},
   "source": [
    "So what's happening here?\n",
    "- The first line assigns the value of 0 to the variable `counter`\n",
    "- Next the `while` statement checks to see if the test `counter <= 10` is `True`, if it is then all the statements that are indented after the `while` statement are executed in order.  (In Python, any non-zero integer value is `True`; and zero is `False`.  This test uses a simple comparison `<=` (less than or equal), we can use many different kinds of comparisons `>`, `==`, `<=` for instance or any expression that results in a boolean value (e.g. `True` or `False`)\n",
    "- The _body_ of the loop - the statements to be executed when the condition is `True` are indented.  Indention is how Python decides that statements should be grouped together.  All the statements that should be in the body of the function need to be indented the exact same number of spaces (usually 4), most Python editors know to automatically indent lines in a group, but they don't know when you are done with the grouping, so it's up to you to un-indent when you are done closing the body.\n",
    "- Once all the indented statements are executed, Python goes back up to the top of the loop (to the `while` statement) and checks again if the statement is `True` or `False`, if it is still `True` then the _body_ will be run again.  If the statement no results in `False` (such as when the value of `counter` becomes 11), then Python skips the indented statements and continues executing the program, in this case the final `print()` statement."
   ]
  },
  {
   "cell_type": "markdown",
   "metadata": {},
   "source": [
    "## Reminder about boolean math\n",
    "Boolean math is incredibly important to manage the flow of most computer programs.  So as a quick reminder, Boolean values can only be 1 or 0, that is `True` or `False`.  `and` means that both values must be `True` for the statement to be `True`, while the `or` statement says that only one of the values must be `True` in order for the condition to evaluate to `True`.  For instance,"
   ]
  },
  {
   "cell_type": "code",
   "execution_count": null,
   "metadata": {
    "tags": []
   },
   "outputs": [],
   "source": [
    "print('True and True is: ')\n",
    "print(True and True )\n",
    "print()\n",
    "\n",
    "print('True and False is:') \n",
    "print(True and False)\n",
    "print()\n",
    "\n",
    "print(f'But True or False is:') \n",
    "print(False or True)\n",
    "print()\n",
    "\n",
    "print('And False or False is: ')\n",
    "print(False or False)\n",
    "print()"
   ]
  },
  {
   "cell_type": "markdown",
   "metadata": {},
   "source": [
    "|*OR*|True|False|\n",
    "|------|----|-----|\n",
    "|**True**|True|True|\n",
    "|**False**| True|False|\n",
    "\n",
    "<br/>\n",
    "\n",
    "|*AND*|True|False|\n",
    "|------|----|-----|\n",
    "|**True**|True|False|\n",
    "|**False**|False|False|"
   ]
  },
  {
   "cell_type": "markdown",
   "metadata": {},
   "source": [
    "We can use combinations of expressions that evaluate to booleans and the boolean values themselves in different combinations, all of the following statements yield _True_"
   ]
  },
  {
   "cell_type": "code",
   "execution_count": null,
   "metadata": {},
   "outputs": [],
   "source": [
    "(4 < 5) and True\n",
    "\n",
    "(4 < 5) and (6 < 9)\n",
    "\n",
    "(1 == 2) or True"
   ]
  },
  {
   "cell_type": "markdown",
   "metadata": {},
   "source": [
    "Python also gives us a unary operator _not_, this simply means that the operation only works on a single value not two like _and_ and _or_.  The _not_ operator simply evaluates the opposite of the boolean value."
   ]
  },
  {
   "cell_type": "code",
   "execution_count": null,
   "metadata": {},
   "outputs": [],
   "source": [
    "# This evaluates to False\n",
    "not True \n",
    "\n",
    "# What do you think this evaluates to?\n",
    "not not True\n"
   ]
  },
  {
   "cell_type": "markdown",
   "metadata": {},
   "source": [
    "(code-blocks)=\n",
    "## Blocks of Code\n",
    "One more item we need to address before we get too far, code blocks.  While code is mostly meant to run from the top to the bottom on the page, we can put groups of statements together into code blocks. You can tell when you are looking at a code block because of indentions.<br/>\n",
    "\n",
    "Three rules apply to code blocks\n",
    "1.  Blocks begin when indention increases\n",
    "2.  Blocks can contain other blocks\n",
    "3.  Blocks end when the indention decreases to zero or a containing block's indention\n",
    "\n",
    "You've seen an example of this already, but let's look at one more and be explicit.\n",
    "\n",
    "```python\n",
    "name = 'Daniel'\n",
    "password = 'baby tigers are cute'\n",
    "\n",
    "if name == 'Daniel':\n",
    "    print('Hello Daniel')\n",
    "    if password == 'baby tigers are cute':\n",
    "        print('Access granted')\n",
    "    else:\n",
    "        print('Access denied')\n",
    "\n",
    "print('Next Command')\n",
    "```\n",
    "Here we have a code block that starts with `print('Hello Daniel')` **(rule 1)** and contains all the lines up to `print('next command')` **(rule 3)**.  There are two other code blocks `print('Access granted')` and `print('Access denied')` **(rule 2)**."
   ]
  },
  {
   "cell_type": "markdown",
   "metadata": {},
   "source": [
    "## Flow Control\n",
    "Most of the interesting algorithms that we want to automate are more complex than just a list of tasks.  We often have to react to changing conditions or adjust the list of steps based on outcome of previous steps or the environment.  For instance, if we are going to make a PB&J sandwich, we might want to ask the person that is going to eat the sandwhich if they would like the bread toasted first.  If they say yes, then we will add a step to our algorithm which says \"toast the bread\".\n",
    "\n",
    "__Making a PB&J__ (on bread or toast)\n",
    "* Gather bread, peanut butter, jelly\n",
    "* Take out two slices of bread\n",
    "* Ask the consumer, \"Do you want the bread toasted?\"\n",
    "* If YES then \n",
    "    * Toast bread\n",
    "* Place bread (or toast) onto a plate\n",
    "* Spread PB onto a single slice of bread/toast\n",
    "* Spread jelly onto other slice of bread/toast\n",
    "\n",
    "Notice that all the steps will be executed exactly the same, except that if the bread is to be toasted, we'll add one more step.\n",
    "\n",
    "### Conditional Statements\n",
    "The most well-worn statement in all of programming is the `if` statement.  This expressions says: _if this condition is true, then execute the next block of code_.  One step further, we might want to take a different path \n",
    "\n",
    "Following is an example using Python"
   ]
  },
  {
   "cell_type": "code",
   "execution_count": 1,
   "metadata": {},
   "outputs": [
    {
     "ename": "ValueError",
     "evalue": "invalid literal for int() with base 10: ''",
     "output_type": "error",
     "traceback": [
      "\u001b[0;31m---------------------------------------------------------------------------\u001b[0m",
      "\u001b[0;31mValueError\u001b[0m                                Traceback (most recent call last)",
      "\u001b[1;32m/workspaces/py4analytics/book/lessons/120-Flow_Control.ipynb Cell 14\u001b[0m in \u001b[0;36m<cell line: 7>\u001b[0;34m()\u001b[0m\n\u001b[1;32m      <a href='vscode-notebook-cell://dev-container%2B643a5c5465616368696e675c707934616e616c7974696373/workspaces/py4analytics/book/lessons/120-Flow_Control.ipynb#X16sdnNjb2RlLXJlbW90ZQ%3D%3D?line=4'>5</a>\u001b[0m user_response \u001b[39m=\u001b[39m \u001b[39minput\u001b[39m(\u001b[39m\"\u001b[39m\u001b[39mPlease enter integer: \u001b[39m\u001b[39m\"\u001b[39m)\n\u001b[1;32m      <a href='vscode-notebook-cell://dev-container%2B643a5c5465616368696e675c707934616e616c7974696373/workspaces/py4analytics/book/lessons/120-Flow_Control.ipynb#X16sdnNjb2RlLXJlbW90ZQ%3D%3D?line=5'>6</a>\u001b[0m \u001b[39m# We'll need to change it into an integer\u001b[39;00m\n\u001b[0;32m----> <a href='vscode-notebook-cell://dev-container%2B643a5c5465616368696e675c707934616e616c7974696373/workspaces/py4analytics/book/lessons/120-Flow_Control.ipynb#X16sdnNjb2RlLXJlbW90ZQ%3D%3D?line=6'>7</a>\u001b[0m user_input_as_int \u001b[39m=\u001b[39m \u001b[39mint\u001b[39;49m(user_response)\n\u001b[1;32m      <a href='vscode-notebook-cell://dev-container%2B643a5c5465616368696e675c707934616e616c7974696373/workspaces/py4analytics/book/lessons/120-Flow_Control.ipynb#X16sdnNjb2RlLXJlbW90ZQ%3D%3D?line=8'>9</a>\u001b[0m \u001b[39m# Save the result ahead of the checks\u001b[39;00m\n\u001b[1;32m     <a href='vscode-notebook-cell://dev-container%2B643a5c5465616368696e675c707934616e616c7974696373/workspaces/py4analytics/book/lessons/120-Flow_Control.ipynb#X16sdnNjb2RlLXJlbW90ZQ%3D%3D?line=9'>10</a>\u001b[0m result \u001b[39m=\u001b[39m user_input_as_int\n",
      "\u001b[0;31mValueError\u001b[0m: invalid literal for int() with base 10: ''"
     ]
    }
   ],
   "source": [
    "## Ask the user for a number which is greater than zero.\n",
    "## If the number is less than 0 change the value to zero\n",
    "\n",
    "# When asking for input, the result is always a string\n",
    "user_response = input(\"Please enter integer: \")\n",
    "# We'll need to change it into an integer\n",
    "user_input_as_int = int(user_response)\n",
    "\n",
    "# Save the result ahead of the checks\n",
    "result = user_input_as_int\n",
    "if user_input_as_int < 0:\n",
    "    print('Value was less than zero, setting to 0')\n",
    "    result = 0\n",
    "\n",
    "print('The result is: ',result)"
   ]
  },
  {
   "cell_type": "markdown",
   "metadata": {},
   "source": [
    "### Alternate paths\n",
    "Even more interesting are scenarios where we choose one of two different paths (or more) and do something different in either path.  For instance, what if we offer the consumer the choice between grape (default) or strawberry jelly.  Most of the steps are the same, but we would use a different jar of jam based on the user's preference.\n",
    "\n",
    "__Making a PB&J__ (with choice of jelly)\n",
    "* Gather bread, peanut butter, jelly\n",
    "* Take out two slices of bread\n",
    "* Ask the consumer, \"Do you want the bread toasted?\"\n",
    "* If YES then _Toast bread_\n",
    "    * Place bread (or toast) onto a plate\n",
    "* Spread PB onto a single slice of bread/toast\n",
    "* Ask the consumer, \"Would you like grape jelly or strawberry?\"\n",
    "* If STRAWBERRY then\n",
    "    * Get out the strawberry jam jar\n",
    "* Otherwise (assume grape)\n",
    "    * Get out the grape jelly jar\n",
    "* Spread jelly onto other slice of bread/toast\n",
    "\n",
    "The key to this example is that our default option is to select grape jelly and we only do something different if we want to use strawberry.  Notice, if we didn't specify the alternative (get out the grape jelly) we wouldn't have any jelly to put on the bread later.\n",
    "\n",
    "Next, we'll create a simple number guessing game.  If the user guesses our number then we'll let them know they got it, otherwise we'll tell them they didn't.\n",
    "\n",
    "**??** What would happen if we don't do the _else_ part of the conditional statement?  Try it out.\n"
   ]
  },
  {
   "cell_type": "code",
   "execution_count": null,
   "metadata": {
    "tags": []
   },
   "outputs": [],
   "source": [
    "import random\n",
    "# Get a number between 0 and 10\n",
    "our_random = random.randint(0,10)\n",
    "\n",
    "# When asking for input, the result is always a string\n",
    "user_response = input(\"Please enter integer: \")\n",
    "# We'll need to change it into an integer\n",
    "user_input_as_int = int(user_response)\n",
    "\n",
    "if (user_response == our_random):\n",
    "    print(\"Congratulations you guessed it!\")\n",
    "else:\n",
    "    print(\"Didn't guess it this time\")\n",
    "\n",
    "print(f\"My number was: {our_random}\")\n"
   ]
  },
  {
   "cell_type": "markdown",
   "metadata": {},
   "source": [
    "### Multiple alternatives\n",
    "Some people actually like bananas on their peanut butter sandwiches (yuck!), but since it's an option, let's allow our consumer to choose between one of the two jelly choices or bananas.\n",
    "\n",
    "\n",
    "__Making a PB&J__ (with choice of jelly)\n",
    "* Gather bread, peanut butter, jelly\n",
    "* Take out two slices of bread\n",
    "* Ask the consumer, \"Do you want the bread toasted?\"\n",
    "* If YES then _Toast bread_\n",
    "    * Place bread (or toast) onto a plate\n",
    "* Spread PB onto a single slice of bread/toast\n",
    "* Ask the consumer, \"Would you like grape jelly or strawberry?\"\n",
    "* If STRAWBERRY then\n",
    "    * Get out the strawberry jam jar\n",
    "* Otherwise If BANANAS then\n",
    "    * Get bananas ready to put on the sandwhich\n",
    "* Otherwise (assume grape)\n",
    "    * Get out the grape jelly jar\n",
    "* Spread jelly or bananas onto other slice of bread/toast\n",
    "\n",
    "We can have an infinite number of choices (though we try to generalize our approach to as few options as possible to keep our code simpler).\n",
    "\n",
    "In Python we use the keyword `elif` as-in \"else-if\", this is a short cut for a new code block so where we would have to do\n",
    "```\n",
    "if `some condition is true` then\n",
    "   first_condition was true\n",
    "else\n",
    "    if `some second condition is true` then\n",
    "        some second condition was true\n",
    "    else\n",
    "        neither the first or second condition was true\n",
    "```\n",
    "\n",
    "In the cell below, let's change the game to let the user know if their pick was high or low."
   ]
  },
  {
   "cell_type": "code",
   "execution_count": null,
   "metadata": {},
   "outputs": [],
   "source": [
    "# Get a number between 0 and 10\n",
    "our_random = random.randint(0,10)\n",
    "\n",
    "# When asking for input, the result is always a string\n",
    "user_response = input(\"Please enter integer: \")\n",
    "# We'll need to change it into an integer\n",
    "user_input_as_int = int(user_response)\n",
    "\n",
    "## If the value was too high\n",
    "if : \n",
    "   print(\"Didn't guess it this time, your guess was too high\")\n",
    "\n",
    "# If the value too low\n",
    "elif :\n",
    "    print(\"Didn't guess it this time, your guess was too high\")\n",
    "\n",
    "else: \n",
    "    print(\"Congratulations you guessed it!\")\n",
    "\n",
    "print(f\"My number was: {our_random}\")"
   ]
  },
  {
   "cell_type": "markdown",
   "metadata": {},
   "source": [
    "### Conditions in other languages\n",
    "`if` statements are incredibly valuable and are seen nearly everywhere in all different kinds of applications.  Every language uses `if` statements, it is just the syntax that changes.  For instance, you have likely seen in Excel something like \n",
    "```\n",
    "=IF(A1 < B1, \"Yes\", \"No\")\n",
    "```\n",
    "In this simple example, we are testing if the value in cell A1 is less than the value in B1 and if so, place _Yes_ in the current cell, otherwise fill the cell with _No_."
   ]
  },
  {
   "cell_type": "markdown",
   "metadata": {},
   "source": [
    "## Repeating Statements\n",
    "Another useful feature of common algorithms that we tend to use is to repeat a set of steps.  For instance, printing address labels for all our customers, reading lines from a file, or processing items in an ecommerce basket.  These situations may not happen quite as often in real life, but with compute power - repeating tasks is super cheap and incredibly efficient.\n",
    "\n",
    "There are two common kinds of loops in Python.  \n",
    "* Looping over a known set of items.  The set of items can be numbers, strings or something else.  For instance, make 4 sandwiches or make sandwiches for Alice, Bob and Charlie.\n",
    "* Continue to loop until a condition is met.  An example of this would be: keep making sandwiches until someone tells us to stop.\n",
    "\n",
    "### `for` statement\n",
    "The `for` statement in Python is an incredibly valuable and prevalent statement.  This statement will iterate over a some sequence of items (e.g. a list, letters in a string) with each pass assigning the next item to a common variable.  Let's take for instance\n",
    "```python\n",
    "words = ['cat','house','window']\n",
    "for w in words:\n",
    "    print(f'{w}')\n",
    "```\n",
    "In this simple example, the variable `w` is assigned the value `cat` for the duration of the code block following the for statement, then when the block has completed, `w` is assigned the value `house` and finally `window`.  The next cell shows this in action.\n"
   ]
  },
  {
   "cell_type": "code",
   "execution_count": null,
   "metadata": {},
   "outputs": [],
   "source": [
    "words = ['cat','house','window']\n",
    "for w in words:\n",
    "    print(f'{w}')"
   ]
  },
  {
   "cell_type": "markdown",
   "metadata": {},
   "source": [
    "### Creating a list of numbers automatically with `range`\n",
    "In order to execute a for loop, it is sometimes helpful to have a sequence of numbers to iterate over.  And while you could type out a list with each number it in, that gets cumbersome and error prone.\n",
    "```python\n",
    "for i in [0,1,2,3,4]:\n",
    "    print(i)\n",
    "```\n",
    "This is where the `range` function comes in.  `range` will generate an arithmetic progression given the number of items you specify for instance.\n",
    "```python\n",
    "for i in range(5):\n",
    "    print(i)\n",
    "0\n",
    "1\n",
    "2\n",
    "3\n",
    "4\n",
    "```\n",
    "In this case, we asked for 5 numbers, so Python started at 0 and created us 5 numbers (0-4).  You can also specify a different starting number and the increment (or decrement!) called step.  Here's a few examples.  (Note: `range` is a special datatype which doesn't have an expected string representation, so we have to make it into a list for viewing, this is not necessary when using it directly)"
   ]
  },
  {
   "cell_type": "code",
   "execution_count": null,
   "metadata": {},
   "outputs": [],
   "source": [
    "list(range(5,10)) # Values starting with 5 up to (not including 10)\n",
    "list(range(0,10,3)) # Every 3rd number starting at 0 up until (not including 10)\n",
    "list(range(10,0,-1)) # Starting at 10, count *down* to 0 (not including 0)\n",
    "\n",
    "for i in range(10,0,-1):\n",
    "    print(i)"
   ]
  },
  {
   "cell_type": "markdown",
   "metadata": {},
   "source": [
    "Below is one more fun example.  Combining `for` loops with decision making `if` statements.  Don't be put off by the use of emojis instead of characters, strings or numbers.  Emojis are just characters like any other character as far as Python is concerned.  (Which means you could use these in your variable or function names, but you probably shouldn't if you want your code to be understood by other humans)."
   ]
  },
  {
   "cell_type": "code",
   "execution_count": null,
   "metadata": {
    "tags": []
   },
   "outputs": [],
   "source": [
    "# Here's another fun example\n",
    "# In order to type an emoji anywhere in Windows, just press ⊞ Win + .\n",
    "all_the_fruits = '🍇🍈🍉🍊🍌🍍🍑🍒🍓🍋🍐🍎🍏🥭'  # Notice this is just a string\n",
    "\n",
    "# This is a list of \"characters\"\n",
    "fruits_i_like = ['🍇','🍊','🍌','🍍','🍒','🍓']\n",
    "\n",
    "# This statement says:\n",
    "# One at a time, assign the characters in the string 'fruits_i_like'\n",
    "#    to the variable named fruit\n",
    "for fruit in all_the_fruits:\n",
    "    print(f'{fruit}')\n",
    "    # Check if the current fruit is in the list of fruits I like\n",
    "    if fruit in fruits_i_like:\n",
    "        print(f'I like this one {fruit}!')"
   ]
  },
  {
   "cell_type": "markdown",
   "metadata": {},
   "source": [
    "So as you can see, with just these two simple statements `if` and `for` we can implement some pretty interesting algorithms.\n",
    "\n",
    "Now would be a good time to head over to the [exercises](../exercises/120-Flow_Control-ex.ipynb) and try a couple on your own."
   ]
  },
  {
   "cell_type": "markdown",
   "metadata": {},
   "source": [
    "## `while` Statements\n",
    "You have already seen an example of the `while` statement a bit earlier, but it is helpful to address again briefly.  The `while` statement is useful when the condition that is being tested happens _in the code block of the loop_.  For instance, `while` loops are often used when reading lines from a file.  \n",
    "```python\n",
    "line = ''\n",
    "while not line is not None:\n",
    "    print(line)\n",
    "    line = read_line_from_file(f)\n",
    "```\n",
    "In this case, we start by setting the value of `line` to be an empty string, then we tell Python to continue to execute the code block until the value of `line` has no value.  If we were to do this with a `for` loop, we would need to know ahead of time how many lines were in the file or have a specific number of lines in mind.  For instance,\n",
    "\n",
    "```python\n",
    "line = ''\n",
    "for line_number in range(num_lines_in_file):\n",
    "    line = read_line_from_file_by_number(file, line_number)\n",
    "    print(line)\n",
    "```\n",
    "\n",
    "````{caution}\n",
    "Because of the way the blocks execute in `while` loops vs `for` loops, you will often see a little different logic.  For instance, with a `while` loop, the first value is set before the loop starts so typcially we will use the value initially and the last step in the loop is to update the condition we are checking.  In `for` loops the value is set when the loop starts, so there is no need to update the condition in the loop.\n",
    "````"
   ]
  },
  {
   "cell_type": "markdown",
   "metadata": {},
   "source": [
    "One more common use of `while` is to avoid getting bad data from user inputs.  So for instance, the next cell shows an example of asking the user to specify a value between 1-10.  So long as the user doesn't provide a valid value, the prompt is repeated.\n",
    "\n",
    "Next we'll go back to our guessing game and this time, we'll let the user continue to guess until they get the right answer."
   ]
  },
  {
   "cell_type": "code",
   "execution_count": 1,
   "metadata": {},
   "outputs": [
    {
     "ename": "NameError",
     "evalue": "name 'random' is not defined",
     "output_type": "error",
     "traceback": [
      "\u001b[0;31m---------------------------------------------------------------------------\u001b[0m",
      "\u001b[0;31mNameError\u001b[0m                                 Traceback (most recent call last)",
      "\u001b[1;32m/workspaces/py4analytics/book/lessons/120-Flow_Control.ipynb Cell 29\u001b[0m in \u001b[0;36m<cell line: 2>\u001b[0;34m()\u001b[0m\n\u001b[1;32m      <a href='vscode-notebook-cell://dev-container%2B643a5c5465616368696e675c707934616e616c7974696373/workspaces/py4analytics/book/lessons/120-Flow_Control.ipynb#X33sdnNjb2RlLXJlbW90ZQ%3D%3D?line=0'>1</a>\u001b[0m \u001b[39m# Get a number between 0 and 10\u001b[39;00m\n\u001b[0;32m----> <a href='vscode-notebook-cell://dev-container%2B643a5c5465616368696e675c707934616e616c7974696373/workspaces/py4analytics/book/lessons/120-Flow_Control.ipynb#X33sdnNjb2RlLXJlbW90ZQ%3D%3D?line=1'>2</a>\u001b[0m our_random \u001b[39m=\u001b[39m random\u001b[39m.\u001b[39mrandint(\u001b[39m0\u001b[39m,\u001b[39m10\u001b[39m)\n\u001b[1;32m      <a href='vscode-notebook-cell://dev-container%2B643a5c5465616368696e675c707934616e616c7974696373/workspaces/py4analytics/book/lessons/120-Flow_Control.ipynb#X33sdnNjb2RlLXJlbW90ZQ%3D%3D?line=3'>4</a>\u001b[0m \u001b[39m# We need to establish the check condition before the loop starts\u001b[39;00m\n\u001b[1;32m      <a href='vscode-notebook-cell://dev-container%2B643a5c5465616368696e675c707934616e616c7974696373/workspaces/py4analytics/book/lessons/120-Flow_Control.ipynb#X33sdnNjb2RlLXJlbW90ZQ%3D%3D?line=4'>5</a>\u001b[0m user_input_as_int \u001b[39m=\u001b[39m \u001b[39mint\u001b[39m(\u001b[39minput\u001b[39m(\u001b[39m\"\u001b[39m\u001b[39mPlease enter integer: \u001b[39m\u001b[39m\"\u001b[39m))\n",
      "\u001b[0;31mNameError\u001b[0m: name 'random' is not defined"
     ]
    }
   ],
   "source": [
    "# Get a number between 0 and 10\n",
    "our_random = random.randint(0,10)\n",
    "\n",
    "# We need to establish the check condition before the loop starts\n",
    "user_input_as_int = int(input(\"Please enter integer: \"))\n",
    "\n",
    "# Until the users input matches our random number, do these steps\n",
    "while (user_input_as_int != our_random):\n",
    "    ## If the value was too high\n",
    "    if user_input_as_int > our_random:\n",
    "        print(\"Didn't guess it this time, your guess was too high\")\n",
    "    else:\n",
    "        print(\"Didn't guess it this time, your guess was too low\")\n",
    "    \n",
    "    # We need to make sure that user_input_as_int changes in the loop\n",
    "    user_input_as_int = int(input(\"Please enter integer: \"))\n",
    "\n",
    "print(f\"You got it!  My number was: {our_random}\")"
   ]
  },
  {
   "cell_type": "markdown",
   "metadata": {},
   "source": [
    "````{note} \n",
    "There are a few things that catch new coders with `while` statements.  \n",
    "* First, the check condition will need to be established _before_ the loop starts, or else the loop won't start.  \n",
    "* Also, if there is no way for the condition to change in the loop, then the loop will not stop!\n",
    "````"
   ]
  },
  {
   "cell_type": "markdown",
   "metadata": {},
   "source": [
    "### How to do nothing\n",
    "There are rare occassions when our code requires us to have a block of statements even though we don't want to do anything with them.  This is common when we are starting to write our code and we want a placeholder or we aren't sure what to do just yet, but we want to be syntactically correct.  This is where we can use the keyword `pass` similar to comments, this is skipped over by the computer, but makes sure that our code works correctly.\n",
    "```python\n",
    "if x is True:\n",
    "    pass\n",
    "else:\n",
    "    do_something_useful\n",
    "```\n",
    "This is a poor paradigm to actually use, just know that it is helpful when you are building up your program and need a short-term placeholder."
   ]
  },
  {
   "cell_type": "markdown",
   "metadata": {},
   "source": [
    "## Conclusion\n",
    "Logical decision making and looping are essential building blocks in nearly every single computer application.  Everything from ensuring that data is entered correctly, to making business decisions.  Even video games are based on loops.  The main function of a video game loop is usually something like\n",
    "```python\n",
    "while(application_is_running):\n",
    "    if move_right:\n",
    "        move_spaceship_right()\n",
    "    if move_left:\n",
    "        move_spaceship_left()\n",
    "    if button_pressed:\n",
    "        fire_missles()\n",
    "    if missle_hit_invader:\n",
    "        score_points()\n",
    "        remove_invader()\n",
    "    update_screen()\n",
    "```    \n",
    "Pretty crazy to know that something as complex as Call of Duty is these same primitives as our simple guessing game!"
   ]
  }
 ],
 "metadata": {
  "kernelspec": {
   "display_name": "Python 3.9.12 ('base')",
   "language": "python",
   "name": "python3"
  },
  "language_info": {
   "codemirror_mode": {
    "name": "ipython",
    "version": 3
   },
   "file_extension": ".py",
   "mimetype": "text/x-python",
   "name": "python",
   "nbconvert_exporter": "python",
   "pygments_lexer": "ipython3",
   "version": "3.9.12"
  },
  "vscode": {
   "interpreter": {
    "hash": "d4d1e4263499bec80672ea0156c357c1ee493ec2b1c70f0acce89fc37c4a6abe"
   }
  }
 },
 "nbformat": 4,
 "nbformat_minor": 4
}