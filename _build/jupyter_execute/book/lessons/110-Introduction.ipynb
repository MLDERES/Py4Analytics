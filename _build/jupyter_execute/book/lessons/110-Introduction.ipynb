{
 "cells": [
  {
   "cell_type": "markdown",
   "metadata": {},
   "source": [
    "# Learning to program\n",
    "There are two primary challenges for people to learn to code:\n",
    "1. Thinking like a computer (we call this the algorithms)\n",
    "2. Understanding the words and symbols to use to tell the computer how to run the steps of the algorithm (syntax)\n",
    "\n",
    "## Algorithms\n",
    "Algorithms are simply a set of steps required to complete a task.  We use algorithms all the time - for instance, the steps used to make a peanut butter and jelly sandwich or something very complex such as framing a house.  Algorithms have a few different kinds of steps - for instance, we have steps for PREPARING, TASK EXECUTION, DECISION MAKING and REPEATING instructions.  Each of the steps can be general steps - like grabbing peanut butter from the cabinet or taking an action on a particular item such as OPEN the peanut butter jar.  Learning to think in this way is one of the first challenges for people learning to code.\n",
    "\n",
    "## Syntax\n",
    "In order to make a computer complete the tasks that we desire, we need to talk in a language that can be understood by the computer.  This is called language syntax.  There are many different languages/syntaxes that humans can use to tell the computer what to do.  Python is the language we'll use because it reads alot like english and can become more intuitive with a few less symbols than other languages.\n",
    "\n",
    "Often times, new learners, once they have successfully identified the algorithm that completes the task at hand, converting this algorithm to words, phrases and symbols that the computer understands is the second challenge.  These notebooks are focused on Python syntax, but students should constantly be on the lookout for the algorithms as well.  The algorithms used here are small/simple tasks - but they are often building blocks for more complex algorithms."
   ]
  },
  {
   "cell_type": "markdown",
   "metadata": {},
   "source": [
    "# Let's talk Python\n",
    "\n",
    "Okay, there are [many](https://medium.com/velotio-perspectives/the-ultimate-beginners-guide-to-jupyter-notebooks-6b00846ed2af), [many](https://www.kdnuggets.com/2018/05/jupyter-notebook-beginners-tutorial.html) valuable resources to learn the ins and outs of Jupyter notebooks, so I'll leave you to explore the many ways they can be used.  _If you are already a Python whiz_ try some of the [Coding Challenges](../exercises/Coding_Challenges.ipynb) or explore [Jupyter Notebook Tips,Tricks](https://www.dataquest.io/blog/jupyter-notebook-tips-tricks-shortcuts/). \n",
    "\n",
    "Now, one more thing before we get too far. You will see in many places, where there is non-computer code that gives other humans an idea of what is going on in the code. We call these pieces of text comments. Comments in Python start with a `#` symbol and tell the computer that everything following this symbol _on the current line_ is to be ignored. Comments are a valuable part of coding as they can help you to capture what you are trying to do (algorithm) before writing any code (syntax) and can be used once the code is in place to remember or clarify what exactly a bit of code is supposed to do. Here are a few examples of comments.\n",
    "\n",
    "```python\n",
    "# this is the first comment\n",
    "spam = 1  # and this is the second comment\n",
    "          # ... and now a third!\n",
    "text = \"# This is not a comment because it's inside quotes.\"\n",
    "```\n",
    "You will see comments sprinkled in among the examples, these don't need to be typed to make your code work, but it's a good idea to get in the habit early on so that you have good practice"
   ]
  },
  {
   "cell_type": "markdown",
   "metadata": {},
   "source": [
    "::::{tip} \n",
    "You can always open these interactive notebooks in JupyterHub to run them, make changes and generally experiment.  For help with this see the [Welcome To Jupyter](./01-JupyterNotebooks.ipynb) page\n",
    "::::"
   ]
  },
  {
   "cell_type": "markdown",
   "metadata": {},
   "source": [
    "## Strings, numbers, and lists\n",
    "\n",
    "All programming languages can deal with many different kinds of datatypes.  The most common ones are boolean (`True` or `False`), numbers, strings, and collections of items.  Numbers are represented just by typing them out with no special characters.  Strings are characters that are surrounded by either `'` or `\"` as we will see a bit later.  Boolean values can only either be `True` or `False` and are incredibly valuable as we'll see in a bit."
   ]
  },
  {
   "cell_type": "code",
   "execution_count": 17,
   "metadata": {},
   "outputs": [
    {
     "data": {
      "text/plain": [
       "[5, 'Some String', True]"
      ]
     },
     "execution_count": 17,
     "metadata": {},
     "output_type": "execute_result"
    }
   ],
   "source": [
    "# Output a number\n",
    "5\n",
    "# Output a string\n",
    "\"This is a string\"\n",
    "# Output a boolean\n",
    "True\n",
    "# This is a list\n",
    "[5, \"Some String\", True]"
   ]
  },
  {
   "cell_type": "markdown",
   "metadata": {},
   "source": [
    "## Output\n",
    "Typically in a Python program if we want to show the user some response we need to use a print function to see the result.  Here's a few examples:"
   ]
  },
  {
   "cell_type": "code",
   "execution_count": 18,
   "metadata": {},
   "outputs": [
    {
     "name": "stdout",
     "output_type": "stream",
     "text": [
      "This is a string\n",
      "This is a number:  5\n",
      "This is a boolean: True\n"
     ]
    }
   ],
   "source": [
    "print(\"This is a string\")\n",
    "print(\"This is a number: \", 5)\n",
    "print(\"This is a boolean:\", True)"
   ]
  },
  {
   "cell_type": "markdown",
   "metadata": {},
   "source": [
    "One of the reasons we use Jupyter notebooks is so that we can see the result immediately without having to run the entire code base everytime, we can just run one piece of code at a time.  Also, Jupyter doesn't require us to `print` our output (it's just a handy way to try something without worrying about extra syntax)."
   ]
  },
  {
   "cell_type": "code",
   "execution_count": 19,
   "metadata": {},
   "outputs": [
    {
     "data": {
      "text/plain": [
       "4"
      ]
     },
     "execution_count": 19,
     "metadata": {},
     "output_type": "execute_result"
    }
   ],
   "source": [
    "# We can add numbers\n",
    "2+2"
   ]
  },
  {
   "cell_type": "markdown",
   "metadata": {},
   "source": [
    "## Working with numbers\n",
    "Computers do math really well. Working with numbers is one of the easiest ways to bridge the gap between algorithms and syntax.  If I were to ask you to count up the number of apples and oranges in a grocery basket, you know that you can simply count the apples and add to that number the number of oranges.  This translates really well to Python, adding two numbers is done with a `+` sign.  The next section covers all the different operations we can perform on numbers."
   ]
  },
  {
   "cell_type": "markdown",
   "metadata": {},
   "source": [
    "### Operators\n",
    "[Operators](https://www.tutorialspoint.com/python/python_basic_operators.htm) are the constructs that execute on operands.  For instance, in the equation 4+5,the operator is '+' and the operands are 4 and 5.  For more details on all the Python Operators check the [on-line docs](https://docs.python.org/3/library/operator.html#mapping-operators-to-functions).\n",
    "\n",
    "A few of the most valuable ones to us are '+', '-', '*' (multiplication), '/' (division), '>', '<', '=', and '=='.\n",
    "\n"
   ]
  },
  {
   "cell_type": "code",
   "execution_count": 20,
   "metadata": {},
   "outputs": [
    {
     "data": {
      "text/plain": [
       "15105"
      ]
     },
     "execution_count": 20,
     "metadata": {},
     "output_type": "execute_result"
    }
   ],
   "source": [
    "53*285"
   ]
  },
  {
   "cell_type": "markdown",
   "metadata": {},
   "source": [
    "With Python, math works exactly as you expect.  Equations are evaluated left to right, and the order of precidence can be changed using parentheses."
   ]
  },
  {
   "cell_type": "code",
   "execution_count": 21,
   "metadata": {},
   "outputs": [
    {
     "data": {
      "text/plain": [
       "30"
      ]
     },
     "execution_count": 21,
     "metadata": {},
     "output_type": "execute_result"
    }
   ],
   "source": [
    "5+5*5 # This equals 30 because 5*5 happens first (order of precidence)"
   ]
  },
  {
   "cell_type": "code",
   "execution_count": 22,
   "metadata": {},
   "outputs": [
    {
     "data": {
      "text/plain": [
       "50"
      ]
     },
     "execution_count": 22,
     "metadata": {},
     "output_type": "execute_result"
    }
   ],
   "source": [
    "(5+5)*5 # This evaluates to 50 because we have told Python to add first due to parenthesis"
   ]
  },
  {
   "cell_type": "code",
   "execution_count": 23,
   "metadata": {},
   "outputs": [
    {
     "data": {
      "text/plain": [
       "50"
      ]
     },
     "execution_count": 23,
     "metadata": {},
     "output_type": "execute_result"
    }
   ],
   "source": [
    "5*(5+5) # Same thing, this will be 50 because of parens"
   ]
  },
  {
   "cell_type": "markdown",
   "metadata": {},
   "source": [
    "Feel free to go to the previous cell and try a few more calculations.  Or if you want to keep the original, just 'insert' a cell above this one and try a few others.\n",
    "\n"
   ]
  },
  {
   "cell_type": "markdown",
   "metadata": {},
   "source": [
    "````{caution}\n",
    "Python uses a single `=` sign to specify assignment, whereas a double `=` like `==` is a check for equality.  So,\n",
    "```python\n",
    "a = 5 # Set the value of a variable named 'a' to be the value 5\n",
    "a == 5 # Returns True if the value of the variable a is 5 or False otherwise\n",
    "```\n",
    "````\n",
    "\n",
    "Therefore in the example below, after assigning x to the value 10, the second statement tells us if the value of x is indeed 10"
   ]
  },
  {
   "cell_type": "code",
   "execution_count": 24,
   "metadata": {},
   "outputs": [
    {
     "name": "stdout",
     "output_type": "stream",
     "text": [
      "The value of x is 10\n"
     ]
    },
    {
     "data": {
      "text/plain": [
       "True"
      ]
     },
     "execution_count": 24,
     "metadata": {},
     "output_type": "execute_result"
    }
   ],
   "source": [
    "x = 10  # Doesn't display anything, we are just assigning the value 10 to the variable x\n",
    "print(f'The value of x is {x}')\n",
    "x == 10 # Displays True"
   ]
  },
  {
   "cell_type": "markdown",
   "metadata": {},
   "source": [
    "### Booleans\n",
    "\n",
    "Boolean dataypes play an extremly important role in programming.  In fact, booleans are the only way in which decisions can be made in our code.  (In the next section we'll see how these decisions are made).  "
   ]
  },
  {
   "cell_type": "markdown",
   "metadata": {},
   "source": [
    "As a reminder, of the rules of boolean math\n",
    "\n",
    "*AND*|True|False        \n",
    "-----|-----|-----|\n",
    "**True**| True | False|\n",
    "**False**| False | False|\n",
    "\n",
    "<br>\n",
    "\n",
    "\n",
    "*OR*|True|False\n",
    "-----|-----|-----|      \n",
    "**True**| True | True|\n",
    "**False**| True | False|\n",
    "\n"
   ]
  },
  {
   "cell_type": "markdown",
   "metadata": {},
   "source": [
    "So therefore the operators `>` greater than, `<` less than and `==` equal to (and their counterparts `>=`, `<=`, and ~ (not)) are extremely important.  Run the next cell for examples"
   ]
  },
  {
   "cell_type": "code",
   "execution_count": 25,
   "metadata": {},
   "outputs": [
    {
     "name": "stdout",
     "output_type": "stream",
     "text": [
      "Is 10 equal to 10? \n",
      "True\n",
      "\n",
      "Is 10 less than 5? False\n"
     ]
    }
   ],
   "source": [
    "print('Is 10 equal to 10? ')\n",
    "print(10 == 10) # This will return True because 10 is equal to 10\n",
    "print()\n",
    "print ('Is 10 less than 5?',10 < 5) # This will of course be false"
   ]
  },
  {
   "cell_type": "markdown",
   "metadata": {},
   "source": [
    "This one is a little trickier, before you run the cell what do you think the result will be?\n"
   ]
  },
  {
   "cell_type": "code",
   "execution_count": 26,
   "metadata": {},
   "outputs": [
    {
     "data": {
      "text/plain": [
       "True"
      ]
     },
     "execution_count": 26,
     "metadata": {},
     "output_type": "execute_result"
    }
   ],
   "source": [
    "(15 < 5) == False"
   ]
  },
  {
   "cell_type": "markdown",
   "metadata": {},
   "source": [
    "Did this come out the way you thought?  Let's break it down a bit...\n",
    "\n",
    "We start by evaluating the left side, (15 < 5).  Of course we know that this is False so we can replace the left side with False\n",
    "\n",
    "```\n",
    "False == False\n",
    "```\n",
    "\n",
    "Now it's easy to see, that False does indeed equal False, therefore the result is True!"
   ]
  },
  {
   "cell_type": "markdown",
   "metadata": {},
   "source": [
    "## Variables \n",
    "As you are no doubt already aware, variables are text used to store values in our programs.  The computer doesn't care what you call your variables, but other humans do, so name your variables something useful such as\n",
    "```python\n",
    "width = 5\n",
    "height = 12\n",
    "area = width * height\n",
    "```\n",
    "\n",
    "You will notice when we use assignment (`=`) that the value is not displayed on the output of the cell, also if we try to use a variable before it has been defined we'll get an error.  Try executing the next cell.  \n",
    "\n",
    "You should get an error like\n",
    "    \n",
    "    NameError: name 'Area' is not defined\n",
    "    \n",
    "Try removing the n on the last line and replace that line with the variable 'area'"
   ]
  },
  {
   "cell_type": "code",
   "execution_count": 27,
   "metadata": {},
   "outputs": [
    {
     "ename": "NameError",
     "evalue": "name 'Area' is not defined",
     "output_type": "error",
     "traceback": [
      "\u001b[0;31m---------------------------------------------------------------------------\u001b[0m",
      "\u001b[0;31mNameError\u001b[0m                                 Traceback (most recent call last)",
      "\u001b[1;32m/workspaces/py4analytics/book/lessons/10-Introduction.ipynb Cell 28\u001b[0m in \u001b[0;36m<cell line: 5>\u001b[0;34m()\u001b[0m\n\u001b[1;32m      <a href='vscode-notebook-cell://dev-container%2B633a5c50726f6a656374735c707934616e616c7974696373/workspaces/py4analytics/book/lessons/10-Introduction.ipynb#X36sdnNjb2RlLXJlbW90ZQ%3D%3D?line=1'>2</a>\u001b[0m height \u001b[39m=\u001b[39m \u001b[39m12\u001b[39m\n\u001b[1;32m      <a href='vscode-notebook-cell://dev-container%2B633a5c50726f6a656374735c707934616e616c7974696373/workspaces/py4analytics/book/lessons/10-Introduction.ipynb#X36sdnNjb2RlLXJlbW90ZQ%3D%3D?line=2'>3</a>\u001b[0m area \u001b[39m=\u001b[39m width \u001b[39m*\u001b[39m height\n\u001b[0;32m----> <a href='vscode-notebook-cell://dev-container%2B633a5c50726f6a656374735c707934616e616c7974696373/workspaces/py4analytics/book/lessons/10-Introduction.ipynb#X36sdnNjb2RlLXJlbW90ZQ%3D%3D?line=4'>5</a>\u001b[0m \u001b[39mprint\u001b[39m(Area)\n",
      "\u001b[0;31mNameError\u001b[0m: name 'Area' is not defined"
     ]
    }
   ],
   "source": [
    "width = 5\n",
    "height = 12\n",
    "area = width * height\n",
    "\n",
    "print(Area)"
   ]
  },
  {
   "cell_type": "code",
   "execution_count": null,
   "metadata": {},
   "outputs": [],
   "source": [
    "width = 5\n",
    "height = 12\n",
    "area = width * height\n",
    "print(area)"
   ]
  },
  {
   "cell_type": "markdown",
   "metadata": {},
   "source": [
    "What we tried to do was to show the value of a variable before we gave it a value!  Let's edit the previous example and replace `n` with the variable `area` instead."
   ]
  },
  {
   "cell_type": "markdown",
   "metadata": {},
   "source": [
    "### Strings\n",
    "Besides numbers, Python can also manipulate strings.  Strings are one of the most basic concepts in many languages and have tremendous value, as we most often use text to communicate with users.  Strings are used to provide real time feedback (think text boxes and labels, usernames and passwords), error messages, status logs, and communication with other programs.  Getting good with manipulating strings is extremely important to be successful.  Read about all the things you can do with strings in the Python [tutorial](https://docs.python.org/3/tutorial/introduction.html#strings).\n",
    "\n",
    "Strings in Python can expressed in several ways.  They can be enclosed in single quotes('...') or double quotes(\"...\"), both are equally acceptable. "
   ]
  },
  {
   "cell_type": "code",
   "execution_count": null,
   "metadata": {},
   "outputs": [],
   "source": [
    "print('spam eggs')  # single quotes\n",
    "print(\"Yes, I said that\")  # double quotes"
   ]
  },
  {
   "cell_type": "markdown",
   "metadata": {},
   "source": [
    "If you need to use one or the other in your string definition, you can use the '\\' as an escape character or just define the string using the opposite type of quote (that is if you need a single quote then wrap your string in double quotes).  Run the next cell to see the results (note that the output for the interactive cell will always quote strings in single quotes.  "
   ]
  },
  {
   "cell_type": "code",
   "execution_count": null,
   "metadata": {
    "tags": []
   },
   "outputs": [],
   "source": [
    "\n",
    "'doesn\\'t'  # use \\' to escape the single quote...\n",
    "\"doesn't\"  # ...or use double quotes instead\n",
    "'\"Yes,\" they said.'\n",
    "\"\\\"Yes,\\\" they said.\"\n",
    "'\"Isn\\'t,\" they said.'"
   ]
  },
  {
   "cell_type": "markdown",
   "metadata": {},
   "source": [
    "If you want a cleaner version of the output try using ```print()``` instead"
   ]
  },
  {
   "cell_type": "code",
   "execution_count": null,
   "metadata": {
    "tags": []
   },
   "outputs": [],
   "source": [
    "print('spam eggs')\n",
    "print('\"Yes,\" they said.')"
   ]
  },
  {
   "cell_type": "markdown",
   "metadata": {},
   "source": [
    "#### Joining strings together\n",
    "Strings have some other handy features as well.  Say we want to put two strings together, that's easy just use the '+' operator.  "
   ]
  },
  {
   "cell_type": "code",
   "execution_count": null,
   "metadata": {},
   "outputs": [],
   "source": [
    "print('Hello '+'World!') # Two strings concatenated together"
   ]
  },
  {
   "cell_type": "markdown",
   "metadata": {},
   "source": [
    "What's more, all Python objects can be represented as strings (some more cleanly than others) so we can use this handy trick to show the result of a function for instance, we just have to tell Python to convert the thing to a string."
   ]
  },
  {
   "cell_type": "code",
   "execution_count": null,
   "metadata": {},
   "outputs": [],
   "source": [
    "print('4 + 3 = ' + str(7)) # We need to tell Python this is supposed to be a string"
   ]
  },
  {
   "cell_type": "markdown",
   "metadata": {},
   "source": [
    "Of course this also works with variables so long as they are strings as well"
   ]
  },
  {
   "cell_type": "code",
   "execution_count": null,
   "metadata": {},
   "outputs": [],
   "source": [
    "seven = '7' # Assigning the value of 7 to the variable named seven\n",
    "print('4 + 3 = ', seven) # Since 'seven' is already a string (see the quotes above) no need to tell Python to convert."
   ]
  },
  {
   "cell_type": "markdown",
   "metadata": {},
   "source": [
    "#### String formatting\n",
    "This can be a little clunky when dealing with a string that has some variable in the middle of it like:\n",
    "\"Hi, my name is Michael.  What's your name?\"\n",
    "\n",
    "In order to change the name `Michael` to a variable the result would be something like\n",
    "```python\n",
    "my_name = 'Michael'\n",
    "'Hi, my name is '+my_name+'. What\\'s your name?'\n",
    "```\n",
    "That gets ugly real quick.  Fortunately, Python has helped us out by giving us 'f-strings' (f stands for format).  So what we can do instead is to put an expression in the middle of the string and have it figured out when we need the string.  So the last example looks like:\n",
    "```python\n",
    "my_name = 'Michael'\n",
    "f'Hi, my name is {my_name}. What\\'s your name?'\n",
    "```\n",
    "In this way, everything in the `{}` are figured out at the last possible minute.  Here's a few more examples"
   ]
  },
  {
   "cell_type": "code",
   "execution_count": null,
   "metadata": {},
   "outputs": [],
   "source": [
    "#Try it!\n",
    "my_name = 'Joe'\n",
    "print(f'Hi, my name is {my_name}. What\\'s your name?')\n"
   ]
  },
  {
   "cell_type": "markdown",
   "metadata": {},
   "source": [
    "And since everything inside the `{}` is just seen as Python code we can ask Python to do some work and put the result into the string right away rather than putting in an intermediate variable"
   ]
  },
  {
   "cell_type": "code",
   "execution_count": null,
   "metadata": {},
   "outputs": [],
   "source": [
    "# We can use the result of a statement in a string\n",
    "x = 4+8\n",
    "print(f'Calculating stuff is easy too, see 4+8 = {x}')\n",
    "\n",
    "# Or we can let Python calculate it straight away and skip defining the variable\n",
    "print(f'Calculating stuff is easy too, see 4+8 = {4+8}')"
   ]
  },
  {
   "cell_type": "markdown",
   "metadata": {},
   "source": [
    "## Input\n",
    "While sending the results of calculations to the screen, to a file or across the world is super helpful and one of the main activities we'll automate with Python.  Soliciting input from outside the program is equally helpful.  We'll look at many different ways of getting data later on, but for now, the simplest way to do this is to use the `input` function.  `input` will prompt the user to type some text in response to an optional prompt.  Try the next cell and see what happens. (You may notice that the cell continues to run until you have answered the prompt and hit the enter key.)"
   ]
  },
  {
   "cell_type": "code",
   "execution_count": null,
   "metadata": {},
   "outputs": [],
   "source": [
    "input('Hello, what is your name?')"
   ]
  },
  {
   "cell_type": "markdown",
   "metadata": {},
   "source": [
    "Just like other actions in Jupyter, the result of the operation is immediately shown in the cell's result.  Usually we want to keep track of what was given to us so that we can use it later on.  In this case, we can use a variable to capture the result of the `input` function and then print it.  See the next example."
   ]
  },
  {
   "cell_type": "code",
   "execution_count": null,
   "metadata": {},
   "outputs": [],
   "source": [
    "# Ask the user for their name, store the result in the variable user_name\n",
    "user_name = input(\"Hello, what is your name?\")\n",
    "print(\"Your name is: \" + user_name)"
   ]
  },
  {
   "cell_type": "markdown",
   "metadata": {},
   "source": [
    "One thing that is important to note is that the result of the `input()` function is always a string, even if the user types in numbers.  This means if we want to assume that the result is a number that we will have to convert it from a string to a number.  Try the next example:\n",
    "\n",
    "````{note}\n",
    " if you don't enter a number as input, you will get an error message.  We'll talk about how to deal with this a bit more gracefully later, but for now it would be best to just input numbers at the prompt.)\n",
    "````"
   ]
  },
  {
   "cell_type": "code",
   "execution_count": null,
   "metadata": {},
   "outputs": [],
   "source": [
    "# Ask the user for their age, store the result in user_age\n",
    "user_age = input(f\"Hello, {user_name}.  What is your age?\")\n",
    "print(int(user_age))"
   ]
  },
  {
   "cell_type": "code",
   "execution_count": null,
   "metadata": {},
   "outputs": [],
   "source": [
    "# Can you now combine what you've learned and ask the user for their name \n",
    "# and then their age (you'll need to separate prompts (e.g. input statements))\n",
    "#  then respond with a statement similar to the output above?"
   ]
  },
  {
   "cell_type": "markdown",
   "metadata": {},
   "source": [
    "## Lists\n",
    "Python knows about a number of different _compound_ data types that is ways to store many values together.  Two of the most common are _list_ and _dictionary_.  We'll start first with a list and then give you a chance to work with a list in a simple challenge.\n",
    "\n",
    "Lists are written as a set of values between square brackets that are separated by commas.  While lists, can have different types of 'elements' most often they are the same type."
   ]
  },
  {
   "cell_type": "code",
   "execution_count": null,
   "metadata": {},
   "outputs": [],
   "source": [
    "squares = [1,4,9,16,25,36] # This is a list of squares\n",
    "people = ['Alice', 'Bob', 'Charlie'] # this is a list of people's names\n",
    "print(squares)\n",
    "people"
   ]
  },
  {
   "cell_type": "markdown",
   "metadata": {},
   "source": [
    "What is super handy about lists is that they can be indexed, that is we can ask for a particular item in the list.  The first item in the list is  index 0 the last item in the list is the `length of the list-1`.  So a list with 5 elements can be indexed on any value between 0 and 4.  "
   ]
  },
  {
   "cell_type": "code",
   "execution_count": null,
   "metadata": {
    "tags": []
   },
   "outputs": [],
   "source": [
    "print('The item in index 0 of the list (the first item) is: ',squares[0])\n",
    "\n",
    "print('The item in index 4 of the list (the fifth item) is: ',squares[4])"
   ]
  },
  {
   "cell_type": "code",
   "execution_count": null,
   "metadata": {},
   "outputs": [],
   "source": [
    "# What happens if you try to get the item at index 6?\n",
    "# Do you expect to get the 6th item in the list? (36) or something else?"
   ]
  },
  {
   "cell_type": "markdown",
   "metadata": {},
   "source": [
    "### Slicing\n",
    "Sometimes we want more than one item in the list, in that case we can ask Python to get sequential items by telling it the first item we want and the last item. (It can be a little confusing, but Python doesn't include the right side of the slice, so that a slice of 0:2 only includes items 0 and 1)."
   ]
  },
  {
   "cell_type": "code",
   "execution_count": null,
   "metadata": {},
   "outputs": [],
   "source": [
    "people[0:2] # Give me the items in slot 0 and slot 1\n",
    "squares[1:4] # Return the items from slot 1 to slot 4 (non-right inclusive)"
   ]
  },
  {
   "cell_type": "markdown",
   "metadata": {},
   "source": [
    "The full syntax of the `slice` subscripting method is [start:stop:step] meaning if we want to get every other item then we just define the `step` to be 2, if we want every 3rd item, then the step is 3 and so on."
   ]
  },
  {
   "cell_type": "code",
   "execution_count": null,
   "metadata": {},
   "outputs": [],
   "source": [
    "squares = [1,4,9,16,25,36] \n",
    "# This notation says, starting at index 1, move 2 spots and give me the next number until I reach index 6\n",
    "squares[1:6:2] "
   ]
  },
  {
   "cell_type": "markdown",
   "metadata": {},
   "source": [
    "And if we leave a part out, Python guesses what we mean.  For instance if we leave out the starting point, Python assumes 0, if we leave out the end point, Python assumes the end, and if we leave out the step Python assumes 1."
   ]
  },
  {
   "cell_type": "code",
   "execution_count": null,
   "metadata": {
    "tags": []
   },
   "outputs": [],
   "source": [
    "print(f'Leaving out the starting point')\n",
    "squares[:4:2]   # Give me the items starting at index 0 to index 4 by 2's\n",
    "print(f'Leaving out the end point')\n",
    "squares[2::3]   # Give me the items starting at index 2 (9) to the end, by 3's"
   ]
  },
  {
   "cell_type": "markdown",
   "metadata": {},
   "source": [
    "Finally, Python also knows what do with negative numbers.  We can use negative numbers to index starting at the right or as our step."
   ]
  },
  {
   "cell_type": "code",
   "execution_count": null,
   "metadata": {},
   "outputs": [],
   "source": [
    "squares[-1]   # Give me the first value starting on the right of the list\n",
    "squares[5::-1]  # Starting at index 5, give me all the values in reverse order"
   ]
  },
  {
   "cell_type": "markdown",
   "metadata": {},
   "source": [
    "For more see [sequence types](https://docs.python.org/3/glossary.html#term-sequence) (including strings) and [slicing](https://docs.python.org/3/library/functions.html#slice)."
   ]
  },
  {
   "cell_type": "markdown",
   "metadata": {},
   "source": [
    "Lists support concatenation just like strings"
   ]
  },
  {
   "cell_type": "code",
   "execution_count": null,
   "metadata": {},
   "outputs": [],
   "source": [
    "squares + [49,64,81]"
   ]
  },
  {
   "cell_type": "markdown",
   "metadata": {},
   "source": [
    "Lists are changable too, so we can do something like"
   ]
  },
  {
   "cell_type": "code",
   "execution_count": null,
   "metadata": {},
   "outputs": [],
   "source": [
    "f'Names before the change: {people}'\n",
    "people[1] = 'Bonita'\n",
    "f'Names after the change: {people}'"
   ]
  },
  {
   "cell_type": "markdown",
   "metadata": {},
   "source": [
    "Another handy feature of sequence types is that support several built-in functions.  Probably one of the most useful is the `len()` function, which returns an integer that shows the length of the sequence."
   ]
  },
  {
   "cell_type": "code",
   "execution_count": null,
   "metadata": {},
   "outputs": [],
   "source": [
    "len(people)\n",
    "len(squares)"
   ]
  },
  {
   "cell_type": "markdown",
   "metadata": {},
   "source": [
    "Finally, lists can contain other lists.  In the example below, I've created a list of numbers `n` and a list of letters `l`.  Then I created a list that has two items in it, the list `n` and the list `l`."
   ]
  },
  {
   "cell_type": "code",
   "execution_count": null,
   "metadata": {},
   "outputs": [],
   "source": [
    "n = [1,2,3]  # Define a list of integers and assign it to a variable named 'n'\n",
    "l = ['a','b','c'] # This is a list of characters in a list called 'a'\n",
    "x = [n,l] # Here we are creating a list of lists!\n",
    "print(x)\n"
   ]
  },
  {
   "cell_type": "markdown",
   "metadata": {},
   "source": [
    "So, the first item in the list is actually the list `n`, and the second item in the list is the list of letters `l`"
   ]
  },
  {
   "cell_type": "code",
   "execution_count": null,
   "metadata": {
    "tags": []
   },
   "outputs": [],
   "source": [
    "print(f'The item at index 0 is a list of numbers : { x[0]}')\n",
    "print(f'The item at index 1 is a list of letters: { x[1] }')"
   ]
  },
  {
   "cell_type": "markdown",
   "metadata": {},
   "source": [
    "So if we want to get at the items in list `n` we can unpack the list into another variable or use a shortcut."
   ]
  },
  {
   "cell_type": "code",
   "execution_count": null,
   "metadata": {
    "tags": []
   },
   "outputs": [],
   "source": [
    "# We can assign the list to a new variable first and then index it \n",
    "y = x[0] # Assign y to the list of numbers\n",
    "print(f'The value in the index 1 of the sublist is {y[1]}\\n')\n",
    "\n",
    "# Or we can just do a double subscript\n",
    "print(f'Same value using the double subscript approach:')\n",
    "print(x[0][1])"
   ]
  },
  {
   "cell_type": "markdown",
   "metadata": {},
   "source": [
    "### Example: Hello Worl?\n",
    "This next bit of code is kind of messed up. Use what you have learned about strings, integers and indexing to fix the message stored in `message`.  It seems that when I typed up this example I left out a letter and also used a question mark instead of a `!`.  Can you fix this by using indexing and replacement and then print the parts into a single line?  You should be able to \n"
   ]
  },
  {
   "cell_type": "code",
   "execution_count": null,
   "metadata": {},
   "outputs": [
    {
     "name": "stdout",
     "output_type": "stream",
     "text": [
      "Before the fix.\n",
      "Hello Worl?\n",
      "After the fix.\n",
      "Hello EllipsisEllipsis\n"
     ]
    }
   ],
   "source": [
    "print(\"Before the fix.\")\n",
    "message = ['Hello', 'Worl','?']\n",
    "print(f'{message[0]} {message[1]}{message[2]}')\n",
    "\n",
    "# Replace the `...` in these next two lines with the proper words\n",
    "message[1] = ...\n",
    "message[2] = ...\n",
    "\n",
    "\n",
    "print(\"After the fix.\")\n",
    "print(f'{message[0]} {message[1]}{message[2]}')"
   ]
  },
  {
   "cell_type": "markdown",
   "metadata": {},
   "source": [
    "### Example: Indexing days of the month# One more challenge.  \n",
    "The list here is the number of days in the months of the year.\n",
    "Complete the code below so that it tells the days of the month requested"
   ]
  },
  {
   "cell_type": "code",
   "execution_count": null,
   "metadata": {},
   "outputs": [
    {
     "name": "stdout",
     "output_type": "stream",
     "text": [
      "The number of days in June is:  30\n",
      "The number of days in December is:  Ellipsis\n",
      "The number of days in Jan and Feburary together is: Ellipsis\n"
     ]
    }
   ],
   "source": [
    "# A list with the days of the month\n",
    "days_in_month = [31,28,31,30,31,30,31,31,30,31,30,31]\n",
    "\n",
    "# Since June is the 6th month of the year, we want the 6th item in the list\n",
    "print('The number of days in June is: ', days_in_month[5])\n",
    "print('The number of days in December is: ', ...)\n",
    "\n",
    "# Get the number of days in Jan\n",
    "# Get the number of days in Feb\n",
    "# Add these two previous values together and use this to print the answer in the string below\n",
    "print('The number of days in Jan and Feburary added together is:',...)"
   ]
  },
  {
   "cell_type": "markdown",
   "metadata": {},
   "source": [
    "## Dictionaries\n",
    "\n",
    "Lists are great when we are okay with accessing the items in order or if we know exactly where the items in the list are that we want, but sometimes it is handy to access items in a collection using a more descriptive name.  One approach is to use a data structure called a dictionary.  Dictionaries are similar to lists in that they store a collection of items, but instead of using numbers to get to the content we can use strings.\n",
    "\n",
    "Name|Number|\n",
    "--------|---------------\n",
    "|Alice | 555-479-2222|\n",
    "Bob | 555-555-1234 |\n",
    "Charles | 888-555-9889"
   ]
  },
  {
   "cell_type": "markdown",
   "metadata": {},
   "source": [
    "Say we want to store a list of people's phone numbers.  It would be really inconvenient to put there name and phone number in a list and then search everyone for who we are looking for.  \n",
    "\n",
    "``` \n",
    "phone_numbers = ['Alice 555-479-2222',\n",
    "                 'Bob 555-555-1234',\n",
    "                 'Charles 888-555-9889']\n",
    "```\n",
    "\n",
    "Instead we can store the phone numbers in a list and use the names as the 'keys' to lookup the phone numbers.\n",
    "\n",
    "In order to define a dictionary we have to provide both the 'key' (the index) and the 'value' (the thing we are storing).  These are separated by a ':' and we separate items within the dictionary with ',' just like in a list."
   ]
  },
  {
   "cell_type": "code",
   "execution_count": null,
   "metadata": {},
   "outputs": [],
   "source": [
    "# This says, create a dictionary where Alice, Bob and Charlie are the keys/index\n",
    "#   and their numbers are the values\n",
    "# Notice, the items are on separate lines for readability\n",
    "phone_numbers = {'Alice':'555-479-2222',\n",
    "                 'Bob':'555-555-1234',\n",
    "                 'Charles':'888-555-9889'}\n",
    "\n",
    "# Then we can grab just Alice's phone number\n",
    "print(\"Alice's phone number is \" + phone_numbers['Alice'])\n",
    "\n",
    "# And also we can get Bob's\n",
    "print(f\"Bob's phone number is: {phone_numbers['Bob']}\")\n"
   ]
  },
  {
   "cell_type": "markdown",
   "metadata": {},
   "source": [
    "### Example Dictionaries\n",
    "In the next code block, again we'll see the days of the month, but instead of knowing which month it is in the year, we're going to store the dates using the month's name."
   ]
  },
  {
   "cell_type": "code",
   "execution_count": null,
   "metadata": {},
   "outputs": [],
   "source": [
    "days_in_month_dict = {'Jan':31,'Feb':28,'Mar':31, 'Apr':30, 'May':31, 'Jun':30, 'Jul':31, 'Aug':31, 'Sep':30, 'Nov':30, 'Oct':31, 'Dec':31}\n",
    "\n",
    "print('The number of days in June is: ', days_in_month_dict['Jun'])\n",
    "print('The number of days in December is: ', ...)\n",
    "\n",
    "# Get the number of days in Jan\n",
    "# Get the number of days in Feb\n",
    "# Add these two previous values together and use this to print the answer in the string below\n",
    "print('The number of days in Jan and Feburary together is:',...)"
   ]
  },
  {
   "cell_type": "markdown",
   "metadata": {},
   "source": [
    "## Conclusion\n",
    "This is a good start and a very basic introduction to types in Python, there are many, many more things that can be done with built-in functions to manipulate strings, numbers, dates and lists.  In order to do anything interesting (more complex algorithms) our code needs to be able to make decisions and execute different actions based on conditions - often many times over.  In the next notebook we'll look at how to get Python to make decisions and act on the results. \n",
    "\n",
    "Feel free to play around here by adding cells and experimenting with different language elements.  When you are ready to move on, head over to the next section."
   ]
  }
 ],
 "metadata": {
  "kernelspec": {
   "display_name": "Python 3.9.2 64-bit",
   "language": "python",
   "name": "python3"
  },
  "language_info": {
   "codemirror_mode": {
    "name": "ipython",
    "version": 3
   },
   "file_extension": ".py",
   "mimetype": "text/x-python",
   "name": "python",
   "nbconvert_exporter": "python",
   "pygments_lexer": "ipython3",
   "version": "3.9.2"
  },
  "varInspector": {
   "cols": {
    "lenName": 16,
    "lenType": 16,
    "lenVar": 40
   },
   "kernels_config": {
    "python": {
     "delete_cmd_postfix": "",
     "delete_cmd_prefix": "del ",
     "library": "var_list.py",
     "varRefreshCmd": "print(var_dic_list())"
    },
    "r": {
     "delete_cmd_postfix": ") ",
     "delete_cmd_prefix": "rm(",
     "library": "var_list.r",
     "varRefreshCmd": "cat(var_dic_list()) "
    }
   },
   "types_to_exclude": [
    "module",
    "function",
    "builtin_function_or_method",
    "instance",
    "_Feature"
   ],
   "window_display": false
  },
  "vscode": {
   "interpreter": {
    "hash": "31f2aee4e71d21fbe5cf8b01ff0e069b9275f58929596ceb00d14d90e3e16cd6"
   }
  }
 },
 "nbformat": 4,
 "nbformat_minor": 4
}