{
 "cells": [
  {
   "cell_type": "markdown",
   "metadata": {},
   "source": [
    "# Namespaces, Objective Orientation and Packaging\n",
    "In this module we'll look at namespaces, object-oriented techniques and the use of Python packages\n",
    "\n",
    "````{tableofcontents}\n",
    "````\n",
    "\n",
    "## Scope\n",
    "One thing that Python doesn't make very clear to new programmers is variable scope. Previously, you've seen {ref}`blocks of code <code-blocks>`\n",
    "\n",
    "## Namespaces\n",
    "\n",
    "## Packages\n",
    "\n",
    "## Working with Objects"
   ]
  }
 ],
 "metadata": {
  "kernelspec": {
   "display_name": "Python 3.9.12 ('base')",
   "language": "python",
   "name": "python3"
  },
  "language_info": {
   "name": "python",
   "version": "3.9.12"
  },
  "vscode": {
   "interpreter": {
    "hash": "d4d1e4263499bec80672ea0156c357c1ee493ec2b1c70f0acce89fc37c4a6abe"
   }
  }
 },
 "nbformat": 4,
 "nbformat_minor": 2
}