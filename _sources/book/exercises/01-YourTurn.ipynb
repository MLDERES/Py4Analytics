{
 "cells": [
  {
   "cell_type": "markdown",
   "metadata": {},
   "source": [
    "# Your Turn\n",
    "\n",
    "Now it's your turn to try out some of the techiques identified in the first few notebooks.  For each example, take a look first at the question.  Try to work out the logic in plain language first, then work out the coding logic afterward.  The outcome is described after each of the steps.\n",
    "In this notebook, we'll look at:\n",
    "- output (using the `print()` function)\n",
    "- input (using the `input()` function)\n",
    "- conditional statements\n",
    "- building resuable code (functions)\n",
    "- dealing with strings\n"
   ]
  },
  {
   "cell_type": "markdown",
   "metadata": {},
   "source": [
    "## Hello World\n",
    "\n",
    "One of the first things all programmers learn to do is to write Hello World!  It's a time honored tradition, so let's start there.  In the next cell, set the value of the name variable and run the cell."
   ]
  },
  {
   "cell_type": "code",
   "execution_count": null,
   "metadata": {},
   "outputs": [],
   "source": [
    "# Set the value of the my_name variable to your name\n",
    "my_name = ...\n",
    "print(f'Hello World!  My name is {my_name}')"
   ]
  },
  {
   "cell_type": "markdown",
   "metadata": {},
   "source": [
    "### Hello, user\n",
    "Hello world is a great start, but what if we want this to work for everyone without changing our code.  Well we can use a built-in Python function called ```input()``` which will ask the user for some text.  The result of this function is a string.  Run the next cell to see how this works."
   ]
  },
  {
   "cell_type": "code",
   "execution_count": null,
   "metadata": {},
   "outputs": [],
   "source": [
    "# Ask user for their name, store the value in the user_name variable\n",
    "user_name = input('What is your name?')\n",
    "\n",
    "# Print the value of the user_name variable\n",
    "print(f'You said: {user_name}')"
   ]
  },
  {
   "cell_type": "markdown",
   "metadata": {},
   "source": [
    "Did you see the computer output the user's name?  Let's incorporate this into our Hello World, example from above.\n",
    "\n",
    "Ask for the user's name.  Instead of Hello World, print a message that says hello to the user.  Make sure that you also introduce yourself.  Assuming the user's name is Mel, and my name is Ned - the output should look like\n",
    "\n",
    "```Hello Mel!  My name is Ned```"
   ]
  },
  {
   "cell_type": "code",
   "execution_count": null,
   "metadata": {},
   "outputs": [],
   "source": [
    "# Assign the variable to my_name\n",
    "my_name = ...\n",
    "\n",
    "# Ask for the user's name\n",
    "\n",
    "# Print the greeting including the user's name and your name\n",
    "\n"
   ]
  },
  {
   "cell_type": "markdown",
   "metadata": {},
   "source": [
    "### Dealing with time\n",
    "\n",
    "Our greeting is plesant, but we can do better.  We should have a greeting that takes into account the time of day.  The first few lines determine the hour of the day (where 0 is midnight and 23 is 11pm).  Using an ```if/else``` construct, greet the user appropriately for the time of day (morning, afternoon, evening).\n"
   ]
  },
  {
   "cell_type": "code",
   "execution_count": null,
   "metadata": {},
   "outputs": [],
   "source": [
    "# Getting the current time\n",
    "from datetime import datetime as dt\n",
    "import pytz\n",
    "current_hour = dt.now(pytz.timezone(\"US/Central\")).hour\n",
    "print(f'The current hour is: {current_hour}')\n",
    "\n",
    "# Assign the variable to my_name\n",
    "my_name = ...\n",
    "\n",
    "# Ask for the user's name\n",
    "user_name = input('What is your name?')\n",
    "\n",
    "# Set the greeting to default to nothing\n",
    "greeting = ''\n",
    "# If the the current hour is less than 12, change the greeting to 'Morning'\n",
    "# Otherwise, if the current hour is between 12 and 17 (5pm) set the greeting to 'Afternoon'\n",
    "# Otherwise, set the greeting to 'Evening'\n",
    "\n",
    "print(f'Good {greeting}, {user_name}!  My name is {my_name}')"
   ]
  },
  {
   "cell_type": "markdown",
   "metadata": {},
   "source": [
    "### Creating a function\n",
    "\n",
    "That was fun, right?  But every time we want to use this code, we have to type it over and over again.  Or if we want to share it with someone else we have to tell them to change ```my_name``` to their own name.  Let's take this one step further and create a reusable function.\n",
    "\n",
    "As you will remember, a function is a set of instructions that are combined together and can be referred to with a single name.  We assign variables to the function when we \"call\" the function.  So for instance, if we have a function called ```sum``` it takes two variables.  The value of these variables are defined outside the function, and when we call the function the values of ```x``` and ```y``` are replaced with the values we provide.  This allows us to something complex with these values and they can change each time."
   ]
  },
  {
   "cell_type": "code",
   "execution_count": null,
   "metadata": {},
   "outputs": [],
   "source": [
    "# Create a function called 'add' which takes two variables x and y\n",
    "def sum(x,y):\n",
    "    print(f'The value of x is {x}')\n",
    "    print(f'The value of y is {y}')\n",
    "    # Assign the variable result to be the sum of x and y\n",
    "    result = x+y\n",
    "    return result\n",
    "\n",
    "print(f'When we call the sum function the result is {sum(5,4)}')\n",
    "\n",
    "first_number = 10\n",
    "second_number = 12\n",
    "\n",
    "# Using two variables to call the sum function and assigning the result to a third variable\n",
    "sum_of_first_second = sum(first_number,second_number)\n",
    "\n",
    "print(f\"Let's use two variables to call the sum function: {sum_of_first_second}\")\n",
    "    "
   ]
  },
  {
   "cell_type": "markdown",
   "metadata": {},
   "source": [
    "You can see from the example above that ```x``` and ```y``` are placeholders that are defined when the function is called.  When we called the ```sum``` functions ```x``` and ```y``` changed each time, the first time because we specified the numbers 4 and 5 the second time we used variables to set the values to be used for  ```x``` and ```y```.\n",
    "\n",
    "How can we use this to improve our greeting?  Let's create a function called ```greeting``` which takes as it's inputs the name of the author and the name of the person we are greeting.  This way, we can decide how we want to get these values (create them as variables, ask for input, read from a file, etc).\n",
    "\n",
    "In the next cell, we have defined the function for you.  You just need to put your code in the body of the function.  Remember, the body of the function is everything that is indented at least one level.  Also, it is handy to know that words between ```'''``` (three single quotes) are comments that span multiple lines.  So these two blocks are both valid comments (that is they are ignored by Python).  By convention (it's not required, just good practice), when we define a function we put a multi-line comment which starts with the purpose of the function and also defines the parameters and any result the function returns.  This helps others wanting to use the function to know what to expect and how to use it.\n",
    "\n",
    "```python\n",
    "# Function purpose\n",
    "#\n",
    "# Parameters:\n",
    "#\n",
    "\n",
    "''' Function Purpose\n",
    "    \n",
    "    Parameters:\n",
    "'''\n",
    "```"
   ]
  },
  {
   "cell_type": "code",
   "execution_count": null,
   "metadata": {},
   "outputs": [],
   "source": [
    "# Defining the greeting function\n",
    "def greeting(author_name, user_name):\n",
    "    ''' Greet a user \n",
    "\n",
    "        Parameters: \n",
    "            author_name (str) - the name of the program's author\n",
    "            user_name (str) - the name of the user to greet\n",
    "\n",
    "        Returns:\n",
    "            A greeting (str)\n",
    "    '''\n",
    "    # author_name is supplied in the function call, and so is the user name\n",
    "    \n",
    "    # Get the current time\n",
    "    current_hour = dt.now(pytz.timezone(\"US/Central\")).hour\n",
    "\n",
    "    # Set the greeting to default to nothing\n",
    "    greeting = ''\n",
    "    # If the the current hour is less than 12, change the greeting to 'Morning'\n",
    "    # Otherwise, if the current hour is between 12 and 17 (5pm) set the greeting to 'Afternoon'\n",
    "    # Otherwise, set the greeting to 'Evening'\n",
    "\n",
    "    result = f'Good {greeting}, {user_name}!  My name is {my_name}'\n",
    "    return result\n",
    "\n",
    "# Assign the variable to my_name\n",
    "my_name = ...\n",
    "\n",
    "# Ask for the user's name\n",
    "user_name = input('What is your name?')\n",
    "\n",
    "# Call the function assigning the proper variables to the associated parameters\n",
    "computer_greeting = greeting(...,...)\n",
    "\n",
    "# Print the result"
   ]
  },
  {
   "cell_type": "markdown",
   "metadata": {},
   "source": [
    "Now that we have defined the function, we can use it again here.  Let's not ask the user for their name this time, let's just define it for them"
   ]
  },
  {
   "cell_type": "code",
   "execution_count": null,
   "metadata": {},
   "outputs": [],
   "source": [
    "# Call the `greeting` function, but instead of asking for a user_name just assign the variable here.\n",
    "my_name = ...\n",
    "user_name = 'Mercedes'\n",
    "\n",
    "# Call the function again\n",
    "computer_greeting = greeting(...,...)\n",
    "\n",
    "# Print the result\n",
    "print(f'{computer_greeting}')"
   ]
  },
  {
   "cell_type": "markdown",
   "metadata": {},
   "source": [
    "## Count the number of occurrences of a word\n",
    "\n",
    "Now well try something a little tricker.  This one requires the use of a couple of built in functions. And also the understanding classes and objects.\n",
    "\n",
    "A class is a template or definition of a datatype.  We have already dealt with a couple of datatypes - strings, integers and lists.  string, int and list are all classes.  Classes have properties and functions as member items that we can get to using the ```.``` syntax.  In other words, if I want to change the case of a string, I can call any string's ```lower()``` member function.  Like.  Feel free to copy this code into a new cell and try it!\n",
    "\n",
    "```\n",
    "my_variable = 'Some String' # my_variable is a variable of the type/class string\n",
    "my_variable.lower() # this says return me the same string but in lowercase.\n",
    "```\n",
    "\n",
    "Strings have [a whole bunch of built-in functions](https://docs.python.org/3/library/string.html) we can call.  A few helpful ones include:\n",
    "\n",
    "```str.capitalize()``` - Return a copy of the string with its first character capitalized and the rest lowercased.\n",
    "```str.lower()``` - Return a copy of the string with all the cased characters converted to lowercase.\n",
    "```str.lstrip()``` - Return a copy of the string with leading characters removed. The chars argument is a string specifying the set of characters to be removed. If omitted or None, the chars argument defaults to removing whitespace.\n",
    "```str.rstrip()``` - Same as lstrip, but starting from the right\n",
    "\n",
    "With this sytax in mind, let's see if we can write a function that will count up the number of times a word shows up in a given string.\n",
    "\n",
    "So we start with our plain english recipe\n",
    "\n",
    "Split the supplied string into separate words\n",
    "For every word in the supplied string\n",
    "    If we have seen this word before, add 1 to the count for that word\n",
    "    Otherwise, keep track that we have seen this word before and set the count to 1\n",
    "\n",
    "A dictionary list will come in really handy here.  Remember that a dictionary is just a list that has strings as the index and the value is whatever we want it to be.  So, let's create a dictionary that will have every word we encounter, and we'll set the value of each item in the list to the number of occurances of that word.  Run the next cell as an example.\n",
    "\n"
   ]
  },
  {
   "cell_type": "code",
   "execution_count": null,
   "metadata": {},
   "outputs": [],
   "source": [
    "# Here's an example of what a dictionary would look like from this sample sentence\n",
    "#  See Jane run.  Is that Jane\n",
    "\n",
    "word_dictionary = { 'See': 1,  # See shows up 1 time in the word, so we set the value of the 'See' item to 1\n",
    "                    'Jane': 2, # Jane is in the sentence 2 times, so we set the value of 'Jane' to 2\n",
    "                    'run': 1,\n",
    "                    'Is': 1,\n",
    "                    'that': 1,\n",
    "                 }\n",
    "\n",
    "# Now let's see how to get the number of times a few items are found in the sentence\n",
    "print(word_dictionary['Jane'])\n",
    "\n",
    "# And here we can see all the items in the dictionary at once\n",
    "print(word_dictionary)"
   ]
  },
  {
   "cell_type": "markdown",
   "metadata": {},
   "source": [
    "Now that we know what the outcome should look like for a sample sentence, let's see if we can build a counter for any number of sentences\n",
    "\n",
    "Let's build the steps first using a known sentence where we can test the outcomes, then we'll put it into a function and try it with a slightly more complex string."
   ]
  },
  {
   "cell_type": "code",
   "execution_count": null,
   "metadata": {},
   "outputs": [],
   "source": [
    "# This is the sentence we'll use to test our close\n",
    "sample_string = 'See Jane run.  Is that Jane'\n",
    "\n",
    "\n",
    "\n",
    "# Let's start by making all the characters in the sentence lowercase,\n",
    "#  This will help when we are comparing strings, because `See` isn't the same as `see`\n",
    "#  and for our purposes we don't want to make a distiction\n",
    "\n",
    "sample_string = ... #  Replace ... with a function that will convert the characters to lowercase\n",
    "\n",
    "print(sample_string)"
   ]
  },
  {
   "cell_type": "code",
   "execution_count": null,
   "metadata": {},
   "outputs": [],
   "source": [
    "# That was pretty straightforward, next we need to break the sentences up into the different words\n",
    "\n",
    "words = ... # replace the ... a function that will \"split\" the sentences into words\n",
    "\n",
    "print(words)"
   ]
  },
  {
   "cell_type": "markdown",
   "metadata": {},
   "source": [
    "Did you get output that looks like ```['see', 'jane', 'run.', 'is', 'that', 'jane']```?\n",
    "\n",
    "Next we need to process each word\n",
    "Remove any punctuation from the end of the word\n",
    "If the word already in the dictionary\n",
    "  Increment the count by 1\n",
    "Else\n",
    "  Set the count to 1 (this is the first time we've seen the word)\n",
    "\n",
    "The code below needs you to write the code for \n",
    "- removing punctuation \n",
    "- what to do in the case where the word isn't already in our dictionary\n",
    "\n",
    "**HINT**: Remember the ```rstrip``` string function?  This function can take a list of characters to remove (by default it only strips off spaces)\n",
    "maybe it would be helpful to use this function to take off periods, commas and question marks?"
   ]
  },
  {
   "cell_type": "code",
   "execution_count": null,
   "metadata": {},
   "outputs": [],
   "source": [
    "\n",
    "# Initialize the empty dictionary\n",
    "word_dictionary = {}\n",
    "\n",
    "# For every word, \n",
    "for w in words:\n",
    "    # Remove any punctuation from the end of the word\n",
    "    ## YOUR CODE HERE ##\n",
    "    \n",
    "    # If the word already in the dictionary\n",
    "    if w in word_dictionary.keys():\n",
    "        # Increment the count by 1\n",
    "        word_dictionary[w] = word_dictionary[w] + 1\n",
    "    # Otherwise, set the count to 1\n",
    "    ## YOUR CODE HERE ##\n",
    "\n",
    "print (word_dictionary)"
   ]
  },
  {
   "cell_type": "markdown",
   "metadata": {},
   "source": [
    "You should see output like \n",
    "```python\n",
    "{'see': 1, 'jane': 2, 'run': 1, 'is': 1, 'that': 1}\n",
    "```\n",
    "\n",
    "If you don't see this, try this\n",
    "- Insert a print statement in your for loop to see if you can figure out where things are going wrong\n",
    "- Did you make sure to remove punctuation from the end of the words?\n",
    "- Did you write the \"else\" case for when the word doesn't already exist?\n",
    "\n",
    "If you got it work, that is fantastic!  Next, we'll bring all the pieces together and create a function where we can test our logic"
   ]
  },
  {
   "cell_type": "code",
   "execution_count": null,
   "metadata": {},
   "outputs": [],
   "source": [
    "# Now bring it all together in a function\n",
    "\n",
    "def word_counter(sentence, target_word):\n",
    "    '''\n",
    "    Count the nuber of times a particular word occurs in a given sentence, phrase or excerpt\n",
    "\n",
    "    Parameters:\n",
    "    ----------\n",
    "        sentence (str) - the string to parse\n",
    "\n",
    "        target_word (str) - the word to count in the supplied sentence\n",
    "\n",
    "    Returns\n",
    "    -------\n",
    "        int \n",
    "            number of times the word is found in the sentence (-1, if not found)\n",
    "    '''\n",
    "    # Initialize the empty word dictionary\n",
    "    word_dictionary = {}\n",
    "    # Initialize the return value to -1\n",
    "    count_of_target = -1\n",
    "\n",
    "    # Split the supplied phrase `sentence` into a collection of words\n",
    "    # For every word, \n",
    "    #   Remove any punctuation from the end of the word\n",
    "    #   If the word already in the dictionary\n",
    "    #       Increment the count by 1\n",
    "    #   Otherwise, set the count to 1\n",
    "\n",
    "    # Find the count associated with the `target_word` and assign it to count_of_target\n",
    "    # Return the resulting count\n",
    "    return count_of_target\n",
    "\n",
    "print(f'As a test, this result should be 2.  Your function returned: {word_counter(sample_string,\"jane\")}')"
   ]
  },
  {
   "cell_type": "code",
   "execution_count": null,
   "metadata": {},
   "outputs": [],
   "source": [
    "# Run this cell to make sure your function works as expected\n",
    "sample_string_2 = \"A wonderful serenity has taken possession of my entire soul, like these sweet mornings of spring which I enjoy with my whole heart. I am alone, and feel the charm of existence in this spot, which was created for the bliss of souls like mine. I am so happy, my dear friend, so absorbed in the exquisite sense of mere tranquil existence, that I neglect my talents. I should be incapable of drawing a single stroke at the present moment; and yet I feel that I never was a greater artist than now. When, while the lovely\"\n",
    "sample_string_3 = \"A wonderful serenity has taken possession of my entire soul, like these sweet mornings of spring which I enjoy with my whole heart. I am alone, and feel the charm of existence in this spot, which was created for the bliss of souls like mine. I am so happy, my dear friend, so absorbed in the exquisite sense of mere tranquil existence, that I neglect my talents. I should be incapable of drawing a single stroke at the present moment; and yet I feel that I never was a greater artist than now. When, while the lovely valley teems with vapour around me, and the meridian sun strikes the upper surface of the impenetrable foliage of my trees, and but a few stray gleams steal into the inner sanctuary, I throw myself down among the tall grass by the trickling stream; and, as I lie close to the earth, a thousand unknown plants are noticed by me: when I hear the buzz of the little world among the stalks, and grow familiar with the countless indescribable forms of the insects and flies, then I feel the presence of the Almighty, who formed us in his own image\"\n",
    "sample_string_4 = \"A wonderful serenity has taken possession of my entire soul, like these sweet mornings of spring which I enjoy with my whole heart. I am alone, and feel the charm of existence in this spot, which was created for the bliss of souls like mine. I am so happy, my dear friend, so absorbed in the exquisite sense of mere tranquil existence, that I neglect my talents. I should be incapable of drawing a single stroke at the present moment; and yet I feel that I never was a greater artist than now. When, while the lovely valley teems with vapour around me, and the meridian sun strikes the upper surface of the impenetrable foliage of my trees, and but a few stray gleams steal into the inner sanctuary, I throw myself down among the tall grass by the trickling stream; and, as I lie close to the earth, a thousand unknown plants are noticed by me: when I hear the buzz of the little world among the stalks, and grow familiar with the countless indescribable forms of the insects and flies, then I feel the presence of the Almighty, who formed us in his own image, and the breath of that universal love which bears and sustains us, as it floats around us in an eternity of bliss; and then, my friend, when darkness overspreads my eyes, and heaven and earth seem to dwell in my soul and absorb its power, like the form of a beloved mistress, then I often think with longing, Oh, would I could describe these conceptions, could impress upon paper all that is living so full and warm within me, that it might be the mirror of my soul, as my soul is the mirror of the infinite God! O my friend -- but it is too much for my strength -- I sink under the weight of the splendour of these visions! A wonderful serenity has taken possession of my entire soul, like these sweet mornings of spring which I enjoy with my whole heart. I am alone, and feel the charm of existence in this spot, which was created for the bliss of souls like mine. I am so happy, my dear friend, so absorbed in the exquisite sense of mere tranquil existence, that I neglect my talents. I should be incapable of drawing a single stroke at the present moment; and yet I feel that I never was a greater artist than now. When, while the lovely valley teems with vapour around me, and the meridian sun strikes the upper surface of the impenetrable foliage of my trees, and but a few stray gleams steal into the inner sanctuary, I throw myself down among the tall grass by the trickling stream; and, as I lie close to the earth, a thousand unknown plants are noticed by me: when I hear the buzz of the little world among the stalks, and grow familiar with the\"\n",
    "\n",
    "print(f'Sample 2.  Expected: 4.  Your result: {word_counter(sample_string_2,\"my\")}')\n",
    "print(f'Sample 3.  Expected: 19.  Your result: {word_counter(sample_string_3,\"the\")}')\n",
    "print(f'Sample 3.  Expected: 42.  Your result: {word_counter(sample_string_4,\"the\")}')\n",
    "print(f'Sample 3 (searching for feel).  Expected: 5.  Your result: {word_counter(sample_string_4,\"feel\")}')\n"
   ]
  },
  {
   "cell_type": "markdown",
   "metadata": {},
   "source": [
    "# Conclusion\n",
    "\n",
    "Now that you've had some practice you can head back to the index and try to find some other resources.  Or you can move on to the [Coding Challenges](../exercises/Coding_Challenges.ipynb) to put your skills to the test.\n"
   ]
  }
 ],
 "metadata": {
  "kernelspec": {
   "display_name": "Python 3.9.12 ('base')",
   "language": "python",
   "name": "python3"
  },
  "language_info": {
   "codemirror_mode": {
    "name": "ipython",
    "version": 3
   },
   "file_extension": ".py",
   "mimetype": "text/x-python",
   "name": "python",
   "nbconvert_exporter": "python",
   "pygments_lexer": "ipython3",
   "version": "3.9.12"
  },
  "vscode": {
   "interpreter": {
    "hash": "d4d1e4263499bec80672ea0156c357c1ee493ec2b1c70f0acce89fc37c4a6abe"
   }
  }
 },
 "nbformat": 4,
 "nbformat_minor": 2
}
