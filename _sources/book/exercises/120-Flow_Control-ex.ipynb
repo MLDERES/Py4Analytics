{
 "cells": [
  {
   "cell_type": "markdown",
   "metadata": {},
   "source": [
    "# Try it: Flow Control\n",
    "Now it's your turn to try out some of the techiques identified in the first few notebooks.  For each example, take a look first at the question.  Try to work out the logic in plain language first, then work out the coding logic afterward.  The outcome is described after each of the steps.\n",
    "In this notebook, we'll look at:\n",
    "- conditional statements"
   ]
  },
  {
   "cell_type": "markdown",
   "metadata": {},
   "source": [
    "## Hello World! revisited\n",
    "We'll go back to the example from the first notebook where we introduced ourselves and with a twist.  Our greeting is plesant, but we can do better.  We should have a greeting that takes into account the time of day.  The first few lines determine the hour of the day (where 0 is midnight and 23 is 11pm).  Using an ```if/else``` construct, greet the user appropriately for the time of day (morning, afternoon, evening)."
   ]
  },
  {
   "cell_type": "code",
   "execution_count": null,
   "metadata": {},
   "outputs": [],
   "source": [
    "# Getting the current time\n",
    "from datetime import datetime as dt\n",
    "import pytz\n",
    "current_hour = dt.now(pytz.timezone(\"US/Central\")).hour\n",
    "print(f'The current hour is: {current_hour}')\n",
    "\n",
    "# Assign the variable to my_name\n",
    "my_name = ...\n",
    "\n",
    "# Ask for the user's name\n",
    "user_name = input('What is your name?')\n",
    "\n",
    "# Set the greeting to default to nothing\n",
    "greeting = ''\n",
    "# If the the current hour is less than 12, change the greeting to 'Morning'\n",
    "# Otherwise, if the current hour is between 12 and 17 (5pm) set the greeting to 'Afternoon'\n",
    "# Otherwise, set the greeting to 'Evening'\n",
    "\n",
    "print(f'Good {greeting}, {user_name}!  My name is {my_name}')"
   ]
  }
 ],
 "metadata": {
  "kernelspec": {
   "display_name": "Python 3.9.12 ('base')",
   "language": "python",
   "name": "python3"
  },
  "language_info": {
   "name": "python",
   "version": "3.9.12"
  },
  "orig_nbformat": 4,
  "vscode": {
   "interpreter": {
    "hash": "d4d1e4263499bec80672ea0156c357c1ee493ec2b1c70f0acce89fc37c4a6abe"
   }
  }
 },
 "nbformat": 4,
 "nbformat_minor": 2
}
