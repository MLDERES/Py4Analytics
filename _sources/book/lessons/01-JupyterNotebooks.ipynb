{
 "cells": [
  {
   "cell_type": "markdown",
   "metadata": {},
   "source": [
    "# Welcome to Jupyter Notebooks\n",
    "\n",
    "Notebooks are a handy way to combine code with text/explanations.  What's more, we can use notebooks to break up a program or analysis into several parts, running just one piece of code at a time.  For our purposes what this will do is allow us to look at a topic, execute some sample code to see how it works and then try writing something similar all in the same environment.\n",
    "\n",
    "So for a quick background.  Notebooks are broken up into 'cells'.  Each cell can be interpretted by the browser in many different ways, but for our purposes each cell is either a documentation (Markdown) cell or a code (Python) cell.  Each cell is 'run' or 'executed' by either pressing a key combination or selecting one of the buttons at the top of the page.  For instance to run a cell, select the cell by clicking you mouse on in the box, then press CTRL+Enter.  \n",
    "<br>\n",
    "Try that with the cell below."
   ]
  },
  {
   "cell_type": "code",
   "execution_count": null,
   "metadata": {},
   "outputs": [],
   "source": [
    "print('Welcome to Jupyter.  You have successfully run a code cell.')"
   ]
  },
  {
   "cell_type": "markdown",
   "metadata": {},
   "source": [
    "If you have done this correctly, you will see the results of running the cell immediately below the cell like such.\n",
    "````{image} ../img/jupyter_welcome.png\n",
    "\n",
    "````"
   ]
  },
  {
   "cell_type": "markdown",
   "metadata": {},
   "source": [
    "The number on the left side of the cell just tells us the order in which the cell was run, so yours maybe different than the picture.\n",
    "\n",
    "You can also run the cell by using the 'Cell' menu item at the top of screen.  This is useful if you want to run a series of cells, such as the entire notebook at once or all the cells up to a certain point.  For instance, say you are working your way through this notebook at get pulled away and decide to come back later.  You can scroll the browser down to the cell where you left off and simply select Cell-> Run All Above and this will ensure that all the prior cells are run before picking up where you left off.\n",
    "\n",
    "![image.png](../img/jupyter_run.png)"
   ]
  },
  {
   "cell_type": "markdown",
   "metadata": {},
   "source": [
    "## In case something goes wrong\n",
    "Occassionally, this page will lose connection to the server or show an error message. You can simply refresh your webpage and most times the page will ask you if you want to restart the server.  Press yes.\n",
    "\n",
    "In case things don't seem to be moving/running in your code, you can interrupt and restart your kernel.\n",
    "\n",
    "Now, run the next cell.  This cell just makes sure that you see all the results of running the cells that follow in the notebook."
   ]
  },
  {
   "cell_type": "code",
   "execution_count": null,
   "metadata": {},
   "outputs": [],
   "source": [
    "from IPython.core.interactiveshell import InteractiveShell\n",
    "InteractiveShell.ast_node_interactivity = \"all\""
   ]
  }
 ],
 "metadata": {
  "kernelspec": {
   "display_name": "Python 3.9.12 ('base')",
   "language": "python",
   "name": "python3"
  },
  "language_info": {
   "codemirror_mode": {
    "name": "ipython",
    "version": 3
   },
   "file_extension": ".py",
   "mimetype": "text/x-python",
   "name": "python",
   "nbconvert_exporter": "python",
   "pygments_lexer": "ipython3",
   "version": "3.9.12"
  },
  "orig_nbformat": 4,
  "vscode": {
   "interpreter": {
    "hash": "d4d1e4263499bec80672ea0156c357c1ee493ec2b1c70f0acce89fc37c4a6abe"
   }
  }
 },
 "nbformat": 4,
 "nbformat_minor": 2
}
