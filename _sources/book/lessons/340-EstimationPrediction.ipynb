{
 "cells": [
  {
   "cell_type": "code",
   "execution_count": null,
   "metadata": {},
   "outputs": [],
   "source": [
    "import pandas as pd\n",
    "import numpy as np\n",
    "from sklearn.model_selection import train_test_split\n",
    "from sklearn.metrics import mean_absolute_error as MAE, mean_absolute_percentage_error as MAPE, mean_squared_error as MSE \n",
    "from sklearn.linear_model import LinearRegression\n",
    "import seaborn as sns\n",
    "import matplotlib.pyplot as plt\n",
    "import sys\n",
    "sys.path.append('..')\n",
    "from src.data import load_data\n",
    "from src.metric import regressionSummary,adjusted_r2_score, AIC_score, BIC_score\n",
    "from src.feature_selection import (\n",
    "    exhaustive_search, \n",
    "    backward_elimination, \n",
    "    forward_selection)\n",
    "\n",
    "import pprint as pp\n",
    "\n",
    "pd.set_option('display.precision',4)\n",
    "plt.rcParams[\"figure.figsize\"] = (20, 10)\n",
    "plt.style.use('fivethirtyeight')\n",
    "from IPython.core.interactiveshell import InteractiveShell\n",
    "InteractiveShell.ast_node_interactivity = \"all\""
   ]
  },
  {
   "cell_type": "markdown",
   "metadata": {},
   "source": [
    "# Prediction and Estimation\n",
    "Estimation is about finding a model that explains existing data as well as possible, while predictive models are best when they can determine unknown values given the independent factors.\n",
    "\n",
    "## Evaluating Predictive Performance\n",
    "Evaluating performance of predictive or estimation models which use continuous targets uses a different technique than quantifying error rates.  Predictions are not simply correct or incorrect, but we can decide how close we were in our prediction or how far away.  A few techniques to determine performance of continuous target predictions include: \n",
    "\n",
    "* Mean Error - the average difference between the predicted and expected target\n",
    "  * Valuable if the direction of the prediction is important (too high or too low) though it can be misleading since too-high and too-low can cancel each other out.\n",
    "* MAE - Mean absolute error - the average difference between the predicted and expected target not accounting for sign \n",
    "(+/-)\n",
    "  * takes the too high or too low issue out of play\n",
    "* MPE - Mean percentage error - average percentage difference between predicted and expected target\n",
    "* MAPE - Mean absolute percentage error - average percentage difference between predicted and expected target (using absolute values rather than positive or negative error)\n",
    "* MSE - Mean square error - average of the square of the error of each prediction\n",
    "  * penalizes significant outliers and removes units so it is a relative metric only\n",
    "* RMSE - Root mean square error - square root of the average of the square of the error of each prediction (provides relative units)\n",
    "  * still significantly penalizes bigger errors but also provides units of the base metric\n"
   ]
  },
  {
   "cell_type": "markdown",
   "metadata": {},
   "source": [
    "## Multiple Linear Regression\n",
    "Linear regression models are a great model to explain a linear relationship between predictors and target variables (assuming a linear relationship exists).  They are easy to explain and have a built-in metric to identify the importance of each predictor.  Also, we can use this information to include just enough of the variables to accurately describe the target possibly reducing the complexity\n",
    "\n",
    "With linear regression we are attempting to describe a target variable in terms of a set of coefficients in a linear equation such as:\n",
    "$$Y = \\beta_0+\\beta_1X_1+\\beta_2X_2 + ... \\beta_nX_n + \\epsilon$$\n",
    "where $\\beta$ represents coefficients and $X$ are the predictive factors (independent variables) and $\\epsilon$ is _noise_ or _unexplainable_ part.  Data is used to estimate the coefficients and quantify the noise."
   ]
  },
  {
   "cell_type": "markdown",
   "metadata": {},
   "source": [
    "## Medical Insurance Forecast\n",
    "Insurance companies need to set the insurance premiums following the population trends despite having limited information about the insured population if they have to put themselves in a position to make profits. This makes it necessary to estimate the average medical care expenses based on trends in the population segments, such as smokers, drivers, etc\n",
    "\n",
    "[data dictionary](../data/insurance.csv#insurance)"
   ]
  },
  {
   "cell_type": "code",
   "execution_count": null,
   "metadata": {},
   "outputs": [],
   "source": [
    "insurance_df = load_data('insurance')\n",
    "# Start with checking our the first few rows\n",
    "insurance_df.head()"
   ]
  },
  {
   "cell_type": "code",
   "execution_count": null,
   "metadata": {},
   "outputs": [],
   "source": [
    "# We need to let pandas know that we have categorical data in a couple columns\n",
    "insurance_df.dtypes"
   ]
  },
  {
   "cell_type": "code",
   "execution_count": null,
   "metadata": {},
   "outputs": [],
   "source": [
    "# Categorize the columns\n",
    "for c in ['sex','smoker','region']:\n",
    "    insurance_df[c]=insurance_df[c].astype('category')"
   ]
  },
  {
   "cell_type": "code",
   "execution_count": null,
   "metadata": {},
   "outputs": [],
   "source": [
    "# What's the range of charges\n",
    "insurance_df.charges.hist();"
   ]
  },
  {
   "cell_type": "code",
   "execution_count": null,
   "metadata": {},
   "outputs": [],
   "source": [
    "plt.rcParams[\"figure.figsize\"] = (10, 10)\n",
    "sns.boxplot(data=insurance_df, x='region',y='charges');"
   ]
  },
  {
   "cell_type": "markdown",
   "metadata": {},
   "source": [
    "### About BMI\n",
    "The CDC has the following [guidance][1] with regard to interpreting BMI:\n",
    "> * If your BMI is less than 18.5, it falls within the underweight range.\n",
    "> * If your BMI is 18.5 to <25, it falls within the healthy weight range.\n",
    "> * If your BMI is 25.0 to <30, it falls within the overweight range.\n",
    "> * If your BMI is 30.0 or higher, it falls within the obesity range.\n",
    "\n",
    "It seems like a good idea to build categories for these values\n",
    "\n",
    "[1]: ([https://www.cdc.gov/obesity/adult/defining.html#:~:text=Adult%20Body%20Mass%20Index%20%28BMI%29%20%20%20,%20%20Obesity%20%201%20more%20rows%20)"
   ]
  },
  {
   "cell_type": "code",
   "execution_count": null,
   "metadata": {},
   "outputs": [],
   "source": [
    "# Build the categories for BMI based on CDC guidance\n",
    "insurance_df['bmi_cat'] = pd.cut(insurance_df.bmi,\n",
    "    bins=[0,18.5,25,30,100],\n",
    "    labels=['underweight','healthy','overweight','obese'])"
   ]
  },
  {
   "cell_type": "code",
   "execution_count": null,
   "metadata": {},
   "outputs": [],
   "source": [
    "# Now let's take a look to see if this plays a role\n",
    "sns.boxplot(data=insurance_df, x='bmi_cat',y='charges');"
   ]
  },
  {
   "cell_type": "markdown",
   "metadata": {},
   "source": [
    "We are seeing exactly what we suspect that individuals that are overweight or obese are more likely to cause the insurance company more.  We could quanitify it as well"
   ]
  },
  {
   "cell_type": "code",
   "execution_count": null,
   "metadata": {},
   "outputs": [],
   "source": [
    "# What's the actual difference in average cost\n",
    "insurance_df.groupby('bmi_cat')['charges'].mean()"
   ]
  },
  {
   "cell_type": "markdown",
   "metadata": {},
   "source": [
    "You may want to do some more digging into the data or creating some other new factors to help determine if we can find a good predictive model.  We'll use what we have here."
   ]
  },
  {
   "cell_type": "code",
   "execution_count": null,
   "metadata": {},
   "outputs": [],
   "source": [
    "# We need to ensure that our data is 'encoded' to work with the linear model\n",
    "num_columns=insurance_df.select_dtypes(include='number').columns\n",
    "cat_columns=insurance_df.select_dtypes(exclude='number').columns\n",
    "num_columns\n",
    "cat_columns"
   ]
  },
  {
   "cell_type": "code",
   "execution_count": null,
   "metadata": {},
   "outputs": [],
   "source": [
    "new_ins_df = pd.get_dummies(insurance_df,columns=cat_columns)\n",
    "new_ins_df"
   ]
  },
  {
   "cell_type": "code",
   "execution_count": null,
   "metadata": {},
   "outputs": [],
   "source": [
    "reg = LinearRegression()\n",
    "X = new_ins_df.drop(columns='charges')\n",
    "y = new_ins_df['charges']\n",
    "X_train, X_test, y_train, y_test = train_test_split(X, y, test_size=0.4, random_state=123)\n",
    "reg.fit(X_train,y_train)\n",
    "\n",
    "for col, coef in zip(X.columns,reg.coef_):\n",
    "    print(f'{col}: {coef:.4f}')"
   ]
  },
  {
   "cell_type": "code",
   "execution_count": null,
   "metadata": {},
   "outputs": [],
   "source": [
    "y_pred = reg.predict(X_test)\n",
    "regressionSummary(y_test,y_pred)"
   ]
  },
  {
   "cell_type": "markdown",
   "metadata": {},
   "source": [
    "## Transformers\n",
    "The sklearn library has standardized a set of transformers which we can use to apply to our data for preprocessing.  Just like in the last example where we had create the dummies and then scale the data, we can use a [column transformer](https://scikit-learn.org/stable/modules/generated/sklearn.compose.ColumnTransformer.html) to apply a transformation to a particular column or set of columns.  Some helpful transformers that we will find useful like:\n",
    "- [OneHotEncoder](https://scikit-learn.org/stable/modules/generated/sklearn.preprocessing.OneHotEncoder.html#sklearn.preprocessing.OneHotEncoder) for categorical data\n",
    "- [SimpleImputer](https://scikit-learn.org/stable/modules/generated/sklearn.impute.SimpleImputer.html#sklearn.impute.SimpleImputer) to help deal with missing data\n",
    "- [StandardScaler](https://scikit-learn.org/stable/modules/generated/sklearn.preprocessing.StandardScaler.html#sklearn.preprocessing.StandardScaler) for standardizing continuous features\n",
    "- [FunctionTransformer](https://scikit-learn.org/stable/modules/generated/sklearn.preprocessing.FunctionTransformer.html#sklearn.preprocessing.FunctionTransformer) when you need to apply a custom function to the data"
   ]
  },
  {
   "cell_type": "code",
   "execution_count": null,
   "metadata": {},
   "outputs": [],
   "source": [
    "from sklearn.pipeline import Pipeline\n",
    "from sklearn.preprocessing import StandardScaler, OneHotEncoder\n",
    "from sklearn.compose import ColumnTransformer\n",
    "from sklearn.impute import SimpleImputer\n",
    "\n",
    "# Here we are going to apply two transforms to our numeric columns\n",
    "# An imputer, to fill any gaps in our dataset with the median value\n",
    "# And a scaler which we can use to ensure our data is standardized\n",
    "numeric_transformer = Pipeline(\n",
    "    steps=[(\"imputer\", SimpleImputer(strategy=\"median\")), (\"scaler\", StandardScaler())]\n",
    ")\n",
    "\n",
    "# For our categorical data, we'll use the OneHotEncoder\n",
    "#  In essense this will dummy the columns for us\n",
    "categorical_transformer = OneHotEncoder(handle_unknown=\"ignore\")\n",
    "\n",
    "# Here we define the transformers to use and which columns to apply them too\n",
    "preprocessor = ColumnTransformer(\n",
    "    transformers=[\n",
    "        (\"num\", StandardScaler(), ['age', 'bmi', 'children'],),\n",
    "        (\"cat\", categorical_transformer, cat_columns)],\n",
    ")"
   ]
  },
  {
   "cell_type": "code",
   "execution_count": null,
   "metadata": {},
   "outputs": [],
   "source": [
    "# Load up the data\n",
    "X = insurance_df.drop(columns='charges')\n",
    "y = insurance_df['charges']\n",
    "\n",
    "X_train, X_test, y_train, y_test = train_test_split(X, y, test_size=0.2, random_state=123)\n",
    "\n",
    "# Keep in mind we need to apply the transform to both the train and the test sets.\n",
    "X_train_xform = preprocessor.fit_transform(X_train)\n",
    "X_test_xform = preprocessor.fit_transform(X_test)\n",
    "\n",
    "# Create a new regressor\n",
    "reg2 = LinearRegression()\n",
    "reg2.fit(X_train_xform, y_train)\n",
    "y_pred = reg2.predict(X_test_xform)\n",
    "\n",
    "for col, coef in zip(X.columns,reg2.coef_):\n",
    "    print(f'{col}: {coef:.4f}')\n",
    "regressionSummary(y_pred=y_pred, y_true=y_test)"
   ]
  },
  {
   "cell_type": "markdown",
   "metadata": {},
   "source": [
    "Not applying the same transform to the training data and test data can lead to disasterous consequences.  Fortunately we have a tool for this as well, pipelines.  Pipelines ensure that all the same transforms are applied to both the training and testing data.  There is a whole notebook on pipelines [here](./342-Pipelines.ipynb)."
   ]
  },
  {
   "cell_type": "markdown",
   "metadata": {},
   "source": [
    "## Feature Selection\n",
    "Some Estimation and Prediction methods work just fine with a long list of features (and often prefer a larger set!).  For instance, Decision Trees self-select the best features based on how much additional information can be gained from splitting on a feature.  And neural networks were made for handling tons and tons of features.  Linear and Logistic regression (logistic regression is used for classification remember) often can have adequate models with less predictors.  Less predictors means less data and less processing, so it is advantageous to have as few predictors as possible for these algorithms.\n",
    "\n",
    "Two approaches to stepwise feature selection in regression models:\n",
    "- Forward Selection : start with no predictors and _add_ one at a time until the accuracy doesn't increase\n",
    "- Backward Selection : start with all the predictors and _remove_ one at a time until the accuracy doesn't increase\n",
    "\n",
    "Exhaustive searches are another option, where every combination of features is attempted, as are univariate and mutual information techniques.  Other approaches are covered in [another notebook](./41-AdvancedTechniques.ipynb#feature-reduction)\n",
    "\n",
    "For this example we'll use the Toyota Corolla dataset.  In this dataset, we will look at set of cars from a dealership looking to predict the value that they could get from a Corolla if they bought it on trade-in.  If they can sell a car for more than they bought it for they can make money."
   ]
  },
  {
   "cell_type": "code",
   "execution_count": null,
   "metadata": {},
   "outputs": [],
   "source": [
    "# Reduce data frame to the top 1000 rows and select columns for regression analysis\n",
    "car_df = load_data('ToyotaCorolla')\n",
    "# Just use the first 1000 rows\n",
    "car_df = car_df.iloc[0:1000]\n",
    "\n",
    "predictors = ['Age_08_04', 'KM', 'Fuel_Type', 'HP', 'Met_Color', 'Automatic', 'CC', \n",
    "            'Doors', 'Quarterly_Tax', 'Weight']\n",
    "outcome = 'Price'\n",
    "\n",
    "# partition data\n",
    "car_X = pd.get_dummies(car_df[predictors], drop_first=True)\n",
    "car_y = car_df[outcome]\n",
    "car_X_train, car_X_test, car_y_train, car_y_test = train_test_split(car_X, car_y, test_size=0.4, random_state=1)\n",
    "\n",
    "car_lm = LinearRegression()\n",
    "car_lm.fit(car_X_train, car_y_train)\n",
    "\n",
    "# print coefficients\n",
    "print('intercept ', car_lm.intercept_)\n",
    "\n",
    "for col, coef in zip(car_X.columns,car_lm.coef_):\n",
    "    print(f'{col}: {coef:.4f}')\n",
    "\n",
    "# print performance measures\n",
    "car_y_pred = car_lm.predict(car_X_test)\n",
    "regressionSummary(car_y_test, car_y_pred)"
   ]
  },
  {
   "cell_type": "code",
   "execution_count": null,
   "metadata": {},
   "outputs": [],
   "source": [
    "car_results = pd.DataFrame({'Predicted':car_y_pred, 'Actual':car_y_test, 'Residual':car_y_pred - car_y_test})\n",
    "car_results.Residual.hist();"
   ]
  },
  {
   "cell_type": "markdown",
   "metadata": {},
   "source": [
    "### Comparing model performance\n",
    "Since we are about to reduce the number of predictors, we need to decide what is the best set of predictors.  One way to compare models of course is just to look at the outcomes and see which is best, but this can be misleading.  Several criteria for evaluating and comparing models are based on metrics computed from training data alone.  One popular method is _adjusted_ $R^2$.  This is defined as \n",
    "$$R^2_{adj}=1-\\frac{n-1}{n-p-1}(1-R^2)$$ \n",
    "where $R^2$ is the proportion of variance explained by by a single predictor, _n_ represents the number of observations and _p_ is the number of predictors.  A higher $R^2$ means more variance from a single predictor.  But if we use an adjusted score because otherwise we would automatically get higher scores simply by adding more predictors.  There are other approaches as well [AIC](https://en.wikipedia.org/wiki/Akaike_information_criterion) and [BIC](https://en.wikipedia.org/wiki/Bayesian_information_criterion).  In each case a higher value means a better set of predictors.  Since they all produce the same outcomes, we'll show the values, but not go into the formulas"
   ]
  },
  {
   "cell_type": "code",
   "execution_count": null,
   "metadata": {},
   "outputs": [],
   "source": [
    "# Just to ensure we have a clean dataset to work with\n",
    "car_X = pd.get_dummies(car_df[predictors], drop_first=True)\n",
    "car_y = car_df[outcome]\n",
    "car_X_train, car_X_test, car_y_train, car_y_test = train_test_split(car_X, car_y, test_size=0.4, random_state=1)\n",
    "\n",
    "def train_model(variables):\n",
    "    if len(variables) == 0:\n",
    "        return None\n",
    "    model = LinearRegression()\n",
    "    model.fit(car_X_train[variables], car_y_train)\n",
    "    return model\n",
    "\n",
    "def score_model_r2(model, variables):\n",
    "    pred_y = model.predict(car_X_test[variables])\n",
    "    # we negate as score is optimized to be as low as possible\n",
    "    return -adjusted_r2_score(car_y_test, pred_y, model)\n",
    "\n",
    "def score_model_AIC(model, variables):\n",
    "    if len(variables) == 0:\n",
    "        return AIC_score(car_y_train, [car_y_train.mean()] * len(car_y_train), model, df=1)\n",
    "    return AIC_score(car_y_train, model.predict(car_X_train[variables]), model)\n",
    "\n",
    "\n",
    "# Let's try to do a model by looking at all the variable combinations\n",
    "allVariables = car_X_train.columns\n",
    "results = exhaustive_search(allVariables, train_model, score_model_r2)\n",
    "\n",
    "data = []\n",
    "for result in results:\n",
    "    model = result['model']\n",
    "    variables = result['variables']\n",
    "    AIC = AIC_score(car_y_train, model.predict(car_X_train[variables]), model)\n",
    "\n",
    "    d = {'n': result['n'], 'r2adj': -result['score'], 'AIC': AIC}\n",
    "    d.update({var: var in result['variables'] for var in allVariables})\n",
    "    data.append(d)\n",
    "pd.set_option('display.width', 100)\n",
    "print(pd.DataFrame(data, columns=('n', 'r2adj', 'AIC') + tuple(sorted(allVariables))))\n",
    "pd.reset_option('display.width')"
   ]
  },
  {
   "cell_type": "code",
   "execution_count": null,
   "metadata": {},
   "outputs": [],
   "source": [
    "# Backward elimination\n",
    "best_model, best_variables = backward_elimination(\n",
    "    car_X_train.columns, train_model, score_model_r2, verbose=True)\n",
    "\n",
    "print(best_variables)"
   ]
  },
  {
   "cell_type": "code",
   "execution_count": null,
   "metadata": {},
   "outputs": [],
   "source": [
    "# Forward Selection\n",
    "# The initial model is the constant model (that is no variables) - this requires special handling\n",
    "# in train_model and score_model\n",
    "\n",
    "best_model, best_variables = forward_selection(\n",
    "    car_X_train.columns, train_model, score_model_AIC, verbose=True)\n",
    "\n",
    "print(best_variables)"
   ]
  },
  {
   "cell_type": "markdown",
   "metadata": {},
   "source": [
    "While it is great that we know how to do this variable selection, it would be helpful if we could combine our knowledge and have a transformer to do the work for us.  Fortunately, the sklearn library has this on offer.  We have several variable selection techniques available and we can use what we know about.  If you are unfamiliar with Pipelines now would be a good opportunity to go [review the notebook](./342-Pipelines.ipynb) on these first.\n",
    "\n",
    "Often our pipeline looks something like \n",
    "<style>\n",
    ".center\n",
    "{\n",
    "    display:block;\n",
    "    margin-left: auto;\n",
    "    margin-right: auto;\n",
    "    width: 50%;\n",
    "}\n",
    "</style>\n",
    "<img src='../img/MLPipeline.png' width=400 height=300 class='center'/>\n",
    "Putting this together with our Toyota cars dataset we can see how this improves (or not) our model"
   ]
  },
  {
   "cell_type": "code",
   "execution_count": null,
   "metadata": {},
   "outputs": [],
   "source": [
    "from sklearn.pipeline import Pipeline\n",
    "from sklearn.feature_selection import SequentialFeatureSelector\n",
    "from sklearn.feature_selection import chi2, SelectKBest\n",
    "from sklearn import set_config\n",
    "set_config(display='diagram')\n",
    "\n",
    "# Reduce data frame to the top 1000 rows and select columns for regression analysis\n",
    "toyota_df = load_data('ToyotaCorolla',nrows=1000, \n",
    "            usecols=['Age_08_04', 'KM', 'Fuel_Type', 'HP', 'Met_Color', 'Automatic', 'CC', 'Doors', 'Quarterly_Tax', 'Weight', 'Price'])\n",
    "\n",
    "outcome = 'Price'\n",
    "\n",
    "num_columns = toyota_df.drop(columns=outcome).select_dtypes(include='number').columns\n",
    "cat_columns = toyota_df.select_dtypes(exclude=\"number\").columns\n",
    "\n",
    "# Here we are going to apply two transforms to our numeric columns\n",
    "# An imputer, to fill any gaps in our dataset with the median value\n",
    "# And a scaler which we can use to ensure our data is standardized\n",
    "numeric_transformer = Pipeline(\n",
    "    steps=[(\"imputer\", SimpleImputer(strategy=\"median\")), (\"scaler\", StandardScaler())]\n",
    ")\n",
    "\n",
    "# For our categorical data, we'll use the OneHotEncoder\n",
    "#  In essense this will dummy the columns for us\n",
    "categorical_transformer = OneHotEncoder(handle_unknown=\"ignore\")\n",
    "\n",
    "column_transformer = ColumnTransformer(\n",
    "    transformers=[\n",
    "        (\"num\", numeric_transformer, num_columns),\n",
    "        (\"cat\", categorical_transformer, cat_columns)])\n",
    "\n",
    "toyota_reg = LinearRegression()\n",
    "\n",
    "# Here we define the transformers to use and which columns to apply them too\n",
    "pipeline = Pipeline([(\"col_transform\",column_transformer)\n",
    "            , (\"feature_selection\",SelectKBest())\n",
    "            , ('regression_model',toyota_reg)])\n",
    "pipeline"
   ]
  },
  {
   "cell_type": "code",
   "execution_count": null,
   "metadata": {},
   "outputs": [],
   "source": [
    "# And then, since we have our pipeline ready to go\n",
    "toyota_X = toyota_df.drop(columns=outcome)\n",
    "toyota_y = toyota_df[outcome]\n",
    "\n",
    "toyota_X_train, toyota_X_test, toyota_y_train, toyota_y_test = train_test_split(toyota_X,toyota_y,train_size=0.8, random_state=123)\n",
    "pipeline.fit(toyota_X_train,toyota_y_train)\n",
    "toyota_y_pred = pipeline.predict(toyota_X_test)\n",
    "regressionSummary(toyota_y_test, toyota_y_pred)\n"
   ]
  },
  {
   "cell_type": "markdown",
   "metadata": {},
   "source": [
    "# Other Available Prediction or Estimation Algorithms\n",
    "The same techniques apply when using any other prediction and estimation algorithm from the `sklearn` library.  The data is prepared, split, fit and then predicted.\n",
    "\n",
    "The following are a few other algorithm types (of which there are many deratives).\n",
    "\n",
    "## Support Vector Machines\n",
    "(from [scikit-learning](https://scikit-learn.org/stable/modules/svm.html#svm-regression))\n",
    "<br/>\n",
    "Support vector machines (SVMs) are a set of supervised learning methods used for classification, regression and outliers detection.\n",
    "\n",
    "The advantages of support vector machines are:\n",
    "<br/>\n",
    "* Effective in high dimensional spaces.\n",
    "* Still effective in cases where number of dimensions is greater than the number of samples.\n",
    "* Uses a subset of training points in the decision function (called support vectors), so it is also memory efficient.\n",
    "* Versatile: different Kernel functions can be specified for the decision function. Common kernels are provided, but it is also possible to specify custom kernels.\n",
    "\n",
    "The disadvantages of support vector machines include:\n",
    "<br/>\n",
    "* If the number of features is much greater than the number of samples, avoid over-fitting in choosing Kernel functions and regularization term is crucial.\n",
    "* SVMs do not directly provide probability estimates, these are calculated using an expensive five-fold cross-validation (see Scores and probabilities, below).\n",
    "\n",
    "## Nearest Neighbors\n",
    "(from [scikit-learning](https://scikit-learn.org/stable/modules/svm.html#classification))\n",
    "<br/>\n",
    "In the same way that Nearest Neighbors for classification attempts to find the other observations which have the most similar predictors, Neighbors-based regression can be used in cases where the data labels are continuous rather than discrete variables. The label assigned to a query point is computed based on the mean of the labels of its nearest neighbors.\n",
    "\n",
    "## Decision Trees\n",
    "(from [scikit-learning](https://scikit-learn.org/stable/modules/tree.html#tree))\n",
    "<br/>\n",
    "Decision Trees (DTs) are a non-parametric supervised learning method used for classification and regression. The goal is to create a model that predicts the value of a target variable by learning simple decision rules inferred from the data features. A tree can be seen as a piecewise constant approximation.\n",
    "\n",
    "Some advantages of decision trees are:\n",
    "<br/>\n",
    "* Simple to understand and to interpret. Trees can be visualised.\n",
    "* Requires little data preparation. Other techniques often require data normalisation, dummy variables need to be created and blank values to be removed. Note however that this module does not support missing values.\n",
    "* The cost of using the tree (i.e., predicting data) is logarithmic in the number of data points used to train the tree.\n",
    "* Able to handle both numerical and categorical data. However scikit-learn implementation does not support categorical variables for now. Other techniques are usually specialised in analysing datasets that have only one type of * variable. See algorithms for more information.\n",
    "* Able to handle multi-output problems.\n",
    "* Uses a white box model. If a given situation is observable in a model, the explanation for the condition is easily explained by boolean logic. By contrast, in a black box model (e.g., in an artificial neural network), results may be more difficult to interpret.\n",
    "* Possible to validate a model using statistical tests. That makes it possible to account for the reliability of the model.\n",
    "* Performs well even if its assumptions are somewhat violated by the true model from which the data were generated.\n",
    "\n",
    "The disadvantages of decision trees include:\n",
    "\n",
    "* Decision-tree learners can create over-complex trees that do not generalise the data well. This is called overfitting. Mechanisms such as pruning, setting the minimum number of samples required at a leaf node or setting the  maximum depth of the tree are necessary to avoid this problem.\n",
    "* Decision trees can be unstable because small variations in the data might result in a completely different tree being generated. This problem is mitigated by using decision trees within an ensemble.\n",
    "* Predictions of decision trees are neither smooth nor continuous, but piecewise constant approximations as seen in the above figure. Therefore, they are not good at extrapolation.\n",
    "* The problem of learning an optimal decision tree is known to be NP-complete under several aspects of optimality and even for simple concepts. Consequently, practical decision-tree learning algorithms are based on heuristic  algorithms such as the greedy algorithm where locally optimal decisions are made at each node. Such algorithms cannot guarantee to return the globally optimal decision tree. This can be mitigated by training multiple trees in an ensemble learner, where the features and samples are randomly sampled with replacement.\n",
    "* There are concepts that are hard to learn because decision trees do not express them easily, such as XOR, parity or multiplexer problems.\n",
    "* Decision tree learners create biased trees if some classes dominate. It is therefore recommended to balance the dataset prior to fitting with the decision tree."
   ]
  },
  {
   "cell_type": "markdown",
   "metadata": {},
   "source": [
    "# Resources\n",
    "\n",
    "## Other datasets suitable for regressions tasks\n",
    "* [Boston Housing](../data/BostonHousing.csv) - predict the mean value of a homes\n",
    "* [Software Resale](../data/Tayko.csv) - try to determine likely customer spend on software\n",
    "* [Airfare](../data/airfares.csv) - predict the airfare for new routes\n",
    "* [Cancer Death Rates](../data/cancer_reg.csv) - see if there is a set of predictors that can identifier higher death rate due to cancer"
   ]
  }
 ],
 "metadata": {
  "interpreter": {
   "hash": "d4d1e4263499bec80672ea0156c357c1ee493ec2b1c70f0acce89fc37c4a6abe"
  },
  "kernelspec": {
   "display_name": "Python 3.9.7 ('base')",
   "language": "python",
   "name": "python3"
  },
  "language_info": {
   "codemirror_mode": {
    "name": "ipython",
    "version": 3
   },
   "file_extension": ".py",
   "mimetype": "text/x-python",
   "name": "python",
   "nbconvert_exporter": "python",
   "pygments_lexer": "ipython3",
   "version": "3.9.12"
  }
 },
 "nbformat": 4,
 "nbformat_minor": 2
}
