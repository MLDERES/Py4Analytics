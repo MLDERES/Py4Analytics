{
 "cells": [
  {
   "cell_type": "code",
   "execution_count": null,
   "metadata": {},
   "outputs": [],
   "source": [
    "import pandas as pd\n",
    "import matplotlib.pyplot as plt\n",
    "\n",
    "from sklearn.model_selection import train_test_split\n",
    "from sklearn.metrics import accuracy_score\n",
    "from sklearn.naive_bayes import MultinomialNB\n",
    "\n",
    "import sys\n",
    "sys.path.append('..')\n",
    "from src.data import load_data\n",
    "from src.metric import classificationSummary, confusion_matrix\n",
    "\n",
    "# If you prefer a different style, pick from this list\n",
    "# plt.style.available\n",
    "pd.set_option('display.precision',4)\n",
    "plt.style.use('fivethirtyeight')\n",
    "plt.rcParams[\"figure.figsize\"] = (20, 10)"
   ]
  },
  {
   "cell_type": "markdown",
   "metadata": {},
   "source": [
    "# Automobile Accidents <a id='auto-accidents'></a>\n",
    "\n",
    "The file, {download}`accidentsFull.csv <../data/accidentsFull.csv>`, contains information on 42k actual accidents in the US in 2001.  There are three levels of injury provided NO INJURY, INJURY, FATALITY.  Your job, if you choose to accept it, is to use the predictors available to develop a model that can determine whether there was an injury at an accident (INJURY or FATALITY)."
   ]
  },
  {
   "cell_type": "code",
   "execution_count": null,
   "metadata": {},
   "outputs": [],
   "source": [
    "accidents_df = load_data('accidentsFull')\n",
    "accidents_df.head(10)"
   ]
  },
  {
   "cell_type": "code",
   "execution_count": null,
   "metadata": {},
   "outputs": [],
   "source": [
    "# Create dummy variable for the target\n",
    "accidents_df.loc[accidents_df.MAX_SEV_IR>0, \"INJURY\"]='yes'\n",
    "accidents_df.loc[accidents_df.MAX_SEV_IR==0, \"INJURY\"]='no'\n",
    "accidents_df.INJURY"
   ]
  },
  {
   "cell_type": "code",
   "execution_count": null,
   "metadata": {},
   "outputs": [],
   "source": [
    "# Determine naive rule\n",
    "accidents_df.INJURY.value_counts()/len(accidents_df)"
   ]
  },
  {
   "cell_type": "code",
   "execution_count": null,
   "metadata": {},
   "outputs": [],
   "source": [
    "# predictors and outcome\n",
    "predictors = ['HOUR_I_R', 'ALIGN_I', 'WRK_ZONE', 'WKDY_I_R', 'INT_HWY', 'LGTCON_I_R', 'PROFIL_I_R', 'SPD_LIM',\n",
    "              'SUR_COND', 'TRAF_CON_R', 'TRAF_WAY', 'WEATHER_R']\n",
    "outcome = 'INJURY'\n",
    "# get dummies\n",
    "X = pd.get_dummies(accidents_df[predictors])\n",
    "y = accidents_df['INJURY'].astype('category')\n",
    "classes = list(y.cat.categories)\n",
    "# partition the data\n",
    "X_train, X_valid, y_train, y_valid = train_test_split(X, y, test_size=0.40, random_state=1)\n",
    "# fit the model\n",
    "accidents_nb = MultinomialNB(alpha=0.01)\n",
    "accidents_nb.fit(X_train, y_train)\n",
    "\n",
    "# predict probabilities for training and validation sets\n",
    "predProb_train = accidents_nb.predict_proba(X_train)\n",
    "predProb_valid = accidents_nb.predict_proba(X_valid)\n",
    "# predict class memberships for validation data\n",
    "y_train_pred = accidents_nb.predict(X_train)\n",
    "y_valid_pred = accidents_nb.predict(X_valid)\n",
    "\n",
    "# confusion matrix\n",
    "# training\n",
    "print('training data\\n')\n",
    "classificationSummary(y_train, y_train_pred, class_names=classes)\n",
    "# validation \n",
    "print('\\nvalidation data\\n')\n",
    "classificationSummary(y_valid, y_valid_pred, class_names=classes)"
   ]
  },
  {
   "cell_type": "code",
   "execution_count": null,
   "metadata": {},
   "outputs": [],
   "source": [
    "# Overall error and improvement\n",
    "naive_error = 1-accidents_df.INJURY[accidents_df.INJURY=='yes'].count()/len(accidents_df)\n",
    "validation_error = (1-accuracy_score(y_valid,y_valid_pred))\n",
    "print(f'Overall misclassification for naive rule set {naive_error:.4f}')\n",
    "print(f'Overall misclassification for validation set {validation_error:.4f}')\n",
    "print(f'Model improvement: {100*(naive_error-validation_error)/naive_error:.2f}%')"
   ]
  }
 ],
 "metadata": {
  "interpreter": {
   "hash": "d4d1e4263499bec80672ea0156c357c1ee493ec2b1c70f0acce89fc37c4a6abe"
  },
  "kernelspec": {
   "display_name": "Python 3.9.7 ('base')",
   "language": "python",
   "name": "python3"
  },
  "language_info": {
   "codemirror_mode": {
    "name": "ipython",
    "version": 3
   },
   "file_extension": ".py",
   "mimetype": "text/x-python",
   "name": "python",
   "nbconvert_exporter": "python",
   "pygments_lexer": "ipython3",
   "version": "3.9.7"
  }
 },
 "nbformat": 4,
 "nbformat_minor": 2
}
