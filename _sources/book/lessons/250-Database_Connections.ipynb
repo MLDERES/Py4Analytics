{
 "cells": [
  {
   "cell_type": "markdown",
   "metadata": {},
   "source": [
    "# Working with relational database\n",
    "One common source of data, especially in institutions, is a relational database.  Microsoft SQL Server, Teradata, Oracle, Postgres, MySql are all examples of relational databases that are in common use for managing transactional data.  Storing and retrieving data from these servers is a regular task in the life of an analyst because any process that does anything interesting is likely to generate or ingest a lot of data.  In this notebook, we'll look at the main components of a database connection, how to establish a connection and put some data into a simple database and read some data out the database.\n",
    "\n",
    "````{note}\n",
    "SQL (pronounced S-Q-L or see-kwil) is the primary data manipulation language. This means SQL is the language we use to get/save data with a relational database.  You won't need an in-depth understanding of SQL to work through this notebook, but if you want to brush up on some of the basics, this is [a good resources](https://www.w3schools.com/sql/default.asp).\n",
    "````"
   ]
  },
  {
   "cell_type": "markdown",
   "metadata": {},
   "source": [
    "## Definitions\n",
    "Before we start, let's define a few terms generically so that when you see them it becomes more clear what is happening.\n",
    "\n",
    "* **Database Server** - A database server is the hardware which runs database software.  We will often refer to the database server as both the hardware and the software together.\n",
    "* **Database** - A database is a collection of tables, functions, procedures, et al, which allow access to the actual data.  The distinction between the server and the database are an important distinction, as a single *database server* can be hosting many *databases*.\n",
    "* **Connection** - in order to be able to run queries on a particular database, the client software needs to establish a connection to the database server/database combination.\n",
    "* **Cursor** - A database [cursor](https://en.wikipedia.org/wiki/Cursor_(databases)) is a mechanism which allows us to traverse the records in the database.  We can have many different cursors using the same connection to the database.\n",
    "\n",
    "## How to run a query\n",
    "There are a few basic steps in order to execute a query against a relational database.\n",
    "1. Establish a connection to the database\n",
    "2. Using the connection create a cursor upon which to execute one or more SQL commands\n",
    "3. Execute the SQL command using the cursor\n",
    "4. Assuming there is a result, process the results of the query\n",
    "5. The cursor may be reused if there are more commands to run\n",
    "6. When the operation is complete, close the connection\n",
    "\n",
    "We are going to look at a few different approaches for making the connection to the database.  Which one you use will depend largely on the destination RDBMS server.  For instance some of the common protocols include ODBC, OLE-DB, and DBAPI.  We'll take a look at a couple of these here."
   ]
  },
  {
   "cell_type": "markdown",
   "metadata": {},
   "source": [
    "## SQLITE3\n",
    "Arguably one of the simplest relational databases to work with in is the [SQLite3](https://www.sqlite.org/index.html) database.  It is also one of the most used databases in the world.  It's built into every [mobile phone](https://www.sqlite.org/mostdeployed.html) and comes bundled in many applications people use on a regular basis.  It has many of the features of a more robust relational database, though the data is all stored in a single portable file format.\n",
    "\n",
    "Before we make a connection and read from a SQLite database, we need to describe cursors.  A database [cursor](https://en.wikipedia.org/wiki/Cursor_(databases)) is a mechanism which allows us to traverse the records in the database.  You can think of it as a pointer to a record.  We'll use a cursor in the next example to get data from a predefined database.\n",
    "\n",
    "````{caution}\n",
    "If you get an error running the next cell, it's likely that their is a database file already in the `output` folder.  In order to resolve, either delete the file `sample.db` or rename it to something like `sample.db.bak`\n",
    "````"
   ]
  },
  {
   "cell_type": "code",
   "execution_count": 5,
   "metadata": {},
   "outputs": [
    {
     "data": {
      "text/plain": [
       "('pet',)"
      ]
     },
     "execution_count": 5,
     "metadata": {},
     "output_type": "execute_result"
    }
   ],
   "source": [
    "import sqlite3\n",
    "\n",
    "# Make a connection to the database\n",
    "cnn = sqlite3.connect('../output/sample.db')\n",
    "\n",
    "# Next make a cursor that can be used to run a query on the new connection\n",
    "cur = cnn.cursor()\n",
    "\n",
    "# Now we can execute our SQL statement against the database\n",
    "cur.execute('CREATE TABLE pet(name , breed, owner)',)\n",
    "\n",
    "# Now we'll check to see if the data was made.\n",
    "result = cur.execute('SELECT name FROM sqlite_master')\n",
    "result.fetchone()"
   ]
  },
  {
   "cell_type": "markdown",
   "metadata": {},
   "source": [
    "We'll next insert a bit of data into our database to make it a little more interesting.  This is not a lesson on SQLite per se, for that I would point you to the [documentation](https://docs.python.org/3/library/sqlite3.html).  But it should be noted that SQLite requires that transactions which intend to change to the database must be committed.  If you are unfamiliar with transactions, then you can brush up [here](https://en.wikipedia.org/wiki/Database_transaction)."
   ]
  },
  {
   "cell_type": "code",
   "execution_count": null,
   "metadata": {},
   "outputs": [],
   "source": [
    "cur.execute(\"\"\" \n",
    "    INSERT INTO pet VALUES\n",
    "        ('Sparky', 'goldfish', 'Jim'),\n",
    "        ('Buster','terrier','Louise'),\n",
    "        ('T-Rex','iguana','Caleb')\n",
    "\"\"\"\n",
    ")\n",
    "# Make the changes to the database\n",
    "cnn.commit()"
   ]
  },
  {
   "cell_type": "code",
   "execution_count": null,
   "metadata": {},
   "outputs": [
    {
     "data": {
      "text/plain": [
       "[('Sparky', 'goldfish', 'Jim'),\n",
       " ('Buster', 'terrier', 'Louise'),\n",
       " ('T-Rex', 'iguana', 'Caleb'),\n",
       " ('Sparky', 'goldfish', 'Jim'),\n",
       " ('Buster', 'terrier', 'Louise'),\n",
       " ('T-Rex', 'iguana', 'Caleb')]"
      ]
     },
     "execution_count": 3,
     "metadata": {},
     "output_type": "execute_result"
    }
   ],
   "source": [
    "# Now let's get the data back out\n",
    "result = cur.execute('SELECT * FROM pet')\n",
    "result.fetchall()\n",
    "\n",
    "# When we are finally done, we want to be sure to close the connection.\n",
    "cnn.close()"
   ]
  },
  {
   "cell_type": "markdown",
   "metadata": {},
   "source": [
    "## Connecting to other RDBMS\n",
    "Again, this is just an introduction of how to get data to/from a database we are using SQLite as a portable and simple example. All the same principals apply even if you are connecting to a Microsoft SQL, Teradata, Oracle or other DBMS. But the connection mechanism for other databases can vary.  There are a few common libraries we can leverage such as [pyodbc](https://github.com/mkleehammer/pyodbc/wiki).  [ODBC](https://docs.microsoft.com/en-us/sql/odbc/reference/what-is-odbc?view=sql-server-ver16) is a specification for a database API.  Nearly every commercial RDBMS supports connections and transactions using ODBC, meaning that to change between one database and another, the code changes very little - typcially the only thing that needs to change in the connection string and the precise SQL you are trying to execute.  Though that doesn't mean it is easy, connection strings are database platform dependent and can vary widely.  Here's [one source](https://www.connectionstrings.com/) that might help.\n",
    "\n",
    "For SQL server, the connection string looks like:\n",
    "```\n",
    "\"Driver=SQL Server Native Client 18.0;Server=myservername; Database=myDatabase; User Id=myUserName; Password=myPassword;\"\n",
    "```"
   ]
  },
  {
   "cell_type": "markdown",
   "metadata": {},
   "source": [
    "````{note} Environment Variables\n",
    "Environment variables are variables that are stored in the operating system, rather than in our program.  Environment variables provide a way to configure your application without having to edit your source code when the configuration changes. Common config items that are often passed to application through environment variables are third-party API keys, network ports, database servers, and any custom options that your application may need to work properly.  For more information on environment variables [see this fantastic resource](https://www.twilio.com/blog/environment-variables-python).\n",
    "\n",
    "Additionally, the library I used here [`python-dotenv`](https://pypi.org/project/python-dotenv/) can get your environment from a `.env` file in root of your Python project.\n",
    "````"
   ]
  },
  {
   "cell_type": "markdown",
   "metadata": {},
   "source": [
    "### Connecting to MS SQL Server\n",
    "Most of the major RDBMS providers also provide python specific libraries if you know that you wont have to switch between different databases.  For instance, Microsoft provides [pymssql](http://www.pymssql.org/).  Using one of these libraries tends to make things a bit simpler if you just want to be able to do simple queries with a SQL database."
   ]
  },
  {
   "cell_type": "code",
   "execution_count": 3,
   "metadata": {},
   "outputs": [
    {
     "name": "stdout",
     "output_type": "stream",
     "text": [
      "(1, '10, Mack')\n",
      "(2, '101, Highway')\n",
      "(3, '2, Kase')\n",
      "(4, '2Pac')\n",
      "(5, \"4-Tay, Rappin'\")\n",
      "(6, '7, Marc')\n",
      "(7, '9mm, Orange')\n",
      "(8, 'Aaliyah')\n",
      "(9, 'Aames, Angela')\n",
      "(10, 'Aames, Willie')\n"
     ]
    }
   ],
   "source": [
    "from dotenv import load_dotenv\n",
    "from os import getenv\n",
    "import pymssql\n",
    "\n",
    "# This library allows the environment variables to be loaded from a file\n",
    "load_dotenv()\n",
    "\n",
    "# To get this working quickly, you can just replace these variables with your own values\n",
    "svr = getenv(\"PYMSSQL_SERVER\")\n",
    "uid = getenv(\"PYMSSQL_USER\")\n",
    "pwd = getenv(\"PYMSSQL_PASSWORD\")\n",
    "db = getenv(\"PYMSSQL_DATABASE\")\n",
    "\n",
    "\n",
    "# Connect to a MS SQL Server Database\n",
    "cnn = pymssql.connect(server=f'{svr}',user=uid, password=pwd,database=db)\n",
    "\n",
    "# Create the cursor required to run the command\n",
    "cur = cnn.cursor()\n",
    "\n",
    "# Run the SQL command\n",
    "cur.execute('SELECT top 10 * FROM Actor')\n",
    "\n",
    "for row in cur:\n",
    "    print(row)\n"
   ]
  },
  {
   "cell_type": "markdown",
   "metadata": {},
   "source": [
    "### Dynamic Queries\n",
    "As soon as developers understand the value of using Python to connect to SQL the very next step is to put the two things together to create dynamic queries.  For instance look at the following code snippet."
   ]
  },
  {
   "cell_type": "code",
   "execution_count": 11,
   "metadata": {},
   "outputs": [
    {
     "data": {
      "text/plain": [
       "Ellipsis"
      ]
     },
     "execution_count": 11,
     "metadata": {},
     "output_type": "execute_result"
    }
   ],
   "source": [
    "import datetime as dt\n",
    "from dateutil.relativedelta import *\n",
    "\n",
    "last_month = (dt.date.today()+relativedelta(months=-1)).month\n",
    "sql_query = f\"SELECT * FROM sales WHERE month = {last_month}\"\n",
    "\n",
    "# Connect to the database and do something interesting\n",
    "# ..."
   ]
  },
  {
   "cell_type": "markdown",
   "metadata": {},
   "source": [
    "This is super handy, cause now we can get just the data we need like last month's sales and export it to an Excel sheet.  Python of course is terrific at automating this kind of thing and when we combine with SQL, we get some really powerful automation.\n",
    "\n",
    "Even better we could ask a user to give us a date and we can create a query from the response\n",
    "```python\n",
    "...\n",
    "month = input('Which month should I get sales from?')\n",
    "sql_query = \"SELECT * FROM sales WHERE month = \"+month\n",
    "...\n",
    "```\n",
    "Normally we would expect that users wouldn't do anything malicious - they would input a month number and we'd have a perfectly fine query.  But we could run across a user that is less than friendly, they could input something like\n",
    "\n",
    "```sql\n",
    "1; DROP TABLE sales;\n",
    "```\n",
    "The resulting string would be \n",
    "```\n",
    "SELECT * FROM sales WHERE month = 1; DROP TABLE sales;\n",
    "```\n",
    "If this statement were executed by our program, we would inadvertantly end up losing our entire sales table!"
   ]
  },
  {
   "cell_type": "markdown",
   "metadata": {},
   "source": [
    "#### Passing parameters\n",
    "Fortunately there is protection.  We can let the SQL parser handle any issues like this, ensuring that we only get valid values for our parameters and not malicious code like above.  We simply pass parameters to fill in the variable parts of our SQL statement.\n",
    "\n",
    "In the next code snippet, we are going to use another database in the supplied data, `cereals.db`.  This database has nutrition data for a variety of cereals.  We'll start by getting the columns that are in the database then we'll move on to a query using parameters."
   ]
  },
  {
   "cell_type": "code",
   "execution_count": null,
   "metadata": {},
   "outputs": [
    {
     "name": "stdout",
     "output_type": "stream",
     "text": [
      "['index', 'name', 'mfr', 'type', 'calories', 'protein', 'fat', 'sodium', 'fiber', 'carbo', 'sugars', 'potass', 'vitamins', 'shelf', 'weight', 'cups', 'rating']\n"
     ]
    }
   ],
   "source": [
    "# Connect to a sample database\n",
    "cnn = sqlite3.connect('../data/cereals.db')\n",
    "cnn.row_factory = sqlite3.Row\n",
    "cur = cnn.cursor()\n",
    "cur.execute('select * from cereals')\n",
    "row = cur.fetchone()\n",
    "print(row.keys())\n",
    "cnn.close()"
   ]
  },
  {
   "cell_type": "markdown",
   "metadata": {},
   "source": [
    "Now that we know the kind of data we have in the table, we can go ahead with build a query where the number of calories are limited."
   ]
  },
  {
   "cell_type": "code",
   "execution_count": 15,
   "metadata": {},
   "outputs": [
    {
     "name": "stdout",
     "output_type": "stream",
     "text": [
      "Low calorie cereals\n",
      "----------\n",
      "100%_Bran: 70\n",
      "All-Bran: 70\n",
      "All-Bran_with_Extra_Fiber: 50\n",
      "Puffed_Rice: 50\n",
      "Puffed_Wheat: 50\n",
      "\n",
      "High calorie cereals\n",
      "----------\n",
      "Muesli_Raisins,_Dates,_&_Almonds: 150\n",
      "Muesli_Raisins,_Peaches,_&_Pecans: 150\n",
      "Mueslix_Crispy_Blend: 160\n"
     ]
    }
   ],
   "source": [
    "cnn = sqlite3.connect('../data/cereals.db')\n",
    "cur = cnn.cursor()\n",
    "\n",
    "# Set the max_calories to be considered a low-calorie option\n",
    "print(\"Low calorie cereals\")\n",
    "print(\"-\"*10)\n",
    "max_calories = 75\n",
    "cur.execute(\"SELECT name,calories FROM cereals WHERE calories <= ?\",[max_calories])\n",
    "for row in cur.fetchall():\n",
    "    print(f'{row[0]}: {row[1]}')\n",
    "\n",
    "\n",
    "# Now, using the same query we can ask for high-calorie cereals\n",
    "print()\n",
    "print(\"High calorie cereals\")\n",
    "print(\"-\"*10)\n",
    "max_calories = 150\n",
    "cur.execute(\"SELECT name,calories FROM cereals WHERE calories >= ?\",[max_calories])\n",
    "for row in cur.fetchall():\n",
    "    print(f'{row[0]}: {row[1]}')\n",
    "cnn.close()"
   ]
  },
  {
   "cell_type": "markdown",
   "metadata": {},
   "source": [
    "## Using pandas\n",
    "Using Python, we can depend on one of our favorite data management utility libraries, `pandas` to get and put data into a SQLite database.  This is great news, because we already know how to do alot of different tasks with our utility library pandas."
   ]
  },
  {
   "cell_type": "code",
   "execution_count": null,
   "metadata": {},
   "outputs": [
    {
     "data": {
      "text/html": [
       "<div>\n",
       "<style scoped>\n",
       "    .dataframe tbody tr th:only-of-type {\n",
       "        vertical-align: middle;\n",
       "    }\n",
       "\n",
       "    .dataframe tbody tr th {\n",
       "        vertical-align: top;\n",
       "    }\n",
       "\n",
       "    .dataframe thead th {\n",
       "        text-align: right;\n",
       "    }\n",
       "</style>\n",
       "<table border=\"1\" class=\"dataframe\">\n",
       "  <thead>\n",
       "    <tr style=\"text-align: right;\">\n",
       "      <th></th>\n",
       "      <th>Configuration</th>\n",
       "      <th>Customer Postcode</th>\n",
       "      <th>Store Postcode</th>\n",
       "      <th>Retail Price</th>\n",
       "      <th>Screen Size (Inches)</th>\n",
       "      <th>Battery Life (Hours)</th>\n",
       "      <th>RAM (GB)</th>\n",
       "      <th>Processor Speeds (GHz)</th>\n",
       "      <th>Integrated Wireless?</th>\n",
       "      <th>HD Size (GB)</th>\n",
       "      <th>Bundled Applications?</th>\n",
       "      <th>customer X</th>\n",
       "      <th>customer Y</th>\n",
       "      <th>store X</th>\n",
       "      <th>store Y</th>\n",
       "      <th>sale_date</th>\n",
       "    </tr>\n",
       "    <tr>\n",
       "      <th>sale_id</th>\n",
       "      <th></th>\n",
       "      <th></th>\n",
       "      <th></th>\n",
       "      <th></th>\n",
       "      <th></th>\n",
       "      <th></th>\n",
       "      <th></th>\n",
       "      <th></th>\n",
       "      <th></th>\n",
       "      <th></th>\n",
       "      <th></th>\n",
       "      <th></th>\n",
       "      <th></th>\n",
       "      <th></th>\n",
       "      <th></th>\n",
       "      <th></th>\n",
       "    </tr>\n",
       "  </thead>\n",
       "  <tbody>\n",
       "    <tr>\n",
       "      <th>0</th>\n",
       "      <td>163</td>\n",
       "      <td>EC4V 5BH</td>\n",
       "      <td>SE1 2BN</td>\n",
       "      <td>455.0</td>\n",
       "      <td>15</td>\n",
       "      <td>5</td>\n",
       "      <td>1</td>\n",
       "      <td>2.0</td>\n",
       "      <td>Yes</td>\n",
       "      <td>80</td>\n",
       "      <td>Yes</td>\n",
       "      <td>532041</td>\n",
       "      <td>180995</td>\n",
       "      <td>534057.0</td>\n",
       "      <td>179682.0</td>\n",
       "      <td>2008-01-01 00:01:00</td>\n",
       "    </tr>\n",
       "    <tr>\n",
       "      <th>1</th>\n",
       "      <td>320</td>\n",
       "      <td>SW4 0JL</td>\n",
       "      <td>SW12 9HD</td>\n",
       "      <td>545.0</td>\n",
       "      <td>15</td>\n",
       "      <td>6</td>\n",
       "      <td>1</td>\n",
       "      <td>2.0</td>\n",
       "      <td>No</td>\n",
       "      <td>300</td>\n",
       "      <td>No</td>\n",
       "      <td>529240</td>\n",
       "      <td>175537</td>\n",
       "      <td>528739.0</td>\n",
       "      <td>173080.0</td>\n",
       "      <td>2008-01-01 00:02:00</td>\n",
       "    </tr>\n",
       "    <tr>\n",
       "      <th>2</th>\n",
       "      <td>23</td>\n",
       "      <td>EC3V 1LR</td>\n",
       "      <td>E2 0RY</td>\n",
       "      <td>515.0</td>\n",
       "      <td>15</td>\n",
       "      <td>4</td>\n",
       "      <td>1</td>\n",
       "      <td>2.0</td>\n",
       "      <td>Yes</td>\n",
       "      <td>300</td>\n",
       "      <td>Yes</td>\n",
       "      <td>533095</td>\n",
       "      <td>181047</td>\n",
       "      <td>535652.0</td>\n",
       "      <td>182961.0</td>\n",
       "      <td>2008-01-01 00:04:00</td>\n",
       "    </tr>\n",
       "    <tr>\n",
       "      <th>3</th>\n",
       "      <td>169</td>\n",
       "      <td>SW1P 3AU</td>\n",
       "      <td>SE1 2BN</td>\n",
       "      <td>395.0</td>\n",
       "      <td>15</td>\n",
       "      <td>5</td>\n",
       "      <td>1</td>\n",
       "      <td>2.0</td>\n",
       "      <td>No</td>\n",
       "      <td>40</td>\n",
       "      <td>Yes</td>\n",
       "      <td>529902</td>\n",
       "      <td>179641</td>\n",
       "      <td>534057.0</td>\n",
       "      <td>179682.0</td>\n",
       "      <td>2008-01-01 00:04:00</td>\n",
       "    </tr>\n",
       "    <tr>\n",
       "      <th>4</th>\n",
       "      <td>365</td>\n",
       "      <td>EC4V 4EG</td>\n",
       "      <td>SW1V 4QQ</td>\n",
       "      <td>585.0</td>\n",
       "      <td>15</td>\n",
       "      <td>6</td>\n",
       "      <td>2</td>\n",
       "      <td>2.0</td>\n",
       "      <td>No</td>\n",
       "      <td>120</td>\n",
       "      <td>Yes</td>\n",
       "      <td>531684</td>\n",
       "      <td>180948</td>\n",
       "      <td>528924.0</td>\n",
       "      <td>178440.0</td>\n",
       "      <td>2008-01-01 00:06:00</td>\n",
       "    </tr>\n",
       "    <tr>\n",
       "      <th>...</th>\n",
       "      <td>...</td>\n",
       "      <td>...</td>\n",
       "      <td>...</td>\n",
       "      <td>...</td>\n",
       "      <td>...</td>\n",
       "      <td>...</td>\n",
       "      <td>...</td>\n",
       "      <td>...</td>\n",
       "      <td>...</td>\n",
       "      <td>...</td>\n",
       "      <td>...</td>\n",
       "      <td>...</td>\n",
       "      <td>...</td>\n",
       "      <td>...</td>\n",
       "      <td>...</td>\n",
       "      <td>...</td>\n",
       "    </tr>\n",
       "    <tr>\n",
       "      <th>297567</th>\n",
       "      <td>703</td>\n",
       "      <td>SE1 2UP</td>\n",
       "      <td>SW1P 3AU</td>\n",
       "      <td>NaN</td>\n",
       "      <td>17</td>\n",
       "      <td>5</td>\n",
       "      <td>4</td>\n",
       "      <td>2.0</td>\n",
       "      <td>No</td>\n",
       "      <td>300</td>\n",
       "      <td>Yes</td>\n",
       "      <td>533595</td>\n",
       "      <td>180025</td>\n",
       "      <td>529902.0</td>\n",
       "      <td>179641.0</td>\n",
       "      <td>2008-12-30 23:55:00</td>\n",
       "    </tr>\n",
       "    <tr>\n",
       "      <th>297568</th>\n",
       "      <td>731</td>\n",
       "      <td>N13 4JD</td>\n",
       "      <td>N3 1DH</td>\n",
       "      <td>392.0</td>\n",
       "      <td>17</td>\n",
       "      <td>6</td>\n",
       "      <td>1</td>\n",
       "      <td>1.5</td>\n",
       "      <td>No</td>\n",
       "      <td>80</td>\n",
       "      <td>Yes</td>\n",
       "      <td>531165</td>\n",
       "      <td>192973</td>\n",
       "      <td>525109.0</td>\n",
       "      <td>190628.0</td>\n",
       "      <td>2008-12-30 23:55:00</td>\n",
       "    </tr>\n",
       "    <tr>\n",
       "      <th>297569</th>\n",
       "      <td>375</td>\n",
       "      <td>SE25 6EF</td>\n",
       "      <td>CR7 8LE</td>\n",
       "      <td>441.0</td>\n",
       "      <td>15</td>\n",
       "      <td>6</td>\n",
       "      <td>2</td>\n",
       "      <td>2.4</td>\n",
       "      <td>Yes</td>\n",
       "      <td>300</td>\n",
       "      <td>Yes</td>\n",
       "      <td>534086</td>\n",
       "      <td>168521</td>\n",
       "      <td>532714.0</td>\n",
       "      <td>168302.0</td>\n",
       "      <td>2008-12-30 23:57:00</td>\n",
       "    </tr>\n",
       "    <tr>\n",
       "      <th>297570</th>\n",
       "      <td>101</td>\n",
       "      <td>SW8 1LA</td>\n",
       "      <td>SW1P 3AU</td>\n",
       "      <td>406.0</td>\n",
       "      <td>15</td>\n",
       "      <td>4</td>\n",
       "      <td>4</td>\n",
       "      <td>1.5</td>\n",
       "      <td>Yes</td>\n",
       "      <td>120</td>\n",
       "      <td>Yes</td>\n",
       "      <td>530716</td>\n",
       "      <td>177488</td>\n",
       "      <td>529902.0</td>\n",
       "      <td>179641.0</td>\n",
       "      <td>2008-12-30 23:58:00</td>\n",
       "    </tr>\n",
       "    <tr>\n",
       "      <th>297571</th>\n",
       "      <td>343</td>\n",
       "      <td>SE16 4QZ</td>\n",
       "      <td>SE8 3JD</td>\n",
       "      <td>530.0</td>\n",
       "      <td>15</td>\n",
       "      <td>6</td>\n",
       "      <td>2</td>\n",
       "      <td>1.5</td>\n",
       "      <td>Yes</td>\n",
       "      <td>300</td>\n",
       "      <td>Yes</td>\n",
       "      <td>534348</td>\n",
       "      <td>179162</td>\n",
       "      <td>537175.0</td>\n",
       "      <td>177885.0</td>\n",
       "      <td>2008-12-30 23:58:00</td>\n",
       "    </tr>\n",
       "  </tbody>\n",
       "</table>\n",
       "<p>297572 rows × 16 columns</p>\n",
       "</div>"
      ],
      "text/plain": [
       "         Configuration Customer Postcode Store Postcode  Retail Price  \\\n",
       "sale_id                                                                 \n",
       "0                  163          EC4V 5BH        SE1 2BN         455.0   \n",
       "1                  320           SW4 0JL       SW12 9HD         545.0   \n",
       "2                   23          EC3V 1LR         E2 0RY         515.0   \n",
       "3                  169          SW1P 3AU        SE1 2BN         395.0   \n",
       "4                  365          EC4V 4EG       SW1V 4QQ         585.0   \n",
       "...                ...               ...            ...           ...   \n",
       "297567             703           SE1 2UP       SW1P 3AU           NaN   \n",
       "297568             731           N13 4JD         N3 1DH         392.0   \n",
       "297569             375          SE25 6EF        CR7 8LE         441.0   \n",
       "297570             101           SW8 1LA       SW1P 3AU         406.0   \n",
       "297571             343          SE16 4QZ        SE8 3JD         530.0   \n",
       "\n",
       "         Screen Size (Inches)  Battery Life (Hours)  RAM (GB)  \\\n",
       "sale_id                                                         \n",
       "0                          15                     5         1   \n",
       "1                          15                     6         1   \n",
       "2                          15                     4         1   \n",
       "3                          15                     5         1   \n",
       "4                          15                     6         2   \n",
       "...                       ...                   ...       ...   \n",
       "297567                     17                     5         4   \n",
       "297568                     17                     6         1   \n",
       "297569                     15                     6         2   \n",
       "297570                     15                     4         4   \n",
       "297571                     15                     6         2   \n",
       "\n",
       "         Processor Speeds (GHz) Integrated Wireless?  HD Size (GB)  \\\n",
       "sale_id                                                              \n",
       "0                           2.0                  Yes            80   \n",
       "1                           2.0                   No           300   \n",
       "2                           2.0                  Yes           300   \n",
       "3                           2.0                   No            40   \n",
       "4                           2.0                   No           120   \n",
       "...                         ...                  ...           ...   \n",
       "297567                      2.0                   No           300   \n",
       "297568                      1.5                   No            80   \n",
       "297569                      2.4                  Yes           300   \n",
       "297570                      1.5                  Yes           120   \n",
       "297571                      1.5                  Yes           300   \n",
       "\n",
       "        Bundled Applications?  customer X  customer Y   store X   store Y  \\\n",
       "sale_id                                                                     \n",
       "0                         Yes      532041      180995  534057.0  179682.0   \n",
       "1                          No      529240      175537  528739.0  173080.0   \n",
       "2                         Yes      533095      181047  535652.0  182961.0   \n",
       "3                         Yes      529902      179641  534057.0  179682.0   \n",
       "4                         Yes      531684      180948  528924.0  178440.0   \n",
       "...                       ...         ...         ...       ...       ...   \n",
       "297567                    Yes      533595      180025  529902.0  179641.0   \n",
       "297568                    Yes      531165      192973  525109.0  190628.0   \n",
       "297569                    Yes      534086      168521  532714.0  168302.0   \n",
       "297570                    Yes      530716      177488  529902.0  179641.0   \n",
       "297571                    Yes      534348      179162  537175.0  177885.0   \n",
       "\n",
       "                   sale_date  \n",
       "sale_id                       \n",
       "0        2008-01-01 00:01:00  \n",
       "1        2008-01-01 00:02:00  \n",
       "2        2008-01-01 00:04:00  \n",
       "3        2008-01-01 00:04:00  \n",
       "4        2008-01-01 00:06:00  \n",
       "...                      ...  \n",
       "297567   2008-12-30 23:55:00  \n",
       "297568   2008-12-30 23:55:00  \n",
       "297569   2008-12-30 23:57:00  \n",
       "297570   2008-12-30 23:58:00  \n",
       "297571   2008-12-30 23:58:00  \n",
       "\n",
       "[297572 rows x 16 columns]"
      ]
     },
     "execution_count": 7,
     "metadata": {},
     "output_type": "execute_result"
    }
   ],
   "source": [
    "import pandas as pd\n",
    "\n",
    "conn = sqlite3.connect('../data/laptopsales.db')\n",
    "pd.read_sql('SELECT * FROM sales', conn,index_col='sale_id')"
   ]
  },
  {
   "cell_type": "markdown",
   "metadata": {},
   "source": [
    "Likewise we can do some work with our dataframe and put it into a database with the `pd.to_sql()` function."
   ]
  },
  {
   "cell_type": "code",
   "execution_count": null,
   "metadata": {},
   "outputs": [
    {
     "data": {
      "text/html": [
       "<div>\n",
       "<style scoped>\n",
       "    .dataframe tbody tr th:only-of-type {\n",
       "        vertical-align: middle;\n",
       "    }\n",
       "\n",
       "    .dataframe tbody tr th {\n",
       "        vertical-align: top;\n",
       "    }\n",
       "\n",
       "    .dataframe thead th {\n",
       "        text-align: right;\n",
       "    }\n",
       "</style>\n",
       "<table border=\"1\" class=\"dataframe\">\n",
       "  <thead>\n",
       "    <tr style=\"text-align: right;\">\n",
       "      <th></th>\n",
       "      <th>Name</th>\n",
       "      <th>Phone</th>\n",
       "    </tr>\n",
       "  </thead>\n",
       "  <tbody>\n",
       "    <tr>\n",
       "      <th>0</th>\n",
       "      <td>Alice</td>\n",
       "      <td>555-555-1234</td>\n",
       "    </tr>\n",
       "    <tr>\n",
       "      <th>1</th>\n",
       "      <td>Bob</td>\n",
       "      <td>123-456-7890</td>\n",
       "    </tr>\n",
       "    <tr>\n",
       "      <th>2</th>\n",
       "      <td>Charlie</td>\n",
       "      <td>555-867-5309</td>\n",
       "    </tr>\n",
       "  </tbody>\n",
       "</table>\n",
       "</div>"
      ],
      "text/plain": [
       "      Name         Phone\n",
       "0    Alice  555-555-1234\n",
       "1      Bob  123-456-7890\n",
       "2  Charlie  555-867-5309"
      ]
     },
     "execution_count": 8,
     "metadata": {},
     "output_type": "execute_result"
    }
   ],
   "source": [
    "# Create a pandas dataframe\n",
    "phone_book_df = pd.DataFrame({\n",
    "    'Name':['Alice','Bob','Charlie'],\n",
    "    'Phone':['555-555-1234','123-456-7890','555-867-5309']\n",
    "    })\n",
    "phone_book_df"
   ]
  },
  {
   "cell_type": "code",
   "execution_count": null,
   "metadata": {},
   "outputs": [
    {
     "data": {
      "text/plain": [
       "3"
      ]
     },
     "execution_count": 9,
     "metadata": {},
     "output_type": "execute_result"
    }
   ],
   "source": [
    "# Create a connection to the sqlite3 database\n",
    "conn = sqlite3.connect('../output/phone_book.db')\n",
    "# This says to create a table named `phone_numbers` in the phone_book database.\n",
    "# If the db or table is already there, replace it\n",
    "# Don't store the index value in the db\n",
    "phone_book_df.to_sql('phone_numbers',conn,if_exists='replace',index=False)"
   ]
  },
  {
   "cell_type": "code",
   "execution_count": null,
   "metadata": {},
   "outputs": [
    {
     "data": {
      "text/html": [
       "<div>\n",
       "<style scoped>\n",
       "    .dataframe tbody tr th:only-of-type {\n",
       "        vertical-align: middle;\n",
       "    }\n",
       "\n",
       "    .dataframe tbody tr th {\n",
       "        vertical-align: top;\n",
       "    }\n",
       "\n",
       "    .dataframe thead th {\n",
       "        text-align: right;\n",
       "    }\n",
       "</style>\n",
       "<table border=\"1\" class=\"dataframe\">\n",
       "  <thead>\n",
       "    <tr style=\"text-align: right;\">\n",
       "      <th></th>\n",
       "      <th>Name</th>\n",
       "      <th>Phone</th>\n",
       "    </tr>\n",
       "  </thead>\n",
       "  <tbody>\n",
       "    <tr>\n",
       "      <th>0</th>\n",
       "      <td>Alice</td>\n",
       "      <td>555-555-1234</td>\n",
       "    </tr>\n",
       "    <tr>\n",
       "      <th>1</th>\n",
       "      <td>Bob</td>\n",
       "      <td>123-456-7890</td>\n",
       "    </tr>\n",
       "    <tr>\n",
       "      <th>2</th>\n",
       "      <td>Charlie</td>\n",
       "      <td>555-867-5309</td>\n",
       "    </tr>\n",
       "  </tbody>\n",
       "</table>\n",
       "</div>"
      ],
      "text/plain": [
       "      Name         Phone\n",
       "0    Alice  555-555-1234\n",
       "1      Bob  123-456-7890\n",
       "2  Charlie  555-867-5309"
      ]
     },
     "execution_count": 10,
     "metadata": {},
     "output_type": "execute_result"
    }
   ],
   "source": [
    "pd.read_sql('SELECT * FROM phone_numbers',conn)"
   ]
  },
  {
   "cell_type": "markdown",
   "metadata": {},
   "source": [
    "Being able to connect to a SQL database and run queries from Python is super handy and really useful. Combining the simplicity of Python and the power of a relational database can make for some very compelling and useful automation of common tasks.  Using `pandas` is especially handy because once we create the connection to the database - the rest of the logic flows without concerning about specific SQL syntax.  So, we could just as easily execute the last few operations with a MS SQL server connection, a SQLite connection or on a CSV file."
   ]
  }
 ],
 "metadata": {
  "kernelspec": {
   "display_name": "Python 3.9.12 ('base')",
   "language": "python",
   "name": "python3"
  },
  "language_info": {
   "codemirror_mode": {
    "name": "ipython",
    "version": 3
   },
   "file_extension": ".py",
   "mimetype": "text/x-python",
   "name": "python",
   "nbconvert_exporter": "python",
   "pygments_lexer": "ipython3",
   "version": "3.9.12"
  },
  "orig_nbformat": 4,
  "vscode": {
   "interpreter": {
    "hash": "d4d1e4263499bec80672ea0156c357c1ee493ec2b1c70f0acce89fc37c4a6abe"
   }
  }
 },
 "nbformat": 4,
 "nbformat_minor": 2
}
