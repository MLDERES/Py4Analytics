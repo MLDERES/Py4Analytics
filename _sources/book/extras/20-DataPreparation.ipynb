{
 "cells": [
  {
   "cell_type": "markdown",
   "metadata": {},
   "source": [
    "## Data Preparation Tasks\n",
    "After we have seen how our data looks, next we need to spend some time preparing our data for use.  This means we need to ensure that the data types are correct, that we have dealt with \"dirty\" data (missing fields, outliers, unary values), and possibly creating new factors which can enhance predictive models or better explain the data we have. "
   ]
  },
  {
   "cell_type": "code",
   "execution_count": null,
   "metadata": {},
   "outputs": [],
   "source": [
    "# Import relevant libraries\n",
    "import pandas as pd\n",
    "import matplotlib.pyplot as plt\n",
    "import seaborn as sns\n",
    "import sys\n",
    "sys.path.append('..')\n",
    "from src.data import load_data\n",
    "\n",
    "# If you prefer a different style, pick from this list\n",
    "# plt.style.available\n",
    "pd.set_option('display.precision',4)\n",
    "plt.style.use('fivethirtyeight')\n",
    "plt.rcParams[\"figure.figsize\"] = (20, 10)"
   ]
  },
  {
   "cell_type": "markdown",
   "metadata": {},
   "source": [
    "Before we jump in, we'll use the [cereal](DataDictionary.ipynb#cereal) dataset for some of this example."
   ]
  },
  {
   "cell_type": "code",
   "execution_count": null,
   "metadata": {},
   "outputs": [],
   "source": [
    "dirty_cereal_df = load_data('Cereals_dirty')\n",
    "dirty_cereal_df"
   ]
  },
  {
   "cell_type": "code",
   "execution_count": null,
   "metadata": {},
   "outputs": [],
   "source": [
    "# This will give us some information, but a more exhaustive rendention maybe in order\n",
    "dirty_cereal_df.info()\n",
    "\n",
    "# TODO: Explore the dirty cereal data, dataframe"
   ]
  },
  {
   "cell_type": "markdown",
   "metadata": {},
   "source": [
    "### Missing data\n",
    "\n",
    "Missing data can be fields that are represented as NULL, Na, NaN (not a number), blanks or it could even just plain wrong (like a number where you expect a string or a string where you expect a number).  All of these situations can be handled similarly.  Fortunately, the `pandas` library gives us some tools to deal with them."
   ]
  },
  {
   "cell_type": "code",
   "execution_count": null,
   "metadata": {},
   "outputs": [],
   "source": [
    "dirty_cereal_df.head(10)"
   ]
  },
  {
   "cell_type": "markdown",
   "metadata": {},
   "source": [
    "Right away we can see in the first line that there is a missing value.  Let's see if we find any more"
   ]
  },
  {
   "cell_type": "code",
   "execution_count": null,
   "metadata": {},
   "outputs": [],
   "source": [
    "# This statement counts up the number of null/na values in every column\n",
    "dirty_cereal_df.isnull().sum()"
   ]
  },
  {
   "cell_type": "code",
   "execution_count": null,
   "metadata": {},
   "outputs": [],
   "source": [
    "# And since we know a bit about visualization, \n",
    "dirty_cereal_df.isnull().sum().plot(kind='bar')"
   ]
  },
  {
   "cell_type": "code",
   "execution_count": null,
   "metadata": {},
   "outputs": [],
   "source": [
    "# So it seems we have some null or NaN fields, how should we proceed\n",
    "# We could replace the values\n",
    "# new_cereal_df = dirty_cereal_df.copy(deep=True)\n",
    "# Find all the fields with an na or null and replace with 0\n",
    "# Notice .loc allows us to access a set of rows/columns by label or boolean\n",
    "dirty_cereal_df.loc[dirty_cereal_df.carbo.isna(), 'carbo'] = 0\n",
    "# We could also replace with the mean/median\n",
    "dirty_cereal_df.loc[dirty_cereal_df.carbo.isna(), 'carbo'] = dirty_cereal_df['carbo'].mean()\n",
    "dirty_cereal_df.isnull().sum().plot(kind='bar')"
   ]
  },
  {
   "cell_type": "markdown",
   "metadata": {},
   "source": [
    "## Fixing inappropriate values\n",
    "Let's check out our data and see if we can find any outliers or maybe inappropriate values.  We'll start by checking the datatype of each column"
   ]
  },
  {
   "cell_type": "code",
   "execution_count": null,
   "metadata": {},
   "outputs": [],
   "source": [
    "dirty_cereal_df.dtypes"
   ]
  },
  {
   "cell_type": "code",
   "execution_count": null,
   "metadata": {},
   "outputs": [],
   "source": [
    "# Let's get a box plot for a numerical column\n",
    "\n",
    "fig = plt.figure(figsize=(10,7))\n",
    "plt.boxplot(dirty_cereal_df['calories'], labels=['calories'])\n",
    "#plt.boxplot(dirty_cereal_df[['calories','sugars']], labels='calories'])\n",
    "plt.title('calories')\n",
    "plt.show()"
   ]
  },
  {
   "cell_type": "markdown",
   "metadata": {},
   "source": [
    "Seaborn allows us to do a similar chart"
   ]
  },
  {
   "cell_type": "code",
   "execution_count": null,
   "metadata": {},
   "outputs": [],
   "source": [
    "# Also we can do this with seaborn\n",
    "# Notice the [[]] indexing method, this says return the result as a dataframe rather than a series\n",
    "g = sns.boxplot(data=dirty_cereal_df[['sugars','mfr']],x='mfr',y='sugars');\n",
    "g.set_title('sugars by manufacturer')"
   ]
  },
  {
   "cell_type": "markdown",
   "metadata": {},
   "source": [
    "From the first box plot, we can see that that have an issue with calories (there is a negative value).  You might want to check the other columns or maybe just do a visual scan of the columns to see what else might be a problem.\n",
    "\n",
    "Also we can see that we have Post and Kellogg as manufacturers.  I'm guessing this is a mistake since all the others only have a single letter representing the brand.  We may want to address this as well\n",
    "\n",
    "The next step is to figure out what to do with this data.  Usually we don't want to eliminate it from the source data and it might be helpful in our actual dataset - so we can simply filter out the bad rows or we can replace them."
   ]
  },
  {
   "cell_type": "code",
   "execution_count": null,
   "metadata": {},
   "outputs": [],
   "source": [
    "# TODO: Replace the calories that are negative with the positive value\n",
    "dirty_cereal_df['calories'] = dirty_cereal_df['calories'].abs()"
   ]
  },
  {
   "cell_type": "code",
   "execution_count": null,
   "metadata": {},
   "outputs": [],
   "source": [
    "# Let's check to see if any of the other numeric fields are suspect\n",
    "dirty_cereal_df.describe()"
   ]
  },
  {
   "cell_type": "code",
   "execution_count": null,
   "metadata": {},
   "outputs": [],
   "source": [
    "# let's take a look at the non-numeric columns\n",
    "dirty_cereal_df.select_dtypes(exclude='number').columns"
   ]
  },
  {
   "cell_type": "code",
   "execution_count": null,
   "metadata": {},
   "outputs": [],
   "source": [
    "[dirty_cereal_df[c].value_counts() for c in dirty_cereal_df.select_dtypes(exclude='number').columns]"
   ]
  },
  {
   "cell_type": "code",
   "execution_count": null,
   "metadata": {},
   "outputs": [],
   "source": [
    "# And maybe most interesting is to look at these in a bar chart\n",
    "fig, axs = plt.subplots(ncols=3)\n",
    "\n",
    "sns.countplot(x='mfr', data=dirty_cereal_df, ax=axs[0])\n",
    "sns.countplot(x='foodtype', data=dirty_cereal_df, ax=axs[1])\n",
    "sns.countplot(x='type', data=dirty_cereal_df, ax=axs[2])\n"
   ]
  },
  {
   "cell_type": "code",
   "execution_count": null,
   "metadata": {},
   "outputs": [],
   "source": [
    "# Since we realize that `foodtype` is just the same value we can drop the column from our dataset\n",
    "dirty_cereal_df = dirty_cereal_df.drop(columns=['foodtype'])\n",
    "dirty_cereal_df"
   ]
  },
  {
   "cell_type": "markdown",
   "metadata": {},
   "source": [
    "#### Fixing inappropriate values - Your turn\n",
    "---------\n",
    "There are several other issues in this dataset like \n",
    "- Sugars and potass also have 0/null values\n",
    "- there is a calorie number < 0\n",
    "- the manufacturer codes include K, G, P etc, but also Post and Kellogg how to deal?\n",
    "- some rows have weight = 0 or na, should we drop them? or replace them with mean values?"
   ]
  },
  {
   "cell_type": "code",
   "execution_count": null,
   "metadata": {},
   "outputs": [],
   "source": [
    "# TODO: What about sugars and potass these have 0/null values\n",
    "# TODO: Decide what to do about calorie number <= 0\n",
    "# TODO: Deal with Post, Kellogg\n",
    "dirty_cereal_df.loc[dirty_cereal_df['mfr']=='Post','mfr']='P'\n",
    "dirty_cereal_df.loc[dirty_cereal_df['mfr']=='Kellogg','mfr']='K'\n",
    "dirty_cereal_df['mfr']=dirty_cereal_df.mfr.str.upper()\n",
    "# TODO: Deal with missing weight"
   ]
  },
  {
   "cell_type": "markdown",
   "metadata": {},
   "source": [
    "## Data Preparation\n",
    "Occassionally we find it helpful to adjust our data to make it easier to work with or make it more suitable for different machine learning models.  While we will look at a few more methods as we deal with specific algorithms, here are some of the most common steps we may want to take as we continue our EDA"
   ]
  },
  {
   "cell_type": "markdown",
   "metadata": {},
   "source": [
    "### Normalization & Standardization\n",
    "Often when we are dealing with data, the units are not on the same scale.  For instance in this case, `calories` is a range from 50 to 160 whereas `weight` ranges from 0.5 to 1.5.  Most of our mathematical algorithms used in machine learning would give `calories` an inappropriately large influence on the outcome.  So we need to adjust for both of these to be on a similar scale.  This is where standardization and normalization comes in.  We can use a min/max normalization which will make each category on a scale from 0-1\n",
    "\n",
    "We do this with the following formula\n",
    "$$x_{scaled} = \\frac{x-min(x)}{max(x)-min(x)}$$\n",
    "\n",
    "_The terms normalization and standardization are sometimes used interchangeably, but they usually refer to different things. Normalization usually means to scale a variable to have a values between a desired range (like [-1,1] or [0,1]) while standardization transforms data to have a mean of zero and a standard deviation of 1. Advantage of Normalization over Standardization is that we are not bound to any specific distribution. In addition to that Normalization also suppresses the effect of outliers to some extent._\n",
    "\n",
    "Normalization is a good technique to use when you do not know the distribution of your data or when you know the distribution is not Gaussian (a bell curve). Normalization is useful when your data has varying scales and the algorithm you are using does not make assumptions about the distribution of your data, such as k-nearest neighbors and artificial neural networks"
   ]
  },
  {
   "cell_type": "code",
   "execution_count": null,
   "metadata": {},
   "outputs": [],
   "source": [
    "dirty_cereal_df[['calories','weight']].describe()"
   ]
  },
  {
   "cell_type": "code",
   "execution_count": null,
   "metadata": {},
   "outputs": [],
   "source": [
    "def normalize(data, column):\n",
    "    new_column_name = f'{column}_NORM'\n",
    "    data[new_column_name]=(data[column]-data[column].min())/(data[column].max()-data[column].min())\n",
    "    return data\n",
    "\n",
    "# Apply a normalization to our dataset\n",
    "normalize(dirty_cereal_df,'calories')\n",
    "normalize(dirty_cereal_df,'weight')\n",
    "fig, axs = plt.subplots(ncols=2)\n",
    "\n",
    "axs[0].set_title('Original')\n",
    "axs[1].set_title('Scaled')\n",
    "sns.scatterplot(data=dirty_cereal_df, x='calories', y='weight', ax=axs[0])\n",
    "sns.scatterplot(data=dirty_cereal_df, x='calories_NORM', y='weight_NORM', ax=axs[1])"
   ]
  },
  {
   "cell_type": "markdown",
   "metadata": {},
   "source": [
    "In statistics, standardization is the process of putting different variables on the same scale. This process allows you to compare scores between different types of variables. Typically, to standardize variables, you calculate the mean and standard deviation for a variable. Then, for each observed value of the variable, you subtract the mean and divide by the standard deviation.\n",
    "\n",
    "This process produces standard scores that represent the number of standard deviations above or below the mean that a specific observation falls. For instance, a standardized value of 2 indicates that the observation falls 2 standard deviations above the mean. This interpretation is true regardless of the type of variable that you standardize.\n",
    "We use the following formula to Standardize a Variable value\n",
    "\n",
    "$$z=\\frac{(X-\\mu)}{\\sigma}$$\n",
    "\n",
    "Standardization works best when the variable follows a Normal distribution due to the fact that in a Normal Distribution 68% of data lies within 1 standard deviation from the mean, 95% within 2 standard deviation and 99.7% within 3 standard devations from the mean. So it is highly unlikely that a variable value is greater than ±3\n",
    "\n",
    "Standardization assumes that your data has a Gaussian (bell curve) distribution. This does not strictly have to be true, but the technique is more effective if your attribute distribution is Gaussian. Standardization is useful when your data has varying scales and the algorithm you are using does make assumptions about your data having a Gaussian distribution, such as linear regression, logistic regression, and linear discriminant analysis."
   ]
  },
  {
   "cell_type": "code",
   "execution_count": null,
   "metadata": {},
   "outputs": [],
   "source": [
    "from scipy import stats\n",
    "def standardize(data, column):\n",
    "    new_column_name = f'{column}_STD'\n",
    "    data[new_column_name] = stats.zscore(data[column])\n",
    "    # data[new_column_name]=(data[column]-data[column].mean())/data[column].std()\n",
    "    return data\n",
    "\n",
    "# Apply a standardization to our dataset\n",
    "standardize(dirty_cereal_df,'calories')\n",
    "fig, axs = plt.subplots(ncols=2)\n",
    "\n",
    "axs[0].set_title('Original')\n",
    "axs[1].set_title('Normalized')\n",
    "sns.histplot(data=dirty_cereal_df, x='calories', ax=axs[0])\n",
    "sns.histplot(data=dirty_cereal_df, x='calories_STD', ax=axs[1])"
   ]
  },
  {
   "cell_type": "markdown",
   "metadata": {},
   "source": [
    "### Discretizing / Binning\n",
    "Sometimes, it might be helpful to have categories for the ranges of values rather than just the value themselves.  For instance, if we are looking at the cereal example, it might be helpful to determine that cereal with a low calorie count vs a high calorie count"
   ]
  },
  {
   "cell_type": "code",
   "execution_count": null,
   "metadata": {},
   "outputs": [],
   "source": [
    "# How about we create a category for these fields instead\n",
    "dirty_cereal_df['calorie_groups'] = pd.qcut(dirty_cereal_df.calories,q=3,duplicates='drop',labels=['low cal','normal','high cal'])\n",
    "print(dirty_cereal_df.calorie_groups.value_counts())\n",
    "sns.countplot(x='calorie_groups', data=dirty_cereal_df)"
   ]
  },
  {
   "cell_type": "markdown",
   "metadata": {},
   "source": [
    "## Dealing with categorical variables\n",
    "Machine learning models deal in numeric data and don't handle string data or categorical data very well, so often times we are left to deal with categorical data and turning it into numerical.\n",
    "\n",
    "In the cereal dataset we have `mfr`, `type`, and `calorie_groups` which are not numeric, but we also have `shelf` which is numeric, but really is a categorical field.  So we need to be careful about this as well.\n",
    "\n",
    "We have a couple of options depending on which kind of data we are encoding.  If we are dealing with data and the order matters, for instance using a Likert scale (`disagree`,`somewhat agree`, `agree` etc), then we have ordinal dta and the data should be encoded with values 0 to n-1 (where n is the number of categories).  Otherwise, we should put our features in a OneHotEncoding whereby their is a feature created for each category and a 1 is placed in the proper column that matches the feature."
   ]
  },
  {
   "cell_type": "code",
   "execution_count": null,
   "metadata": {},
   "outputs": [],
   "source": [
    "dirty_cereal_df.dtypes"
   ]
  },
  {
   "cell_type": "code",
   "execution_count": null,
   "metadata": {},
   "outputs": [],
   "source": [
    "# Start with ensuring pandas knows what we are dealing with\n",
    "print(dirty_cereal_df.mfr.value_counts())\n",
    "dirty_cereal_df['mfr'] = pd.Categorical(dirty_cereal_df['mfr'])\n",
    "dirty_cereal_df.mfr.describe()"
   ]
  },
  {
   "cell_type": "code",
   "execution_count": null,
   "metadata": {},
   "outputs": [],
   "source": [
    "\n",
    "# We could use this to just get the dummy columns and join ourselves\n",
    "#   dirty_cereal_df = pd.concat([dirty_cereal_df, pd.get_dummies(dirty_cereal_df['mfr'],prefix=\"mfr\",prefix_sep=\"_\")], axis=1)\n",
    "#   dirty_cereal_df.drop(columns='mfr')\n",
    "\n",
    "# Or we can let pandas handle this all for us\n",
    "dirty_cereal_df = pd.get_dummies(dirty_cereal_df,prefix=['mfr','type'],columns=['mfr','type'])\n",
    "dirty_cereal_df"
   ]
  },
  {
   "cell_type": "markdown",
   "metadata": {},
   "source": [
    "### Advanced data preparation\n",
    "While preparing the data for machine learning, we often find that we either don't have enough features or we have way too many features to be valuable.  In both cases, we need to consider which features help us to describe the outcomes we are searching for.  We can often times do both tasks, creating new features [Feature Engineering](#feature-engineering) or reducing features through [Feature Selection](#feature-selection).  A brief overview is here, though we'll see more examples as we work through a few examples.\n",
    "\n",
    "#### Feature Engineering\n",
    "Sometimes a set of predictors just doesn't provide enough variability on it's own and we would find value in breaking apart or finding new features in exisiting features.  One of the most obvious is time/date fields, these types of fields are filled with amazing data all locked up in what look like a single value.  Consider a date field for instance, with a date we can tell a whole lot of interesting things:\n",
    "- What day of the week is it?  (Mon, Tue, Wed..)\n",
    "- Which day of the month?  (1st, 10th, 21st ...)\n",
    "- Which month of the year? \n",
    "- Which season? (Spring, Summer ...)\n",
    "- What's the closest holiday, payday, birthday, significant event?\n",
    "- Is it a leap year? \n",
    "- Which week of the fiscal year?\n",
    "\n",
    "By exploring the dates on these dimensions we may find a better set of predictors or develop new insights into the quality/variability of our data.  The same thing works with time (hour of the day, night/day, morning/afternoon/evening).  These are easy and very common ways to create new insights into the data from a seemingly small set of predictors.  Check your data to see if there are hidden aspects as well!There are many, many different transformations and to add features to a dataset which has just a few features.  For instance, it may be necessary to consider the interaction between variables.  Consider, 2 categorical variables like movie genres.  While it would be helpful to look at each genre separately, it's possible that considering a movie of multiple genres is of interest.  Sci-Fi/Action movies or Romance/Comedy movies for instance.  We can see this combination by looking at dummy variables of course, but it might also be helpful to have a column for common 2 genre combinations or 3 genre combos.\n",
    "\n",
    "Other methods to consider: \n",
    "= combining continuous variables with simple math (addition, subtraction, multiplication, division), \n",
    "- polynomial fits : instead of $y=\\beta_0x_0 + \\epsilon$ a more appropriate fit might be $y=\\beta_0x_0^2 +\\beta_1x_0  + \\epsilon$\n",
    "- Ensembling: first clustering records and then using this outcome as predictor in a different model.\n",
    "\n",
    "Aside from using the pandas library to add new series, the patsy library has also been built to provide a consise language syntax for generating statisical matricies.  This is covered in the [AdvancedTechniques](./41-AdvancedTechniques.ipynb) notebook."
   ]
  },
  {
   "cell_type": "markdown",
   "metadata": {},
   "source": [
    "\n",
    "#### Feature Selection\n",
    "We can also face what we call the \"curse of dimensionality\" where our data has way too much data.  For instance, if we are to create an image classifier, each pixel carries with it at least 3 pieces of information (red, green and blue values) or even more!  We can be overwhelmed with the number of dummy variables or simply the shear amount of data that is provided.  In these cases, we need to decide which are the most relevant pieces of data and which we can safely ignore.  Take for instance, the image classifier, the first row of pixels may be a black border on all the pictures - this doesn't help us there is no variability if all the images have the same black border.  We should therefore leave them out of the equation.  Or in the case of our movie generes, what if there is only 1 movie that is a Sci-Fi/Romance/Horror film?  This doesn't help us to find others like it.  In these cases, we need to reduce our set of features.\n",
    "\n",
    "A few algorithms handle this pretty well, Decision Trees in particular are good at ignoring variables have limited 'split' value and regression models [use a more brute force approach](https://towardsdatascience.com/feature-selection-techniques-in-regression-model-26878fe0e24e) (forward selection, backward elimination, stepwise selection).  For the ones that don't we can drop unary columns (those that don't change at all in all of our records), or use something like PCA ([principal components analysis](./41-AdvancedTechniques.ipynb#principal-components)) which is meant to capture as much of the variability as possible in just a few orthagonal vectors.\n",
    "\n",
    "Finally, knowing your data is one of the most important aspects of getting the right set of features.  Analysts that spend hours letting the computer chug away on too many features (or too far) are far less efficient than those that take time to understand the data and capture the essense prior to trying to tune any models on an inefficient dataset."
   ]
  },
  {
   "cell_type": "markdown",
   "metadata": {},
   "source": [
    "# Next Steps\n",
    "Now that we have an idea of how to deal with outliers, manage null values, filter rows and columns of our data and fix other issues our data may be ready to start the modelling process.  We'll look at a number of other different transforms as we work through the actual machine learning tasks ahead.  Operations such as determining interactiongs been variables and decomposing variables into new factors.  But first, in the next notebook [Classification](./30-Classification.ipynb), we'll start to see how to apply the techniques of prediction.\n",
    "<div align='center'/>\n",
    "\n",
    "[Back to TOC](./00-Introduction.ipynb)&emsp;&emsp;[<- Back: 02-Exploratory Data Analysis](./10-ExploratoryDataAnalysis.ipynb)&emsp;&emsp;[Next: Classification ->](./30-Classification.ipynb)"
   ]
  }
 ],
 "metadata": {
  "interpreter": {
   "hash": "d4d1e4263499bec80672ea0156c357c1ee493ec2b1c70f0acce89fc37c4a6abe"
  },
  "kernelspec": {
   "display_name": "Python 3.9.7 ('base')",
   "language": "python",
   "name": "python3"
  },
  "language_info": {
   "codemirror_mode": {
    "name": "ipython",
    "version": 3
   },
   "file_extension": ".py",
   "mimetype": "text/x-python",
   "name": "python",
   "nbconvert_exporter": "python",
   "pygments_lexer": "ipython3",
   "version": "3.9.7"
  }
 },
 "nbformat": 4,
 "nbformat_minor": 2
}
