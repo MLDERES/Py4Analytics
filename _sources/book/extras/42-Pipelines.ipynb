{
 "cells": [
  {
   "cell_type": "code",
   "execution_count": null,
   "metadata": {},
   "outputs": [],
   "source": [
    "import pandas as pd\n",
    "from sklearn.model_selection import train_test_split\n",
    "from sklearn.pipeline import Pipeline, make_pipeline\n",
    "from sklearn.preprocessing import StandardScaler, OneHotEncoder\n",
    "from sklearn.impute import SimpleImputer\n",
    "from sklearn.compose import ColumnTransformer\n",
    "from sklearn.neighbors import KNeighborsClassifier\n",
    "\n",
    "\n",
    "import sys\n",
    "sys.path.append('..')\n",
    "from src.data import load_data, load_excel, TRUE_VALUES, FALSE_VALUES\n",
    "\n",
    "pd.set_option('display.precision',4)\n",
    "pd.set_option('display.max_rows', 200)\n",
    "pd.set_option('display.max_columns', 50)\n",
    "pd.set_option('display.width', 1000)\n",
    "from IPython.core.interactiveshell import InteractiveShell\n",
    "InteractiveShell.ast_node_interactivity = \"all\""
   ]
  },
  {
   "cell_type": "markdown",
   "metadata": {},
   "source": [
    "# Pipelines\n",
    "Pipeline can be used to chain multiple estimators into one. This is useful as there is often a fixed sequence of steps in processing the data, for example feature selection, normalization and classification. Pipeline serves multiple purposes here:\n",
    "\n",
    "__Convenience and encapsulation__\n",
    "    <br/>You only have to call fit and predict once on your data to fit a whole sequence of estimators.\n",
    "\n",
    "__Joint parameter selection__\n",
    "    <br/>You can grid search over parameters of all estimators in the pipeline at once.\n",
    "\n",
    "__Safety__\n",
    "    <br/>Pipelines help avoid leaking statistics from your test data into the trained model in cross-validation, by ensuring that the same samples are used to train the transformers and predictors.\n",
    "\n",
    "All estimators in a pipeline, except the last one, must be transformers (i.e. must have a transform method). The last estimator may be any type (transformer, classifier, etc.).\n",
    "\n",
    "*(source: [sklearn documentation](https://scikit-learn.org/stable/modules/compose.html#pipeline))*\n",
    "\n",
    "We can use a pipeline for instance to standardize our data prior to running the Nearest Neighbors classifier."
   ]
  },
  {
   "cell_type": "code",
   "execution_count": null,
   "metadata": {},
   "outputs": [],
   "source": [
    "# Import and clean-up the heart disease dataset\n",
    "heart_df = load_excel('HeartDisease_Cleveland',\n",
    "                    dtype={'FBS': bool, 'EXANG': bool}, true_values=TRUE_VALUES,\n",
    "                    false_values=FALSE_VALUES, na_values=['?'])\n",
    "heart_df.dropna(inplace=True)\n",
    "heart_df['DIAG'] = (heart_df.NUM > 0)\n",
    "heart_df.drop(columns=['NUM'], inplace=True)"
   ]
  },
  {
   "cell_type": "code",
   "execution_count": null,
   "metadata": {},
   "outputs": [],
   "source": [
    "MAX_NEIGHBORS = 25\n",
    "X = heart_df.drop(columns='DIAG')\n",
    "y = heart_df['DIAG']\n",
    "X_train, X_test, y_train, y_test = train_test_split(X, y, train_size=0.4, random_state=1)\n",
    "clf = KNeighborsClassifier(n_neighbors=MAX_NEIGHBORS, weights='uniform', algorithm='auto', n_jobs=-1)\n",
    "\n",
    "pipe = make_pipeline(StandardScaler(),clf)\n",
    "pipe.fit(X_train,y_train)\n",
    "pipe.score(X_test,y_test)"
   ]
  },
  {
   "cell_type": "code",
   "execution_count": null,
   "metadata": {},
   "outputs": [],
   "source": [
    "# We can also name the steps in the pipeline. \n",
    "# This is useful if we need to send parameters to different steps in the pipeline\n",
    "# Accessing parameters of the pipeline by name takes the following form:\n",
    "#  pipeline_step_name + '__' + parameter name\n",
    "pipe = Pipeline([('scaler', StandardScaler()), \n",
    "                ('classifer', clf)])\n",
    "params = {'classifer__n_neighbors':25}\n",
    "pipe.set_params(**params)\n",
    "pipe.fit(X_train,y_train)\n",
    "pipe.score(X_test,y_test)"
   ]
  },
  {
   "cell_type": "markdown",
   "metadata": {},
   "source": [
    "Pipelines can get complicated, fortunately when we are working in Jupyter notebooks we can see an HTML representation of the final pipeline"
   ]
  },
  {
   "cell_type": "code",
   "execution_count": null,
   "metadata": {},
   "outputs": [],
   "source": [
    "from sklearn import set_config\n",
    "set_config(display='diagram')\n",
    "pipe"
   ]
  },
  {
   "cell_type": "code",
   "execution_count": null,
   "metadata": {},
   "outputs": [],
   "source": [
    "numeric_features = ['AGE','TRESTBPS','THALACH','CA','OLDPEAK']\n",
    "numeric_transformer = Pipeline(\n",
    "    steps=[(\"imputer\", SimpleImputer(strategy=\"median\")), (\"scaler\", StandardScaler())]\n",
    ")\n",
    "\n",
    "categorical_features = ['SEX','CP','FBS','RESTECG','EXANG','SLOPE','THAL']\n",
    "categorical_transformer = OneHotEncoder(handle_unknown=\"ignore\")\n",
    "\n",
    "preprocessor = ColumnTransformer(\n",
    "    transformers=[\n",
    "        (\"num\", numeric_transformer, numeric_features),\n",
    "        (\"cat\", categorical_transformer, categorical_features)]\n",
    ")\n",
    "pipe2 = Pipeline([(\"preprocessor\",preprocessor),(\"classifier\",clf)])"
   ]
  },
  {
   "cell_type": "code",
   "execution_count": null,
   "metadata": {},
   "outputs": [],
   "source": [
    "X2 = heart_df.drop(columns='DIAG')\n",
    "y2 = heart_df['DIAG']\n",
    "X2_train, X2_test, y2_train, y2_test = train_test_split(X2, y2, train_size=0.4, random_state=1,stratify=y2)\n",
    "pipe2.fit(X2_train,y2_train)\n",
    "pipe2.score(X2_test, y2_test)\n",
    "\n",
    "# Note our score improves likely because we stratified the split in this effort"
   ]
  },
  {
   "cell_type": "markdown",
   "metadata": {},
   "source": [
    "<div align='center'/>\n",
    "\n",
    "[Back to TOC](./00-Introduction.ipynb)"
   ]
  }
 ],
 "metadata": {
  "interpreter": {
   "hash": "d4d1e4263499bec80672ea0156c357c1ee493ec2b1c70f0acce89fc37c4a6abe"
  },
  "kernelspec": {
   "display_name": "Python 3.9.7 ('base')",
   "language": "python",
   "name": "python3"
  },
  "language_info": {
   "codemirror_mode": {
    "name": "ipython",
    "version": 3
   },
   "file_extension": ".py",
   "mimetype": "text/x-python",
   "name": "python",
   "nbconvert_exporter": "python",
   "pygments_lexer": "ipython3",
   "version": "3.9.7"
  }
 },
 "nbformat": 4,
 "nbformat_minor": 2
}
