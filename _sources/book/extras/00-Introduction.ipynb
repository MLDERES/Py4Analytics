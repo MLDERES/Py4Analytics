{
 "cells": [
  {
   "cell_type": "markdown",
   "metadata": {},
   "source": [
    "# Using Python for Machine Learning\n",
    "The notebooks herein provide a good start on your journey to learning about how to leverage Python for Machine Learning.  While this set of notebooks expects at least an intermediate understanding of Python, it is only a beginning into the depths of what the language can do to support explanatory and predictive analytics.\n",
    "\n",
    "These notebooks start with an overview of [Exploratory Data Analysis](10-ExploratoryDataAnalysis.ipynb), which is the second step in any model development (the first step is to have a solid understanding of the context of the analysis).  Then into [Data Preparation](20-DataPreparation).  While this might seem like a long way to go to get to some prediction, the reality is that at least 80% of the work of developing predictive or explanatory models is spent understanding and preparing the data.  From here, the notebooks delve into areas of [classification](30-Classification.ipynb), [prediction/estimation](40-EstimationPrediction.ipynb), and finally [unsupervised](50-Unsupervised.ipynb) approaches like clustering and affinity analysis.\n",
    "\n",
    "1. [Exploratory Data Analysis](./10-ExploratoryDataAnalysis.ipynb)\n",
    "   -  [Other tools for EDA](./11-OtherToolsForEDA.ipynb)\n",
    "   -  [Visualization Examples](./12-VisualizationSamples.ipynb)\n",
    "3. [Data Preparation](./20-DataPreparation.ipynb)\n",
    "4. [Classification](./30-Classification.ipynb)\n",
    "   - [Classification Example](./35-ClassificationSolutions.ipynb)\n",
    "5. [Estimation and Prediction](./40-EstimationPrediction.ipynb)\n",
    "6. [Advanced Techniques](./41-AdvancedTechniques.ipynb)\n",
    "   - [Pipelines](./42-Pipelines.ipynb)\n",
    "7. [Unsupervised Methods](./50-Unsupervised.ipynb)\n",
    "\n",
    "\n"
   ]
  }
 ],
 "metadata": {
  "interpreter": {
   "hash": "d4d1e4263499bec80672ea0156c357c1ee493ec2b1c70f0acce89fc37c4a6abe"
  },
  "kernelspec": {
   "display_name": "Python 3.9.7 ('base')",
   "language": "python",
   "name": "python3"
  },
  "language_info": {
   "name": "python",
   "version": "3.9.7"
  }
 },
 "nbformat": 4,
 "nbformat_minor": 2
}
