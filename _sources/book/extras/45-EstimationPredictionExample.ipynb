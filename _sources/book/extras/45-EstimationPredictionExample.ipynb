{
 "cells": [
  {
   "cell_type": "code",
   "execution_count": 2,
   "metadata": {},
   "outputs": [],
   "source": [
    "import pandas as pd\n",
    "import numpy as np\n",
    "from sklearn.base import BaseEstimator\n",
    "from sklearn.model_selection import train_test_split, GridSearchCV\n",
    "from sklearn.linear_model import LinearRegression\n",
    "from sklearn.pipeline import Pipeline\n",
    "from sklearn.feature_selection import SelectKBest, f_regression\n",
    "from sklearn.compose import ColumnTransformer\n",
    "from sklearn.preprocessing import OneHotEncoder, OrdinalEncoder, StandardScaler\n",
    "from sklearn import set_config\n",
    "import seaborn as sns\n",
    "import matplotlib.pyplot as plt\n",
    "import sys\n",
    "sys.path.append('..')\n",
    "from src.data import load_data, convert_to_bool, convert_to_ordinal\n",
    "from src.feature_selection import FeatureImportance\n",
    "\n",
    "pd.set_option('display.precision',4)\n",
    "plt.rcParams[\"figure.figsize\"] = (20, 10)\n",
    "plt.style.use('fivethirtyeight')\n",
    "from IPython.core.interactiveshell import InteractiveShell\n",
    "InteractiveShell.ast_node_interactivity = \"all\""
   ]
  },
  {
   "cell_type": "markdown",
   "metadata": {},
   "source": [
    "# Predicting the price of used cars\n",
    "In the data file [ToyotaCorrolla](../data/ToyotaCorolla.csv) we have data on used Toyotas from late 2004 in the Netherlands.  The goal is to predict the price based on it's specifications.\n",
    "\n",
    "Note there has been some significant EDA done ahead of time to reduce the number of columns and find interesting data.\n",
    "- Cylinders: dropped because all the values are 4"
   ]
  },
  {
   "cell_type": "code",
   "execution_count": 3,
   "metadata": {},
   "outputs": [
    {
     "name": "stdout",
     "output_type": "stream",
     "text": [
      "/workspaces/AdvPythonML/data/ToyotaCorolla.csv\n"
     ]
    },
    {
     "data": {
      "text/plain": [
       "(1436, 36)"
      ]
     },
     "execution_count": 3,
     "metadata": {},
     "output_type": "execute_result"
    }
   ],
   "source": [
    "#\n",
    "# Let's start by checking out the data\n",
    "cars_df = load_data('ToyotaCorolla',index_col='Id')\n",
    "cars_df = cars_df.drop(columns=['Cylinders','Model'])\n",
    "cars_df.shape"
   ]
  },
  {
   "cell_type": "markdown",
   "metadata": {},
   "source": [
    "_NOTE:_ Maybe it's worth noting (many notebooks leave these steps out because they are cumbersome and more complex to explain than to just do).  In a different notebook, I took a good look at the data to determine how to ensure that the data types were correct for each column.  You could do this in Excel (if your data is small enough) or you might use another tool where you can get a quick sample and try to understand the data.  For me, I took a look at the the types of data `cars_df.dtypes` then since I saw that many of the columns had just a 1 or a 0, I figured these were `boolean`.  Then looking at the names of the columns, like `Mfg_Year` and `Mfg_Month`, even though they are numbers, I felt it would be best to convert them what they are _ordinal_ values.  The other reason that this doesn't get much description is because the process is usually a bit non-linear and repeatitive.  For instance, once I determined the booleans, I converted them and then started looking for categoricals.  This would have taken 4 notebook cells (1. find bools, 2. convert columns to bool, 3. find non-bool number columns, 4. convert to ordinal).  As a reader you are really only interested in seeing the conversion of columns in a single cell instead of all the work behind it.\n",
    "\n",
    "Another example of the non-linear workflow, I discovered `Cylinders` as a unary value (all cars here have 4 cylinders).  If this column was dropped later in the notebook, then an update to the categorical columns as well.  Instead, I'll just let you know that I found this in a later step.  To be more clear, it was dropped immediately at the start before creating the categorical columns.  Additionally, I found later in the model that there are 300+ different car models in a dataset (within just 1400 rows), so this isn't going to be helpful later on either."
   ]
  },
  {
   "cell_type": "code",
   "execution_count": 4,
   "metadata": {},
   "outputs": [
    {
     "data": {
      "text/plain": [
       "Price                 int64\n",
       "Age_08_04             int64\n",
       "Mfg_Month             int64\n",
       "Mfg_Year              int64\n",
       "KM                    int64\n",
       "Fuel_Type            object\n",
       "HP                    int64\n",
       "Met_Color             int64\n",
       "Color                object\n",
       "Automatic             int64\n",
       "CC                    int64\n",
       "Doors                 int64\n",
       "Gears                 int64\n",
       "Quarterly_Tax         int64\n",
       "Weight                int64\n",
       "Mfr_Guarantee         int64\n",
       "BOVAG_Guarantee       int64\n",
       "Guarantee_Period      int64\n",
       "ABS                   int64\n",
       "Airbag_1              int64\n",
       "Airbag_2              int64\n",
       "Airco                 int64\n",
       "Automatic_airco       int64\n",
       "Boardcomputer         int64\n",
       "CD_Player             int64\n",
       "Central_Lock          int64\n",
       "Powered_Windows       int64\n",
       "Power_Steering        int64\n",
       "Radio                 int64\n",
       "Mistlamps             int64\n",
       "Sport_Model           int64\n",
       "Backseat_Divider      int64\n",
       "Metallic_Rim          int64\n",
       "Radio_cassette        int64\n",
       "Parking_Assistant     int64\n",
       "Tow_Bar               int64\n",
       "dtype: object"
      ]
     },
     "execution_count": 4,
     "metadata": {},
     "output_type": "execute_result"
    }
   ],
   "source": [
    "cars_df.dtypes"
   ]
  },
  {
   "cell_type": "code",
   "execution_count": 5,
   "metadata": {},
   "outputs": [
    {
     "name": "stdout",
     "output_type": "stream",
     "text": [
      "Index(['Age_08_04', 'KM', 'HP', 'Met_Color', 'Automatic', 'CC',\n",
      "       'Quarterly_Tax', 'Weight', 'Mfr_Guarantee', 'BOVAG_Guarantee',\n",
      "       'Guarantee_Period', 'ABS', 'Airbag_1', 'Airbag_2', 'Airco',\n",
      "       'Automatic_airco', 'Boardcomputer', 'CD_Player', 'Central_Lock',\n",
      "       'Powered_Windows', 'Power_Steering', 'Radio', 'Mistlamps',\n",
      "       'Sport_Model', 'Backseat_Divider', 'Metallic_Rim', 'Radio_cassette',\n",
      "       'Parking_Assistant', 'Tow_Bar'],\n",
      "      dtype='object')\n",
      "Index(['Met_Color', 'Automatic', 'Mfr_Guarantee', 'BOVAG_Guarantee', 'ABS',\n",
      "       'Airbag_1', 'Airbag_2', 'Airco', 'Automatic_airco', 'Boardcomputer',\n",
      "       'CD_Player', 'Central_Lock', 'Powered_Windows', 'Power_Steering',\n",
      "       'Radio', 'Mistlamps', 'Sport_Model', 'Backseat_Divider', 'Metallic_Rim',\n",
      "       'Radio_cassette', 'Parking_Assistant', 'Tow_Bar'],\n",
      "      dtype='object')\n",
      "Index(['Mfg_Month', 'Mfg_Year', 'Fuel_Type', 'Color', 'Doors', 'Gears'], dtype='object')\n"
     ]
    }
   ],
   "source": [
    "cars_df = convert_to_bool(cars_df,['Met_Color', 'Automatic', 'Mfr_Guarantee', 'BOVAG_Guarantee', 'ABS',\n",
    "       'Airbag_1', 'Airbag_2', 'Airco', 'Automatic_airco', 'Boardcomputer',\n",
    "       'CD_Player', 'Central_Lock', 'Powered_Windows', 'Power_Steering',\n",
    "       'Radio', 'Mistlamps', 'Sport_Model', 'Backseat_Divider', 'Metallic_Rim',\n",
    "       'Radio_cassette', 'Parking_Assistant', 'Tow_Bar'])\n",
    "\n",
    "ord_columns = ['Model','Mfg_Month', 'Mfg_Year','Doors', 'Gears','Fuel_Type',\"Color\"]\n",
    "\n",
    "cars_df = convert_to_ordinal(cars_df,ord_columns)\n",
    "\n",
    "# Take out the target column before determining the number columns\n",
    "num_columns = cars_df.drop(columns='Price').select_dtypes(include='number').columns\n",
    "bool_columns = cars_df.select_dtypes(include='bool').columns\n",
    "cat_columns = cars_df.select_dtypes(include=['object','category']).columns\n",
    "\n",
    "print(num_columns)\n",
    "print(bool_columns)\n",
    "print(cat_columns)\n",
    "\n",
    "def remove_column(df, column_collection):\n",
    "       '''\n",
    "       Drop a column from the dataframe, as well as from the list associated with the column\n",
    "       '''\n",
    "       pass"
   ]
  },
  {
   "cell_type": "markdown",
   "metadata": {},
   "source": [
    "## More EDA\n",
    "Next, I'm going to do a few more steps to see if I can determine anything interesting about the data.  I'll start with a cumulative density plot of the price.  This helps me to see what the range of prices is and I've also plotted to the IQR's, this can be helpful to see how spread out the prices are."
   ]
  },
  {
   "cell_type": "code",
   "execution_count": 6,
   "metadata": {},
   "outputs": [
    {
     "data": {
      "text/plain": [
       "<AxesSubplot:xlabel='Price', ylabel='Density'>"
      ]
     },
     "execution_count": 6,
     "metadata": {},
     "output_type": "execute_result"
    },
    {
     "data": {
      "text/plain": [
       "<matplotlib.lines.Line2D at 0x7f2b42b21460>"
      ]
     },
     "execution_count": 6,
     "metadata": {},
     "output_type": "execute_result"
    },
    {
     "data": {
      "text/plain": [
       "<matplotlib.lines.Line2D at 0x7f2b48c9e520>"
      ]
     },
     "execution_count": 6,
     "metadata": {},
     "output_type": "execute_result"
    },
    {
     "data": {
      "text/plain": [
       "<matplotlib.lines.Line2D at 0x7f2b42f88670>"
      ]
     },
     "execution_count": 6,
     "metadata": {},
     "output_type": "execute_result"
    },
    {
     "data": {
      "text/plain": [
       "Text(3250.0, 0.51, 'Median: 9900.0')"
      ]
     },
     "execution_count": 6,
     "metadata": {},
     "output_type": "execute_result"
    },
    {
     "data": {
      "text/plain": [
       "Text(3250.0, 0.76, 'IQ3: 11950.0')"
      ]
     },
     "execution_count": 6,
     "metadata": {},
     "output_type": "execute_result"
    },
    {
     "data": {
      "text/plain": [
       "Text(3250.0, 0.26, 'IQ1: 8450.0')"
      ]
     },
     "execution_count": 6,
     "metadata": {},
     "output_type": "execute_result"
    },
    {
     "data": {
      "image/png": "[encoded data removed]",
      "text/plain": [
       "<Figure size 1440x720 with 1 Axes>"
      ]
     },
     "metadata": {},
     "output_type": "display_data"
    },
    {
     "data": {
      "text/plain": [
       "count     1436.0000\n",
       "mean     10730.8245\n",
       "std       3626.9646\n",
       "min       4350.0000\n",
       "25%       8450.0000\n",
       "50%       9900.0000\n",
       "75%      11950.0000\n",
       "max      32500.0000\n",
       "Name: Price, dtype: float64"
      ]
     },
     "execution_count": 6,
     "metadata": {},
     "output_type": "execute_result"
    }
   ],
   "source": [
    "iq1,iq2,iq3 = cars_df.Price.describe()[4:7]\n",
    "sns.kdeplot(cars_df.Price, cumulative=True);\n",
    "y=np.full(len(cars_df.Price.cumsum()),0.5)\n",
    "plt.axhline(y=0.5,color='red',linestyle='--');\n",
    "plt.axhline(y=0.75,color='green',linestyle='--');\n",
    "plt.axhline(y=0.25,color='green',linestyle='--');\n",
    "plt.text(x=0.1*max(cars_df.Price),y=0.51,s=f'Median: {iq2}');\n",
    "plt.text(x=0.1*max(cars_df.Price),y=0.76,s=f'IQ3: {iq3}');\n",
    "plt.text(x=0.1*max(cars_df.Price),y=0.26,s=f'IQ1: {iq1}');\n",
    "plt.show();\n",
    "\n",
    "cars_df.Price.describe()"
   ]
  },
  {
   "cell_type": "code",
   "execution_count": 8,
   "metadata": {},
   "outputs": [
    {
     "data": {
      "text/html": [
       "<div>\n",
       "<style scoped>\n",
       "    .dataframe tbody tr th:only-of-type {\n",
       "        vertical-align: middle;\n",
       "    }\n",
       "\n",
       "    .dataframe tbody tr th {\n",
       "        vertical-align: top;\n",
       "    }\n",
       "\n",
       "    .dataframe thead th {\n",
       "        text-align: right;\n",
       "    }\n",
       "</style>\n",
       "<table border=\"1\" class=\"dataframe\">\n",
       "  <thead>\n",
       "    <tr style=\"text-align: right;\">\n",
       "      <th></th>\n",
       "      <th>F</th>\n",
       "      <th>T</th>\n",
       "      <th>% True</th>\n",
       "    </tr>\n",
       "  </thead>\n",
       "  <tbody>\n",
       "    <tr>\n",
       "      <th>Parking_Assistant</th>\n",
       "      <td>1432</td>\n",
       "      <td>4</td>\n",
       "      <td>0.0028</td>\n",
       "    </tr>\n",
       "    <tr>\n",
       "      <th>Automatic</th>\n",
       "      <td>1356</td>\n",
       "      <td>80</td>\n",
       "      <td>0.0557</td>\n",
       "    </tr>\n",
       "    <tr>\n",
       "      <th>Automatic_airco</th>\n",
       "      <td>1355</td>\n",
       "      <td>81</td>\n",
       "      <td>0.0564</td>\n",
       "    </tr>\n",
       "    <tr>\n",
       "      <th>Radio_cassette</th>\n",
       "      <td>1227</td>\n",
       "      <td>209</td>\n",
       "      <td>0.1455</td>\n",
       "    </tr>\n",
       "    <tr>\n",
       "      <th>Radio</th>\n",
       "      <td>1226</td>\n",
       "      <td>210</td>\n",
       "      <td>0.1462</td>\n",
       "    </tr>\n",
       "    <tr>\n",
       "      <th>Metallic_Rim</th>\n",
       "      <td>1142</td>\n",
       "      <td>294</td>\n",
       "      <td>0.2047</td>\n",
       "    </tr>\n",
       "    <tr>\n",
       "      <th>CD_Player</th>\n",
       "      <td>1122</td>\n",
       "      <td>314</td>\n",
       "      <td>0.2187</td>\n",
       "    </tr>\n",
       "    <tr>\n",
       "      <th>Mistlamps</th>\n",
       "      <td>1067</td>\n",
       "      <td>369</td>\n",
       "      <td>0.257</td>\n",
       "    </tr>\n",
       "    <tr>\n",
       "      <th>Tow_Bar</th>\n",
       "      <td>1037</td>\n",
       "      <td>399</td>\n",
       "      <td>0.2779</td>\n",
       "    </tr>\n",
       "    <tr>\n",
       "      <th>Boardcomputer</th>\n",
       "      <td>1013</td>\n",
       "      <td>423</td>\n",
       "      <td>0.2946</td>\n",
       "    </tr>\n",
       "    <tr>\n",
       "      <th>Sport_Model</th>\n",
       "      <td>1005</td>\n",
       "      <td>431</td>\n",
       "      <td>0.3001</td>\n",
       "    </tr>\n",
       "    <tr>\n",
       "      <th>Mfr_Guarantee</th>\n",
       "      <td>848</td>\n",
       "      <td>588</td>\n",
       "      <td>0.4095</td>\n",
       "    </tr>\n",
       "    <tr>\n",
       "      <th>Airco</th>\n",
       "      <td>706</td>\n",
       "      <td>730</td>\n",
       "      <td>0.5084</td>\n",
       "    </tr>\n",
       "    <tr>\n",
       "      <th>Powered_Windows</th>\n",
       "      <td>629</td>\n",
       "      <td>807</td>\n",
       "      <td>0.562</td>\n",
       "    </tr>\n",
       "    <tr>\n",
       "      <th>Central_Lock</th>\n",
       "      <td>603</td>\n",
       "      <td>833</td>\n",
       "      <td>0.5801</td>\n",
       "    </tr>\n",
       "    <tr>\n",
       "      <th>Met_Color</th>\n",
       "      <td>467</td>\n",
       "      <td>969</td>\n",
       "      <td>0.6748</td>\n",
       "    </tr>\n",
       "    <tr>\n",
       "      <th>Airbag_2</th>\n",
       "      <td>398</td>\n",
       "      <td>1038</td>\n",
       "      <td>0.7228</td>\n",
       "    </tr>\n",
       "    <tr>\n",
       "      <th>Backseat_Divider</th>\n",
       "      <td>330</td>\n",
       "      <td>1106</td>\n",
       "      <td>0.7702</td>\n",
       "    </tr>\n",
       "    <tr>\n",
       "      <th>ABS</th>\n",
       "      <td>268</td>\n",
       "      <td>1168</td>\n",
       "      <td>0.8134</td>\n",
       "    </tr>\n",
       "    <tr>\n",
       "      <th>BOVAG_Guarantee</th>\n",
       "      <td>150</td>\n",
       "      <td>1286</td>\n",
       "      <td>0.8955</td>\n",
       "    </tr>\n",
       "    <tr>\n",
       "      <th>Airbag_1</th>\n",
       "      <td>42</td>\n",
       "      <td>1394</td>\n",
       "      <td>0.9708</td>\n",
       "    </tr>\n",
       "    <tr>\n",
       "      <th>Power_Steering</th>\n",
       "      <td>32</td>\n",
       "      <td>1404</td>\n",
       "      <td>0.9777</td>\n",
       "    </tr>\n",
       "  </tbody>\n",
       "</table>\n",
       "</div>"
      ],
      "text/plain": [
       "                      F     T  % True\n",
       "Parking_Assistant  1432     4  0.0028\n",
       "Automatic          1356    80  0.0557\n",
       "Automatic_airco    1355    81  0.0564\n",
       "Radio_cassette     1227   209  0.1455\n",
       "Radio              1226   210  0.1462\n",
       "Metallic_Rim       1142   294  0.2047\n",
       "CD_Player          1122   314  0.2187\n",
       "Mistlamps          1067   369   0.257\n",
       "Tow_Bar            1037   399  0.2779\n",
       "Boardcomputer      1013   423  0.2946\n",
       "Sport_Model        1005   431  0.3001\n",
       "Mfr_Guarantee       848   588  0.4095\n",
       "Airco               706   730  0.5084\n",
       "Powered_Windows     629   807   0.562\n",
       "Central_Lock        603   833  0.5801\n",
       "Met_Color           467   969  0.6748\n",
       "Airbag_2            398  1038  0.7228\n",
       "Backseat_Divider    330  1106  0.7702\n",
       "ABS                 268  1168  0.8134\n",
       "BOVAG_Guarantee     150  1286  0.8955\n",
       "Airbag_1             42  1394  0.9708\n",
       "Power_Steering       32  1404  0.9777"
      ]
     },
     "execution_count": 8,
     "metadata": {},
     "output_type": "execute_result"
    },
    {
     "data": {
      "text/plain": [
       "Mfg_Month    12\n",
       "Mfg_Year      7\n",
       "Fuel_Type     3\n",
       "Color        10\n",
       "Doors         4\n",
       "Gears         4\n",
       "dtype: int64"
      ]
     },
     "execution_count": 8,
     "metadata": {},
     "output_type": "execute_result"
    }
   ],
   "source": [
    "# Next, I want to see if  there are cases where there are too many of one class (bool or categorical)\n",
    "bool_df = cars_df[bool_columns].apply(pd.value_counts).T\n",
    "bool_df.columns = ['F','T']\n",
    "bool_df['% True'] = bool_df['T']/bool_df.sum(axis=1)\n",
    "bool_df.sort_values(by='% True')\n",
    "cars_df[cat_columns].nunique()"
   ]
  },
  {
   "cell_type": "markdown",
   "metadata": {},
   "source": [
    "Looking at the values above, it seems like `Parking_Assist` is pretty much useless in terms of determining the price since there are only 4 cars with this feature - I'll remove it from the categoricals."
   ]
  },
  {
   "cell_type": "code",
   "execution_count": 9,
   "metadata": {},
   "outputs": [
    {
     "data": {
      "text/plain": [
       "<AxesSubplot:xlabel='Mfg_Year', ylabel='Price'>"
      ]
     },
     "execution_count": 9,
     "metadata": {},
     "output_type": "execute_result"
    },
    {
     "data": {
      "text/plain": [
       "<AxesSubplot:xlabel='Fuel_Type', ylabel='Price'>"
      ]
     },
     "execution_count": 9,
     "metadata": {},
     "output_type": "execute_result"
    },
    {
     "data": {
      "text/plain": [
       "<AxesSubplot:xlabel='Color', ylabel='Price'>"
      ]
     },
     "execution_count": 9,
     "metadata": {},
     "output_type": "execute_result"
    },
    {
     "data": {
      "text/plain": [
       "<AxesSubplot:xlabel='Doors', ylabel='Price'>"
      ]
     },
     "execution_count": 9,
     "metadata": {},
     "output_type": "execute_result"
    },
    {
     "data": {
      "text/plain": [
       "<AxesSubplot:xlabel='Gears', ylabel='Price'>"
      ]
     },
     "execution_count": 9,
     "metadata": {},
     "output_type": "execute_result"
    },
    {
     "data": {
      "image/png": "[encoded data removed]",
      "text/plain": [
       "<Figure size 1440x1800 with 6 Axes>"
      ]
     },
     "metadata": {},
     "output_type": "display_data"
    }
   ],
   "source": [
    "# Now let's see how these categoricals relate to price\n",
    "fig, axs = plt.subplots(nrows=3, ncols=2,figsize=(20,25));\n",
    "for ax, c in zip(axs.flat,cat_columns[1:]):\n",
    "    sns.boxplot(data=cars_df, x=c,y='Price',ax=ax);"
   ]
  },
  {
   "cell_type": "code",
   "execution_count": 8,
   "metadata": {},
   "outputs": [
    {
     "data": {
      "text/plain": [
       "5    674\n",
       "3    622\n",
       "4    138\n",
       "2      2\n",
       "Name: Doors, dtype: int64"
      ]
     },
     "execution_count": 8,
     "metadata": {},
     "output_type": "execute_result"
    }
   ],
   "source": [
    "# We see above that it looks like these values may have some interest (certainly the newer the car the more valuable)\n",
    "# There seems to be a small number of 2-doors let's see\n",
    "cars_df['Doors'].value_counts()"
   ]
  },
  {
   "cell_type": "code",
   "execution_count": 9,
   "metadata": {},
   "outputs": [],
   "source": [
    "# With only 2 samples of 2-door cars, we can safely drop these\n",
    "cars_df = cars_df.query('Doors>2')"
   ]
  },
  {
   "cell_type": "code",
   "execution_count": 10,
   "metadata": {},
   "outputs": [
    {
     "data": {
      "text/plain": [
       "Color\n",
       "Yellow    12531.6667\n",
       "Grey      11927.3422\n",
       "Black     11085.1058\n",
       "Silver    11070.6803\n",
       "Blue      10836.4382\n",
       "Red        9962.6978\n",
       "Green      9836.1091\n",
       "Violet     9575.0000\n",
       "Beige      8933.3333\n",
       "White      8207.9032\n",
       "Name: Price, dtype: float64"
      ]
     },
     "execution_count": 10,
     "metadata": {},
     "output_type": "execute_result"
    }
   ],
   "source": [
    "# Next I noticed that the price seems to differ for each color pretty significantly\n",
    "colors_df = cars_df.groupby('Color')['Price'].mean().sort_values(ascending=False)\n",
    "colors_df.columns = ['Color','MeanPrice']\n",
    "colors_df"
   ]
  },
  {
   "cell_type": "markdown",
   "metadata": {},
   "source": [
    "## Feature importance\n",
    "Many of the notebooks you see or some of the examples, skip the step where show how they determined that they only want to use 6-8 of the features that are provided.  I'm going to start by looking at which features are best using a DT regressor, a LinearModel with ForwardSelection and Backward elimination, once we've done this - we can start again by dropping out the features that don't seem to have any value"
   ]
  },
  {
   "cell_type": "code",
   "execution_count": 15,
   "metadata": {},
   "outputs": [],
   "source": [
    "from sklearn.tree import DecisionTreeRegressor\n",
    "from sklearn import set_config\n",
    "set_config(display='diagram')\n",
    "\n",
    "X = cars_df.drop(columns='Price')\n",
    "y= cars_df['Price']\n",
    "\n",
    "X_train, X_test, y_train, y_test = train_test_split(X,y,test_size =0.2)\n",
    "cat_cols = ['Mfg_Month','Fuel_Type','Color']\n",
    "ord_cols = ['Mfg_Year','Doors', 'Gears']\n",
    "bool_cols = X_train.select_dtypes(include='bool').columns\n",
    "num_cols = X_train.select_dtypes(include=np.number).columns\n",
    "\n",
    "# We're going to setup our column transformer as pre-processing step for the follow-on steps.\n",
    "pre_processing = ColumnTransformer([\n",
    "    ('cat_encoder', OneHotEncoder(), cat_cols),\n",
    "    ('ord_encoder', OrdinalEncoder(handle_unknown='use_encoded_value',unknown_value=99), ord_cols),\n",
    "    ('num_encoder', StandardScaler(),num_cols)])\n"
   ]
  },
  {
   "cell_type": "code",
   "execution_count": 12,
   "metadata": {},
   "outputs": [
    {
     "data": {
      "text/html": [
       "<style>#sk-6688fb13-28e1-4390-86d9-19ed5a3d4c9c {color: black;background-color: white;}#sk-6688fb13-28e1-4390-86d9-19ed5a3d4c9c pre{padding: 0;}#sk-6688fb13-28e1-4390-86d9-19ed5a3d4c9c div.sk-toggleable {background-color: white;}#sk-6688fb13-28e1-4390-86d9-19ed5a3d4c9c label.sk-toggleable__label {cursor: pointer;display: block;width: 100%;margin-bottom: 0;padding: 0.2em 0.3em;box-sizing: border-box;text-align: center;}#sk-6688fb13-28e1-4390-86d9-19ed5a3d4c9c div.sk-toggleable__content {max-height: 0;max-width: 0;overflow: hidden;text-align: left;background-color: #f0f8ff;}#sk-6688fb13-28e1-4390-86d9-19ed5a3d4c9c div.sk-toggleable__content pre {margin: 0.2em;color: black;border-radius: 0.25em;background-color: #f0f8ff;}#sk-6688fb13-28e1-4390-86d9-19ed5a3d4c9c input.sk-toggleable__control:checked~div.sk-toggleable__content {max-height: 200px;max-width: 100%;overflow: auto;}#sk-6688fb13-28e1-4390-86d9-19ed5a3d4c9c div.sk-estimator input.sk-toggleable__control:checked~label.sk-toggleable__label {background-color: #d4ebff;}#sk-6688fb13-28e1-4390-86d9-19ed5a3d4c9c div.sk-label input.sk-toggleable__control:checked~label.sk-toggleable__label {background-color: #d4ebff;}#sk-6688fb13-28e1-4390-86d9-19ed5a3d4c9c input.sk-hidden--visually {border: 0;clip: rect(1px 1px 1px 1px);clip: rect(1px, 1px, 1px, 1px);height: 1px;margin: -1px;overflow: hidden;padding: 0;position: absolute;width: 1px;}#sk-6688fb13-28e1-4390-86d9-19ed5a3d4c9c div.sk-estimator {font-family: monospace;background-color: #f0f8ff;margin: 0.25em 0.25em;border: 1px dotted black;border-radius: 0.25em;box-sizing: border-box;}#sk-6688fb13-28e1-4390-86d9-19ed5a3d4c9c div.sk-estimator:hover {background-color: #d4ebff;}#sk-6688fb13-28e1-4390-86d9-19ed5a3d4c9c div.sk-parallel-item::after {content: \"\";width: 100%;border-bottom: 1px solid gray;flex-grow: 1;}#sk-6688fb13-28e1-4390-86d9-19ed5a3d4c9c div.sk-label:hover label.sk-toggleable__label {background-color: #d4ebff;}#sk-6688fb13-28e1-4390-86d9-19ed5a3d4c9c div.sk-serial::before {content: \"\";position: absolute;border-left: 1px solid gray;box-sizing: border-box;top: 2em;bottom: 0;left: 50%;}#sk-6688fb13-28e1-4390-86d9-19ed5a3d4c9c div.sk-serial {display: flex;flex-direction: column;align-items: center;background-color: white;}#sk-6688fb13-28e1-4390-86d9-19ed5a3d4c9c div.sk-item {z-index: 1;}#sk-6688fb13-28e1-4390-86d9-19ed5a3d4c9c div.sk-parallel {display: flex;align-items: stretch;justify-content: center;background-color: white;}#sk-6688fb13-28e1-4390-86d9-19ed5a3d4c9c div.sk-parallel-item {display: flex;flex-direction: column;position: relative;background-color: white;}#sk-6688fb13-28e1-4390-86d9-19ed5a3d4c9c div.sk-parallel-item:first-child::after {align-self: flex-end;width: 50%;}#sk-6688fb13-28e1-4390-86d9-19ed5a3d4c9c div.sk-parallel-item:last-child::after {align-self: flex-start;width: 50%;}#sk-6688fb13-28e1-4390-86d9-19ed5a3d4c9c div.sk-parallel-item:only-child::after {width: 0;}#sk-6688fb13-28e1-4390-86d9-19ed5a3d4c9c div.sk-dashed-wrapped {border: 1px dashed gray;margin: 0.2em;box-sizing: border-box;padding-bottom: 0.1em;background-color: white;position: relative;}#sk-6688fb13-28e1-4390-86d9-19ed5a3d4c9c div.sk-label label {font-family: monospace;font-weight: bold;background-color: white;display: inline-block;line-height: 1.2em;}#sk-6688fb13-28e1-4390-86d9-19ed5a3d4c9c div.sk-label-container {position: relative;z-index: 2;text-align: center;}#sk-6688fb13-28e1-4390-86d9-19ed5a3d4c9c div.sk-container {display: inline-block;position: relative;}</style><div id=\"sk-6688fb13-28e1-4390-86d9-19ed5a3d4c9c\" class\"sk-top-container\"><div class=\"sk-container\"><div class=\"sk-item sk-dashed-wrapped\"><div class=\"sk-label-container\"><div class=\"sk-label sk-toggleable\"><input class=\"sk-toggleable__control sk-hidden--visually\" id=\"1817f1c4-249f-4650-83d0-c0178e1edaf0\" type=\"checkbox\" ><label class=\"sk-toggleable__label\" for=\"1817f1c4-249f-4650-83d0-c0178e1edaf0\">Pipeline</label><div class=\"sk-toggleable__content\"><pre>Pipeline(steps=[('pp',\n",
       "                 ColumnTransformer(transformers=[('cat_encoder',\n",
       "                                                  OneHotEncoder(),\n",
       "                                                  ['Mfg_Month', 'Fuel_Type',\n",
       "                                                   'Color']),\n",
       "                                                 ('ord_encoder',\n",
       "                                                  OrdinalEncoder(handle_unknown='use_encoded_value',\n",
       "                                                                 unknown_value=99),\n",
       "                                                  ['Mfg_Year', 'Doors',\n",
       "                                                   'Gears']),\n",
       "                                                 ('num_encoder',\n",
       "                                                  StandardScaler(),\n",
       "                                                  Index(['Age_08_04', 'KM', 'HP', 'Met_Color', 'Automatic', 'CC',\n",
       "       'Quarterly_Tax', 'Weight', 'M...AG_Guarantee',\n",
       "       'Guarantee_Period', 'ABS', 'Airbag_1', 'Airbag_2', 'Airco',\n",
       "       'Automatic_airco', 'Boardcomputer', 'CD_Player', 'Central_Lock',\n",
       "       'Powered_Windows', 'Power_Steering', 'Radio', 'Mistlamps',\n",
       "       'Sport_Model', 'Backseat_Divider', 'Metallic_Rim', 'Radio_cassette',\n",
       "       'Parking_Assistant', 'Tow_Bar'],\n",
       "      dtype='object'))])),\n",
       "                ('dtr', DecisionTreeRegressor(random_state=123))])</pre></div></div></div><div class=\"sk-serial\"><div class=\"sk-item sk-dashed-wrapped\"><div class=\"sk-label-container\"><div class=\"sk-label sk-toggleable\"><input class=\"sk-toggleable__control sk-hidden--visually\" id=\"54b5ed4d-21db-43c0-acc6-b2d3c40e526f\" type=\"checkbox\" ><label class=\"sk-toggleable__label\" for=\"54b5ed4d-21db-43c0-acc6-b2d3c40e526f\">pp: ColumnTransformer</label><div class=\"sk-toggleable__content\"><pre>ColumnTransformer(transformers=[('cat_encoder', OneHotEncoder(),\n",
       "                                 ['Mfg_Month', 'Fuel_Type', 'Color']),\n",
       "                                ('ord_encoder',\n",
       "                                 OrdinalEncoder(handle_unknown='use_encoded_value',\n",
       "                                                unknown_value=99),\n",
       "                                 ['Mfg_Year', 'Doors', 'Gears']),\n",
       "                                ('num_encoder', StandardScaler(),\n",
       "                                 Index(['Age_08_04', 'KM', 'HP', 'Met_Color', 'Automatic', 'CC',\n",
       "       'Quarterly_Tax', 'Weight', 'Mfr_Guarantee', 'BOVAG_Guarantee',\n",
       "       'Guarantee_Period', 'ABS', 'Airbag_1', 'Airbag_2', 'Airco',\n",
       "       'Automatic_airco', 'Boardcomputer', 'CD_Player', 'Central_Lock',\n",
       "       'Powered_Windows', 'Power_Steering', 'Radio', 'Mistlamps',\n",
       "       'Sport_Model', 'Backseat_Divider', 'Metallic_Rim', 'Radio_cassette',\n",
       "       'Parking_Assistant', 'Tow_Bar'],\n",
       "      dtype='object'))])</pre></div></div></div><div class=\"sk-parallel\"><div class=\"sk-parallel-item\"><div class=\"sk-item\"><div class=\"sk-label-container\"><div class=\"sk-label sk-toggleable\"><input class=\"sk-toggleable__control sk-hidden--visually\" id=\"bf66a049-0fda-4295-9969-f0eb94c4d36c\" type=\"checkbox\" ><label class=\"sk-toggleable__label\" for=\"bf66a049-0fda-4295-9969-f0eb94c4d36c\">cat_encoder</label><div class=\"sk-toggleable__content\"><pre>['Mfg_Month', 'Fuel_Type', 'Color']</pre></div></div></div><div class=\"sk-serial\"><div class=\"sk-item\"><div class=\"sk-estimator sk-toggleable\"><input class=\"sk-toggleable__control sk-hidden--visually\" id=\"7054b35e-efac-4f97-945d-f528d63d82ca\" type=\"checkbox\" ><label class=\"sk-toggleable__label\" for=\"7054b35e-efac-4f97-945d-f528d63d82ca\">OneHotEncoder</label><div class=\"sk-toggleable__content\"><pre>OneHotEncoder()</pre></div></div></div></div></div></div><div class=\"sk-parallel-item\"><div class=\"sk-item\"><div class=\"sk-label-container\"><div class=\"sk-label sk-toggleable\"><input class=\"sk-toggleable__control sk-hidden--visually\" id=\"c23ffab5-4608-4922-ac4b-a3dcd98b81d5\" type=\"checkbox\" ><label class=\"sk-toggleable__label\" for=\"c23ffab5-4608-4922-ac4b-a3dcd98b81d5\">ord_encoder</label><div class=\"sk-toggleable__content\"><pre>['Mfg_Year', 'Doors', 'Gears']</pre></div></div></div><div class=\"sk-serial\"><div class=\"sk-item\"><div class=\"sk-estimator sk-toggleable\"><input class=\"sk-toggleable__control sk-hidden--visually\" id=\"f135a930-90ed-425f-bed3-6066eaf76f11\" type=\"checkbox\" ><label class=\"sk-toggleable__label\" for=\"f135a930-90ed-425f-bed3-6066eaf76f11\">OrdinalEncoder</label><div class=\"sk-toggleable__content\"><pre>OrdinalEncoder(handle_unknown='use_encoded_value', unknown_value=99)</pre></div></div></div></div></div></div><div class=\"sk-parallel-item\"><div class=\"sk-item\"><div class=\"sk-label-container\"><div class=\"sk-label sk-toggleable\"><input class=\"sk-toggleable__control sk-hidden--visually\" id=\"89ffd983-eafc-4cfd-908d-5977efcc8ee7\" type=\"checkbox\" ><label class=\"sk-toggleable__label\" for=\"89ffd983-eafc-4cfd-908d-5977efcc8ee7\">num_encoder</label><div class=\"sk-toggleable__content\"><pre>Index(['Age_08_04', 'KM', 'HP', 'Met_Color', 'Automatic', 'CC',\n",
       "       'Quarterly_Tax', 'Weight', 'Mfr_Guarantee', 'BOVAG_Guarantee',\n",
       "       'Guarantee_Period', 'ABS', 'Airbag_1', 'Airbag_2', 'Airco',\n",
       "       'Automatic_airco', 'Boardcomputer', 'CD_Player', 'Central_Lock',\n",
       "       'Powered_Windows', 'Power_Steering', 'Radio', 'Mistlamps',\n",
       "       'Sport_Model', 'Backseat_Divider', 'Metallic_Rim', 'Radio_cassette',\n",
       "       'Parking_Assistant', 'Tow_Bar'],\n",
       "      dtype='object')</pre></div></div></div><div class=\"sk-serial\"><div class=\"sk-item\"><div class=\"sk-estimator sk-toggleable\"><input class=\"sk-toggleable__control sk-hidden--visually\" id=\"e99c95ef-c77e-4b94-b231-18575be4963a\" type=\"checkbox\" ><label class=\"sk-toggleable__label\" for=\"e99c95ef-c77e-4b94-b231-18575be4963a\">StandardScaler</label><div class=\"sk-toggleable__content\"><pre>StandardScaler()</pre></div></div></div></div></div></div></div></div><div class=\"sk-item\"><div class=\"sk-estimator sk-toggleable\"><input class=\"sk-toggleable__control sk-hidden--visually\" id=\"12ab7c64-fd6c-4b08-914c-1202732db1a1\" type=\"checkbox\" ><label class=\"sk-toggleable__label\" for=\"12ab7c64-fd6c-4b08-914c-1202732db1a1\">DecisionTreeRegressor</label><div class=\"sk-toggleable__content\"><pre>DecisionTreeRegressor(random_state=123)</pre></div></div></div></div></div></div></div>"
      ],
      "text/plain": [
       "Pipeline(steps=[('pp',\n",
       "                 ColumnTransformer(transformers=[('cat_encoder',\n",
       "                                                  OneHotEncoder(),\n",
       "                                                  ['Mfg_Month', 'Fuel_Type',\n",
       "                                                   'Color']),\n",
       "                                                 ('ord_encoder',\n",
       "                                                  OrdinalEncoder(handle_unknown='use_encoded_value',\n",
       "                                                                 unknown_value=99),\n",
       "                                                  ['Mfg_Year', 'Doors',\n",
       "                                                   'Gears']),\n",
       "                                                 ('num_encoder',\n",
       "                                                  StandardScaler(),\n",
       "                                                  Index(['Age_08_04', 'KM', 'HP', 'Met_Color', 'Automatic', 'CC',\n",
       "       'Quarterly_Tax', 'Weight', 'M...AG_Guarantee',\n",
       "       'Guarantee_Period', 'ABS', 'Airbag_1', 'Airbag_2', 'Airco',\n",
       "       'Automatic_airco', 'Boardcomputer', 'CD_Player', 'Central_Lock',\n",
       "       'Powered_Windows', 'Power_Steering', 'Radio', 'Mistlamps',\n",
       "       'Sport_Model', 'Backseat_Divider', 'Metallic_Rim', 'Radio_cassette',\n",
       "       'Parking_Assistant', 'Tow_Bar'],\n",
       "      dtype='object'))])),\n",
       "                ('dtr', DecisionTreeRegressor(random_state=123))])"
      ]
     },
     "execution_count": 12,
     "metadata": {},
     "output_type": "execute_result"
    },
    {
     "data": {
      "text/plain": [
       "Age_08_04          0.8366\n",
       "KM                 0.0403\n",
       "HP                 0.0343\n",
       "Weight             0.0145\n",
       "Automatic_airco    0.0094\n",
       "Mfg_Month_1        0.0053\n",
       "Powered_Windows    0.0043\n",
       "Quarterly_Tax      0.0038\n",
       "Mistlamps          0.0038\n",
       "CC                 0.0030\n",
       "Name: top_10_tree, dtype: float64"
      ]
     },
     "execution_count": 12,
     "metadata": {},
     "output_type": "execute_result"
    }
   ],
   "source": [
    "pipe = Pipeline([(\"pp\",pre_processing), (\"dtr\",DecisionTreeRegressor(random_state=123))])\n",
    "\n",
    "pipe.fit(X_train,y_train)\n",
    "fi= FeatureImportance(pipe)\n",
    "fn = fi.get_feature_names()\n",
    "top_10_tree = fi.get_feature_importance().sort_values(ascending=False)[:10]\n",
    "top_10_tree.name='top_10_tree'\n",
    "top_10_tree"
   ]
  },
  {
   "cell_type": "markdown",
   "metadata": {},
   "source": [
    "Seems like the `Age`, `KM`, `HP` and `Weight` seem to be the most important variables.  Let's take a look using a different method and see which features float to to the top.  Here we'll try a forest of trees, this ought to give us an even better idea of which parameters are of the most value."
   ]
  },
  {
   "cell_type": "code",
   "execution_count": 13,
   "metadata": {},
   "outputs": [
    {
     "data": {
      "text/html": [
       "<style>#sk-1654c386-5534-44f3-9baa-4384e1d70d7d {color: black;background-color: white;}#sk-1654c386-5534-44f3-9baa-4384e1d70d7d pre{padding: 0;}#sk-1654c386-5534-44f3-9baa-4384e1d70d7d div.sk-toggleable {background-color: white;}#sk-1654c386-5534-44f3-9baa-4384e1d70d7d label.sk-toggleable__label {cursor: pointer;display: block;width: 100%;margin-bottom: 0;padding: 0.2em 0.3em;box-sizing: border-box;text-align: center;}#sk-1654c386-5534-44f3-9baa-4384e1d70d7d div.sk-toggleable__content {max-height: 0;max-width: 0;overflow: hidden;text-align: left;background-color: #f0f8ff;}#sk-1654c386-5534-44f3-9baa-4384e1d70d7d div.sk-toggleable__content pre {margin: 0.2em;color: black;border-radius: 0.25em;background-color: #f0f8ff;}#sk-1654c386-5534-44f3-9baa-4384e1d70d7d input.sk-toggleable__control:checked~div.sk-toggleable__content {max-height: 200px;max-width: 100%;overflow: auto;}#sk-1654c386-5534-44f3-9baa-4384e1d70d7d div.sk-estimator input.sk-toggleable__control:checked~label.sk-toggleable__label {background-color: #d4ebff;}#sk-1654c386-5534-44f3-9baa-4384e1d70d7d div.sk-label input.sk-toggleable__control:checked~label.sk-toggleable__label {background-color: #d4ebff;}#sk-1654c386-5534-44f3-9baa-4384e1d70d7d input.sk-hidden--visually {border: 0;clip: rect(1px 1px 1px 1px);clip: rect(1px, 1px, 1px, 1px);height: 1px;margin: -1px;overflow: hidden;padding: 0;position: absolute;width: 1px;}#sk-1654c386-5534-44f3-9baa-4384e1d70d7d div.sk-estimator {font-family: monospace;background-color: #f0f8ff;margin: 0.25em 0.25em;border: 1px dotted black;border-radius: 0.25em;box-sizing: border-box;}#sk-1654c386-5534-44f3-9baa-4384e1d70d7d div.sk-estimator:hover {background-color: #d4ebff;}#sk-1654c386-5534-44f3-9baa-4384e1d70d7d div.sk-parallel-item::after {content: \"\";width: 100%;border-bottom: 1px solid gray;flex-grow: 1;}#sk-1654c386-5534-44f3-9baa-4384e1d70d7d div.sk-label:hover label.sk-toggleable__label {background-color: #d4ebff;}#sk-1654c386-5534-44f3-9baa-4384e1d70d7d div.sk-serial::before {content: \"\";position: absolute;border-left: 1px solid gray;box-sizing: border-box;top: 2em;bottom: 0;left: 50%;}#sk-1654c386-5534-44f3-9baa-4384e1d70d7d div.sk-serial {display: flex;flex-direction: column;align-items: center;background-color: white;}#sk-1654c386-5534-44f3-9baa-4384e1d70d7d div.sk-item {z-index: 1;}#sk-1654c386-5534-44f3-9baa-4384e1d70d7d div.sk-parallel {display: flex;align-items: stretch;justify-content: center;background-color: white;}#sk-1654c386-5534-44f3-9baa-4384e1d70d7d div.sk-parallel-item {display: flex;flex-direction: column;position: relative;background-color: white;}#sk-1654c386-5534-44f3-9baa-4384e1d70d7d div.sk-parallel-item:first-child::after {align-self: flex-end;width: 50%;}#sk-1654c386-5534-44f3-9baa-4384e1d70d7d div.sk-parallel-item:last-child::after {align-self: flex-start;width: 50%;}#sk-1654c386-5534-44f3-9baa-4384e1d70d7d div.sk-parallel-item:only-child::after {width: 0;}#sk-1654c386-5534-44f3-9baa-4384e1d70d7d div.sk-dashed-wrapped {border: 1px dashed gray;margin: 0.2em;box-sizing: border-box;padding-bottom: 0.1em;background-color: white;position: relative;}#sk-1654c386-5534-44f3-9baa-4384e1d70d7d div.sk-label label {font-family: monospace;font-weight: bold;background-color: white;display: inline-block;line-height: 1.2em;}#sk-1654c386-5534-44f3-9baa-4384e1d70d7d div.sk-label-container {position: relative;z-index: 2;text-align: center;}#sk-1654c386-5534-44f3-9baa-4384e1d70d7d div.sk-container {display: inline-block;position: relative;}</style><div id=\"sk-1654c386-5534-44f3-9baa-4384e1d70d7d\" class\"sk-top-container\"><div class=\"sk-container\"><div class=\"sk-item sk-dashed-wrapped\"><div class=\"sk-label-container\"><div class=\"sk-label sk-toggleable\"><input class=\"sk-toggleable__control sk-hidden--visually\" id=\"2e066c15-183f-4548-9645-1ac69bb2d6e1\" type=\"checkbox\" ><label class=\"sk-toggleable__label\" for=\"2e066c15-183f-4548-9645-1ac69bb2d6e1\">GridSearchCV</label><div class=\"sk-toggleable__content\"><pre>GridSearchCV(estimator=Pipeline(steps=[('pp',\n",
       "                                        ColumnTransformer(transformers=[('cat_encoder',\n",
       "                                                                         OneHotEncoder(),\n",
       "                                                                         ['Mfg_Month',\n",
       "                                                                          'Fuel_Type',\n",
       "                                                                          'Color']),\n",
       "                                                                        ('ord_encoder',\n",
       "                                                                         OrdinalEncoder(handle_unknown='use_encoded_value',\n",
       "                                                                                        unknown_value=99),\n",
       "                                                                         ['Mfg_Year',\n",
       "                                                                          'Doors',\n",
       "                                                                          'Gears']),\n",
       "                                                                        ('num_encoder',\n",
       "                                                                         StandardScaler(),\n",
       "                                                                         Index(['Age_08_04', 'KM', 'HP', 'Met_Color', 'Automatic', 'CC',\n",
       "       'Qua...\n",
       "       'Guarantee_Period', 'ABS', 'Airbag_1', 'Airbag_2', 'Airco',\n",
       "       'Automatic_airco', 'Boardcomputer', 'CD_Player', 'Central_Lock',\n",
       "       'Powered_Windows', 'Power_Steering', 'Radio', 'Mistlamps',\n",
       "       'Sport_Model', 'Backseat_Divider', 'Metallic_Rim', 'Radio_cassette',\n",
       "       'Parking_Assistant', 'Tow_Bar'],\n",
       "      dtype='object'))])),\n",
       "                                       ('regressor',\n",
       "                                        DecisionTreeRegressor(random_state=123))]),\n",
       "             param_grid={'regressor__max_depth': [3, 4, 5]})</pre></div></div></div><div class=\"sk-parallel\"><div class=\"sk-parallel-item\"><div class=\"sk-item\"><div class=\"sk-serial\"><div class=\"sk-item\"><div class=\"sk-serial\"><div class=\"sk-item sk-dashed-wrapped\"><div class=\"sk-label-container\"><div class=\"sk-label sk-toggleable\"><input class=\"sk-toggleable__control sk-hidden--visually\" id=\"2206a914-30f1-4cba-9050-3151ada93ba0\" type=\"checkbox\" ><label class=\"sk-toggleable__label\" for=\"2206a914-30f1-4cba-9050-3151ada93ba0\">pp: ColumnTransformer</label><div class=\"sk-toggleable__content\"><pre>ColumnTransformer(transformers=[('cat_encoder', OneHotEncoder(),\n",
       "                                 ['Mfg_Month', 'Fuel_Type', 'Color']),\n",
       "                                ('ord_encoder',\n",
       "                                 OrdinalEncoder(handle_unknown='use_encoded_value',\n",
       "                                                unknown_value=99),\n",
       "                                 ['Mfg_Year', 'Doors', 'Gears']),\n",
       "                                ('num_encoder', StandardScaler(),\n",
       "                                 Index(['Age_08_04', 'KM', 'HP', 'Met_Color', 'Automatic', 'CC',\n",
       "       'Quarterly_Tax', 'Weight', 'Mfr_Guarantee', 'BOVAG_Guarantee',\n",
       "       'Guarantee_Period', 'ABS', 'Airbag_1', 'Airbag_2', 'Airco',\n",
       "       'Automatic_airco', 'Boardcomputer', 'CD_Player', 'Central_Lock',\n",
       "       'Powered_Windows', 'Power_Steering', 'Radio', 'Mistlamps',\n",
       "       'Sport_Model', 'Backseat_Divider', 'Metallic_Rim', 'Radio_cassette',\n",
       "       'Parking_Assistant', 'Tow_Bar'],\n",
       "      dtype='object'))])</pre></div></div></div><div class=\"sk-parallel\"><div class=\"sk-parallel-item\"><div class=\"sk-item\"><div class=\"sk-label-container\"><div class=\"sk-label sk-toggleable\"><input class=\"sk-toggleable__control sk-hidden--visually\" id=\"a3e7bbb4-ee84-44a9-9209-494c9e76c1fb\" type=\"checkbox\" ><label class=\"sk-toggleable__label\" for=\"a3e7bbb4-ee84-44a9-9209-494c9e76c1fb\">cat_encoder</label><div class=\"sk-toggleable__content\"><pre>['Mfg_Month', 'Fuel_Type', 'Color']</pre></div></div></div><div class=\"sk-serial\"><div class=\"sk-item\"><div class=\"sk-estimator sk-toggleable\"><input class=\"sk-toggleable__control sk-hidden--visually\" id=\"9e85f9aa-6403-4a00-a99c-5575bbd64a35\" type=\"checkbox\" ><label class=\"sk-toggleable__label\" for=\"9e85f9aa-6403-4a00-a99c-5575bbd64a35\">OneHotEncoder</label><div class=\"sk-toggleable__content\"><pre>OneHotEncoder()</pre></div></div></div></div></div></div><div class=\"sk-parallel-item\"><div class=\"sk-item\"><div class=\"sk-label-container\"><div class=\"sk-label sk-toggleable\"><input class=\"sk-toggleable__control sk-hidden--visually\" id=\"3cc0a4f2-f0e2-4740-a61c-690d4bc758a7\" type=\"checkbox\" ><label class=\"sk-toggleable__label\" for=\"3cc0a4f2-f0e2-4740-a61c-690d4bc758a7\">ord_encoder</label><div class=\"sk-toggleable__content\"><pre>['Mfg_Year', 'Doors', 'Gears']</pre></div></div></div><div class=\"sk-serial\"><div class=\"sk-item\"><div class=\"sk-estimator sk-toggleable\"><input class=\"sk-toggleable__control sk-hidden--visually\" id=\"bc935c2c-629d-4b5f-8af3-0fe131c03d21\" type=\"checkbox\" ><label class=\"sk-toggleable__label\" for=\"bc935c2c-629d-4b5f-8af3-0fe131c03d21\">OrdinalEncoder</label><div class=\"sk-toggleable__content\"><pre>OrdinalEncoder(handle_unknown='use_encoded_value', unknown_value=99)</pre></div></div></div></div></div></div><div class=\"sk-parallel-item\"><div class=\"sk-item\"><div class=\"sk-label-container\"><div class=\"sk-label sk-toggleable\"><input class=\"sk-toggleable__control sk-hidden--visually\" id=\"972cd1ba-8a29-4d3d-bd26-7a986adb1240\" type=\"checkbox\" ><label class=\"sk-toggleable__label\" for=\"972cd1ba-8a29-4d3d-bd26-7a986adb1240\">num_encoder</label><div class=\"sk-toggleable__content\"><pre>Index(['Age_08_04', 'KM', 'HP', 'Met_Color', 'Automatic', 'CC',\n",
       "       'Quarterly_Tax', 'Weight', 'Mfr_Guarantee', 'BOVAG_Guarantee',\n",
       "       'Guarantee_Period', 'ABS', 'Airbag_1', 'Airbag_2', 'Airco',\n",
       "       'Automatic_airco', 'Boardcomputer', 'CD_Player', 'Central_Lock',\n",
       "       'Powered_Windows', 'Power_Steering', 'Radio', 'Mistlamps',\n",
       "       'Sport_Model', 'Backseat_Divider', 'Metallic_Rim', 'Radio_cassette',\n",
       "       'Parking_Assistant', 'Tow_Bar'],\n",
       "      dtype='object')</pre></div></div></div><div class=\"sk-serial\"><div class=\"sk-item\"><div class=\"sk-estimator sk-toggleable\"><input class=\"sk-toggleable__control sk-hidden--visually\" id=\"88ea4676-f244-44cb-8c55-d764062a2fa1\" type=\"checkbox\" ><label class=\"sk-toggleable__label\" for=\"88ea4676-f244-44cb-8c55-d764062a2fa1\">StandardScaler</label><div class=\"sk-toggleable__content\"><pre>StandardScaler()</pre></div></div></div></div></div></div></div></div><div class=\"sk-item\"><div class=\"sk-estimator sk-toggleable\"><input class=\"sk-toggleable__control sk-hidden--visually\" id=\"627a87d6-a39a-480e-88f2-144d5c8083c4\" type=\"checkbox\" ><label class=\"sk-toggleable__label\" for=\"627a87d6-a39a-480e-88f2-144d5c8083c4\">DecisionTreeRegressor</label><div class=\"sk-toggleable__content\"><pre>DecisionTreeRegressor(random_state=123)</pre></div></div></div></div></div></div></div></div></div></div></div></div>"
      ],
      "text/plain": [
       "GridSearchCV(estimator=Pipeline(steps=[('pp',\n",
       "                                        ColumnTransformer(transformers=[('cat_encoder',\n",
       "                                                                         OneHotEncoder(),\n",
       "                                                                         ['Mfg_Month',\n",
       "                                                                          'Fuel_Type',\n",
       "                                                                          'Color']),\n",
       "                                                                        ('ord_encoder',\n",
       "                                                                         OrdinalEncoder(handle_unknown='use_encoded_value',\n",
       "                                                                                        unknown_value=99),\n",
       "                                                                         ['Mfg_Year',\n",
       "                                                                          'Doors',\n",
       "                                                                          'Gears']),\n",
       "                                                                        ('num_encoder',\n",
       "                                                                         StandardScaler(),\n",
       "                                                                         Index(['Age_08_04', 'KM', 'HP', 'Met_Color', 'Automatic', 'CC',\n",
       "       'Qua...\n",
       "       'Guarantee_Period', 'ABS', 'Airbag_1', 'Airbag_2', 'Airco',\n",
       "       'Automatic_airco', 'Boardcomputer', 'CD_Player', 'Central_Lock',\n",
       "       'Powered_Windows', 'Power_Steering', 'Radio', 'Mistlamps',\n",
       "       'Sport_Model', 'Backseat_Divider', 'Metallic_Rim', 'Radio_cassette',\n",
       "       'Parking_Assistant', 'Tow_Bar'],\n",
       "      dtype='object'))])),\n",
       "                                       ('regressor',\n",
       "                                        DecisionTreeRegressor(random_state=123))]),\n",
       "             param_grid={'regressor__max_depth': [3, 4, 5]})"
      ]
     },
     "execution_count": 13,
     "metadata": {},
     "output_type": "execute_result"
    },
    {
     "data": {
      "text/plain": [
       "Age_08_04          0.9058\n",
       "HP                 0.0370\n",
       "KM                 0.0264\n",
       "Weight             0.0075\n",
       "Automatic_airco    0.0065\n",
       "Mfg_Month_1        0.0053\n",
       "Mistlamps          0.0040\n",
       "Powered_Windows    0.0036\n",
       "Quarterly_Tax      0.0021\n",
       "Mfg_Year           0.0009\n",
       "Name: top_10_grid, dtype: float64"
      ]
     },
     "execution_count": 13,
     "metadata": {},
     "output_type": "execute_result"
    }
   ],
   "source": [
    "# And now one last try using GridSearch to find the best transformer\n",
    "param_grid = {'regressor__max_depth': [3,4,5]}\n",
    "\n",
    "pipe = Pipeline([(\"pp\",pre_processing), (\"regressor\",DecisionTreeRegressor(random_state=123))])\n",
    "reg = GridSearchCV(pipe,param_grid=param_grid)\n",
    "reg.fit(X_train, y_train)\n",
    "best= reg.best_estimator_\n",
    "\n",
    "fi= FeatureImportance(best)\n",
    "top_10_grid = fi.get_feature_importance().sort_values(ascending=False)[:10]\n",
    "top_10_grid.name='top_10_grid'\n",
    "top_10_grid"
   ]
  },
  {
   "cell_type": "code",
   "execution_count": 19,
   "metadata": {},
   "outputs": [
    {
     "data": {
      "text/html": [
       "<div>\n",
       "<style scoped>\n",
       "    .dataframe tbody tr th:only-of-type {\n",
       "        vertical-align: middle;\n",
       "    }\n",
       "\n",
       "    .dataframe tbody tr th {\n",
       "        vertical-align: top;\n",
       "    }\n",
       "\n",
       "    .dataframe thead th {\n",
       "        text-align: right;\n",
       "    }\n",
       "</style>\n",
       "<table border=\"1\" class=\"dataframe\">\n",
       "  <thead>\n",
       "    <tr style=\"text-align: right;\">\n",
       "      <th></th>\n",
       "      <th>top_10_grid</th>\n",
       "      <th>top_10_tree</th>\n",
       "    </tr>\n",
       "  </thead>\n",
       "  <tbody>\n",
       "    <tr>\n",
       "      <th>Age_08_04</th>\n",
       "      <td>0.9058</td>\n",
       "      <td>0.8366</td>\n",
       "    </tr>\n",
       "    <tr>\n",
       "      <th>HP</th>\n",
       "      <td>0.0370</td>\n",
       "      <td>0.0343</td>\n",
       "    </tr>\n",
       "    <tr>\n",
       "      <th>KM</th>\n",
       "      <td>0.0264</td>\n",
       "      <td>0.0403</td>\n",
       "    </tr>\n",
       "    <tr>\n",
       "      <th>Weight</th>\n",
       "      <td>0.0075</td>\n",
       "      <td>0.0145</td>\n",
       "    </tr>\n",
       "    <tr>\n",
       "      <th>Automatic_airco</th>\n",
       "      <td>0.0065</td>\n",
       "      <td>0.0094</td>\n",
       "    </tr>\n",
       "    <tr>\n",
       "      <th>Mfg_Month_1</th>\n",
       "      <td>0.0053</td>\n",
       "      <td>0.0053</td>\n",
       "    </tr>\n",
       "    <tr>\n",
       "      <th>Mistlamps</th>\n",
       "      <td>0.0040</td>\n",
       "      <td>0.0038</td>\n",
       "    </tr>\n",
       "    <tr>\n",
       "      <th>Powered_Windows</th>\n",
       "      <td>0.0036</td>\n",
       "      <td>0.0043</td>\n",
       "    </tr>\n",
       "    <tr>\n",
       "      <th>Quarterly_Tax</th>\n",
       "      <td>0.0021</td>\n",
       "      <td>0.0038</td>\n",
       "    </tr>\n",
       "    <tr>\n",
       "      <th>Mfg_Year</th>\n",
       "      <td>0.0009</td>\n",
       "      <td>NaN</td>\n",
       "    </tr>\n",
       "    <tr>\n",
       "      <th>CC</th>\n",
       "      <td>NaN</td>\n",
       "      <td>0.0030</td>\n",
       "    </tr>\n",
       "  </tbody>\n",
       "</table>\n",
       "</div>"
      ],
      "text/plain": [
       "                 top_10_grid  top_10_tree\n",
       "Age_08_04             0.9058       0.8366\n",
       "HP                    0.0370       0.0343\n",
       "KM                    0.0264       0.0403\n",
       "Weight                0.0075       0.0145\n",
       "Automatic_airco       0.0065       0.0094\n",
       "Mfg_Month_1           0.0053       0.0053\n",
       "Mistlamps             0.0040       0.0038\n",
       "Powered_Windows       0.0036       0.0043\n",
       "Quarterly_Tax         0.0021       0.0038\n",
       "Mfg_Year              0.0009          NaN\n",
       "CC                       NaN       0.0030"
      ]
     },
     "execution_count": 19,
     "metadata": {},
     "output_type": "execute_result"
    }
   ],
   "source": [
    "# Now that we have both using a standard regressor and using GridSearch, let's compare\n",
    "pd.concat([top_10_grid,top_10_tree],axis=1)"
   ]
  },
  {
   "cell_type": "markdown",
   "metadata": {},
   "source": [
    "Knowing what the top ten differentiating factors are help us to narrow the focus of our predictive models going forward.  Since we know for instance that a multiple linear regression model will continually improve as we add more variables (maybe insignificantly) and if we want to be able to explain our model, keeping to the most impactful variables most helpful.\n",
    "\n",
    "At this point, we could just decide to keep a managable number of factors and restart our entire process from scratch.  (Frankly this is what happens when alot of the samples are explained.  All the work that we've done here so far, is left out so that the learner is not subjected to the steps which simply eliminate useless information.)  Since all the work has been done, we are just going to move on keeping in all the features and letting the algorithm reduce the featureset as appropriate."
   ]
  },
  {
   "cell_type": "markdown",
   "metadata": {},
   "source": [
    "## Making predictions\n",
    "At this point we have done a thorough job of exploring the data, finding possible outliers, eliminating features and  coming up with a candidate list of good features.  We'll try a couple of different approaches finding a good predictive fit for the price."
   ]
  },
  {
   "cell_type": "code",
   "execution_count": 60,
   "metadata": {},
   "outputs": [
    {
     "data": {
      "text/plain": [
       "Index(['ABS', 'Age_08_04', 'Airbag_1', 'Airbag_2', 'Airco', 'Automatic',\n",
       "       'Automatic_airco', 'BOVAG_Guarantee', 'Backseat_Divider',\n",
       "       'Boardcomputer', 'CC', 'CD_Player', 'Central_Lock', 'Color', 'Doors',\n",
       "       'Fuel_Type', 'Gears', 'Guarantee_Period', 'HP', 'KM', 'Met_Color',\n",
       "       'Metallic_Rim', 'Mfg_Month', 'Mfg_Year', 'Mfr_Guarantee', 'Mistlamps',\n",
       "       'Parking_Assistant', 'Power_Steering', 'Powered_Windows',\n",
       "       'Quarterly_Tax', 'Radio', 'Radio_cassette', 'Sport_Model', 'Tow_Bar',\n",
       "       'Weight'],\n",
       "      dtype='object')"
      ]
     },
     "execution_count": 60,
     "metadata": {},
     "output_type": "execute_result"
    }
   ],
   "source": [
    "X_cars = cars_df.drop(columns='Price')\n",
    "y_cars = cars_df['Price']\n",
    "\n",
    "c_cols = ['Mfg_Month','Fuel_Type','Color']\n",
    "o_cols = ['Mfg_Year','Doors', 'Gears']\n",
    "b_cols = X_train.select_dtypes(include='bool').columns\n",
    "n_cols = X_train.select_dtypes(include=np.number).columns\n",
    "\n",
    "X_train, X_test, y_train, y_test = train_test_split(X_cars,y_cars,test_size =0.2)\n",
    "\n",
    "# We're going to setup our column transformer as pre-processing step for the follow-on steps.\n",
    "pre_processing_transform = ColumnTransformer([\n",
    "    ('cat_encoder', OneHotEncoder(), c_cols),\n",
    "    ('ord_encoder', OrdinalEncoder(handle_unknown='use_encoded_value',unknown_value=99), o_cols),\n",
    "    ('num_encoder', StandardScaler(),n_cols)])\n",
    "\n",
    "X_train.columns.sort_values()\n",
    "\n"
   ]
  },
  {
   "cell_type": "code",
   "execution_count": 66,
   "metadata": {},
   "outputs": [
    {
     "data": {
      "text/plain": [
       "<1148x25 sparse matrix of type '<class 'numpy.float64'>'\n",
       "\twith 3444 stored elements in Compressed Sparse Row format>"
      ]
     },
     "execution_count": 66,
     "metadata": {},
     "output_type": "execute_result"
    },
    {
     "data": {
      "text/plain": [
       "array([[1., 2., 2.],\n",
       "       [0., 3., 2.],\n",
       "       [3., 3., 2.],\n",
       "       ...,\n",
       "       [0., 1., 2.],\n",
       "       [1., 3., 2.],\n",
       "       [3., 2., 2.]])"
      ]
     },
     "execution_count": 66,
     "metadata": {},
     "output_type": "execute_result"
    }
   ],
   "source": [
    "ohe = OneHotEncoder()\n",
    "ohe.fit_transform(X_train[c_cols])\n",
    "\n",
    "ode = OrdinalEncoder()\n",
    "ode.fit_transform(X_train[o_cols])\n"
   ]
  },
  {
   "cell_type": "code",
   "execution_count": 59,
   "metadata": {},
   "outputs": [
    {
     "name": "stderr",
     "output_type": "stream",
     "text": [
      "/opt/conda/lib/python3.9/site-packages/sklearn/model_selection/_validation.py:696: UserWarning: Scoring failed. The score on this train-test partition for these parameters will be set to nan. Details: \n",
      "Traceback (most recent call last):\n",
      "  File \"/opt/conda/lib/python3.9/site-packages/sklearn/model_selection/_validation.py\", line 687, in _score\n",
      "    scores = scorer(estimator, X_test, y_test)\n",
      "  File \"/opt/conda/lib/python3.9/site-packages/sklearn/metrics/_scorer.py\", line 397, in _passthrough_scorer\n",
      "    return estimator.score(*args, **kwargs)\n",
      "  File \"/opt/conda/lib/python3.9/site-packages/sklearn/utils/metaestimators.py\", line 120, in <lambda>\n",
      "    out = lambda *args, **kwargs: self.fn(obj, *args, **kwargs)\n",
      "  File \"/opt/conda/lib/python3.9/site-packages/sklearn/pipeline.py\", line 618, in score\n",
      "    Xt = transform.transform(Xt)\n",
      "  File \"/opt/conda/lib/python3.9/site-packages/sklearn/compose/_column_transformer.py\", line 564, in transform\n",
      "    Xs = self._fit_transform(X, None, _transform_one, fitted=True)\n",
      "  File \"/opt/conda/lib/python3.9/site-packages/sklearn/compose/_column_transformer.py\", line 434, in _fit_transform\n",
      "    return Parallel(n_jobs=self.n_jobs)(\n",
      "  File \"/opt/conda/lib/python3.9/site-packages/joblib/parallel.py\", line 1041, in __call__\n",
      "    if self.dispatch_one_batch(iterator):\n",
      "  File \"/opt/conda/lib/python3.9/site-packages/joblib/parallel.py\", line 859, in dispatch_one_batch\n",
      "    self._dispatch(tasks)\n",
      "  File \"/opt/conda/lib/python3.9/site-packages/joblib/parallel.py\", line 777, in _dispatch\n",
      "    job = self._backend.apply_async(batch, callback=cb)\n",
      "  File \"/opt/conda/lib/python3.9/site-packages/joblib/_parallel_backends.py\", line 208, in apply_async\n",
      "    result = ImmediateResult(func)\n",
      "  File \"/opt/conda/lib/python3.9/site-packages/joblib/_parallel_backends.py\", line 572, in __init__\n",
      "    self.results = batch()\n",
      "  File \"/opt/conda/lib/python3.9/site-packages/joblib/parallel.py\", line 262, in __call__\n",
      "    return [func(*args, **kwargs)\n",
      "  File \"/opt/conda/lib/python3.9/site-packages/joblib/parallel.py\", line 262, in <listcomp>\n",
      "    return [func(*args, **kwargs)\n",
      "  File \"/opt/conda/lib/python3.9/site-packages/sklearn/utils/fixes.py\", line 222, in __call__\n",
      "    return self.function(*args, **kwargs)\n",
      "  File \"/opt/conda/lib/python3.9/site-packages/sklearn/pipeline.py\", line 733, in _transform_one\n",
      "    res = transformer.transform(X)\n",
      "  File \"/opt/conda/lib/python3.9/site-packages/sklearn/preprocessing/_encoders.py\", line 471, in transform\n",
      "    X_int, X_mask = self._transform(X, handle_unknown=self.handle_unknown,\n",
      "  File \"/opt/conda/lib/python3.9/site-packages/sklearn/preprocessing/_encoders.py\", line 136, in _transform\n",
      "    raise ValueError(msg)\n",
      "ValueError: Found unknown categories ['Yellow'] in column 2 during transform\n",
      "\n",
      "  warnings.warn(\n",
      "/opt/conda/lib/python3.9/site-packages/sklearn/model_selection/_validation.py:696: UserWarning: Scoring failed. The score on this train-test partition for these parameters will be set to nan. Details: \n",
      "Traceback (most recent call last):\n",
      "  File \"/opt/conda/lib/python3.9/site-packages/sklearn/model_selection/_validation.py\", line 687, in _score\n",
      "    scores = scorer(estimator, X_test, y_test)\n",
      "  File \"/opt/conda/lib/python3.9/site-packages/sklearn/metrics/_scorer.py\", line 397, in _passthrough_scorer\n",
      "    return estimator.score(*args, **kwargs)\n",
      "  File \"/opt/conda/lib/python3.9/site-packages/sklearn/utils/metaestimators.py\", line 120, in <lambda>\n",
      "    out = lambda *args, **kwargs: self.fn(obj, *args, **kwargs)\n",
      "  File \"/opt/conda/lib/python3.9/site-packages/sklearn/pipeline.py\", line 618, in score\n",
      "    Xt = transform.transform(Xt)\n",
      "  File \"/opt/conda/lib/python3.9/site-packages/sklearn/compose/_column_transformer.py\", line 564, in transform\n",
      "    Xs = self._fit_transform(X, None, _transform_one, fitted=True)\n",
      "  File \"/opt/conda/lib/python3.9/site-packages/sklearn/compose/_column_transformer.py\", line 434, in _fit_transform\n",
      "    return Parallel(n_jobs=self.n_jobs)(\n",
      "  File \"/opt/conda/lib/python3.9/site-packages/joblib/parallel.py\", line 1041, in __call__\n",
      "    if self.dispatch_one_batch(iterator):\n",
      "  File \"/opt/conda/lib/python3.9/site-packages/joblib/parallel.py\", line 859, in dispatch_one_batch\n",
      "    self._dispatch(tasks)\n",
      "  File \"/opt/conda/lib/python3.9/site-packages/joblib/parallel.py\", line 777, in _dispatch\n",
      "    job = self._backend.apply_async(batch, callback=cb)\n",
      "  File \"/opt/conda/lib/python3.9/site-packages/joblib/_parallel_backends.py\", line 208, in apply_async\n",
      "    result = ImmediateResult(func)\n",
      "  File \"/opt/conda/lib/python3.9/site-packages/joblib/_parallel_backends.py\", line 572, in __init__\n",
      "    self.results = batch()\n",
      "  File \"/opt/conda/lib/python3.9/site-packages/joblib/parallel.py\", line 262, in __call__\n",
      "    return [func(*args, **kwargs)\n",
      "  File \"/opt/conda/lib/python3.9/site-packages/joblib/parallel.py\", line 262, in <listcomp>\n",
      "    return [func(*args, **kwargs)\n",
      "  File \"/opt/conda/lib/python3.9/site-packages/sklearn/utils/fixes.py\", line 222, in __call__\n",
      "    return self.function(*args, **kwargs)\n",
      "  File \"/opt/conda/lib/python3.9/site-packages/sklearn/pipeline.py\", line 733, in _transform_one\n",
      "    res = transformer.transform(X)\n",
      "  File \"/opt/conda/lib/python3.9/site-packages/sklearn/preprocessing/_encoders.py\", line 471, in transform\n",
      "    X_int, X_mask = self._transform(X, handle_unknown=self.handle_unknown,\n",
      "  File \"/opt/conda/lib/python3.9/site-packages/sklearn/preprocessing/_encoders.py\", line 136, in _transform\n",
      "    raise ValueError(msg)\n",
      "ValueError: Found unknown categories ['Yellow'] in column 2 during transform\n",
      "\n",
      "  warnings.warn(\n",
      "/opt/conda/lib/python3.9/site-packages/sklearn/model_selection/_validation.py:696: UserWarning: Scoring failed. The score on this train-test partition for these parameters will be set to nan. Details: \n",
      "Traceback (most recent call last):\n",
      "  File \"/opt/conda/lib/python3.9/site-packages/sklearn/model_selection/_validation.py\", line 687, in _score\n",
      "    scores = scorer(estimator, X_test, y_test)\n",
      "  File \"/opt/conda/lib/python3.9/site-packages/sklearn/metrics/_scorer.py\", line 397, in _passthrough_scorer\n",
      "    return estimator.score(*args, **kwargs)\n",
      "  File \"/opt/conda/lib/python3.9/site-packages/sklearn/utils/metaestimators.py\", line 120, in <lambda>\n",
      "    out = lambda *args, **kwargs: self.fn(obj, *args, **kwargs)\n",
      "  File \"/opt/conda/lib/python3.9/site-packages/sklearn/pipeline.py\", line 618, in score\n",
      "    Xt = transform.transform(Xt)\n",
      "  File \"/opt/conda/lib/python3.9/site-packages/sklearn/compose/_column_transformer.py\", line 564, in transform\n",
      "    Xs = self._fit_transform(X, None, _transform_one, fitted=True)\n",
      "  File \"/opt/conda/lib/python3.9/site-packages/sklearn/compose/_column_transformer.py\", line 434, in _fit_transform\n",
      "    return Parallel(n_jobs=self.n_jobs)(\n",
      "  File \"/opt/conda/lib/python3.9/site-packages/joblib/parallel.py\", line 1041, in __call__\n",
      "    if self.dispatch_one_batch(iterator):\n",
      "  File \"/opt/conda/lib/python3.9/site-packages/joblib/parallel.py\", line 859, in dispatch_one_batch\n",
      "    self._dispatch(tasks)\n",
      "  File \"/opt/conda/lib/python3.9/site-packages/joblib/parallel.py\", line 777, in _dispatch\n",
      "    job = self._backend.apply_async(batch, callback=cb)\n",
      "  File \"/opt/conda/lib/python3.9/site-packages/joblib/_parallel_backends.py\", line 208, in apply_async\n",
      "    result = ImmediateResult(func)\n",
      "  File \"/opt/conda/lib/python3.9/site-packages/joblib/_parallel_backends.py\", line 572, in __init__\n",
      "    self.results = batch()\n",
      "  File \"/opt/conda/lib/python3.9/site-packages/joblib/parallel.py\", line 262, in __call__\n",
      "    return [func(*args, **kwargs)\n",
      "  File \"/opt/conda/lib/python3.9/site-packages/joblib/parallel.py\", line 262, in <listcomp>\n",
      "    return [func(*args, **kwargs)\n",
      "  File \"/opt/conda/lib/python3.9/site-packages/sklearn/utils/fixes.py\", line 222, in __call__\n",
      "    return self.function(*args, **kwargs)\n",
      "  File \"/opt/conda/lib/python3.9/site-packages/sklearn/pipeline.py\", line 733, in _transform_one\n",
      "    res = transformer.transform(X)\n",
      "  File \"/opt/conda/lib/python3.9/site-packages/sklearn/preprocessing/_encoders.py\", line 471, in transform\n",
      "    X_int, X_mask = self._transform(X, handle_unknown=self.handle_unknown,\n",
      "  File \"/opt/conda/lib/python3.9/site-packages/sklearn/preprocessing/_encoders.py\", line 136, in _transform\n",
      "    raise ValueError(msg)\n",
      "ValueError: Found unknown categories ['Yellow'] in column 2 during transform\n",
      "\n",
      "  warnings.warn(\n",
      "/opt/conda/lib/python3.9/site-packages/sklearn/model_selection/_search.py:922: UserWarning: One or more of the test scores are non-finite: [nan nan nan]\n",
      "  warnings.warn(\n"
     ]
    },
    {
     "data": {
      "text/html": [
       "<style>#sk-4b42dd82-792c-4338-aa62-16a89867609d {color: black;background-color: white;}#sk-4b42dd82-792c-4338-aa62-16a89867609d pre{padding: 0;}#sk-4b42dd82-792c-4338-aa62-16a89867609d div.sk-toggleable {background-color: white;}#sk-4b42dd82-792c-4338-aa62-16a89867609d label.sk-toggleable__label {cursor: pointer;display: block;width: 100%;margin-bottom: 0;padding: 0.2em 0.3em;box-sizing: border-box;text-align: center;}#sk-4b42dd82-792c-4338-aa62-16a89867609d div.sk-toggleable__content {max-height: 0;max-width: 0;overflow: hidden;text-align: left;background-color: #f0f8ff;}#sk-4b42dd82-792c-4338-aa62-16a89867609d div.sk-toggleable__content pre {margin: 0.2em;color: black;border-radius: 0.25em;background-color: #f0f8ff;}#sk-4b42dd82-792c-4338-aa62-16a89867609d input.sk-toggleable__control:checked~div.sk-toggleable__content {max-height: 200px;max-width: 100%;overflow: auto;}#sk-4b42dd82-792c-4338-aa62-16a89867609d div.sk-estimator input.sk-toggleable__control:checked~label.sk-toggleable__label {background-color: #d4ebff;}#sk-4b42dd82-792c-4338-aa62-16a89867609d div.sk-label input.sk-toggleable__control:checked~label.sk-toggleable__label {background-color: #d4ebff;}#sk-4b42dd82-792c-4338-aa62-16a89867609d input.sk-hidden--visually {border: 0;clip: rect(1px 1px 1px 1px);clip: rect(1px, 1px, 1px, 1px);height: 1px;margin: -1px;overflow: hidden;padding: 0;position: absolute;width: 1px;}#sk-4b42dd82-792c-4338-aa62-16a89867609d div.sk-estimator {font-family: monospace;background-color: #f0f8ff;margin: 0.25em 0.25em;border: 1px dotted black;border-radius: 0.25em;box-sizing: border-box;}#sk-4b42dd82-792c-4338-aa62-16a89867609d div.sk-estimator:hover {background-color: #d4ebff;}#sk-4b42dd82-792c-4338-aa62-16a89867609d div.sk-parallel-item::after {content: \"\";width: 100%;border-bottom: 1px solid gray;flex-grow: 1;}#sk-4b42dd82-792c-4338-aa62-16a89867609d div.sk-label:hover label.sk-toggleable__label {background-color: #d4ebff;}#sk-4b42dd82-792c-4338-aa62-16a89867609d div.sk-serial::before {content: \"\";position: absolute;border-left: 1px solid gray;box-sizing: border-box;top: 2em;bottom: 0;left: 50%;}#sk-4b42dd82-792c-4338-aa62-16a89867609d div.sk-serial {display: flex;flex-direction: column;align-items: center;background-color: white;}#sk-4b42dd82-792c-4338-aa62-16a89867609d div.sk-item {z-index: 1;}#sk-4b42dd82-792c-4338-aa62-16a89867609d div.sk-parallel {display: flex;align-items: stretch;justify-content: center;background-color: white;}#sk-4b42dd82-792c-4338-aa62-16a89867609d div.sk-parallel-item {display: flex;flex-direction: column;position: relative;background-color: white;}#sk-4b42dd82-792c-4338-aa62-16a89867609d div.sk-parallel-item:first-child::after {align-self: flex-end;width: 50%;}#sk-4b42dd82-792c-4338-aa62-16a89867609d div.sk-parallel-item:last-child::after {align-self: flex-start;width: 50%;}#sk-4b42dd82-792c-4338-aa62-16a89867609d div.sk-parallel-item:only-child::after {width: 0;}#sk-4b42dd82-792c-4338-aa62-16a89867609d div.sk-dashed-wrapped {border: 1px dashed gray;margin: 0.2em;box-sizing: border-box;padding-bottom: 0.1em;background-color: white;position: relative;}#sk-4b42dd82-792c-4338-aa62-16a89867609d div.sk-label label {font-family: monospace;font-weight: bold;background-color: white;display: inline-block;line-height: 1.2em;}#sk-4b42dd82-792c-4338-aa62-16a89867609d div.sk-label-container {position: relative;z-index: 2;text-align: center;}#sk-4b42dd82-792c-4338-aa62-16a89867609d div.sk-container {display: inline-block;position: relative;}</style><div id=\"sk-4b42dd82-792c-4338-aa62-16a89867609d\" class\"sk-top-container\"><div class=\"sk-container\"><div class=\"sk-item sk-dashed-wrapped\"><div class=\"sk-label-container\"><div class=\"sk-label sk-toggleable\"><input class=\"sk-toggleable__control sk-hidden--visually\" id=\"050d648b-49d7-4001-bc5f-cd87d42069e0\" type=\"checkbox\" ><label class=\"sk-toggleable__label\" for=\"050d648b-49d7-4001-bc5f-cd87d42069e0\">GridSearchCV</label><div class=\"sk-toggleable__content\"><pre>GridSearchCV(estimator=Pipeline(steps=[('pre',\n",
       "                                        ColumnTransformer(transformers=[('cat_encoder',\n",
       "                                                                         OneHotEncoder(),\n",
       "                                                                         ['Mfg_Month',\n",
       "                                                                          'Fuel_Type',\n",
       "                                                                          'Color']),\n",
       "                                                                        ('ord_encoder',\n",
       "                                                                         OrdinalEncoder(),\n",
       "                                                                         ['Mfg_Year',\n",
       "                                                                          'Doors',\n",
       "                                                                          'Gears']),\n",
       "                                                                        ('num_encoder',\n",
       "                                                                         StandardScaler(),\n",
       "                                                                         Index(['Age_08_04', 'KM', 'HP', 'Met_Color', 'Automatic', 'CC',\n",
       "       'Quarterly_Tax', 'Weight', 'Mfr_Guarantee', 'BOVAG_Guaran...\n",
       "       'Guarantee_Period', 'ABS', 'Airbag_1', 'Airbag_2', 'Airco',\n",
       "       'Automatic_airco', 'Boardcomputer', 'CD_Player', 'Central_Lock',\n",
       "       'Powered_Windows', 'Power_Steering', 'Radio', 'Mistlamps',\n",
       "       'Sport_Model', 'Backseat_Divider', 'Metallic_Rim', 'Radio_cassette',\n",
       "       'Parking_Assistant', 'Tow_Bar'],\n",
       "      dtype='object'))])),\n",
       "                                       ('reg',\n",
       "                                        DecisionTreeRegressor(random_state=234))]),\n",
       "             param_grid={'reg__max_depth': [3, 4, 5]})</pre></div></div></div><div class=\"sk-parallel\"><div class=\"sk-parallel-item\"><div class=\"sk-item\"><div class=\"sk-serial\"><div class=\"sk-item\"><div class=\"sk-serial\"><div class=\"sk-item sk-dashed-wrapped\"><div class=\"sk-label-container\"><div class=\"sk-label sk-toggleable\"><input class=\"sk-toggleable__control sk-hidden--visually\" id=\"ddc43d01-dde7-4b6f-8d80-aa2534ccbd6c\" type=\"checkbox\" ><label class=\"sk-toggleable__label\" for=\"ddc43d01-dde7-4b6f-8d80-aa2534ccbd6c\">pre: ColumnTransformer</label><div class=\"sk-toggleable__content\"><pre>ColumnTransformer(transformers=[('cat_encoder', OneHotEncoder(),\n",
       "                                 ['Mfg_Month', 'Fuel_Type', 'Color']),\n",
       "                                ('ord_encoder', OrdinalEncoder(),\n",
       "                                 ['Mfg_Year', 'Doors', 'Gears']),\n",
       "                                ('num_encoder', StandardScaler(),\n",
       "                                 Index(['Age_08_04', 'KM', 'HP', 'Met_Color', 'Automatic', 'CC',\n",
       "       'Quarterly_Tax', 'Weight', 'Mfr_Guarantee', 'BOVAG_Guarantee',\n",
       "       'Guarantee_Period', 'ABS', 'Airbag_1', 'Airbag_2', 'Airco',\n",
       "       'Automatic_airco', 'Boardcomputer', 'CD_Player', 'Central_Lock',\n",
       "       'Powered_Windows', 'Power_Steering', 'Radio', 'Mistlamps',\n",
       "       'Sport_Model', 'Backseat_Divider', 'Metallic_Rim', 'Radio_cassette',\n",
       "       'Parking_Assistant', 'Tow_Bar'],\n",
       "      dtype='object'))])</pre></div></div></div><div class=\"sk-parallel\"><div class=\"sk-parallel-item\"><div class=\"sk-item\"><div class=\"sk-label-container\"><div class=\"sk-label sk-toggleable\"><input class=\"sk-toggleable__control sk-hidden--visually\" id=\"c302c6eb-21d0-4363-b2f0-47699ca26bf5\" type=\"checkbox\" ><label class=\"sk-toggleable__label\" for=\"c302c6eb-21d0-4363-b2f0-47699ca26bf5\">cat_encoder</label><div class=\"sk-toggleable__content\"><pre>['Mfg_Month', 'Fuel_Type', 'Color']</pre></div></div></div><div class=\"sk-serial\"><div class=\"sk-item\"><div class=\"sk-estimator sk-toggleable\"><input class=\"sk-toggleable__control sk-hidden--visually\" id=\"711473e9-e184-49fa-9e82-fe2ff000bc66\" type=\"checkbox\" ><label class=\"sk-toggleable__label\" for=\"711473e9-e184-49fa-9e82-fe2ff000bc66\">OneHotEncoder</label><div class=\"sk-toggleable__content\"><pre>OneHotEncoder()</pre></div></div></div></div></div></div><div class=\"sk-parallel-item\"><div class=\"sk-item\"><div class=\"sk-label-container\"><div class=\"sk-label sk-toggleable\"><input class=\"sk-toggleable__control sk-hidden--visually\" id=\"c701806f-a4e2-46de-b90e-69242ed2d82a\" type=\"checkbox\" ><label class=\"sk-toggleable__label\" for=\"c701806f-a4e2-46de-b90e-69242ed2d82a\">ord_encoder</label><div class=\"sk-toggleable__content\"><pre>['Mfg_Year', 'Doors', 'Gears']</pre></div></div></div><div class=\"sk-serial\"><div class=\"sk-item\"><div class=\"sk-estimator sk-toggleable\"><input class=\"sk-toggleable__control sk-hidden--visually\" id=\"ec7f4a99-b5e1-45b0-8860-976c6bfd4633\" type=\"checkbox\" ><label class=\"sk-toggleable__label\" for=\"ec7f4a99-b5e1-45b0-8860-976c6bfd4633\">OrdinalEncoder</label><div class=\"sk-toggleable__content\"><pre>OrdinalEncoder()</pre></div></div></div></div></div></div><div class=\"sk-parallel-item\"><div class=\"sk-item\"><div class=\"sk-label-container\"><div class=\"sk-label sk-toggleable\"><input class=\"sk-toggleable__control sk-hidden--visually\" id=\"ef3fbfd1-fe58-409f-a04b-a2651a2074ef\" type=\"checkbox\" ><label class=\"sk-toggleable__label\" for=\"ef3fbfd1-fe58-409f-a04b-a2651a2074ef\">num_encoder</label><div class=\"sk-toggleable__content\"><pre>Index(['Age_08_04', 'KM', 'HP', 'Met_Color', 'Automatic', 'CC',\n",
       "       'Quarterly_Tax', 'Weight', 'Mfr_Guarantee', 'BOVAG_Guarantee',\n",
       "       'Guarantee_Period', 'ABS', 'Airbag_1', 'Airbag_2', 'Airco',\n",
       "       'Automatic_airco', 'Boardcomputer', 'CD_Player', 'Central_Lock',\n",
       "       'Powered_Windows', 'Power_Steering', 'Radio', 'Mistlamps',\n",
       "       'Sport_Model', 'Backseat_Divider', 'Metallic_Rim', 'Radio_cassette',\n",
       "       'Parking_Assistant', 'Tow_Bar'],\n",
       "      dtype='object')</pre></div></div></div><div class=\"sk-serial\"><div class=\"sk-item\"><div class=\"sk-estimator sk-toggleable\"><input class=\"sk-toggleable__control sk-hidden--visually\" id=\"358778eb-b71a-4d1b-a0d1-a4e08ceb8124\" type=\"checkbox\" ><label class=\"sk-toggleable__label\" for=\"358778eb-b71a-4d1b-a0d1-a4e08ceb8124\">StandardScaler</label><div class=\"sk-toggleable__content\"><pre>StandardScaler()</pre></div></div></div></div></div></div></div></div><div class=\"sk-item\"><div class=\"sk-estimator sk-toggleable\"><input class=\"sk-toggleable__control sk-hidden--visually\" id=\"96292e18-1711-4ea0-a45d-90de82262f2d\" type=\"checkbox\" ><label class=\"sk-toggleable__label\" for=\"96292e18-1711-4ea0-a45d-90de82262f2d\">DecisionTreeRegressor</label><div class=\"sk-toggleable__content\"><pre>DecisionTreeRegressor(random_state=234)</pre></div></div></div></div></div></div></div></div></div></div></div></div>"
      ],
      "text/plain": [
       "GridSearchCV(estimator=Pipeline(steps=[('pre',\n",
       "                                        ColumnTransformer(transformers=[('cat_encoder',\n",
       "                                                                         OneHotEncoder(),\n",
       "                                                                         ['Mfg_Month',\n",
       "                                                                          'Fuel_Type',\n",
       "                                                                          'Color']),\n",
       "                                                                        ('ord_encoder',\n",
       "                                                                         OrdinalEncoder(),\n",
       "                                                                         ['Mfg_Year',\n",
       "                                                                          'Doors',\n",
       "                                                                          'Gears']),\n",
       "                                                                        ('num_encoder',\n",
       "                                                                         StandardScaler(),\n",
       "                                                                         Index(['Age_08_04', 'KM', 'HP', 'Met_Color', 'Automatic', 'CC',\n",
       "       'Quarterly_Tax', 'Weight', 'Mfr_Guarantee', 'BOVAG_Guaran...\n",
       "       'Guarantee_Period', 'ABS', 'Airbag_1', 'Airbag_2', 'Airco',\n",
       "       'Automatic_airco', 'Boardcomputer', 'CD_Player', 'Central_Lock',\n",
       "       'Powered_Windows', 'Power_Steering', 'Radio', 'Mistlamps',\n",
       "       'Sport_Model', 'Backseat_Divider', 'Metallic_Rim', 'Radio_cassette',\n",
       "       'Parking_Assistant', 'Tow_Bar'],\n",
       "      dtype='object'))])),\n",
       "                                       ('reg',\n",
       "                                        DecisionTreeRegressor(random_state=234))]),\n",
       "             param_grid={'reg__max_depth': [3, 4, 5]})"
      ]
     },
     "execution_count": 59,
     "metadata": {},
     "output_type": "execute_result"
    },
    {
     "data": {
      "text/html": [
       "<style>#sk-21ae11be-eb70-41a0-9b20-e5d50a672f8a {color: black;background-color: white;}#sk-21ae11be-eb70-41a0-9b20-e5d50a672f8a pre{padding: 0;}#sk-21ae11be-eb70-41a0-9b20-e5d50a672f8a div.sk-toggleable {background-color: white;}#sk-21ae11be-eb70-41a0-9b20-e5d50a672f8a label.sk-toggleable__label {cursor: pointer;display: block;width: 100%;margin-bottom: 0;padding: 0.2em 0.3em;box-sizing: border-box;text-align: center;}#sk-21ae11be-eb70-41a0-9b20-e5d50a672f8a div.sk-toggleable__content {max-height: 0;max-width: 0;overflow: hidden;text-align: left;background-color: #f0f8ff;}#sk-21ae11be-eb70-41a0-9b20-e5d50a672f8a div.sk-toggleable__content pre {margin: 0.2em;color: black;border-radius: 0.25em;background-color: #f0f8ff;}#sk-21ae11be-eb70-41a0-9b20-e5d50a672f8a input.sk-toggleable__control:checked~div.sk-toggleable__content {max-height: 200px;max-width: 100%;overflow: auto;}#sk-21ae11be-eb70-41a0-9b20-e5d50a672f8a div.sk-estimator input.sk-toggleable__control:checked~label.sk-toggleable__label {background-color: #d4ebff;}#sk-21ae11be-eb70-41a0-9b20-e5d50a672f8a div.sk-label input.sk-toggleable__control:checked~label.sk-toggleable__label {background-color: #d4ebff;}#sk-21ae11be-eb70-41a0-9b20-e5d50a672f8a input.sk-hidden--visually {border: 0;clip: rect(1px 1px 1px 1px);clip: rect(1px, 1px, 1px, 1px);height: 1px;margin: -1px;overflow: hidden;padding: 0;position: absolute;width: 1px;}#sk-21ae11be-eb70-41a0-9b20-e5d50a672f8a div.sk-estimator {font-family: monospace;background-color: #f0f8ff;margin: 0.25em 0.25em;border: 1px dotted black;border-radius: 0.25em;box-sizing: border-box;}#sk-21ae11be-eb70-41a0-9b20-e5d50a672f8a div.sk-estimator:hover {background-color: #d4ebff;}#sk-21ae11be-eb70-41a0-9b20-e5d50a672f8a div.sk-parallel-item::after {content: \"\";width: 100%;border-bottom: 1px solid gray;flex-grow: 1;}#sk-21ae11be-eb70-41a0-9b20-e5d50a672f8a div.sk-label:hover label.sk-toggleable__label {background-color: #d4ebff;}#sk-21ae11be-eb70-41a0-9b20-e5d50a672f8a div.sk-serial::before {content: \"\";position: absolute;border-left: 1px solid gray;box-sizing: border-box;top: 2em;bottom: 0;left: 50%;}#sk-21ae11be-eb70-41a0-9b20-e5d50a672f8a div.sk-serial {display: flex;flex-direction: column;align-items: center;background-color: white;}#sk-21ae11be-eb70-41a0-9b20-e5d50a672f8a div.sk-item {z-index: 1;}#sk-21ae11be-eb70-41a0-9b20-e5d50a672f8a div.sk-parallel {display: flex;align-items: stretch;justify-content: center;background-color: white;}#sk-21ae11be-eb70-41a0-9b20-e5d50a672f8a div.sk-parallel-item {display: flex;flex-direction: column;position: relative;background-color: white;}#sk-21ae11be-eb70-41a0-9b20-e5d50a672f8a div.sk-parallel-item:first-child::after {align-self: flex-end;width: 50%;}#sk-21ae11be-eb70-41a0-9b20-e5d50a672f8a div.sk-parallel-item:last-child::after {align-self: flex-start;width: 50%;}#sk-21ae11be-eb70-41a0-9b20-e5d50a672f8a div.sk-parallel-item:only-child::after {width: 0;}#sk-21ae11be-eb70-41a0-9b20-e5d50a672f8a div.sk-dashed-wrapped {border: 1px dashed gray;margin: 0.2em;box-sizing: border-box;padding-bottom: 0.1em;background-color: white;position: relative;}#sk-21ae11be-eb70-41a0-9b20-e5d50a672f8a div.sk-label label {font-family: monospace;font-weight: bold;background-color: white;display: inline-block;line-height: 1.2em;}#sk-21ae11be-eb70-41a0-9b20-e5d50a672f8a div.sk-label-container {position: relative;z-index: 2;text-align: center;}#sk-21ae11be-eb70-41a0-9b20-e5d50a672f8a div.sk-container {display: inline-block;position: relative;}</style><div id=\"sk-21ae11be-eb70-41a0-9b20-e5d50a672f8a\" class\"sk-top-container\"><div class=\"sk-container\"><div class=\"sk-item sk-dashed-wrapped\"><div class=\"sk-label-container\"><div class=\"sk-label sk-toggleable\"><input class=\"sk-toggleable__control sk-hidden--visually\" id=\"cd06304a-4de1-425b-8e2b-95436835d67f\" type=\"checkbox\" ><label class=\"sk-toggleable__label\" for=\"cd06304a-4de1-425b-8e2b-95436835d67f\">Pipeline</label><div class=\"sk-toggleable__content\"><pre>Pipeline(steps=[('pre',\n",
       "                 ColumnTransformer(transformers=[('cat_encoder',\n",
       "                                                  OneHotEncoder(),\n",
       "                                                  ['Mfg_Month', 'Fuel_Type',\n",
       "                                                   'Color']),\n",
       "                                                 ('ord_encoder',\n",
       "                                                  OrdinalEncoder(),\n",
       "                                                  ['Mfg_Year', 'Doors',\n",
       "                                                   'Gears']),\n",
       "                                                 ('num_encoder',\n",
       "                                                  StandardScaler(),\n",
       "                                                  Index(['Age_08_04', 'KM', 'HP', 'Met_Color', 'Automatic', 'CC',\n",
       "       'Quarterly_Tax', 'Weight', 'Mfr_Guarantee', 'BOVAG_Guarantee',\n",
       "       'Guarantee_Period', 'ABS', 'Airbag_1', 'Airbag_2', 'Airco',\n",
       "       'Automatic_airco', 'Boardcomputer', 'CD_Player', 'Central_Lock',\n",
       "       'Powered_Windows', 'Power_Steering', 'Radio', 'Mistlamps',\n",
       "       'Sport_Model', 'Backseat_Divider', 'Metallic_Rim', 'Radio_cassette',\n",
       "       'Parking_Assistant', 'Tow_Bar'],\n",
       "      dtype='object'))])),\n",
       "                ('reg', DecisionTreeRegressor(max_depth=3, random_state=234))])</pre></div></div></div><div class=\"sk-serial\"><div class=\"sk-item sk-dashed-wrapped\"><div class=\"sk-label-container\"><div class=\"sk-label sk-toggleable\"><input class=\"sk-toggleable__control sk-hidden--visually\" id=\"43f4da48-94e8-4f37-9776-84ff577fea13\" type=\"checkbox\" ><label class=\"sk-toggleable__label\" for=\"43f4da48-94e8-4f37-9776-84ff577fea13\">pre: ColumnTransformer</label><div class=\"sk-toggleable__content\"><pre>ColumnTransformer(transformers=[('cat_encoder', OneHotEncoder(),\n",
       "                                 ['Mfg_Month', 'Fuel_Type', 'Color']),\n",
       "                                ('ord_encoder', OrdinalEncoder(),\n",
       "                                 ['Mfg_Year', 'Doors', 'Gears']),\n",
       "                                ('num_encoder', StandardScaler(),\n",
       "                                 Index(['Age_08_04', 'KM', 'HP', 'Met_Color', 'Automatic', 'CC',\n",
       "       'Quarterly_Tax', 'Weight', 'Mfr_Guarantee', 'BOVAG_Guarantee',\n",
       "       'Guarantee_Period', 'ABS', 'Airbag_1', 'Airbag_2', 'Airco',\n",
       "       'Automatic_airco', 'Boardcomputer', 'CD_Player', 'Central_Lock',\n",
       "       'Powered_Windows', 'Power_Steering', 'Radio', 'Mistlamps',\n",
       "       'Sport_Model', 'Backseat_Divider', 'Metallic_Rim', 'Radio_cassette',\n",
       "       'Parking_Assistant', 'Tow_Bar'],\n",
       "      dtype='object'))])</pre></div></div></div><div class=\"sk-parallel\"><div class=\"sk-parallel-item\"><div class=\"sk-item\"><div class=\"sk-label-container\"><div class=\"sk-label sk-toggleable\"><input class=\"sk-toggleable__control sk-hidden--visually\" id=\"8ff188dc-707d-409a-9ca2-ff3241b20217\" type=\"checkbox\" ><label class=\"sk-toggleable__label\" for=\"8ff188dc-707d-409a-9ca2-ff3241b20217\">cat_encoder</label><div class=\"sk-toggleable__content\"><pre>['Mfg_Month', 'Fuel_Type', 'Color']</pre></div></div></div><div class=\"sk-serial\"><div class=\"sk-item\"><div class=\"sk-estimator sk-toggleable\"><input class=\"sk-toggleable__control sk-hidden--visually\" id=\"16595e23-3c6a-4d2a-85f1-49af11134968\" type=\"checkbox\" ><label class=\"sk-toggleable__label\" for=\"16595e23-3c6a-4d2a-85f1-49af11134968\">OneHotEncoder</label><div class=\"sk-toggleable__content\"><pre>OneHotEncoder()</pre></div></div></div></div></div></div><div class=\"sk-parallel-item\"><div class=\"sk-item\"><div class=\"sk-label-container\"><div class=\"sk-label sk-toggleable\"><input class=\"sk-toggleable__control sk-hidden--visually\" id=\"1c50b297-59c4-4160-b3e5-c074e35c399f\" type=\"checkbox\" ><label class=\"sk-toggleable__label\" for=\"1c50b297-59c4-4160-b3e5-c074e35c399f\">ord_encoder</label><div class=\"sk-toggleable__content\"><pre>['Mfg_Year', 'Doors', 'Gears']</pre></div></div></div><div class=\"sk-serial\"><div class=\"sk-item\"><div class=\"sk-estimator sk-toggleable\"><input class=\"sk-toggleable__control sk-hidden--visually\" id=\"bd44c5da-9f5e-44b6-b3f3-ebe7648fe660\" type=\"checkbox\" ><label class=\"sk-toggleable__label\" for=\"bd44c5da-9f5e-44b6-b3f3-ebe7648fe660\">OrdinalEncoder</label><div class=\"sk-toggleable__content\"><pre>OrdinalEncoder()</pre></div></div></div></div></div></div><div class=\"sk-parallel-item\"><div class=\"sk-item\"><div class=\"sk-label-container\"><div class=\"sk-label sk-toggleable\"><input class=\"sk-toggleable__control sk-hidden--visually\" id=\"c33dbda8-1a69-48bc-b64d-2f4f84d95fb3\" type=\"checkbox\" ><label class=\"sk-toggleable__label\" for=\"c33dbda8-1a69-48bc-b64d-2f4f84d95fb3\">num_encoder</label><div class=\"sk-toggleable__content\"><pre>Index(['Age_08_04', 'KM', 'HP', 'Met_Color', 'Automatic', 'CC',\n",
       "       'Quarterly_Tax', 'Weight', 'Mfr_Guarantee', 'BOVAG_Guarantee',\n",
       "       'Guarantee_Period', 'ABS', 'Airbag_1', 'Airbag_2', 'Airco',\n",
       "       'Automatic_airco', 'Boardcomputer', 'CD_Player', 'Central_Lock',\n",
       "       'Powered_Windows', 'Power_Steering', 'Radio', 'Mistlamps',\n",
       "       'Sport_Model', 'Backseat_Divider', 'Metallic_Rim', 'Radio_cassette',\n",
       "       'Parking_Assistant', 'Tow_Bar'],\n",
       "      dtype='object')</pre></div></div></div><div class=\"sk-serial\"><div class=\"sk-item\"><div class=\"sk-estimator sk-toggleable\"><input class=\"sk-toggleable__control sk-hidden--visually\" id=\"66ee586f-16a5-4d4b-aed9-f4dc467eaaf9\" type=\"checkbox\" ><label class=\"sk-toggleable__label\" for=\"66ee586f-16a5-4d4b-aed9-f4dc467eaaf9\">StandardScaler</label><div class=\"sk-toggleable__content\"><pre>StandardScaler()</pre></div></div></div></div></div></div></div></div><div class=\"sk-item\"><div class=\"sk-estimator sk-toggleable\"><input class=\"sk-toggleable__control sk-hidden--visually\" id=\"522a0e27-9617-46d4-84a6-cfb4d214c301\" type=\"checkbox\" ><label class=\"sk-toggleable__label\" for=\"522a0e27-9617-46d4-84a6-cfb4d214c301\">DecisionTreeRegressor</label><div class=\"sk-toggleable__content\"><pre>DecisionTreeRegressor(max_depth=3, random_state=234)</pre></div></div></div></div></div></div></div>"
      ],
      "text/plain": [
       "Pipeline(steps=[('pre',\n",
       "                 ColumnTransformer(transformers=[('cat_encoder',\n",
       "                                                  OneHotEncoder(),\n",
       "                                                  ['Mfg_Month', 'Fuel_Type',\n",
       "                                                   'Color']),\n",
       "                                                 ('ord_encoder',\n",
       "                                                  OrdinalEncoder(),\n",
       "                                                  ['Mfg_Year', 'Doors',\n",
       "                                                   'Gears']),\n",
       "                                                 ('num_encoder',\n",
       "                                                  StandardScaler(),\n",
       "                                                  Index(['Age_08_04', 'KM', 'HP', 'Met_Color', 'Automatic', 'CC',\n",
       "       'Quarterly_Tax', 'Weight', 'Mfr_Guarantee', 'BOVAG_Guarantee',\n",
       "       'Guarantee_Period', 'ABS', 'Airbag_1', 'Airbag_2', 'Airco',\n",
       "       'Automatic_airco', 'Boardcomputer', 'CD_Player', 'Central_Lock',\n",
       "       'Powered_Windows', 'Power_Steering', 'Radio', 'Mistlamps',\n",
       "       'Sport_Model', 'Backseat_Divider', 'Metallic_Rim', 'Radio_cassette',\n",
       "       'Parking_Assistant', 'Tow_Bar'],\n",
       "      dtype='object'))])),\n",
       "                ('reg', DecisionTreeRegressor(max_depth=3, random_state=234))])"
      ]
     },
     "execution_count": 59,
     "metadata": {},
     "output_type": "execute_result"
    }
   ],
   "source": [
    "param_grid2 = {'reg__max_depth': [3,4,5]}\n",
    "dtr = DecisionTreeRegressor(random_state=234)\n",
    "pipe2 = Pipeline([('pre',pre_processing_transform), (\"reg\",dtr)])\n",
    "dt_reg = GridSearchCV(pipe2,param_grid=param_grid2)\n",
    "dt_reg.fit(X_train, y_train)\n",
    "best= dt_reg.best_estimator_\n",
    "best"
   ]
  }
 ],
 "metadata": {
  "interpreter": {
   "hash": "d4d1e4263499bec80672ea0156c357c1ee493ec2b1c70f0acce89fc37c4a6abe"
  },
  "kernelspec": {
   "display_name": "Python 3.9.7 ('base')",
   "language": "python",
   "name": "python3"
  },
  "language_info": {
   "codemirror_mode": {
    "name": "ipython",
    "version": 3
   },
   "file_extension": ".py",
   "mimetype": "text/x-python",
   "name": "python",
   "nbconvert_exporter": "python",
   "pygments_lexer": "ipython3",
   "version": "3.9.7"
  }
 },
 "nbformat": 4,
 "nbformat_minor": 2
}
