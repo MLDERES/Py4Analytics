{
 "cells": [
  {
   "cell_type": "markdown",
   "metadata": {},
   "source": [
    "# Introduction\n",
    "The purpose of this lesson is to expose students to libraries for preparing and manipulating \"rectangular\" data files (that is data which has both rows and columns, where each row has the same number of columns).\n",
    "\n",
    "If you haven't already reviewed the associated [Lesson4](04-Lesson4.ipynb), then you should review it first."
   ]
  },
  {
   "cell_type": "markdown",
   "metadata": {},
   "source": [
    "The next cell is one that will appear in some configuration as the first in nearly every notebook.  It imports the key libraries we are going to use in our analysis and model building.  In the first case, we will depend on pandas and numpy for our data manipulation and we'll leverage matplotlib as our graphical library.  We'll also use the seaborn library to show off a few plots and visuals that are not quite as readily accessible with the matplotlib library."
   ]
  },
  {
   "cell_type": "code",
   "execution_count": null,
   "metadata": {},
   "outputs": [],
   "source": [
    "# Setup code\n",
    "# Import relevant libraries\n",
    "import pandas as pd\n",
    "import numpy as np\n",
    "import matplotlib.pyplot as plt\n",
    "\n",
    "import seaborn as sns\n",
    "import sys\n",
    "sys.path.append('..')\n",
    "from src.data import load_data, convert_to_bool\n",
    "\n",
    "# Limit the precision to 4 significant digits\n",
    "pd.set_option('display.precision',4)\n",
    "# Load up the housing dataset\n",
    "housing_df = load_data('BostonHousing')\n",
    "# Change the column to be more convenient (notice the space between . MEDV)\n",
    "housing_df.rename(columns={'CAT. MEDV':'CAT_MEDV'},inplace=True)\n",
    "convert_to_bool(housing_df, 'CAT_MEDV',inplace=True)\n"
   ]
  },
  {
   "cell_type": "markdown",
   "metadata": {},
   "source": [
    "## Business Context - Boston Housing\n",
    "Each record in the database describes a Boston suburb or town. The data was drawn from the Boston Standard Metropolitan Statistical Area (SMSA) in 1970. The attributes are deﬁned as follows (taken from the [UCI Machine Learning Repository](https://archive.ics.uci.edu/ml/machine-learning-databases/housing/)):\n",
    "\n",
    "- **CRIM**: per capita crime rate by town\n",
    "- **ZN**: proportion of residential land zoned for lots over 25,000 sq.ft.\n",
    "- **INDUS**: proportion of non-retail business acres per town\n",
    "- **CHAS**: Charles River dummy variable (= 1 if tract bounds river; 0 otherwise)\n",
    "- **NOX**: nitric oxides concentration (parts per 10 million)\n",
    "- **RM**: average number of rooms per dwelling\n",
    "- **AGE**: proportion of owner-occupied units built prior to 1940\n",
    "- **DIS**: weighted distances to ﬁve Boston employment centers\n",
    "- **RAD**: index of accessibility to radial highways\n",
    "- **TAX**: full-value property-tax rate per 10,000\n",
    "- **PTRATIO**: pupil-teacher ratio by town\n",
    "- **B**: 1000(Bk−0.63)2 where Bk is the proportion of blacks by town\n",
    "- **LSTAT**: % lower status of the population\n",
    "- **MEDV**: Median value of owner-occupied homes in 1000s\n",
    "- **CAT. MEDV**: Is median value of owner-occupied home in tract above $30k (CAT.MEDV = 1) or not (CAT.MEDV = 0)"
   ]
  },
  {
   "cell_type": "code",
   "execution_count": null,
   "metadata": {},
   "outputs": [],
   "source": [
    "# Question 1\n",
    "# Display the first 20 rows of the housing dataframe\n"
   ]
  },
  {
   "cell_type": "code",
   "execution_count": null,
   "metadata": {},
   "outputs": [],
   "source": [
    "# Question 2\n",
    "# Output the items that are at least 70 years old\n"
   ]
  },
  {
   "cell_type": "code",
   "execution_count": null,
   "metadata": {},
   "outputs": [],
   "source": [
    "# Question 3\n",
    "# Find the average age of houses in districts near the Charles river (CHAS=1) and those which don't\n"
   ]
  },
  {
   "cell_type": "code",
   "execution_count": null,
   "metadata": {},
   "outputs": [],
   "source": [
    "# Question 4\n",
    "# Which town has the highest pupil to teach ratio?\n",
    "# HINT: Find the highest value, then filter the list for items with this value (there are two of them)\n"
   ]
  },
  {
   "cell_type": "markdown",
   "metadata": {},
   "source": [
    "# Cereal\n",
    "* __Source__: DATA ANALYSIS FOR STUDENT LEARNING (DASL)\n",
    "1. Name: Name of cereal\n",
    "2. mfr: Manufacturer of cereal where A = American Home Food Products; G = General Mills; K = \n",
    "    Kelloggs; N = Nabisco; P = Post; Q = Quaker Oats; R = Ralston Purina\n",
    "3. type: cold or hot\n",
    "4. calories: calories per serving\n",
    "5. protein: grams of protein\n",
    "6. fat: grams of fat\n",
    "7. sodium: milligrams of sodium\n",
    "8. fiber: grams of dietary fiber\n",
    "9.  carbo: grams of complex carbohydrates\n",
    "10. sugars: grams of sugars\n",
    "11. potass: milligrams of potassium\n",
    "12. vitamins: vitamins and minerals - 0, 25, or 100, indicating the typical percentage of FDA \n",
    "      recommended\n",
    "13. shelf: display shelf (1, 2, or 3, counting from the floor)\n",
    "14. weight: weight in ounces of one serving\n",
    "15. cups: number of cups in one serving\n",
    "16. rating: a rating of the cereals calculated by Consumer Reports\n",
    "\n",
    "## Cereal Data\n",
    "Use the cereals dataset to answer the following questions"
   ]
  },
  {
   "cell_type": "code",
   "execution_count": null,
   "metadata": {},
   "outputs": [],
   "source": [
    "# Load the cereals data\n",
    "cereal_df = load_data('Cereals')\n",
    "cereal_df"
   ]
  },
  {
   "cell_type": "code",
   "execution_count": null,
   "metadata": {},
   "outputs": [],
   "source": [
    "# Question 5\n",
    "# Plot the calories on a histogram\n"
   ]
  },
  {
   "cell_type": "code",
   "execution_count": null,
   "metadata": {},
   "outputs": [],
   "source": [
    "# Question 6\n",
    "# Use a boxplot to compare cereal manufactures and the amount of sugar they put in their cereal\n",
    "# Put a title on your plot 'Sugars by manufacturer'\n"
   ]
  },
  {
   "cell_type": "markdown",
   "metadata": {},
   "source": [
    "Your plot should look like this\n",
    "\n",
    "\n",
    "![sugars_by_mfr](../img/sugarsbymfg.jpg)"
   ]
  },
  {
   "cell_type": "code",
   "execution_count": null,
   "metadata": {},
   "outputs": [],
   "source": [
    "# Question 7\n",
    "# Replace the single letters with the manufacturers full name, call the new column Manufacturer\n",
    "# Display the new dataframe\n",
    "# HINT: pandas offers a replace function that you can do this in one line\n",
    "# https://pandas.pydata.org/pandas-docs/stable/reference/api/pandas.Series.replace.html?highlight=replace#pandas.Series.replace\n"
   ]
  },
  {
   "cell_type": "code",
   "execution_count": null,
   "metadata": {},
   "outputs": [],
   "source": [
    "# Question 8\n",
    "# Calculate the average rating by Manufacturer (use the new Manufacturer column)\n"
   ]
  },
  {
   "cell_type": "code",
   "execution_count": null,
   "metadata": {},
   "outputs": [],
   "source": [
    "# Question 9\n",
    "# Calculate the serving size (weight) in grams rather than ounces\n",
    "# Store the value in a new column weight_grams\n",
    "# Display the updated dataframe\n",
    "# HINT: There are 28.35 grams in an ounce\n"
   ]
  },
  {
   "cell_type": "code",
   "execution_count": null,
   "metadata": {},
   "outputs": [],
   "source": [
    "# Question 10\n",
    "# Using the new weight_grams column, calculate a new series sugars_pct which is the grams of sugar per gram of cereal\n",
    "# Sort the dataframe from highest to lowest sugar_pct and display the dataframe\n",
    "# HINT: Check out the pandas function `sort_values` \n",
    "# https://pandas.pydata.org/pandas-docs/stable/reference/api/pandas.DataFrame.sort_values.html?highlight=sort_values#pandas.DataFrame.sort_values\n",
    "# Look at the examples\n",
    "\n"
   ]
  }
 ],
 "metadata": {
  "kernelspec": {
   "display_name": "Python 3.9.12 ('base')",
   "language": "python",
   "name": "python3"
  },
  "language_info": {
   "codemirror_mode": {
    "name": "ipython",
    "version": 3
   },
   "file_extension": ".py",
   "mimetype": "text/x-python",
   "name": "python",
   "nbconvert_exporter": "python",
   "pygments_lexer": "ipython3",
   "version": "3.9.12"
  },
  "orig_nbformat": 4,
  "vscode": {
   "interpreter": {
    "hash": "d4d1e4263499bec80672ea0156c357c1ee493ec2b1c70f0acce89fc37c4a6abe"
   }
  }
 },
 "nbformat": 4,
 "nbformat_minor": 2
}
