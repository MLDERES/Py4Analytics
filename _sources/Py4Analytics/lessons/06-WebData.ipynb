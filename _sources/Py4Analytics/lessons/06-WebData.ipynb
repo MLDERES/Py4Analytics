{
 "cells": [
  {
   "cell_type": "markdown",
   "metadata": {},
   "source": [
    "# Gather data from the web\n",
    "As a data analyst, data is the fuel that drives the engine of discovery.  Often times this means using data we have collected with web forms, using external systems or via some business process.  Occassionally, we'll be given the data directly or we can download some data from a webpage that meets our needs.  Being able to gather data from sources on the web is a skill that is often very useful.  Wouldn't it be great if you could download [weather data predictions](https://www.abstractapi.com/api/weather#:~:text=What%20does%20the%20Weather%20API%20do%3F%20Abstract%27s%20Weather,and%20forecasted%20weather%20data%20for%20millions%20of%20locations.) as part of your morning routine, or grab [movies reviews](https://www.rottentomatoes.com/) to make plans for the weekend or even get data from the [James Webb Telescope](https://www.nasa.gov/mission_pages/webb/about/index.html) so you can process your own images from outer space!\n",
    "\n",
    "Well fortunately you have most of the skills you need to do some of these things already.  In this notebook, we'll look at a few ways to get at data on the web, this is not comprehensive, but it should give you a start in the right direction.  One key skill this notebook leaves out is automating a webpage (like filling out a form or hitting a submit button) this automation takes a bit of extra setup and doesn't work well in a Jupyter notebook, but there are tools that can be helpful.  Check out [selenium](https://www.geeksforgeeks.org/selenium-python-tutorial/) and [scrapy](https://docs.scrapy.org/en/latest/intro/tutorial.html) for a couple of approaches that use Python.\n",
    "\n",
    "## Simple Webscraping with Pandas\n",
    "Believe it or not, one of the simplest ways to get data from the web is to use `pandas`, the `read_html` function is fantastic and simple.  All we need is to install a couple libraries and then we can gather data from simpler web pages very quickly.\n",
    "\n",
    "In this first example, I went to [boxofficemojo.com](https://www.boxofficemojo.com/) and I selected a particular page where I saw some data I needed.  In this case, [Top Lifetime Grosses by MPAA Rating for PG-13 movies](https://www.boxofficemojo.com/chart/mpaa_title_lifetime_gross/?by_mpaa=PG-13&ref_=bo_cso_ac).  Looking at this page, I can see that there are about 200 movies on the first page.  This is enough for our purposes.  Next, I captured the URL (the link in the browser) and I use this to open with the `pandas` library.  Be careful, the result of the `read_html` method is a *list* of dataframes, so we'll have to know which one we are after.  In this particular case there is only one data frame, so we can use that one.\n"
   ]
  },
  {
   "cell_type": "code",
   "execution_count": null,
   "metadata": {},
   "outputs": [],
   "source": [
    "# Start by importing a couple of libraries\n",
    "import pandas as pd\n",
    "movies = pd.read_html(\"https://www.boxofficemojo.com/chart/mpaa_title_lifetime_gross/?by_mpaa=PG-13&ref_=bo_cso_ac\")\n",
    "print(len(movies))"
   ]
  },
  {
   "cell_type": "code",
   "execution_count": null,
   "metadata": {},
   "outputs": [],
   "source": [
    "# Since there is only one dataframe in the list, we choose the first one\n",
    "movies_df = movies[0]\n",
    "movies_df"
   ]
  },
  {
   "cell_type": "markdown",
   "metadata": {},
   "source": [
    "With one simple command, we have scraped 200 rows of data!  A little clicking [around on the website](https://www.boxofficemojo.com/chart/mpaa_title_lifetime_gross/?by_mpaa=PG-13&offset=200) and I can gather another page of movies as well.\n",
    "\n",
    "Now, with a little detective work I can see that the only difference between the two URLs is that last item `offset=200`.  I wonder what happens if I change that value to `offset=400`?  Try it, I'll wait here...."
   ]
  },
  {
   "cell_type": "code",
   "execution_count": null,
   "metadata": {},
   "outputs": [],
   "source": [
    "# Since I already know there is only 1 dataframe in the list, let's just grab the first one immediately\n",
    "movies_200_df = pd.read_html(\"https://www.boxofficemojo.com/chart/mpaa_title_lifetime_gross/?by_mpaa=PG-13&offset=200\")[0]\n",
    "movies_200_df"
   ]
  },
  {
   "cell_type": "markdown",
   "metadata": {},
   "source": [
    "You can see where this is going right?  I could easily setup a loop and simply change the value of `offset` from 200 to 400 to 600 to 800 and gather all the top 1000 movies."
   ]
  },
  {
   "cell_type": "code",
   "execution_count": null,
   "metadata": {},
   "outputs": [],
   "source": [
    "# Build the basic url string\n",
    "base_url = 'https://www.boxofficemojo.com/chart/mpaa_title_lifetime_gross/?by_mpaa=PG-13'\n",
    "\n",
    "# Start over with our movies dataframe, in case this cell runs more than once\n",
    "movies_df = pd.read_html(base_url)[0]\n",
    "# We need a list to put all the dataframes in prior to joining it back together\n",
    "movie_list = []\n",
    "# Go through the loop by 200s from 200 to 1000 (step = 200)\n",
    "for offset in range(200,1000,200):\n",
    "    # Store 200 movies at a time into a temporary dataframe\n",
    "    temp_url = base_url+f'&offset={offset}'\n",
    "    print (temp_url)\n",
    "    m_df = pd.read_html(temp_url)[0]\n",
    "    movie_list.append(m_df)\n",
    "\n",
    "# Now that we have all the movies in a list, append the datasets together into one master dataframe\n",
    "movies_df = movies_df.append(movie_list,ignore_index=True)\n",
    "movies_df\n"
   ]
  },
  {
   "cell_type": "markdown",
   "metadata": {},
   "source": [
    "Now that is super helpful!  We just downloaded 1000 top grossing pg-13 rated movies in a few seconds.  But what exactly was that thing we did at the end, the whole `offset=200` thing.  This is called a query parameter and be a very transparent way for webpages to communicate to the server about the data they want.\n",
    "\n",
    "## Query parameters\n",
    "A bit of background, (a very little bit), web page links usually only \"resolve\" to a particular page on a particular server.  The webserver looks up the page and returns whatever is stored there.  This isn't very handy if you have alot of data to display - for instance in the case of boxofficemojo.com, they don't want to have to create 5 different web pages for each set of 200 movies.  So instead they built one web page and used parameters (yes!  just like function parameters in Python) which define the exact contents to display.  Fortunately for us, this makes it very transparent how to manipulate the page.  We can see exactly what details the server needs to give the data we want.\n",
    "\n",
    "The URL format is, `<protocol>` (like https://) followed by the endpoint (www.boxofficemojo.com/chart/mpaa_title_lifetime_gross) then a `?` followed by 0 or more query parameters.  Query parameters are name/value pairs and delimited by an `&`.  So let's look at that url from before again.\n",
    "\n",
    "> https://www.boxofficemojo.com/chart/mpaa_title_lifetime_gross/?by_mpaa=PG-13&offset=200\n",
    "\n",
    "Here the query parameters are `by_mpaa` and `offset`.  So that's interesting, now that we notice this, it's possible that we could change the `by_mpaa` parameter as well and get R rated movies as well?  Let's try it by hand first.  Paste the link into the website and change the PG-13 to R and see what happens.\n",
    "\n",
    "That's great, so with a simple change we could also R rated movies in a dataframe as well.  (You can copy the code above and try it out for yourself below)."
   ]
  },
  {
   "cell_type": "code",
   "execution_count": null,
   "metadata": {},
   "outputs": [],
   "source": [
    "# Copy the code from above and replace PG-13 with R to get the top 100 grossing R rated movies"
   ]
  },
  {
   "cell_type": "markdown",
   "metadata": {},
   "source": [
    "It's kind of a pain to navigate all that string building and trying to keep up with encoding each part of the URL.  Spaces for instance, can't be used in a parameter and what if you need to use an `&` symbol for a parameter name.  Well fortunately, we have a helpful built-in library called `urllib` which takes care to make sure our format is right everytime.  All we need to do is supply a dictionary of parameters and tell the library to encode it into a proper request."
   ]
  },
  {
   "cell_type": "code",
   "execution_count": null,
   "metadata": {},
   "outputs": [],
   "source": [
    "from urllib.parse import urlencode\n",
    "\n",
    "# Build the basic url string\n",
    "base_url = 'https://www.boxofficemojo.com/chart/mpaa_title_lifetime_gross/?'\n",
    "\n",
    "# Setup the parameters\n",
    "params = {'by_mpaa':'R','offset':0}\n",
    "print(base_url + urlencode(params))"
   ]
  },
  {
   "cell_type": "markdown",
   "metadata": {},
   "source": [
    "# Using APIs \n",
    "Another common way to get data from a website is with a known endpoint.  While the concepts for using these endpoints are similar, the implementation is usually left to the specific webpage based on the kind of information provided, so it's a bit difficult to generalize.  Here we'll look at an example that is very useful and gives a sense of the Python tools used to navigate the endpoint when you see something similar.\n",
    "\n",
    "## Using the requests library\n",
    "The [`requests`](https://requests.readthedocs.io/en/latest/) library is a very common library for automating the interaction with webpages.  There are lots and lots of features, we'll focus on just a few.  For more information, you can see the excellent documentation [here](https://requests.readthedocs.io/en/latest/).\n",
    "\n",
    "There are several different request types that can sent to a webpage (GET, PUT, DELETE, HEAD, et al). GET is used to navigate a static website, sometimes using query parameters as we have seen already.  PUT and POST are used to submit data on a form.  We'll leave the others for a more advanced treatise.  For our purposes, we'll just take a look at GET.  \n",
    "\n",
    "Let's take a new example.  What if we want get the current price of bitcoin?\n"
   ]
  },
  {
   "cell_type": "code",
   "execution_count": null,
   "metadata": {},
   "outputs": [],
   "source": [
    "import requests\n",
    "\n",
    "url = 'https://api.coindesk.com/v1/bpi/currentprice.json'\n",
    "r= requests.get(url)\n",
    "r.text\n"
   ]
  },
  {
   "cell_type": "markdown",
   "metadata": {},
   "source": [
    "That was easy.  Notice we always get a response object, which may be a number of different formats, it could be HTML/text, JSON, or even some binary format (useful for images or encoded data).  We asked for the result as text, but in reality this looks like JSON.  We could apply the JSON methods we've learned earlier to turn this into a dictionary, but `requests` helps us out a bit with this by offering a method to get the response as a JSON like object."
   ]
  },
  {
   "cell_type": "code",
   "execution_count": null,
   "metadata": {},
   "outputs": [],
   "source": [
    "url = 'https://api.coindesk.com/v1/bpi/currentprice.json'\n",
    "r= requests.get(url)\n",
    "bitcoin_json = r.json()\n",
    "print(type(bitcoin_json))\n",
    "bitcoin_json"
   ]
  },
  {
   "cell_type": "markdown",
   "metadata": {},
   "source": [
    "So we already get the data as a dictionary!  This is helpful.  We could do something useful without much issue then."
   ]
  },
  {
   "cell_type": "code",
   "execution_count": null,
   "metadata": {},
   "outputs": [],
   "source": [
    "# Give the user the current price of Bitcoin in USD, GBP, and EUR\n",
    "price_index = bitcoin_json['bpi']\n",
    "last_update = bitcoin_json['time'][\"updated\"]\n",
    "print(f'As of {last_update}')\n",
    "for currency in ['USD', 'GBP', 'EUR']:\n",
    "    units = price_index[currency]\n",
    "    print(f'\\tCurrent price of bitcoin in {currency}: {units[\"rate\"]}')"
   ]
  },
  {
   "cell_type": "markdown",
   "metadata": {},
   "source": [
    "Parameters are dealt with in a similar way as with the `urlparse` library above, we put the parameters into a dictionary and pass them along.  Following is an example of finding out when the International Space Station will pass over a specific point."
   ]
  },
  {
   "cell_type": "code",
   "execution_count": null,
   "metadata": {},
   "outputs": [],
   "source": [
    "iss_url = \"http://api.open-notify.org/iss-pass.json\"\n",
    "query_params = {'lat':'45', 'lon':'180'}\n",
    "resp = requests.get(iss_url,params=query_params)\n",
    "resp.json()"
   ]
  },
  {
   "cell_type": "markdown",
   "metadata": {},
   "source": [
    "## Using APIs\n",
    "### Query Based Parameters\n",
    "### REST services\n",
    "\n",
    "## Simple Webscraping with BeautifulSoup"
   ]
  }
 ],
 "metadata": {
  "kernelspec": {
   "display_name": "Python 3.9.12 ('base')",
   "language": "python",
   "name": "python3"
  },
  "language_info": {
   "codemirror_mode": {
    "name": "ipython",
    "version": 3
   },
   "file_extension": ".py",
   "mimetype": "text/x-python",
   "name": "python",
   "nbconvert_exporter": "python",
   "pygments_lexer": "ipython3",
   "version": "3.9.12"
  },
  "orig_nbformat": 4,
  "vscode": {
   "interpreter": {
    "hash": "d4d1e4263499bec80672ea0156c357c1ee493ec2b1c70f0acce89fc37c4a6abe"
   }
  }
 },
 "nbformat": 4,
 "nbformat_minor": 2
}
