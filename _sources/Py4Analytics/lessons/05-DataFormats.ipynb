{
 "cells": [
  {
   "cell_type": "markdown",
   "metadata": {},
   "source": [
    "# Getting Data\n",
    "In this notebook, we'll look at a few different data formats that are common in analytics.  This includes, delimited formats (.csv), extensible markup language (.xml) and javascript notation (.json) formats.  There are several other types of data files that you may come across, but these are common for a couple reasons.\n",
    "* Portability.  This means that the files can be shared across different kinds of computer operating systems without too much trouble\n",
    "* Readibility.  There is no special encoding for these files.  They can be created or opened with a standard text editor.  \n",
    "* Compatibility.  Because they are easy to pass around and simple to understand they are supported by lots and lots of platforms."
   ]
  },
  {
   "cell_type": "markdown",
   "metadata": {},
   "source": [
    "## Deliminited formats\n",
    "Probably the most common format for portable files is the delimited format (often comma-delimited).  In these files, each line represents a single record and the fields of each record are denoted by some kind of special separator character (usually a comma and sometimes a tab or space).  There are no rules for these kinds of files, just conventions.  For instance, the first line of the file is typically a \"header\" record.  This record serves to describe the contents in the rows that follow.  This makes is straightforward for someone reading the file to understanding what is expected in the data rows.  Take for instance\n",
    "> \n",
    "> ```\n",
    "> Id,Name,Phone Number\n",
    "> 1,Alice,555-1234\n",
    "> 2,Bob,555-0898\n",
    "> 3,Charlie,555-9099\n",
    "> 4,Doug,\n",
    "> ```\n",
    "In this example, we can see clearly that there are 4 records with the id values from 1 to 4.  The first record, that is with id 1, has a name of Alice and a Phone Number of 555-1234.  While we can easily see each of the other records- we can tell in this simple example that line 4 is missing a phone number.\n",
    "\n",
    "While easy to read for simple/small files - it becomes increasingly complex to read this file in a text editor if we are to try and find errors and missing values.  Fortunately, we can use the tools we have to import the file rather easily and find missing values, misaligned fields and generally interpret the data.\n",
    "\n",
    "### Reading/Writting Delimited Files\n",
    "We can certainly read data files line by line and processing them this way, but most often, for our purposes we are looking to do something specific like evaluate the data, use it for analysis or convert it to another format.  If you are interested in the nuts and bolts of reading files line by line then I would refer you to [this documentation](https://docs.python.org/3/library/csv.html) or simply google 'reading csv file in Python'.  In order to use the data effectively, we'll depend instead on our ever useful and super-handy `pandas` library.\n",
    "\n",
    "The `pandas` library actually can help us to read lots of different file formats from CSV files and Excel files, XML, JSON and even web pages (and suprisingly the clipboard!).  Mostly they work a lot alike, so we'll focus on the format and the nuances of the most common cases you'll run across.\n",
    "\n",
    "#### Optional Parameters\n",
    "The `read_csv()` function takes a number of optional parameters, so it's best to be explicit about what you mean rather than calling the function and counting on the order of the parameters.  Recall that in a function definition if the parameter is defined with an `=` after it, this means the parameter is optional and if not specified will use the default value as specified in the parameter definition.  For instance, \n",
    "```python\n",
    "def my_func(a, b=0, c='all'):\n",
    "    print(a)\n",
    "    print(b)\n",
    "    print(c)\n",
    "```\n",
    "In this example, `a` is required, but `b` and `c` are optional.  This means you can specify values for these parameters and if you don't the defaults will be `0` and `\"all\"`.\n",
    "\n",
    "You can try this in the next cell.  Try a few of your own combinations until you get the hang of it."
   ]
  },
  {
   "cell_type": "code",
   "execution_count": null,
   "metadata": {},
   "outputs": [],
   "source": [
    "def my_func(a, b=0, c='all'):\n",
    "    print(a, b, c)\n",
    "\n",
    "print(\"Only specifying `a`\")\n",
    "my_func('Hello')\n",
    "print(\"Providing `a` and `b` only\")\n",
    "my_func('Hello', 12)\n",
    "print(\"Providing `a` and `b` explicitly\")\n",
    "my_func(a='Hello',b=12)\n",
    "print(\"Providing `a` (by position) and `c` explicitly.\")\n",
    "my_func('Hello',c='everyone')\n",
    "    "
   ]
  },
  {
   "cell_type": "markdown",
   "metadata": {},
   "source": [
    "Now back to the [`read_csv()`](https://pandas.pydata.org/pandas-docs/stable/reference/api/pandas.read_csv.html?highlight=read_csv#pandas.read_csv) function.  The function definition can be intimidating because it has lots of options, but this is also helpful to ensure that the operation works exactly as we expect it to.  For instance, there are parameters which define what the delimiter is (especially if we choose not to use commas), an option to specify the field names, several parameters which help specify the date format (day first) and whether the file has an index defined in it.\n",
    "\n",
    "In each case, we are interested in reading the file into a dataframe and then working on it with the tools we know about dataframes.  Let's look at a couple of simple examples.  All the data files can be found in the `data` directory so you can take a look in any text editor to read the file.\n",
    "\n",
    "[ApplianceShipments.csv](../data/ApplianceShipments.csv)"
   ]
  },
  {
   "cell_type": "code",
   "execution_count": null,
   "metadata": {},
   "outputs": [],
   "source": [
    "import pandas as pd\n",
    "\n",
    "# Read a file from the data directory\n",
    "shipments_df = pd.read_csv('../data/ApplianceShipments.csv')\n",
    "shipments_df"
   ]
  },
  {
   "cell_type": "markdown",
   "metadata": {},
   "source": [
    "Sometimes the files have an identifier that we want to keep.  For instance the bankruptcy file has an account number which we want to use as our index.  We can tell pandas to keep this as the index rather than specifying a new one\n",
    "\n",
    "[Bankruptcy.csv](../data/Bankruptcy.csv)"
   ]
  },
  {
   "cell_type": "code",
   "execution_count": null,
   "metadata": {},
   "outputs": [],
   "source": [
    "bankruptcy_df = pd.read_csv('../data/Bankruptcy.csv',index_col='NO')\n",
    "bankruptcy_df.head()"
   ]
  },
  {
   "cell_type": "code",
   "execution_count": null,
   "metadata": {},
   "outputs": [],
   "source": [
    "# Also, we can limit the columns we can read so instead of all 26 columns - let's say I'm only interested in the D, YR, and R1-R3 (notice, since I want NO as the index, it needs to be in the column list)\n",
    "bankruptcy_df = pd.read_csv('../data/Bankruptcy.csv',index_col='NO',usecols=['NO','D','YR','R1','R2','R3'])\n",
    "bankruptcy_df.head()"
   ]
  },
  {
   "cell_type": "markdown",
   "metadata": {},
   "source": [
    "### Outputing using pandas\n",
    "It is also helpful to gather data in one format a write to another.  There are many, many ways to go about this, but one simple way to handle this is to use the `to_*` functions.  We'll look a few others, but for now, let's say we have cleaned up our bankruptcy file and need to import into Excel.  We can easily write it to a csv file with a simple command.  Run the next cell and then check out the result.\n",
    "\n",
    "[my_new_file.csv](../output/my_new_file.csv)"
   ]
  },
  {
   "cell_type": "code",
   "execution_count": null,
   "metadata": {},
   "outputs": [],
   "source": [
    "# Write the output to a CSV file\n",
    "bankruptcy_df.to_csv('../output/my_new_file.csv')"
   ]
  },
  {
   "cell_type": "markdown",
   "metadata": {},
   "source": [
    "## Structured text formats \n",
    "XML (and JSON) provide similar portability as you can find with CSV files, but they tend to be more descriptive.  These formats allow for sub-records and descriptive field names.  They handle missing data a bit more effectively and obviously especially if they are being read by a human.  The second most common way to get data from the internet is through web-scraping or an API (application programming interface). Often, APIs will return a more structured format because of the level of detail they offer.  In this case, XML and JSON are used often.  In the case of web-scraping, that is getting data from a web page that doesn't offer a programmable end-point, parsing HTML becomes an important skill. Best of all, HTML is very similar to XML (it could be called a subset), so learning to deal with XML will go along way to learning how to deal with HTML.\n",
    "\n",
    "### Extensible Mark-up Language (XML)\n",
    "While the formatting of XML files and how they work is left to the lecture (it's better described in PowerPoint rather than code), we'll look at an example here.\n"
   ]
  },
  {
   "cell_type": "code",
   "execution_count": null,
   "metadata": {},
   "outputs": [],
   "source": [
    "# We could just as easily read this from a file, but it helps to see the actual XML, so we'll read it directly from a string instead\n",
    "\n",
    "xml_data = '''<?xml version='1.0' encoding='utf-8'?>\n",
    "<data xmlns=\"http://example.com\">\n",
    " <row>\n",
    "   <shape>square</shape>\n",
    "   <degrees>360</degrees>\n",
    "   <sides>4.0</sides>\n",
    " </row>\n",
    " <row>\n",
    "   <shape>circle</shape>\n",
    "   <degrees>360</degrees>\n",
    "   <sides/>\n",
    " </row>\n",
    " <row>\n",
    "   <shape>triangle</shape>\n",
    "   <degrees>180</degrees>\n",
    "   <sides>3.0</sides>\n",
    " </row>\n",
    "</data>'''\n",
    "df = pd.read_xml(xml_data)\n",
    "df"
   ]
  },
  {
   "cell_type": "markdown",
   "metadata": {},
   "source": [
    "### Hierarchical data\n",
    "While this works fine with data that is just one level deep (for instance, we just have `rows` in the prior data.)  Things get a bit more complex and unwieldy to use `pandas` for complex data types.  Say for instance we want details about a cd collection\n",
    "\n",
    "```xml\n",
    "<music>\n",
    "  <artist name=\"Radiohead\">\n",
    "    <album title=\"The King of Limbs\">\n",
    "      <song title=\"Bloom\" length=\"5:15\"/>\n",
    "      <song title=\"Morning Mr Magpie\" length=\"4:41\"/>\n",
    "      <song title=\"Little by Little\" length=\"4:27\"/>\n",
    "      <song title=\"Feral\" length=\"3:13\"/>\n",
    "      <song title=\"Lotus Flower\" length=\"5:01\"/>\n",
    "      <song title=\"Codex\" length=\"4:47\"/>\n",
    "      <song title=\"Give Up the Ghost\" length=\"4:50\"/>\n",
    "      <song title=\"Separator\" length=\"5:20\"/>\n",
    "      <description link=\"http://en.wikipedia.org/wiki/The_King_of_Limbs\">\n",
    "\tThe King of Limbs is the eighth studio album by English rock band Radiohead, produced by Nigel Godrich. It was self-released on 18 February 2011 as a download in MP3 and WAV formats, followed by physical CD and 12\" vinyl releases on 28 March, a wider digital release via AWAL, and a special \"newspaper\" edition on 9 May 2011. The physical editions were released through the band's Ticker Tape imprint on XL in the United Kingdom, TBD in the United States, and Hostess Entertainment in Japan.\n",
    "      </description>\n",
    "    </album>\n",
    "    <album title=\"OK Computer\">\n",
    "      <song title=\"Airbag\"  length=\"4:44\"/>\n",
    "      <song title=\"Paranoid Android\"  length=\"6:23\"/>\n",
    "      <song title=\"Subterranean Homesick Alien\"  length=\"4:27\"/>\n",
    "      <song title=\"Exit Music (For a Film)\"  length=\"4:24\"/>\n",
    "      <song title=\"Let Down\"  length=\"4:59\"/>\n",
    "      <song title=\"Karma Police\"  length=\"4:21\"/>\n",
    "      <song title=\"Fitter Happier\"  length=\"1:57\"/>\n",
    "      <song title=\"Electioneering\"  length=\"3:50\"/>\n",
    "      <song title=\"Climbing Up the Walls\"  length=\"4:45\"/>\n",
    "      <song title=\"No Surprises\"  length=\"3:48\"/>\n",
    "      <song title=\"Lucky\"  length=\"4:19\"/>\n",
    "      <song title=\"The Tourist\"  length=\"5:24\"/>\n",
    "      <description link=\"http://en.wikipedia.org/wiki/OK_Computer\">\n",
    "\tOK Computer is the third studio album by the English alternative rock band Radiohead, released on 16 June 1997 on Parlophone in the United Kingdom and 1 July 1997 by Capitol Records in the United States. It marks a deliberate attempt by the band to move away from the introspective guitar-oriented sound of their previous album The Bends. Its layered sound and wide range of influences set it apart from many of the Britpop and alternative rock bands popular at the time and laid the groundwork for Radiohead's later, more experimental work.\n",
    "      </description>\n",
    "    </album>\n",
    "  </artist>\n",
    "  <artist name=\"Portishead\">\n",
    "    <album title=\"Dummy\">\n",
    "      <song title=\"Mysterons\"  length=\"5:02\"/>\n",
    "      <song title=\"Sour Times\"  length=\"4:11\"/>\n",
    "      <song title=\"Strangers\"  length=\"3:55\"/>\n",
    "      <song title=\"It Could Be Sweet\"  length=\"4:16\"/>\n",
    "      <song title=\"Wandering Star\"  length=\"4:51\"/>\n",
    "      <song title=\"It's a Fire\"  length=\"3:49\"/>\n",
    "      <song title=\"Numb\"  length=\"3:54\"/>\n",
    "      <song title=\"Roads\"  length=\"5:02\"/>\n",
    "      <song title=\"Pedestal\"  length=\"3:39\"/>\n",
    "      <song title=\"Biscuit\"  length=\"5:01\"/>\n",
    "      <song title=\"Glory Box\"  length=\"5:06\"/>\n",
    "      <description link=\"http://en.wikipedia.org/wiki/Dummy_%28album%29\">\n",
    "\tDummy is the debut album of the Bristol-based group Portishead. Released in August 22, 1994 on Go! Discs, the album earned critical acclaim, winning the 1995 Mercury Music Prize. It is often credited with popularizing the trip-hop genre and is frequently cited in lists of the best albums of the 1990s. Although it achieved modest chart success overseas, it peaked at #2 on the UK Album Chart and saw two of its three singles reach #13. The album was certified gold in 1997 and has sold two million copies in Europe. As of September 2011, the album was certified double-platinum in the United Kingdom and has sold as of September 2011 825,000 copies.\n",
    "      </description>\n",
    "    </album>\n",
    "  </artist>\n",
    "</music>\n",
    "```\n",
    "This doesn't look like the tabular data we are use to, each item in the list is an album, but each album can also include some songs.  In this case, we need to depend on other libraries to help us out.\n",
    "\n",
    "We first need to read in the tree, then we can deal with each of the records individually.  Keep in mind we have attributes and tags here so there's a need to be a bit more specific.  And we'll need to use a bit of XPath to get there"
   ]
  },
  {
   "cell_type": "code",
   "execution_count": null,
   "metadata": {},
   "outputs": [],
   "source": [
    "import xml.etree.ElementTree as ET\n",
    "\n",
    "xml_data = '''\n",
    "<music>\n",
    "  <artist name=\"Radiohead\">\n",
    "    <album title=\"The King of Limbs\">\n",
    "      <song title=\"Bloom\" length=\"5:15\"/>\n",
    "      <song title=\"Morning Mr Magpie\" length=\"4:41\"/>\n",
    "      <song title=\"Little by Little\" length=\"4:27\"/>\n",
    "      <song title=\"Feral\" length=\"3:13\"/>\n",
    "      <song title=\"Lotus Flower\" length=\"5:01\"/>\n",
    "      <song title=\"Codex\" length=\"4:47\"/>\n",
    "      <song title=\"Give Up the Ghost\" length=\"4:50\"/>\n",
    "      <song title=\"Separator\" length=\"5:20\"/>\n",
    "      <description link=\"http://en.wikipedia.org/wiki/The_King_of_Limbs\">\n",
    "\tThe King of Limbs is the eighth studio album by English rock band Radiohead, produced by Nigel Godrich. It was self-released on 18 February 2011 as a download in MP3 and WAV formats, followed by physical CD and 12\" vinyl releases on 28 March, a wider digital release via AWAL, and a special \"newspaper\" edition on 9 May 2011. The physical editions were released through the band's Ticker Tape imprint on XL in the United Kingdom, TBD in the United States, and Hostess Entertainment in Japan.\n",
    "      </description>\n",
    "    </album>\n",
    "    <album title=\"OK Computer\">\n",
    "      <song title=\"Airbag\"  length=\"4:44\"/>\n",
    "      <song title=\"Paranoid Android\"  length=\"6:23\"/>\n",
    "      <song title=\"Subterranean Homesick Alien\"  length=\"4:27\"/>\n",
    "      <song title=\"Exit Music (For a Film)\"  length=\"4:24\"/>\n",
    "      <song title=\"Let Down\"  length=\"4:59\"/>\n",
    "      <song title=\"Karma Police\"  length=\"4:21\"/>\n",
    "      <song title=\"Fitter Happier\"  length=\"1:57\"/>\n",
    "      <song title=\"Electioneering\"  length=\"3:50\"/>\n",
    "      <song title=\"Climbing Up the Walls\"  length=\"4:45\"/>\n",
    "      <song title=\"No Surprises\"  length=\"3:48\"/>\n",
    "      <song title=\"Lucky\"  length=\"4:19\"/>\n",
    "      <song title=\"The Tourist\"  length=\"5:24\"/>\n",
    "      <description link=\"http://en.wikipedia.org/wiki/OK_Computer\">\n",
    "\tOK Computer is the third studio album by the English alternative rock band Radiohead, released on 16 June 1997 on Parlophone in the United Kingdom and 1 July 1997 by Capitol Records in the United States. It marks a deliberate attempt by the band to move away from the introspective guitar-oriented sound of their previous album The Bends. Its layered sound and wide range of influences set it apart from many of the Britpop and alternative rock bands popular at the time and laid the groundwork for Radiohead's later, more experimental work.\n",
    "      </description>\n",
    "    </album>\n",
    "  </artist>\n",
    "  <artist name=\"Portishead\">\n",
    "    <album title=\"Dummy\">\n",
    "      <song title=\"Mysterons\"  length=\"5:02\"/>\n",
    "      <song title=\"Sour Times\"  length=\"4:11\"/>\n",
    "      <song title=\"Strangers\"  length=\"3:55\"/>\n",
    "      <song title=\"It Could Be Sweet\"  length=\"4:16\"/>\n",
    "      <song title=\"Wandering Star\"  length=\"4:51\"/>\n",
    "      <song title=\"It's a Fire\"  length=\"3:49\"/>\n",
    "      <song title=\"Numb\"  length=\"3:54\"/>\n",
    "      <song title=\"Roads\"  length=\"5:02\"/>\n",
    "      <song title=\"Pedestal\"  length=\"3:39\"/>\n",
    "      <song title=\"Biscuit\"  length=\"5:01\"/>\n",
    "      <song title=\"Glory Box\"  length=\"5:06\"/>\n",
    "      <description link=\"http://en.wikipedia.org/wiki/Dummy_%28album%29\">\n",
    "\tDummy is the debut album of the Bristol-based group Portishead. Released in August 22, 1994 on Go! Discs, the album earned critical acclaim, winning the 1995 Mercury Music Prize. It is often credited with popularizing the trip-hop genre and is frequently cited in lists of the best albums of the 1990s. Although it achieved modest chart success overseas, it peaked at #2 on the UK Album Chart and saw two of its three singles reach #13. The album was certified gold in 1997 and has sold two million copies in Europe. As of September 2011, the album was certified double-platinum in the United Kingdom and has sold as of September 2011 825,000 copies.\n",
    "      </description>\n",
    "    </album>\n",
    "    <album title=\"Third\">\n",
    "      <song title=\"Silence\"  length=\"4:58\"/>\n",
    "      <song title=\"Hunter\"  length=\"3:57\"/>\n",
    "      <song title=\"Nylon Smile\"  length=\"3:16\"/>\n",
    "      <song title=\"The Rip\"  length=\"4:29\"/>\n",
    "      <song title=\"Plastic\"  length=\"3:27\"/>\n",
    "      <song title=\"We Carry On\"  length=\"6:27\"/>\n",
    "      <song title=\"Deep Water\"  length=\"1:31\"/>\n",
    "      <song title=\"Machine Gun\"  length=\"4:43\"/>\n",
    "      <song title=\"Small\"  length=\"6:45\"/>\n",
    "      <song title=\"Magic Doors\"  length=\"3:32\"/>\n",
    "      <song title=\"Threads\"  length=\"5:45\"/>\n",
    "      <description link=\"http://en.wikipedia.org/wiki/Third_%28Portishead_album%29\">\n",
    "\tThird is the third studio album by English musical group Portishead, released on 27 April 2008, on Island Records in the United Kingdom, two days after on Mercury Records in the United States, and on 30 April 2008 on Universal Music Japan in Japan. It is their first release in 10 years, and their first studio album in eleven years. Third entered the UK Album Chart at #2, and became the band's first-ever American Top 10 album on the Billboard 200, reaching #7 in its entry week.\n",
    "      </description>\n",
    "    </album>\n",
    "  </artist>\n",
    "</music>\n",
    "'''\n",
    "\n",
    "tree = ET.fromstring(xml_data)\n",
    "print('All Artists')\n",
    "for artist in tree.findall('artist'):\n",
    "    print(artist.attrib)\n"
   ]
  },
  {
   "cell_type": "code",
   "execution_count": null,
   "metadata": {},
   "outputs": [],
   "source": [
    "# Interesting, but what about albums, can we find all the albums for each artist?\n",
    "# Notice we can also read the data from a file rather than a string\n",
    "tree = ET.parse('../data/music.xml')\n",
    "print('All Artists/Albums')\n",
    "for artist in tree.findall('artist'):\n",
    "    # This time, just get the value of the 'name' attribute\n",
    "    print('Artist:', artist.attrib['name'])\n",
    "    # Notice we are searching starting with the current artist to find all their albums\n",
    "    for album in artist.findall('album'):\n",
    "        # Again, since we know the attribute we are after we'll just index it directly\n",
    "        print(f'\\t{album.attrib[\"title\"]}')"
   ]
  },
  {
   "cell_type": "code",
   "execution_count": null,
   "metadata": {},
   "outputs": [],
   "source": [
    "# Now let's find all the songs on each album\n",
    "tree = ET.parse('../data/music.xml')\n",
    "print('All Artists/Albums')\n",
    "for artist in tree.findall('artist'):\n",
    "    # Notice, we can use the index or directly use `get`\n",
    "    print('Artist:', artist.get('name'))\n",
    "    # Notice we are searching starting with the current artist to find all their albums\n",
    "    for album in artist.findall('album'):\n",
    "        # Again, since we know the attribute we are after we'll just index it directly\n",
    "        print(f'\\tAlbum: {album.attrib[\"title\"]}')\n",
    "        for song in album.findall('song'):\n",
    "            print(f'\\t\\t{song.get(\"title\")}')"
   ]
  },
  {
   "cell_type": "markdown",
   "metadata": {},
   "source": [
    "### Going further with XPath support\n",
    "This is the simplest situation, where we are just wanting to iterate through every element in the XML tree.  We can get much more creative with a specific query syntax for XML called [XPath](https://docs.python.org/3/library/xml.etree.elementtree.html#elementtree-xpath).  XPath allows for alot more complex situations, such as if we want to find only songs on albums by Radiohead or gathering the album description links only.  See these examples below."
   ]
  },
  {
   "cell_type": "code",
   "execution_count": null,
   "metadata": {},
   "outputs": [],
   "source": [
    "# Only songs off of Radiohead albums\n",
    "tree = ET.fromstring(xml_data)\n",
    "print('Radiohead only')\n",
    "for artist in tree.findall('./artist/[@name=\"Radiohead\"]'):\n",
    "    print('Artist:', artist.get('name'))\n",
    "    # Notice we are searching starting with the current artist to find all their albums\n",
    "    for song in artist.findall('.//album/song'):\n",
    "        print(f'\\t\\t{song.get(\"title\")}')"
   ]
  },
  {
   "cell_type": "code",
   "execution_count": null,
   "metadata": {},
   "outputs": [],
   "source": [
    "# Only album names and descriptions\n",
    "tree = ET.fromstring(xml_data)\n",
    "print('Only album name and description links')\n",
    "for album in tree.findall('.//album'):\n",
    "    print('Album:', album.get('title'))\n",
    "    print('Link:',album.find('description').get('link'))"
   ]
  },
  {
   "cell_type": "markdown",
   "metadata": {},
   "source": [
    "### Javascript Notation\n",
    "JSON is similar, a little less decoration (no `<>` and `</>`) but still very readable.  In the case of Python, JSON data is parsed into a dictionary with one key for every top-level element and the corresponding structure as it's value.  For instance, if we have an object like such, then we have one key in the dictionary and the value is a list.\n",
    "\n",
    "```json\n",
    "    \"shapes\":\n",
    "    [\n",
    "        {\"shape\": \"square\",\"degrees\": 360,\"sides\": 4.0},\n",
    "        {\"shape\": \"circle\",\"degrees\": 360},\n",
    "        {\"shape\": \"triangle\",\"degrees\": 180,\"sides\": 3.0}\n",
    "    ]\n",
    "```"
   ]
  },
  {
   "cell_type": "code",
   "execution_count": null,
   "metadata": {},
   "outputs": [],
   "source": [
    "import json\n",
    "# Same data as above, described in JSON format\n",
    "json_data = '''{\"shapes\":\n",
    "    [\n",
    "        {\"shape\": \"square\",\"degrees\": 360,\"sides\": 4.0},\n",
    "        {\"shape\": \"circle\",\"degrees\": 360},\n",
    "        {\"shape\": \"triangle\",\"degrees\": 180,\"sides\": 3.0}\n",
    "    ]\n",
    "}\n",
    "'''\n",
    "# Notice the use of `loads` this is to load json from a string\n",
    "data = json.loads(json_data)\n",
    "print(data)\n",
    "print(data['shapes'])"
   ]
  },
  {
   "cell_type": "code",
   "execution_count": null,
   "metadata": {},
   "outputs": [],
   "source": [
    "for row in data['shapes']:\n",
    "    # Notice that the items in the list are themselves key/value pairs or as we know them dictionaries\n",
    "    print(row)"
   ]
  },
  {
   "cell_type": "code",
   "execution_count": null,
   "metadata": {},
   "outputs": [],
   "source": [
    "# Since the values are dictionaries, we can access the values with string indexes\n",
    "for row in data['shapes']:\n",
    "    # Notice that the items in the list are themselves key/value pairs or as we know them dictionaries\n",
    "    print(f\"Shape: {row['shape']}\")\n",
    "    print(f\"Degrees: {row['degrees']}\")\n",
    "    # But keep in mind, that we aren't guaranteed to have all the same name/value pairs\n",
    "    # So using the 'get' method is a better option when dealing with unreliable data\n",
    "    print(f\"Sides: {row.get('sides',0)}\")\n",
    "    print()"
   ]
  },
  {
   "cell_type": "code",
   "execution_count": null,
   "metadata": {},
   "outputs": [],
   "source": [
    "# We can also load the data directly from a file\n",
    "f = open('../data/shapes.json')\n",
    "json_data_file = json.load(f)\n",
    "print(json_data_file)"
   ]
  },
  {
   "cell_type": "markdown",
   "metadata": {},
   "source": [
    "Just remember that with JSON we are dealing with dictionaries and lists, so accessing the items is the same thing we know how to do with them.  The complexity comes in keeping track of when we have a dictionary and when we have a list - and then working with the items appropriately.\n",
    "```json\n",
    "{\n",
    "  \"data\": [{\n",
    "    \"type\": \"articles\",\n",
    "    \"id\": \"1\",\n",
    "    \"attributes\": {\n",
    "      \"title\": \"JSON:API paints my bikeshed!\",\n",
    "      \"body\": \"The shortest article. Ever.\",\n",
    "      \"created\": \"2015-05-22T14:56:29.000Z\",\n",
    "      \"updated\": \"2015-05-22T14:56:28.000Z\"\n",
    "    },\n",
    "    \"relationships\": {\n",
    "      \"author\": {\n",
    "        \"data\": {\"id\": \"42\", \"type\": \"people\"}\n",
    "      }\n",
    "    }\n",
    "  }],\n",
    "  \"included\": [\n",
    "    {\n",
    "      \"type\": \"people\",\n",
    "      \"id\": \"42\",\n",
    "      \"attributes\": {\n",
    "        \"name\": \"John\",\n",
    "        \"age\": 80,\n",
    "        \"gender\": \"male\"\n",
    "      }\n",
    "    }\n",
    "  ]\n",
    "}\n",
    "```\n",
    "In this example, we have a dictionary with two \"keys\" - `data` and `included`.  These keys have associated values which are lists (see the `[]`) even though their is only one item in each of these value lists.  So in order to processing the \"sub-dictionaries\" it becomes necessary first to get the first item in the list, then use the resulting dictionary to parse the next set of name/value pairs."
   ]
  },
  {
   "cell_type": "code",
   "execution_count": null,
   "metadata": {},
   "outputs": [],
   "source": [
    "#\n",
    "json_data = \"\"\"{\n",
    "  \"data\": [{\n",
    "    \"type\": \"articles\",\n",
    "    \"id\": \"1\",\n",
    "    \"attributes\": {\n",
    "      \"title\": \"JSON:API paints my bikeshed!\",\n",
    "      \"body\": \"The shortest article. Ever.\",\n",
    "      \"created\": \"2015-05-22T14:56:29.000Z\",\n",
    "      \"updated\": \"2015-05-22T14:56:28.000Z\"\n",
    "    },\n",
    "    \"relationships\": {\n",
    "      \"author\": {\n",
    "        \"data\": {\"id\": \"42\", \"type\": \"people\"}\n",
    "      }\n",
    "    }\n",
    "  }],\n",
    "  \"included\": [\n",
    "    {\n",
    "      \"type\": \"people\",\n",
    "      \"id\": \"42\",\n",
    "      \"attributes\": {\n",
    "        \"name\": \"John\",\n",
    "        \"age\": 80,\n",
    "        \"gender\": \"male\"\n",
    "      }\n",
    "    }\n",
    "  ]\n",
    "}\n",
    "\"\"\"\n",
    "api_data = json.loads(json_data)\n",
    "# Notice only two keys in the json data\n",
    "for k in api_data.keys():\n",
    "    print(k)"
   ]
  },
  {
   "cell_type": "code",
   "execution_count": null,
   "metadata": {},
   "outputs": [],
   "source": [
    "# This is a list with one item, a dictionary\n",
    "print(api_data['data'])\n"
   ]
  },
  {
   "cell_type": "code",
   "execution_count": null,
   "metadata": {},
   "outputs": [],
   "source": [
    "# So now we get the first item in the list, and it's a dictionary\n",
    "data_dictionary = api_data['data'][0]\n",
    "print(data_dictionary)"
   ]
  },
  {
   "cell_type": "code",
   "execution_count": null,
   "metadata": {},
   "outputs": [],
   "source": [
    "# With the `data_dictionary` in hand, we can access the items\n",
    "for dd_key, dd_value in data_dictionary.items():\n",
    "    print(f'{dd_key}: {dd_value}')"
   ]
  },
  {
   "cell_type": "code",
   "execution_count": null,
   "metadata": {},
   "outputs": [],
   "source": [
    "# We notice that again we have two more 'sub-dictionaries', attributes and relationships.  \n",
    "attributes_dict = data_dictionary['attributes']\n",
    "print(attributes_dict)\n",
    "print()\n",
    "for a_key, a_value in attributes_dict.items():\n",
    "    print(f'{a_key}: {a_value}')"
   ]
  },
  {
   "cell_type": "code",
   "execution_count": null,
   "metadata": {},
   "outputs": [],
   "source": [
    "# Relationships is even more complex with extra sub-dictionaries, so take it one step at a time\n",
    "relationships_dict = data_dictionary['relationships']\n",
    "print(relationships_dict)\n",
    "print()\n",
    "author_dict=relationships_dict['author']\n",
    "print(author_dict)\n",
    "print()\n",
    "data_dict = author_dict['data']\n",
    "print(data_dict)\n",
    "print(data_dict[\"id\"])\n"
   ]
  }
 ],
 "metadata": {
  "kernelspec": {
   "display_name": "Python 3.9.12 ('base')",
   "language": "python",
   "name": "python3"
  },
  "language_info": {
   "codemirror_mode": {
    "name": "ipython",
    "version": 3
   },
   "file_extension": ".py",
   "mimetype": "text/x-python",
   "name": "python",
   "nbconvert_exporter": "python",
   "pygments_lexer": "ipython3",
   "version": "3.9.12"
  },
  "orig_nbformat": 4,
  "vscode": {
   "interpreter": {
    "hash": "d4d1e4263499bec80672ea0156c357c1ee493ec2b1c70f0acce89fc37c4a6abe"
   }
  }
 },
 "nbformat": 4,
 "nbformat_minor": 2
}
