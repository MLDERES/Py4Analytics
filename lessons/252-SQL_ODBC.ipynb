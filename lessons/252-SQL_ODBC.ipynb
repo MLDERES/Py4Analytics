{
 "cells": [
  {
   "cell_type": "markdown",
   "metadata": {},
   "source": [
    "# Connecting to a db using ODBC"
   ]
  },
  {
   "cell_type": "code",
   "execution_count": 1,
   "metadata": {},
   "outputs": [
    {
     "name": "stdout",
     "output_type": "stream",
     "text": [
      "(1, '10, Mack')\n",
      "(2, '101, Highway')\n",
      "(3, '2, Kase')\n",
      "(4, '2Pac')\n",
      "(5, \"4-Tay, Rappin'\")\n",
      "(6, '7, Marc')\n",
      "(7, '9mm, Orange')\n",
      "(8, 'Aaliyah')\n",
      "(9, 'Aames, Angela')\n",
      "(10, 'Aames, Willie')\n"
     ]
    }
   ],
   "source": [
    "# One more example, this time using pyodbc\n",
    "from dotenv import load_dotenv\n",
    "from os import getenv\n",
    "import pyodbc\n",
    "import pymssql\n",
    "\n",
    "# This library allows the environment variables to be loaded from a file\n",
    "load_dotenv()\n",
    "\n",
    "# To get this working quickly, you can just replace these variables with your own values\n",
    "svr = getenv(\"PYMSSQL_SERVER\")\n",
    "uid = getenv(\"PYMSSQL_USER\")\n",
    "pwd = getenv(\"PYMSSQL_PASSWORD\")\n",
    "db = getenv(\"PYMSSQL_DATABASE\")\n",
    "\n",
    "cnxn = pyodbc.connect('DRIVER={ODBC Driver 18 for SQL Server};SERVER='+svr+';DATABASE='+db+';UID='+uid+';PWD='+ pwd+';TrustServerCertificate=yes;')\n",
    "\n",
    "# Create the cursor required to run the command\n",
    "cursor = cnxn.cursor()\n",
    "\n",
    "# Run the SQL command\n",
    "cursor.execute('SELECT top 10 * FROM Actor')\n",
    "\n",
    "for row in cursor:\n",
    "    print(row)"
   ]
  }
 ],
 "metadata": {
  "kernelspec": {
   "display_name": "Python 3.9.12 ('base')",
   "language": "python",
   "name": "python3"
  },
  "language_info": {
   "codemirror_mode": {
    "name": "ipython",
    "version": 3
   },
   "file_extension": ".py",
   "mimetype": "text/x-python",
   "name": "python",
   "nbconvert_exporter": "python",
   "pygments_lexer": "ipython3",
   "version": "3.9.12"
  },
  "orig_nbformat": 4,
  "vscode": {
   "interpreter": {
    "hash": "d4d1e4263499bec80672ea0156c357c1ee493ec2b1c70f0acce89fc37c4a6abe"
   }
  }
 },
 "nbformat": 4,
 "nbformat_minor": 2
}
