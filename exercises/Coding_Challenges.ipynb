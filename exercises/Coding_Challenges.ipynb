{
 "cells": [
  {
   "cell_type": "markdown",
   "metadata": {},
   "source": [
    "# Coding Challenges\n",
    "Now it's time to put all you have learned together to try some unique coding puzzles.  The coding challenges presented here range from very easy to challenging.  For each one there are few hints that you can use if you get stuck.  Each challenge has a space for you to write the answer and a cell following which can be executed to check your answer against a few test cases.\n",
    "\n",
    "```{note}\n",
    "**Before starting the challenges be sure to run the following cell first, which sets up functions for testing your answers.**\n",
    "```\n"
   ]
  },
  {
   "cell_type": "code",
   "execution_count": null,
   "metadata": {},
   "outputs": [],
   "source": [
    "#  This cell brings in a function called assert_equal() which is used to test \n",
    "#  the output of your function with the expected output.  \n",
    "#  After each challenge, the cell following your code will run your function and compare the result to the expected output.\n",
    "%run ../src/challenge_tests.py"
   ]
  },
  {
   "cell_type": "markdown",
   "metadata": {},
   "source": [
    "## Challenge 1 - What day of the year is it?\n",
    "In this challenge you are to write a function called _day_of_year_ which accepts three integer parameters _day_, _month_, _year_ the result of the function should be an integer representing the number of days that have elapsed since January 1st of the year provided until the date.  For instance, if the function were asked for the day of the year on Feb 2, 2015 the answer returned should be 33 (31 days in Jan + 2 days in February).\n",
    "\n",
    "Remember to take into account leap year! There are three criteria for leap year:\n",
    "<li>The year can be evenly divided by 4</li>\n",
    "<li>If the year can be evenly divided by 100 it is NOT a leap year, unless:</li>\n",
    "<li>The year is also divisble by 400, in which case it is a leap year</li>"
   ]
  },
  {
   "cell_type": "code",
   "execution_count": null,
   "metadata": {},
   "outputs": [],
   "source": [
    "def day_of_year(day, month, year):\n",
    "    ''' A function to determine what day of the year it is.\n",
    "    \n",
    "    Day of the the year is a number between 1 and 366 where Jan 1 is day 1 and Dec 31 is day 366 (in 2020)\n",
    "    \n",
    "    Parameters\n",
    "    ----------\n",
    "    day : int\n",
    "        The day of the month\n",
    "    month : int\n",
    "        The month of the year\n",
    "    year : int\n",
    "        The year which the day is being calculated\n",
    "    \n",
    "    Returns\n",
    "    -------\n",
    "    int\n",
    "        The day of the year\n",
    "    '''\n",
    "    # Replace pass with your code\n",
    "    pass\n",
    "\n",
    "\n",
    "# Here's an example to see how your code will be run\n",
    "\n",
    "print(f'Jan 1st is the {day_of_year(1,1,2000)} day of the year')"
   ]
  },
  {
   "cell_type": "markdown",
   "metadata": {},
   "source": [
    "You can test your work by running the next cell."
   ]
  },
  {
   "cell_type": "code",
   "execution_count": null,
   "metadata": {
    "tags": []
   },
   "outputs": [],
   "source": [
    "# Run this cell to test your work\n",
    "\n",
    "assert_equal(day_of_year(1,1,2000),1,'Jan 1, 2000')\n",
    "assert_equal(day_of_year(15,2,2015),46,'Feb 15, 2015')\n",
    "assert_equal(day_of_year(30,6,2020),182,'June 30, 2020', 'Did you check for leap year?')\n",
    "assert_equal(day_of_year(1, 1, 2001), 1, \"Jan 1, 2001\")\n",
    "assert_equal(day_of_year(17, 11, 2020), 322, \"Nov 17, 2020\")\n",
    "assert_equal(day_of_year(31, 12, 2020), 366, \"Dec 31, 2021\")\n",
    "assert_equal(day_of_year(14, 8, 2021), 226, \"Aug 14, 2021\")\n",
    "assert_equal(day_of_year(9, 5, 2022), 129, \"May 9, 2022\")\n"
   ]
  },
  {
   "cell_type": "markdown",
   "metadata": {},
   "source": [
    "## Challenge 2 - Create me a monogram\n",
    "Traditional monograms are represented by three initials (first name, last name and middle initial).  The challenge here is to build a monogram from a name that is supplied.  The monogram should use lowercase letters for the first initial and middle initial, while the last name initial is in caps.  \n",
    "\n",
    "For example,\n",
    "\n",
    "<li>Dwight K. Shrute => d.K.s</li>\n",
    "<li>Eye See Deadpeople => e.S.d</li>\n",
    "<li>Mers Sadees Benz => m.B.s</li>\n"
   ]
  },
  {
   "cell_type": "code",
   "execution_count": null,
   "metadata": {},
   "outputs": [],
   "source": [
    "def monogram(full_name):\n",
    "    '''\n",
    "    Creates a traditional monogram from a supplied full name\n",
    "    \n",
    "    Parameters\n",
    "    ----------\n",
    "    full_name : str\n",
    "        The full name (first middle last) of the person for which to build the monogram\n",
    "    '''\n",
    "    # Replace pass with your code\n",
    "    pass\n",
    "\n",
    "# Put your name here to try out your monogram function\n",
    "my_name = ''\n",
    "print(f'My monogram is {monogram(my_name)}')"
   ]
  },
  {
   "cell_type": "code",
   "execution_count": null,
   "metadata": {
    "tags": []
   },
   "outputs": [],
   "source": [
    "# Run this cell to test your work\n",
    "\n",
    "assert_equal(monogram('Dwight Kevin Shrute'),'d.S.k')\n",
    "assert_equal(monogram('Eye see deadpeople'),'e.D.s', hint='Did you check the case?')\n",
    "assert_equal(monogram('mers sadees benz II'),'m.B.s',hint='Did the extra suffix throw you off?')"
   ]
  },
  {
   "cell_type": "markdown",
   "metadata": {},
   "source": [
    "# Challenge 3 - Are you my mother?\n",
    "In this coding challenge you are to determine the matriarchical family tree given a list of mother/daughter pairs.  \n",
    "\n",
    "For this challenge you will need to understand the concept of tuples.  A tuple is a sequence of elements much like a list, but unlike a list, tuples are immutable (that is, they cannot be changed).  Tuples are represented by the parathenses surrounding a comma separated list of items such as (5,6) or ('mother', 'daughter').  In the first case, the tuple is made up of two integers and the second case the tuple is two strings.  Accessing items in a tuple is similar to accessing items in other sequences in Python - by using square brackets.\n",
    "```python\n",
    "> pair = ('mother','daughter')\n",
    "> pair[0]\n",
    "'mother'\n",
    "> pair[1]\n",
    "'daughter'\n",
    "```\n",
    "\n",
    "Now on with the challenge.  You will be provided a list of tuples, the first name will always be the mother of the second name.  Given this list of names, you are to develop the family tree and provide the relationship between the target pair.\n",
    "\n",
    "For instance, if the `source_list` is \n",
    "```[('Enid','Susan'),('Enid','Diane'),('Susan','Deborah')] ```\n",
    "then the family tree represented is \n",
    "```\n",
    "        Enid\n",
    "          |\n",
    "     |--------|\n",
    "   Susan     Diane\n",
    "     |\n",
    "   Deborah\n",
    "```\n",
    "and then if the `target_list` is `[('Enid','Deborah')]` then the correct response is `Granddaughter`, as Deborah is the _granddaughter_ of Enid.\n",
    "\n",
    "There will only every be only 3 generations (maximum) with varying number of children for each parent, but each child will only have a single parent (we are only dealing with the females in the tree).  Your response should be one of \n",
    "```python\n",
    "Mother\n",
    "Daughter\n",
    "Grandmother\n",
    "Granddaughter\n",
    "Sister\n",
    "Cousin\n",
    "Aunt\n",
    "Niece\n",
    "```\n",
    ">**Remember**\n",
    "><li>Sisters have the same mother.</li>\n",
    "><li>Cousins have the same grandmother.</li>\n",
    "><li>A niece's grandmother is the mother of her Aunt.</li>\n",
    "><li>An Aunt's mother is the grandmother of her niece.</li>\n",
    "\n",
    "**Hint**: You may consider using a [dictionary](https://www.w3schools.com/python/python_dictionaries.asp#:~:text=%20Python%20Dictionaries%20%201%20Dictionary.%20A%20dictionary,Items.%20%208%20Removing%20Items.%20%20More%20) data type to solve this one.\n"
   ]
  },
  {
   "cell_type": "code",
   "execution_count": null,
   "metadata": {},
   "outputs": [],
   "source": [
    "def relations(family_tree, relationship):\n",
    "    ''' Determine the relationship between two people in a given family\n",
    "    \n",
    "    Parameters\n",
    "    ----------\n",
    "    family_tree : list of tuple of str\n",
    "        The family tree is defined by tuples of mother/daughter pairs \n",
    "        where the first item in the tuple is the mother of the second name in the tuple.\n",
    "    relationship: tuple of str\n",
    "        The relationship to be determined of the second person in the tuple to the first person in the tuple\n",
    "        \n",
    "    Returns\n",
    "    -------\n",
    "    str : {'Grandmother','Granddaughter','Mother','Daughter','Sister','Cousin','Aunt','Niece'}\n",
    "        The relationship of the second person in the `relationship` tuple to the first person in the tuple\n",
    "        \n",
    "    '''\n",
    "    # Replace pass with your code\n",
    "    pass\n",
    "\n",
    "# You can run this to try out the function you wrote. \n",
    "\n",
    "# First we define the family tree.\n",
    "# The variable test_family represents a family tree where:\n",
    "#   Ingrid is Sally's mother\n",
    "#   Ingrid is also Jackie's mother\n",
    "#   Sally is Betty's mother\n",
    "#   \n",
    "# Therefore,\n",
    "#    Sally and Jackie are sisters (same mother)\n",
    "#    Ingrid is Betty's grandmother (Sally's mother is Ingrid)\n",
    "#    Jackie is Betty's aunt (Betty's mother has the same mother as Jackie)\n",
    "test_family = [('Ingrid','Sally'), ('Ingrid','Jackie'), ('Sally','Betty')]\n",
    "\n",
    "# Let's see how Ingrid and Sally are related\n",
    "relationship_1 = relations(test_family, ('Ingrid','Sally'))\n",
    "print(f'Ingrid is Sally`s {relationship_1}')\n",
    "\n",
    "# Let's see how Ingrid and Betty are related (should be gradmother)\n",
    "relationship_2 = relations(test_family, ('Ingrid','Betty'))\n",
    "print(f'Ingrid is Betty`s {relationship_2}')\n",
    "\n",
    "# Now let's see how Betty is related to Ingrid (should be granddaughter)\n",
    "relationship_3 = relations(test_family, ('Ingrid','Betty'))\n",
    "print(f'Betty is Ingrid`s {relationship_3}')"
   ]
  },
  {
   "cell_type": "code",
   "execution_count": null,
   "metadata": {
    "tags": []
   },
   "outputs": [],
   "source": [
    "# Run this cell to test your work\n",
    "\n",
    "family_a = [(\"Enid\", \"Susan\"), (\"Susan\", \"Deborah\")]\n",
    "family_b = [('Enid', 'Susan'), ('Susan', 'Deborah'), ('Enid', 'Dianne'), ('Dianne', 'Judy'), ('Dianne', 'Fern')]\n",
    "\n",
    "assert_equal(relations(family_a,('Enid','Susan')),'Daughter')\n",
    "assert_equal(relations(family_b,('Enid','Judy')),'Granddaughter')\n",
    "assert_equal(relations(family_b,('Enid','Deborah')),'Granddaughter')\n",
    "assert_equal(relations(family_b,('Enid','Dianne')),'Daughter')\n",
    "assert_equal(relations(family_b,('Enid','Fern')),'Granddaughter')\n",
    "assert_equal(relations(family_b,('Susan','Enid')),'Mother')\n",
    "assert_equal(relations(family_b,('Susan','Deborah')),'Daughter')\n",
    "assert_equal(relations(family_b,('Susan','Dianne')),'Sister')\n",
    "assert_equal(relations(family_b,('Susan','Judy')),'Niece')\n",
    "assert_equal(relations(family_b,('Susan','Fern')),'Niece')\n",
    "assert_equal(relations(family_b,('Fern','Susan')),'Aunt')\n",
    "assert_equal(relations(family_b,('Fern','Judy')),'Sister')"
   ]
  },
  {
   "cell_type": "markdown",
   "metadata": {},
   "source": [
    "# Challenge 4 - Money in the bank\n",
    "\n",
    "For this challenge you are to dispense bills from an ATM in the least number of bills possible.\n",
    "\n",
    "In this challenge you are writing the code for an ATM which can dispense up to 1500 dollars per transaction with the least number of bills possible.  The ATM has bills available in these nominal amounts 10, 20, 50, 100 and 500 and plenty of them so no need to worry about running out!  You function should return the number of bills required, if the amount requested cannot be met, then your function should signal an error by returning a -1."
   ]
  },
  {
   "cell_type": "markdown",
   "metadata": {},
   "source": [
    "**HINT**: Python has an operator for [floor division](https://python-reference.readthedocs.io/en/latest/docs/operators/floor_division.html) which you may find helpful for this example.  You may also consider the [divmod() function](https://python-reference.readthedocs.io/en/latest/docs/functions/divmod.html?highlight=divmod())"
   ]
  },
  {
   "cell_type": "code",
   "execution_count": null,
   "metadata": {},
   "outputs": [],
   "source": [
    "def dispense_cash(amount):\n",
    "    ''' Determine the minimum number of ATM bills to meet the requested amount to dispense\n",
    "    \n",
    "    Parameters\n",
    "    ----------\n",
    "    amount : int\n",
    "        The amount of money requested from the ATM\n",
    "        \n",
    "    Returns\n",
    "    -------\n",
    "    int\n",
    "        The number of bills needed, -1 if it can't be done\n",
    "    '''\n",
    "    pass\n",
    "\n",
    "# Start simple\n",
    "print(f'If I ask for $500, I should get back 1 bill.  Your answer: {dispense_cash(500)}')\n",
    "\n",
    "# A bit more complex\n",
    "print(f'If I ask for $110, I should get back 2 bills (1x $100, 1x$10).  Your answer: {dispense_cash(110)}')\n",
    "\n",
    "# Finally\n",
    "print(f'If I ask for $290, I should get back 4 bills (2 x $100, 1 x $50, 2 x $20).  Your answer: {dispense_cash(290)}')\n"
   ]
  },
  {
   "cell_type": "code",
   "execution_count": null,
   "metadata": {},
   "outputs": [],
   "source": [
    "# Run this cell to test your answer\n",
    "\n",
    "assert_equal(dispense_cash(1120), 4)\n",
    "assert_equal(dispense_cash(492), -1)\n",
    "assert_equal(dispense_cash(440), 6)\n",
    "assert_equal(dispense_cash(370), 5)\n",
    "assert_equal(dispense_cash(80), 3)"
   ]
  },
  {
   "cell_type": "markdown",
   "metadata": {},
   "source": [
    "# Challenge 5 - Fruit Calculator\n",
    "\n",
    "Given a word problem as a string, complete the calculation and return the result.\n",
    "\n",
    "This one is going to be tricky.  You are given a word problem telling with some math in it.  For instance, \n",
    "> Panda has 8 apples and loses 2 apples.  How many apples?\n",
    "\n",
    "The format will always be a number followed by a fruit, and may contain the words `gains` or `loses`.  The question will always end in a question about a fruit (which may or may not be mentioned in the question).  Here are a few examples:\n",
    "\n",
    "> Panda has 2 apples, 3 bananas and 1 watermelon.  He gains 1 apple.  How many apples?\n",
    "\n",
    "> Panda has 2 apples and gains 3 bananas.  How many watermelon?\n",
    "\n",
    "> Panda has 2 apples and loses 2 apples but gains 4 bananas.  How many bananas?\n",
    "\n",
    "**Hints**<br>\n",
    "Built-in string functions will be helpful.  Three in particular: `isdigits()`, `rtrim()`, `split()`"
   ]
  },
  {
   "cell_type": "code",
   "execution_count": null,
   "metadata": {},
   "outputs": [],
   "source": [
    "def fruit_calculator(question):\n",
    "    '''\n",
    "    Given a word problem, answer the question\n",
    "    \n",
    "    Parameters\n",
    "    ----------\n",
    "    question : str\n",
    "        A question which has one or more sentences describing the situation and a question.\n",
    "    \n",
    "    Returns\n",
    "    -------\n",
    "    int\n",
    "        A number which answers the question\n",
    "    '''\n",
    "    # Your code here\n",
    "    pass\n",
    "\n",
    "# Start with 3 apples\n",
    "apples = fruit_calculator('Jim has 3 apples.  How many apples?')\n",
    "print(apples)\n",
    "\n",
    "# Now add 3 apples\n",
    "apples = fruit_calculator('Jim has 3 apples and gains 2 apples.  How many apples?')\n",
    "print(apples)\n",
    "\n",
    "# Now drop a few\n",
    "apples = fruit_calculator('Jim has 3 apples and loses 2 apples.  How many apples?')\n",
    "print(apples)\n",
    "\n",
    "# Add in another fruit\n",
    "apples = fruit_calculator('Jim has 3 apples and loses 2 bananas.  How many apples?')\n",
    "print(apples)"
   ]
  },
  {
   "cell_type": "code",
   "execution_count": null,
   "metadata": {},
   "outputs": [],
   "source": [
    "# Run this cell to test your work\n",
    "\n",
    "assert_equal(fruit_calculator('Panda has 8 apples and loses 2 apples.  How many apples?'), 6)\n",
    "assert_equal(fruit_calculator('Panda has 8 apples, 2 bananas and gains 3 bananas.  How many bananas?'), 5)\n",
    "assert_equal(fruit_calculator('Panda has 8 apples, 2 bananas and gains 3 bananas.  How many apples?'), 8)    \n",
    "assert_equal(fruit_calculator('Jim has 12 bananas. He loses 2 apples.  Then he gains 1 apple.  How many bananas?'), 12)\n",
    "assert_equal(fruit_calculator('Jim has 2 bananas and gains 3 bananas.  How many watermelons?'), 0)"
   ]
  }
 ],
 "metadata": {
  "kernelspec": {
   "display_name": "Python 3.9.12 ('base')",
   "language": "python",
   "name": "python3"
  },
  "language_info": {
   "codemirror_mode": {
    "name": "ipython",
    "version": 3
   },
   "file_extension": ".py",
   "mimetype": "text/x-python",
   "name": "python",
   "nbconvert_exporter": "python",
   "pygments_lexer": "ipython3",
   "version": "3.9.12"
  },
  "vscode": {
   "interpreter": {
    "hash": "d4d1e4263499bec80672ea0156c357c1ee493ec2b1c70f0acce89fc37c4a6abe"
   }
  }
 },
 "nbformat": 4,
 "nbformat_minor": 4
}
