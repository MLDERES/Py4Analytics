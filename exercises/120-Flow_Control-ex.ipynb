{
 "cells": [
  {
   "cell_type": "markdown",
   "metadata": {},
   "source": [
    "# Try it: Flow Control\n",
    "Now it's your turn to try out some of the techiques identified in the first few notebooks.  For each example, take a look first at the question.  Try to work out the logic in plain language first, then work out the coding logic afterward.  The outcome is described after each of the steps.\n",
    "In this notebook, we'll look at:\n",
    "- code blocks\n",
    "- conditional statements\n",
    "- looping statements"
   ]
  },
  {
   "cell_type": "markdown",
   "metadata": {},
   "source": [
    "## Number of code blocks\n",
    "How many code blocks are there in the following example?\n",
    "\n",
    "```python\n",
    "for i in range(5):\n",
    "    if i % 2: \n",
    "        print(f'{i} is an even number')\n",
    "    else:\n",
    "        print(f'{i} is an odd number')\n",
    "    \n",
    "    for j in range(10):\n",
    "        print(j)"
   ]
  },
  {
   "cell_type": "markdown",
   "metadata": {},
   "source": [
    "The number of code blocks is: ___________________"
   ]
  },
  {
   "cell_type": "markdown",
   "metadata": {},
   "source": [
    "## Hello World! revisited\n",
    "We'll go back to the example from the first notebook where we introduced ourselves and with a twist.  Our greeting is plesant, but we can do better.  We should have a greeting that takes into account the time of day.  The first few lines determine the hour of the day (where 0 is midnight and 23 is 11pm).  Using an ```if/else``` construct, greet the user appropriately for the time of day (morning, afternoon, evening)."
   ]
  },
  {
   "cell_type": "code",
   "execution_count": null,
   "metadata": {},
   "outputs": [],
   "source": [
    "# Getting the current time\n",
    "from datetime import datetime as dt\n",
    "import pytz\n",
    "current_hour = dt.now(pytz.timezone(\"US/Central\")).hour\n",
    "print(f'The current hour is: {current_hour}')\n",
    "\n",
    "# Assign the variable to my_name\n",
    "my_name = ...\n",
    "\n",
    "# Ask for the user's name\n",
    "user_name = input('What is your name?')\n",
    "\n",
    "# Set the greeting to default to nothing\n",
    "greeting = ''\n",
    "# If the the current hour is less than 12, change the greeting to 'Morning'\n",
    "# Otherwise, if the current hour is between 12 and 17 (5pm) set the greeting to 'Afternoon'\n",
    "# Otherwise, set the greeting to 'Evening'\n",
    "\n",
    "print(f'Good {greeting}, {user_name}!  My name is {my_name}')"
   ]
  },
  {
   "cell_type": "markdown",
   "metadata": {},
   "source": [
    "## Alphabet Soup\n",
    "For this challenge, using what you have learned about `for` loops and `if` statements to capitalize all the vowels (a,e,i,o,u) in the string provided and print the results.  To help you out, the letters of the alphabet have been provided.  The next cell provides an outline of the steps in English.  Working through the logic in English first can make solving problems a bit easier.  Try working through the steps one by one and translating each line into the Python code that executes the action.  Bonus, leaving the comments in place essentially creates automated documentation for your code!\n",
    "\n",
    "**HINT**: Remember strings are just a sequence of letters which can be iterated and also concatenated simply with `+`."
   ]
  },
  {
   "cell_type": "code",
   "execution_count": null,
   "metadata": {},
   "outputs": [],
   "source": [
    "# This is the word for which you should be replacing the vowels\n",
    "alphabet = 'abcdefghijklmnopqrstuvwxyz'\n",
    "\n",
    "# create a variable to hold the new set of letters\n",
    "# for each letter in the word provided\n",
    "    #  if the letter is an `a` then add a captial `A` to the new set of letters\n",
    "    #  otherwise if the letter is an `e` then add a capital `E` to the new set of letters\n",
    "    #  otherwise if the letter is an `i` then add a capital `I` to the new set of letters\n",
    "    #  otherwise if the letter is an `o` then add a capital `O` to the new set of letters\n",
    "    #  otherwise if the letter is an `u` then add a capital `U` to the new set of letters\n",
    "    #  otherwise add the current letter to the new set of letters\n",
    "# print the new string"
   ]
  }
 ],
 "metadata": {
  "kernelspec": {
   "display_name": "Python 3.9.12 ('base')",
   "language": "python",
   "name": "python3"
  },
  "language_info": {
   "name": "python",
   "version": "3.9.12"
  },
  "orig_nbformat": 4,
  "vscode": {
   "interpreter": {
    "hash": "d4d1e4263499bec80672ea0156c357c1ee493ec2b1c70f0acce89fc37c4a6abe"
   }
  }
 },
 "nbformat": 4,
 "nbformat_minor": 2
}
