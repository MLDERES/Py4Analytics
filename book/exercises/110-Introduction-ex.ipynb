{
 "cells": [
  {
   "cell_type": "markdown",
   "metadata": {},
   "source": [
    "# Try it: Getting Started with Python\n",
    "\n",
    "Now it's your turn to try out some of the techiques identified in the first few notebooks.  For each example, take a look first at the question.  Try to work out the logic in plain language first, then work out the coding logic afterward.  The outcome is described after each of the steps.\n",
    "In this notebook, we'll look at:\n",
    "- output (using the `print()` function)\n",
    "- input (using the `input()` function)\n",
    "- conditional statements\n",
    "- building resuable code (functions)\n",
    "- dealing with strings\n"
   ]
  },
  {
   "cell_type": "markdown",
   "metadata": {},
   "source": [
    "## Hello World\n",
    "\n",
    "One of the first things all programmers learn to do is to write Hello World!  It's a time honored tradition, so let's start there.  In the next cell, set the value of the name variable and run the cell."
   ]
  },
  {
   "cell_type": "code",
   "execution_count": 1,
   "metadata": {},
   "outputs": [
    {
     "name": "stdout",
     "output_type": "stream",
     "text": [
      "Hello World!  My name is Ellipsis\n"
     ]
    }
   ],
   "source": [
    "# Set the value of the my_name variable to your name\n",
    "my_name = ...\n",
    "print(f'Hello World!  My name is {my_name}')"
   ]
  },
  {
   "cell_type": "markdown",
   "metadata": {},
   "source": [
    "### Hello, user\n",
    "Hello world is a great start, but what if we want this to work for everyone without changing our code.  Well we can use a built-in Python function called ```input()``` which will ask the user for some text.  The result of this function is a string.  Run the next cell to see how this works."
   ]
  },
  {
   "cell_type": "code",
   "execution_count": null,
   "metadata": {},
   "outputs": [],
   "source": [
    "# Ask user for their name, store the value in the user_name variable\n",
    "user_name = input('What is your name?') \n",
    "\n",
    "\n",
    "# Print the value of the user_name variable\n",
    "print(f'You said: {user_name}')"
   ]
  },
  {
   "cell_type": "markdown",
   "metadata": {},
   "source": [
    "Did you see the computer output the user's name?  Let's incorporate this into our Hello World, example from above.\n",
    "\n",
    "Ask for the user's name.  Instead of Hello World, print a message that says hello to the user.  Make sure that you also introduce yourself.  Assuming the user's name is Mel, and my name is Ned - the output should look like\n",
    "\n",
    "```Hello Mel!  My name is Ned```"
   ]
  },
  {
   "cell_type": "code",
   "execution_count": null,
   "metadata": {},
   "outputs": [],
   "source": [
    "# Assign the variable to my_name\n",
    "my_name = ...\n",
    "\n",
    "# Ask for the user's name\n",
    "\n",
    "# Print the greeting including the user's name and your name"
   ]
  },
  {
   "cell_type": "markdown",
   "metadata": {},
   "source": [
    "## Now we'll take it one step further\n",
    "For this exercise, continue to write the classic Hello World! with a twist.  Your output should be a string that contains an introduction to yourself, by stating your name and your age (not your real age if you don't wish).  You can use string concatenation or `f'strings`, it's up to you.  Two caveats, we want to make this easy for someone else to try and your age never stays they same, therefore the name must be stored in a variable `my_name` and the age should be calculated based on the current year something like \n",
    "```python \n",
    "age = 2020 - 1985\n",
    "```\n",
    "\n",
    "The output should look like<br>\n",
    "```\n",
    "Hello World!  My name is Michael and I am currently 40 years old\n",
    "```\n",
    "\n",
    "**BONUS**: _Can you calcuate your age in months instead of years?  How about days? (built in date functions is cheating)_"
   ]
  }
 ],
 "metadata": {
  "kernelspec": {
   "display_name": "Python 3.10.7 64-bit",
   "language": "python",
   "name": "python3"
  },
  "language_info": {
   "codemirror_mode": {
    "name": "ipython",
    "version": 3
   },
   "file_extension": ".py",
   "mimetype": "text/x-python",
   "name": "python",
   "nbconvert_exporter": "python",
   "pygments_lexer": "ipython3",
   "version": "3.10.7"
  },
  "vscode": {
   "interpreter": {
    "hash": "dfaecb14decf4e6bca5ea4d777791756aa38c2aab07949a3a2abbd9853789f78"
   }
  }
 },
 "nbformat": 4,
 "nbformat_minor": 2
}
