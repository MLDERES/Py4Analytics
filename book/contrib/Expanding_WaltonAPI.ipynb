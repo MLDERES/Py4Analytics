{
 "cells": [
  {
   "cell_type": "markdown",
   "metadata": {},
   "source": [
    "## Creating new Queries\n",
    "\n",
    "New queries should follow the below template with your desired path in the place of URL_PATH\n",
    "\n",
    "    from .__init__ import app\n",
    "    from .__init__ import sqlQuery\n",
    "\n",
    "    @app.route(\"/URL_PATH/<x>\")\n",
    "        def api_return_table(x):\n",
    "        return sqlQuery(f\"SELECT * FROM {x}\")\n",
    "\n",
    "URL paths can be passed down by being placed within \"<>\" as described [here](https://flask.palletsprojects.com/en/2.2.x/quickstart/#routing)\n",
    "\n",
    "URL arguements can be accessed as described [here](https://stackoverflow.com/questions/24892035/how-can-i-get-the-named-parameters-from-a-url-using-flask)\n",
    "\n",
    "the sqlQuery method can then be used to send a query directly to the DB. "
   ]
  }
 ],
 "metadata": {
  "kernelspec": {
   "display_name": "Python 3.9.1 64-bit",
   "language": "python",
   "name": "python3"
  },
  "language_info": {
   "name": "python",
   "version": "3.9.1"
  },
  "orig_nbformat": 4,
  "vscode": {
   "interpreter": {
    "hash": "aee8b7b246df8f9039afb4144a1f6fd8d2ca17a180786b69acc140d282b71a49"
   }
  }
 },
 "nbformat": 4,
 "nbformat_minor": 2
}
