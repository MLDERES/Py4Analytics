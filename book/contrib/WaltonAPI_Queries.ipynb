{
 "cells": [
  {
   "cell_type": "markdown",
   "metadata": {},
   "source": [
    "# Using the Walton ZIP API.\n",
    "\n",
    "To use the Walton API you must be connected to the UARK WiFi or connected to the UARK VPN which can be accessed from (https://its.uark.edu/network-access/vpn/index.php). Once you have connected to the VPN you can make one of the following requests. \n",
    "\n",
    "\n",
    "\n",
    "\n",
    "\n"
   ]
  },
  {
   "cell_type": "markdown",
   "metadata": {},
   "source": [
    "## Methods for making requests\n",
    "\n",
    "### Browser \n",
    "This can be done by visiting WaltonAPi.uark.edu in your browser and using one of the queries mentioned below. "
   ]
  },
  {
   "cell_type": "markdown",
   "metadata": {},
   "source": [
    "### Python\n",
    "This can be done using the requests library (https://requests.readthedocs.io/en/latest/)"
   ]
  },
  {
   "cell_type": "code",
   "execution_count": null,
   "metadata": {},
   "outputs": [],
   "source": [
    "import requests\n",
    "r = requests.get('https://waltonapi.uark.edu/table/zip')\n",
    "r.json()"
   ]
  },
  {
   "cell_type": "markdown",
   "metadata": {},
   "source": [
    "### Linux/Mac\n",
    "This can be done using a cURL command in the terminal \n",
    "\n",
    "for example:\n",
    "\n",
    "    curl https://waltonapi.uark.edu/table/zip\n"
   ]
  },
  {
   "cell_type": "markdown",
   "metadata": {},
   "source": [
    "## Query Types\n",
    "\n",
    "### Return a Table\n",
    "\n",
    "To access a specific table in the Walton API, you can add the table name to the API's address by appending /table/(table name) to the end of the URL. For example, if the API's base address is https://waltonapi.uark.edu, and you want to access a table called state, you would use the following URL: https://waltonapi.uark.edu/table/state. This will return the data in the state table, if it is available in the API.\n",
    "\n",
    "### Return the state associated with a Zip Code\n",
    "\n",
    "To get information about a specific zip code using the Walton API, you can add the zip code to the API's address by appending /state/(desired zip) to the end of the URL. For example, if the API's base address is https://waltonapi.uark.edu, and you want to get information about the zip code 12345, you would use the following URL: https://waltonapi.uark.edu/state/12345. This will return information about the zip code 12345, if it is available in the API.\n",
    "\n",
    "\n"
   ]
  }
 ],
 "metadata": {
  "kernelspec": {
   "display_name": "Python 3.9.1 64-bit",
   "language": "python",
   "name": "python3"
  },
  "language_info": {
   "name": "python",
   "version": "3.9.1"
  },
  "orig_nbformat": 4,
  "vscode": {
   "interpreter": {
    "hash": "aee8b7b246df8f9039afb4144a1f6fd8d2ca17a180786b69acc140d282b71a49"
   }
  }
 },
 "nbformat": 4,
 "nbformat_minor": 2
}
