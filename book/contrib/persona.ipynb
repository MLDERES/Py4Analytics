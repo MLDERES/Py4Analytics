{
 "cells": [
  {
   "cell_type": "markdown",
   "id": "058437c7",
   "metadata": {},
   "source": [
    "## Using **Personas** to Simulate Hallux Data\n",
    "\n",
    "\n",
    "### This example has two goals\n",
    "\n",
    "* To assign personas to the different entities in the Hallux database either randomly or based on existing data.\n",
    "\n",
    "* To use the assigned personas to predict an entity's behavoior in order to create new data.\n",
    "\n"
   ]
  },
  {
   "cell_type": "markdown",
   "id": "ffda4cbe",
   "metadata": {},
   "source": [
    "### The example starts by importing the required libraries and creating dictionaries\n"
   ]
  },
  {
   "cell_type": "code",
   "execution_count": 35,
   "id": "4d275d05",
   "metadata": {},
   "outputs": [],
   "source": [
    "\n",
    "# import libraries\n",
    "\n",
    "from os import getenv\n",
    "import pandas as pd\n",
    "import random\n",
    "from datetime import *; from dateutil.relativedelta import *\n",
    "import pymssql\n",
    "from sqlalchemy import create_engine\n",
    "\n",
    "\n",
    "# Personas dictionary (defined in Hallux tables Persona_Type and Persona)\n",
    "\n",
    "Personas = {\n",
    "    \"Album\" : (\"Bomb\",\"Non-Certified\",\"Gold\",\"Platinum\",\"Multi Platinum\",\"Diamond\"), \n",
    "    \"Band\" : (\"Bar Band\",\"Cover\",\"Tribute\",\"1 hit wonder\",\"Popular\",\"Cult Following\",\"Megaband\"),\n",
    "    \"Customer\" : (\"Occasioanl\",\"Discount\",\"Loyal\"),\n",
    "    \"Employee\" : (\"Bad\",\"Good\",\"Overachiever\"),\n",
    "    \"Experience\" : (\"Bad\",\"Good\",\"Wonderful\"),\n",
    "    \"Fan\" : (\"Casual\",\"Fan\",\"Fanatic\"),\n",
    "    \"Music\" : (\"Popular\", \"Regional\",\"Seasonal\",\"Specialty\",\"Nostalgic\"),\n",
    "    \"Musician\" : (\"Amateur\",\"Studio\",\"Backup\",\"Lead\",\"Superstar\"),\n",
    "    \"Performance\" : (\"Bad\",\"Good\",\"Epic\"),\n",
    "    \"Person\" : (\"Student\",\"Young Adult\",\"Mature\"),\n",
    "    \"Song\" : (\"Bad\",\"Good\",\"Popular\",\"Hit\"),\n",
    "    \"Video\" : (\"Bad\",\"Good\",\"Viral\")\n",
    "}\n",
    "\n",
    "# Hallux entity types dictionary defined in the Entity_Type table\n",
    "# Added an additional value list (table, id column, persona type, assignment method)\n",
    "# and put in the order needed for processing if not using random selection\n",
    "# For example, a band's persona will be determined by the personas of its band members.\n",
    "\n",
    "Entities_List_Columns = (\"Table Name\",\"Artificial Key\",\"Persona Type\",\"Assignment Method\",\"Persona Status\",\"Simulation Status\")\n",
    "\n",
    "Entities = {\n",
    "    \n",
    "    \"Genre\" : (\"Genre\",\"Genre_Id\",\"Music\",\"Market Share\",\"Under Construction\",\"Under Construction\"), \n",
    "    \"Member\" : (\"Band_Member\",\"Member_Id\",\"Musician\",\"Random\",\"Completed\",\"Under Construction\"),\n",
    "    \"Band\" : (\"Band\",\"Band_Id\",\"Band\",\"Members\",\"Under Construction\",\"Under Construction\"),\n",
    "    \"Agent\"   : (\"Agent\",\"Agent_Id\",\"Employee\",\"Commissions\",\"Under Construction\",\"Under Construction\"),\n",
    "    \"Album\" : (\"Album\",\"Album_Id\",\"Album\",\"Sales\",\"Under Construction\",\"Under Construction\"), \n",
    "    \"Song\" : (\"Song\",\"Song_Id\",\"Song\",\"Sales\",\"Under Construction\",\"Under Construction\"),\n",
    "    \"Performance\" : (\"Performance\",\"Performance_Id\",\"Performance\",\"Revenue\",\"Under Construction\",\"Under Construction\"),\n",
    "    \"Producer\"   : (\"Producer\",\"Producer_Id\",\"Employee\",\"Revenue\",\"Under Construction\",\"Under Construction\"),\n",
    "    \"Video\" : (\"Video\",\"Video_Id\",\"Video\",\"Streams\",\"Under Construction\",\"Under Construction\"),\n",
    "    \"Profile\" : (\"Customer_Profile\",\"Profile_Id\",\"Person\",\"Demographics\",\"Under Construction\",\"Under Construction\"),\n",
    "    \"Customer\" : (\"Customer\",\"Customer_Id\",\"Customer\",\"Purchases\",\"Under Construction\",\"Under Construction\"),\n",
    "    \"Follower\" : (\"Band_Follower\",\"Follower_Id\",\"Fan\",\"Engagement\",\"Under Construction\",\"Under Construction\"),\n",
    "    \"Playlist\" : (\"Playlist\",\"Playlist_Id\",\"Experience\",\"Streams\",\"Under Construction\",\"Under Construction\"),\n",
    "    \"Order\"   : (\"Order\",\"Order_Id\",\"Experience\",\"Probability\",\"Under Construction\",\"Under Construction\"),\n",
    "    \"Stream\"   : (\"Stream\",\"Stream_Id\",\"Experience\",\"Probability\",\"Under Construction\",\"Under Construction\")\n",
    "}\n",
    "\n"
   ]
  },
  {
   "cell_type": "markdown",
   "id": "dd5fccf5",
   "metadata": {},
   "source": [
    "## Let's assign **Personas**\n",
    "\n",
    "### The dictionaries defined above reflect the Hallux tables designed to support personas\n",
    "\n",
    "<img src=\"persona_tables.png\" width=\"800\" height=\"1000\"/>\n"
   ]
  },
  {
   "cell_type": "markdown",
   "id": "368a9600",
   "metadata": {},
   "source": [
    "### Set an individual entity's persona\n",
    "\n",
    "The set_persona function will update the database with an entities persona \n",
    "\n",
    "*Note: This function uses a stored procedure to update data.  \n",
    "This allows for greater security and users do not need update, insert or delete permission on specific tables, only execute permission for this stored procedure.*  \n"
   ]
  },
  {
   "cell_type": "code",
   "execution_count": 68,
   "id": "ff7b99af",
   "metadata": {},
   "outputs": [],
   "source": [
    "\n",
    "def set_persona ( a_entity_type, a_entity_id, a_persona_type, a_persona ):   \n",
    "\n",
    "    ret_val = ''\n",
    "   \n",
    "    sp_exec_sql = \"prc_set_Persona\"\n",
    "    parm_list = (str(a_entity_type), int(a_entity_id), str(a_persona_type), str(a_persona))\n",
    "    cursor.callproc(sp_exec_sql,parm_list)    \n",
    " \n",
    "    return ret_val\n"
   ]
  },
  {
   "cell_type": "markdown",
   "id": "93515fc7",
   "metadata": {},
   "source": [
    "### Get an individual entity's persona\n",
    "\n",
    "The get_persona function will return an entity's persona \n"
   ]
  },
  {
   "cell_type": "code",
   "execution_count": 37,
   "id": "4340f9d6",
   "metadata": {},
   "outputs": [],
   "source": [
    "\n",
    "def get_persona ( a_entity_type, a_entity_id, a_persona_type):   \n",
    "    \n",
    "    my_persona = ''\n",
    "    \n",
    "    return my_persona\n"
   ]
  },
  {
   "cell_type": "markdown",
   "id": "a50cb5f9",
   "metadata": {},
   "source": [
    "###  What is my Persona? \n",
    "\n",
    "The my_persona function will determine the persona for an entity\n",
    "\n",
    "*Will start by using a random selection* "
   ]
  },
  {
   "cell_type": "code",
   "execution_count": 38,
   "id": "a30afe17",
   "metadata": {},
   "outputs": [],
   "source": [
    "\n",
    "\n",
    "def whats_my_persona ( a_entity_type, a_entity_id, a_persona_type, a_assignment_method ):   \n",
    "\n",
    "    \n",
    "    my_persona = ''\n",
    "\n",
    "    if a_assignment_method == 'Random' :\n",
    "    \n",
    "        if a_persona_type in Personas:\n",
    "            persona_list = Personas[a_persona_type]\n",
    "            ndx = random.randint(1, len(persona_list)) - 1       \n",
    "            my_persona = persona_list[ndx]\n",
    "                             \n",
    "\n",
    "    return my_persona\n",
    "\n",
    "\n",
    "\n"
   ]
  },
  {
   "cell_type": "markdown",
   "id": "5d1eaaff",
   "metadata": {},
   "source": [
    "###  Assign Personas \n",
    "\n",
    "The assign_personas function will loop thru all the members of a specific Hallux entity and assign them personas \n",
    "\n",
    "*This is where the hard work is done!*  "
   ]
  },
  {
   "cell_type": "code",
   "execution_count": 64,
   "id": "f75a23fe",
   "metadata": {},
   "outputs": [],
   "source": [
    "\n",
    "def assign_personas ( a_entity_type, a_persona_type, a_assignment_method, a_status ):   \n",
    "\n",
    "    \n",
    "    ret_val = a_status\n",
    "    \n",
    "    if a_status not in ('Completed','Under Construction') :\n",
    "      \n",
    "    \n",
    "        # get all the entity ids\n",
    "\n",
    "        if a_entity_type in Entities:\n",
    "\n",
    "            entity_list = Entities[a_entity_type]\n",
    "            sql_select = 'SELECT ' + entity_list[1] + ' FROM ' + entity_list[0] + ' order by ' + entity_list[1]\n",
    "            df_entity = pd.read_sql(sql_select, eng)\n",
    "            df_entity.set_index(entity_list[1])\n",
    "            ret_val = str(len(df_entity))\n",
    "\n",
    "        # assign and save persona\n",
    "\n",
    "        for i in range(len(df_entity)):\n",
    "\n",
    "            curr_entity_id = df_entity[entity_list[1]][i]\n",
    "            curr_persona   = whats_my_persona ( a_entity_type, curr_entity_id, a_persona_type, a_assignment_method )\n",
    "\n",
    "            if curr_persona != '' :\n",
    "                set_persona ( a_entity_type, curr_entity_id, a_persona_type, curr_persona )   \n",
    "\n",
    "        conn.commit()\n",
    "        \n",
    "        ret_val = str(len(df_entity))\n",
    "        \n",
    "\n",
    "    return ret_val\n",
    "\n",
    "\n"
   ]
  },
  {
   "cell_type": "markdown",
   "id": "a03230f2",
   "metadata": {},
   "source": [
    "## Now that the Personas have been assigned we can start **Simulating** data...\n",
    "\n",
    "### Let's start with the new tables in Hallux that support social media\n",
    "\n",
    "<img src=\"social_media_tables.png\" width=\"500\" height=\"600\"/>"
   ]
  },
  {
   "cell_type": "markdown",
   "id": "03691fe4",
   "metadata": {},
   "source": [
    "### Simulate Follower Data\n",
    "\n",
    "This fuction will determine which bands the specified customer profile will follow, if any \n",
    "\n",
    " "
   ]
  },
  {
   "cell_type": "code",
   "execution_count": 40,
   "id": "60ebd32b",
   "metadata": {},
   "outputs": [],
   "source": [
    "\n",
    "def sim_follower_data (a_start_date, a_end_date):   \n",
    "    \n",
    "    ret_val = 'Under Construction'\n",
    "    return ret_val\n"
   ]
  },
  {
   "cell_type": "markdown",
   "id": "6af55c56",
   "metadata": {},
   "source": [
    "### Simulate Playlist Data\n",
    "\n",
    "This fuction will determine which playlists the specified customer profile will create, if any \n",
    "*any note*  "
   ]
  },
  {
   "cell_type": "code",
   "execution_count": 41,
   "id": "e762883f",
   "metadata": {},
   "outputs": [],
   "source": [
    "\n",
    "def sim_playlist_data (a_start_date, a_end_date):   \n",
    "    \n",
    "    ret_val = 'Under Construction'\n",
    "    return ret_val\n",
    "\n"
   ]
  },
  {
   "cell_type": "markdown",
   "id": "7899c7cd",
   "metadata": {},
   "source": [
    "### Simuate Streaming Data\n",
    "\n",
    "This fuction will determine which songs the specified customer profile will stream, if any \n"
   ]
  },
  {
   "cell_type": "code",
   "execution_count": 42,
   "id": "855e5d0f",
   "metadata": {},
   "outputs": [],
   "source": [
    "\n",
    "def sim_streaming_data (a_start_date, a_end_date):   \n",
    "    \n",
    "    ret_val = 'Under Construction'\n",
    "    return ret_val\n",
    "\n",
    "\n"
   ]
  },
  {
   "cell_type": "markdown",
   "id": "4668a759",
   "metadata": {},
   "source": [
    "### Simuate Data\n",
    "\n",
    "This fuction calls the appropriate simulation function based on the entitity type, otherwise return -1\n",
    "\n"
   ]
  },
  {
   "cell_type": "code",
   "execution_count": 43,
   "id": "f5359349",
   "metadata": {},
   "outputs": [],
   "source": [
    "\n",
    "def sim_data ( a_entity_type, a_start_date, a_end_date, a_status ):   \n",
    "\n",
    "    ret_val = a_status\n",
    "    \n",
    "    if a_status not in ('Completed','Under Construction') :\n",
    "    \n",
    "    \n",
    "        if a_entity_type == 'Follower':\n",
    "            ret_val = sim_follower_data (a_start_date, a_end_date )\n",
    "\n",
    "        if a_entity_type == 'Playlist':\n",
    "            ret_val = sim_playlist_data (a_start_date, a_end_date )\n",
    "\n",
    "        if a_entity_type == 'Stream':\n",
    "            ret_val = sim_streaming_data (a_start_date, a_end_date )\n",
    "        \n",
    "    \n",
    "    return ret_val\n",
    "\n"
   ]
  },
  {
   "cell_type": "markdown",
   "id": "3075ab83",
   "metadata": {},
   "source": [
    "### Here we go...\n",
    "\n",
    "* Initalization, database engine \n",
    "\n",
    "* Assign personas to Hallux entities \n",
    "\n",
    "* Generate the data for the specified date range!\n"
   ]
  },
  {
   "cell_type": "code",
   "execution_count": 69,
   "id": "c1485df8",
   "metadata": {},
   "outputs": [
    {
     "name": "stdout",
     "output_type": "stream",
     "text": [
      "Genre\n",
      "   Personas:    Under Construction\n",
      "   Simulation:  Under Construction\n",
      "Member\n",
      "   Personas:    1415\n",
      "   Simulation:  Under Construction\n",
      "Band\n",
      "   Personas:    Under Construction\n",
      "   Simulation:  Under Construction\n",
      "Agent\n",
      "   Personas:    Under Construction\n",
      "   Simulation:  Under Construction\n",
      "Album\n",
      "   Personas:    Under Construction\n",
      "   Simulation:  Under Construction\n",
      "Song\n",
      "   Personas:    Under Construction\n",
      "   Simulation:  Under Construction\n",
      "Performance\n",
      "   Personas:    Under Construction\n",
      "   Simulation:  Under Construction\n",
      "Producer\n",
      "   Personas:    Under Construction\n",
      "   Simulation:  Under Construction\n",
      "Video\n",
      "   Personas:    Under Construction\n",
      "   Simulation:  Under Construction\n",
      "Profile\n",
      "   Personas:    Under Construction\n",
      "   Simulation:  Under Construction\n",
      "Customer\n",
      "   Personas:    Under Construction\n",
      "   Simulation:  Under Construction\n",
      "Follower\n",
      "   Personas:    Under Construction\n",
      "   Simulation:  Under Construction\n",
      "Playlist\n",
      "   Personas:    Under Construction\n",
      "   Simulation:  Under Construction\n",
      "Order\n",
      "   Personas:    Under Construction\n",
      "   Simulation:  Under Construction\n",
      "Stream\n",
      "   Personas:    Under Construction\n",
      "   Simulation:  Under Construction\n"
     ]
    }
   ],
   "source": [
    "\n",
    "\n",
    "hallux_svr = getenv(\"halluxsvr\")\n",
    "hallux_usr = getenv(\"halluxusr\")\n",
    "hallux_psd = getenv(\"halluxpsd\")\n",
    "hallux_db  = getenv(\"halluxdb\")\n",
    "\n",
    "\n",
    "# for use in creating a dataframe\n",
    "conn_string = f\"mssql+pyodbc://{hallux_usr}:{hallux_psd}@{hallux_svr}/{hallux_db}?driver=SQL+Server+Native+Client+11.0&TrustServerCertificate=yes\"\n",
    "eng = create_engine(conn_string, fast_executemany=True)\n",
    "\n",
    "# used for executing dynamic sql\n",
    "conn   = pymssql.connect(hallux_svr, hallux_usr, hallux_psd, hallux_db)\n",
    "cursor = conn.cursor(as_dict=True)\n",
    "\n",
    "# loop thru the entities and assign the appropriate persona\n",
    "\n",
    "start_date = date(2023, 1, 1)\n",
    "end_date   = date(2023, 12, 31)  \n",
    "\n",
    "for curr_entity, curr_value in Entities.items():\n",
    "\n",
    "    print(curr_entity)\n",
    "    \n",
    "    ret_per = assign_personas (curr_entity, curr_value[2], curr_value[3], curr_value[4])\n",
    "    ret_sim = sim_data (curr_entity, start_date, end_date, curr_value[5])\n",
    "    \n",
    "    print('   Personas:   ',ret_per)\n",
    "    print('   Simulation: ', ret_sim )\n",
    "\n",
    "\n",
    "conn.close()\n",
    "eng.dispose()\n",
    "\n"
   ]
  },
  {
   "cell_type": "code",
   "execution_count": null,
   "id": "7857df24",
   "metadata": {},
   "outputs": [],
   "source": []
  }
 ],
 "metadata": {
  "kernelspec": {
   "display_name": "Python 3 (ipykernel)",
   "language": "python",
   "name": "python3"
  },
  "language_info": {
   "codemirror_mode": {
    "name": "ipython",
    "version": 3
   },
   "file_extension": ".py",
   "mimetype": "text/x-python",
   "name": "python",
   "nbconvert_exporter": "python",
   "pygments_lexer": "ipython3",
   "version": "3.9.12"
  }
 },
 "nbformat": 4,
 "nbformat_minor": 5
}
