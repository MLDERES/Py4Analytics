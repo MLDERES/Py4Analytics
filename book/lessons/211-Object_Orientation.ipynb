{
 "cells": [
  {
   "cell_type": "markdown",
   "metadata": {},
   "source": [
    "# Object Oriented Programming\n",
    "Object-oriented programming (OOP) refers to a paradigm in which software is organized around data (objects) rather than functions and logic.  An object can be defined as a data field that has unique attributes and behaviors. This will not be a lecture on OOP, but rather a focus on how OOP is manifest in Python, but in order to get there we have to levelset on a few key terms.\n",
    "\n",
    "* __class__ : defines the structure of an entity\n",
    "* __object__: the instantiation of a __class__\n",
    "* __member__: members of a __class__ include functions and properties\n",
    "\n",
    "As an example, I can describe the characteristics of a dog.  A dog is a mammal that has a name, breed, fur and it barks.  hank, _is_ a dog, spot does not _define_ what a dog is.  This is the difference between a __class__ and an __object__.  A dog is the __class__, while Spot is represented by an __object__.\n",
    "\n",
    "It's relatively easy to decide the members of a __class__, we can simply look at the characteristics (breed, fur, and name) these are the _properties_ dogs and looking at the verbs (bark) we can identify the _functions_ (or more generally called methods)."
   ]
  },
  {
   "cell_type": "code",
   "execution_count": 2,
   "metadata": {},
   "outputs": [],
   "source": [
    "class Dog():\n",
    "\n",
    "    # The name property\n",
    "    name = \"\"\n",
    "    # The fur_color property\n",
    "    fur_color = \"\"\n",
    "    # The fur_length property\n",
    "    fur_length = 0\n",
    "    # The breed property\n",
    "    breed = \"\"\n",
    "\n",
    "\n",
    "    # The bark method\n",
    "    def bark():\n",
    "        print('Woof')"
   ]
  },
  {
   "cell_type": "markdown",
   "metadata": {},
   "source": [
    "Once we have defined the `Dog` class, we can then create a particular instance of this class."
   ]
  },
  {
   "cell_type": "code",
   "execution_count": 5,
   "metadata": {},
   "outputs": [
    {
     "name": "stdout",
     "output_type": "stream",
     "text": [
      "<__main__.Dog object at 0x7f191c5e6880>\n"
     ]
    }
   ],
   "source": [
    "spot_the_dog = Dog()\n",
    "spot_the_dog.name = \"Spot\"\n",
    "spot_the_dog.fur_color = \"brown\"\n",
    "spot_the_dog.fur_length = \"short\"\n",
    "spot_the_dog.breed = 'Beagle'\n",
    "\n",
    "print(spot_the_dog)\n"
   ]
  },
  {
   "cell_type": "markdown",
   "metadata": {},
   "source": [
    "And we can create other instances of the `Dog` class.  Each has all the same properties and methods, though the values can be slightly different"
   ]
  },
  {
   "cell_type": "code",
   "execution_count": 7,
   "metadata": {},
   "outputs": [
    {
     "name": "stdout",
     "output_type": "stream",
     "text": [
      "<__main__.Dog object at 0x7f18ff792e50>\n"
     ]
    }
   ],
   "source": [
    "# Create a new Dog\n",
    "hank_the_dog = Dog()\n",
    "hank_the_dog.name = 'Hank'\n",
    "hank_the_dog.fur_color = \"black\"\n",
    "hank_the_dog.fur_length = \"long\"\n",
    "hank_the_dog.breed = 'Lab'\n",
    "\n",
    "print(hank_the_dog)"
   ]
  },
  {
   "cell_type": "markdown",
   "metadata": {},
   "source": [
    "Since we know that all `Dog`s have the same properties and the same methods, we can pass around variables which contain `Dog`s and depend on these values to be available."
   ]
  },
  {
   "cell_type": "markdown",
   "metadata": {},
   "source": []
  }
 ],
 "metadata": {
  "kernelspec": {
   "display_name": "Python 3.9.12 ('base')",
   "language": "python",
   "name": "python3"
  },
  "language_info": {
   "codemirror_mode": {
    "name": "ipython",
    "version": 3
   },
   "file_extension": ".py",
   "mimetype": "text/x-python",
   "name": "python",
   "nbconvert_exporter": "python",
   "pygments_lexer": "ipython3",
   "version": "3.9.12"
  },
  "orig_nbformat": 4,
  "vscode": {
   "interpreter": {
    "hash": "d4d1e4263499bec80672ea0156c357c1ee493ec2b1c70f0acce89fc37c4a6abe"
   }
  }
 },
 "nbformat": 4,
 "nbformat_minor": 2
}
