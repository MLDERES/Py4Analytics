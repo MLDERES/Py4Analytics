{
 "cells": [
  {
   "cell_type": "markdown",
   "metadata": {},
   "source": [
    "# Working with relational database\n",
    "One common source of data, especially in institutions, is a relational database.  Microsoft SQL Server, Teradata, Oracle, Postgres, MySql are all examples of relational databases that are in common use for managing transactional data.  Storing and retrieving data from these servers is a regular task in the life of an analyst because any process that does anything interesting is likely to generate or ingest a lot of data.  In this notebook, we'll look at the main components of a database connection, how to establish a connection and put some data into a simple database and read some data out the database.\n",
    "\n",
    "````{note}\n",
    "SQL (pronounced S-Q-L or see-kwil) is the primary data manipulation language. This means SQL is the language we use to get/save data with a relational database.  You won't need an in-depth understanding of SQL to work through this notebook, but if you want to brush up on some of the basics, this is [a good resources](https://www.w3schools.com/sql/default.asp).\n",
    "````"
   ]
  },
  {
   "cell_type": "markdown",
   "metadata": {},
   "source": [
    "## Definitions\n",
    "Before we start, let's define a few terms generically so that when you see them it becomes more clear what is happening.\n",
    "\n",
    "* **Database Server** - A database server is the hardware which runs database software.  We will often refer to the database server as both the hardware and the software together.\n",
    "* **Database** - A database is a collection of tables, functions, procedures, et al, which allow access to the actual data.  The distinction between the server and the database are an important distinction, as a single *database server* can be hosting many *databases*.\n",
    "* **Connection** - in order to be able to run queries on a particular database, the client software needs to establish a connection to the database server/database combination.\n",
    "* **Cursor** - A database [cursor](https://en.wikipedia.org/wiki/Cursor_(databases)) is a mechanism which allows us to traverse the records in the database.  We can have many different cursors using the same connection to the database.\n",
    "\n",
    "## How to run a query\n",
    "There are a few basic steps in order to execute a query against a relational database.\n",
    "1. Establish a connection to the database\n",
    "2. Using the connection create a cursor upon which to execute one or more SQL commands\n",
    "3. Execute the SQL command using the cursor\n",
    "4. Assuming there is a result, process the results of the query\n",
    "5. The cursor may be reused if there are more commands to run\n",
    "6. When the operation is complete, close the connection\n",
    "\n",
    "We are going to look at a few different approaches for making the connection to the database.  Which one you use will depend largely on the destination RDBMS server.  For instance some of the common protocols include ODBC, OLE-DB, and DBAPI.  We'll take a look at a couple of these here."
   ]
  },
  {
   "cell_type": "markdown",
   "metadata": {},
   "source": [
    "## SQLITE3\n",
    "Arguably one of the simplest relational databases to work with in is the [SQLite3](https://www.sqlite.org/index.html) database.  It is also one of the most used databases in the world.  It's built into every [mobile phone](https://www.sqlite.org/mostdeployed.html) and comes bundled in many applications people use on a regular basis.  It has many of the features of a more robust relational database, though the data is all stored in a single portable file format.\n",
    "\n",
    "Before we make a connection and read from a SQLite database, we need to describe cursors.  A database [cursor](https://en.wikipedia.org/wiki/Cursor_(databases)) is a mechanism which allows us to traverse the records in the database.  You can think of it as a pointer to a record.  We'll use a cursor in the next example to get data from a predefined database.\n",
    "\n",
    "````{caution}\n",
    "If you get an error running the next cell, it's likely that their is a database file already in the `output` folder.  In order to resolve, either delete the file `sample.db` or rename it to something like `sample.db.bak`\n",
    "````"
   ]
  },
  {
   "cell_type": "code",
   "execution_count": 20,
   "metadata": {},
   "outputs": [
    {
     "data": {
      "text/plain": [
       "('pet',)"
      ]
     },
     "execution_count": 20,
     "metadata": {},
     "output_type": "execute_result"
    }
   ],
   "source": [
    "import sqlite3\n",
    "import os\n",
    "\n",
    "# Just for this situation, we want to remove the database if it already exists so that we don't have an issue overwriting\n",
    "#  the file.\n",
    "db_file = '../output/sample.db'\n",
    "if (os.path.exists(db_file)):\n",
    "    os.remove(db_file)\n",
    "\n",
    "# Make a connection to the database\n",
    "cnn = sqlite3.connect('../output/sample.db')\n",
    "\n",
    "# Next make a cursor that can be used to run a query on the new connection\n",
    "cur = cnn.cursor()\n",
    "\n",
    "# Now we can execute our SQL statement against the database\n",
    "cur.execute('CREATE TABLE pet(name , breed, owner)',)\n",
    "\n",
    "# Now we'll check to see if the data was made.\n",
    "result = cur.execute('SELECT name FROM sqlite_master')\n",
    "result.fetchone()"
   ]
  },
  {
   "cell_type": "markdown",
   "metadata": {},
   "source": [
    "We'll next insert a bit of data into our database to make it a little more interesting.  This is not a lesson on SQLite per se, for that I would point you to the [documentation](https://docs.python.org/3/library/sqlite3.html).  But it should be noted that SQLite requires that transactions which intend to change to the database must be committed.  If you are unfamiliar with transactions, then you can brush up [here](https://en.wikipedia.org/wiki/Database_transaction)."
   ]
  },
  {
   "cell_type": "code",
   "execution_count": 21,
   "metadata": {},
   "outputs": [],
   "source": [
    "cur.execute(\"\"\" \n",
    "    INSERT INTO pet VALUES\n",
    "        ('Sparky', 'goldfish', 'Jim'),\n",
    "        ('Buster','terrier','Louise'),\n",
    "        ('T-Rex','iguana','Caleb')\n",
    "\"\"\"\n",
    ")\n",
    "# Make the changes to the database\n",
    "cnn.commit()"
   ]
  },
  {
   "cell_type": "code",
   "execution_count": 22,
   "metadata": {},
   "outputs": [
    {
     "name": "stdout",
     "output_type": "stream",
     "text": [
      "('Sparky', 'goldfish', 'Jim')\n",
      "('Buster', 'terrier', 'Louise')\n",
      "('T-Rex', 'iguana', 'Caleb')\n"
     ]
    }
   ],
   "source": [
    "# Now let's get the data back out\n",
    "result = cur.execute('SELECT * FROM pet')\n",
    "for pet in result.fetchall():\n",
    "    print(pet)\n",
    "\n",
    "# When we are finally done, we want to be sure to close the connection.\n",
    "cnn.close()"
   ]
  },
  {
   "cell_type": "markdown",
   "metadata": {},
   "source": [
    "## Connecting to other RDBMS\n",
    "Again, this is just an introduction of how to get data to/from a database we are using SQLite as a portable and simple example. All the same principals apply even if you are connecting to a Microsoft SQL, Teradata, Oracle or other DBMS. But the connection mechanism for other databases can vary.  There are a few common libraries we can leverage such as [pyodbc](https://github.com/mkleehammer/pyodbc/wiki).  [ODBC](https://docs.microsoft.com/en-us/sql/odbc/reference/what-is-odbc?view=sql-server-ver16) is a specification for a database API.  Nearly every commercial RDBMS supports connections and transactions using ODBC, meaning that to change between one database and another, the code changes very little - typcially the only thing that needs to change in the connection string and the precise SQL you are trying to execute.  Though that doesn't mean it is easy, connection strings are database platform dependent and can vary widely.  Here's [one source](https://www.connectionstrings.com/) that might help.\n",
    "\n",
    "For SQL server, the connection string looks like:\n",
    "```\n",
    "\"Driver=SQL Server Native Client 18.0;Server=myservername; Database=myDatabase; User Id=myUserName; Password=myPassword;TrustServerCertificate=Yes;\"\n",
    "```"
   ]
  },
  {
   "cell_type": "markdown",
   "metadata": {},
   "source": [
    "````{note} Environment Variables\n",
    "Environment variables are variables that are stored in the operating system, rather than in our program.  Environment variables provide a way to configure your application without having to edit your source code when the configuration changes. Common config items that are often passed to application through environment variables are third-party API keys, network ports, database servers, and any custom options that your application may need to work properly.  For more information on environment variables [see this fantastic resource](https://www.twilio.com/blog/environment-variables-python).\n",
    "\n",
    "Additionally, the library I used here [`python-dotenv`](https://pypi.org/project/python-dotenv/) can get your environment from a `.env` file in root of your Python project.\n",
    "````"
   ]
  },
  {
   "cell_type": "markdown",
   "metadata": {},
   "source": [
    "### Connecting to MS SQL Server\n",
    "Most of the major RDBMS providers also provide python specific libraries if you know that you wont have to switch between different databases.  For instance, Microsoft provides [pymssql](http://www.pymssql.org/).  Using one of these libraries tends to make things a bit simpler if you just want to be able to do simple queries with a SQL database.\n",
    "\n",
    "For examples of connecting to a DB with ODBC see [this notebook](../extras/252-SQL_ODBC.ipynb)."
   ]
  },
  {
   "cell_type": "code",
   "execution_count": null,
   "metadata": {},
   "outputs": [],
   "source": [
    "from dotenv import load_dotenv\n",
    "from os import getenv\n",
    "import pymssql\n",
    "\n",
    "# This library allows the environment variables to be loaded from a file\n",
    "load_dotenv()\n",
    "\n",
    "# To get this working quickly, you can just replace these variables with your own values\n",
    "svr = getenv(\"PYMSSQL_SERVER\")\n",
    "uid = getenv(\"PYMSSQL_USER\")\n",
    "pwd = getenv(\"PYMSSQL_PASSWORD\")\n",
    "db = getenv(\"PYMSSQL_DATABASE\")\n",
    "\n",
    "\n",
    "# Connect to a MS SQL Server Database\n",
    "cnn = pymssql.connect(server=f'{svr}',user=uid, password=pwd,database=db)\n",
    "\n",
    "# Create the cursor required to run the command\n",
    "cur = cnn.cursor()\n",
    "\n",
    "# Run the SQL command\n",
    "cur.execute('SELECT top 10 * FROM Actor')\n",
    "\n",
    "for row in cur:\n",
    "    print(row)\n"
   ]
  },
  {
   "cell_type": "markdown",
   "metadata": {},
   "source": [
    "### Dynamic Queries\n",
    "As soon as developers understand the value of using Python to connect to SQL the very next step is to put the two things together to create dynamic queries.  For instance look at the following code snippet."
   ]
  },
  {
   "cell_type": "code",
   "execution_count": null,
   "metadata": {},
   "outputs": [],
   "source": [
    "import datetime as dt\n",
    "from dateutil.relativedelta import *\n",
    "\n",
    "last_month = (dt.date.today()+relativedelta(months=-1)).month\n",
    "sql_query = f\"SELECT * FROM sales WHERE month = {last_month}\"\n",
    "\n",
    "# Connect to the database and do something interesting\n",
    "# ..."
   ]
  },
  {
   "cell_type": "markdown",
   "metadata": {},
   "source": [
    "This is super handy, cause now we can get just the data we need like last month's sales and export it to an Excel sheet.  Python of course is terrific at automating this kind of thing and when we combine with SQL, we get some really powerful automation.\n",
    "\n",
    "Even better we could ask a user to give us a date and we can create a query from the response\n",
    "```python\n",
    "...\n",
    "month = input('Which month should I get sales from?')\n",
    "sql_query = \"SELECT * FROM sales WHERE month = \"+month\n",
    "...\n",
    "```\n",
    "Normally we would expect that users wouldn't do anything malicious - they would input a month number and we'd have a perfectly fine query.  But we could run across a user that is less than friendly, they could input something like\n",
    "\n",
    "```sql\n",
    "1; DROP TABLE sales;\n",
    "```\n",
    "The resulting string would be \n",
    "```\n",
    "SELECT * FROM sales WHERE month = 1; DROP TABLE sales;\n",
    "```\n",
    "If this statement were executed by our program, we would inadvertantly end up losing our entire sales table!"
   ]
  },
  {
   "cell_type": "markdown",
   "metadata": {},
   "source": [
    "#### Passing parameters\n",
    "Fortunately there is protection.  We can let the SQL parser handle any issues like this, ensuring that we only get valid values for our parameters and not malicious code like above.  We simply pass parameters to fill in the variable parts of our SQL statement.\n",
    "\n",
    "In the next code snippet, we are going to use another database in the supplied data, `cereals.db`.  This database has nutrition data for a variety of cereals.  We'll start by getting the columns that are in the database then we'll move on to a query using parameters."
   ]
  },
  {
   "cell_type": "code",
   "execution_count": null,
   "metadata": {},
   "outputs": [],
   "source": [
    "# Connect to a sample database\n",
    "cnn = sqlite3.connect('../data/cereals.db')\n",
    "cnn.row_factory = sqlite3.Row\n",
    "cur = cnn.cursor()\n",
    "cur.execute('select * from cereals')\n",
    "row = cur.fetchone()\n",
    "print(row.keys())\n",
    "cnn.close()"
   ]
  },
  {
   "cell_type": "markdown",
   "metadata": {},
   "source": [
    "Now that we know the kind of data we have in the table, we can go ahead with build a query where the number of calories are limited."
   ]
  },
  {
   "cell_type": "code",
   "execution_count": null,
   "metadata": {},
   "outputs": [],
   "source": [
    "cnn = sqlite3.connect('../data/cereals.db')\n",
    "cur = cnn.cursor()\n",
    "\n",
    "# Set the max_calories to be considered a low-calorie option\n",
    "print(\"Low calorie cereals\")\n",
    "print(\"-\"*10)\n",
    "max_calories = 75\n",
    "cur.execute(\"SELECT name,calories FROM cereals WHERE calories <= ?\",[max_calories])\n",
    "for row in cur.fetchall():\n",
    "    print(f'{row[0]}: {row[1]}')\n",
    "\n",
    "\n",
    "# Now, using the same query we can ask for high-calorie cereals\n",
    "print()\n",
    "print(\"High calorie cereals\")\n",
    "print(\"-\"*10)\n",
    "max_calories = 150\n",
    "cur.execute(\"SELECT name,calories FROM cereals WHERE calories >= ?\",[max_calories])\n",
    "for row in cur.fetchall():\n",
    "    print(f'{row[0]}: {row[1]}')\n",
    "cnn.close()"
   ]
  },
  {
   "cell_type": "markdown",
   "metadata": {},
   "source": [
    "## Using pandas\n",
    "Using Python, we can depend on one of our favorite data management utility libraries, `pandas` to get and put data into a SQLite database.  This is great news, because we already know how to do alot of different tasks with our utility library pandas."
   ]
  },
  {
   "cell_type": "code",
   "execution_count": null,
   "metadata": {},
   "outputs": [],
   "source": [
    "import pandas as pd\n",
    "\n",
    "conn = sqlite3.connect('../data/laptopsales.db')\n",
    "pd.read_sql('SELECT * FROM sales', conn,index_col='sale_id')"
   ]
  },
  {
   "cell_type": "markdown",
   "metadata": {},
   "source": [
    "Likewise we can do some work with our dataframe and put it into a database with the `pd.to_sql()` function."
   ]
  },
  {
   "cell_type": "code",
   "execution_count": null,
   "metadata": {},
   "outputs": [],
   "source": [
    "# Create a pandas dataframe\n",
    "phone_book_df = pd.DataFrame({\n",
    "    'Name':['Alice','Bob','Charlie'],\n",
    "    'Phone':['555-555-1234','123-456-7890','555-867-5309']\n",
    "    })\n",
    "phone_book_df"
   ]
  },
  {
   "cell_type": "code",
   "execution_count": null,
   "metadata": {},
   "outputs": [],
   "source": [
    "# Create a connection to the sqlite3 database\n",
    "conn = sqlite3.connect('../output/phone_book.db')\n",
    "# This says to create a table named `phone_numbers` in the phone_book database.\n",
    "# If the db or table is already there, replace it\n",
    "# Don't store the index value in the db\n",
    "phone_book_df.to_sql('phone_numbers',conn,if_exists='replace',index=False)"
   ]
  },
  {
   "cell_type": "code",
   "execution_count": null,
   "metadata": {},
   "outputs": [],
   "source": [
    "pd.read_sql('SELECT * FROM phone_numbers',conn)"
   ]
  },
  {
   "cell_type": "markdown",
   "metadata": {},
   "source": [
    "Being able to connect to a SQL database and run queries from Python is super handy and really useful. Combining the simplicity of Python and the power of a relational database can make for some very compelling and useful automation of common tasks.  Using `pandas` is especially handy because once we create the connection to the database - the rest of the logic flows without concerning about specific SQL syntax.  So, we could just as easily execute the last few operations with a MS SQL server connection, a SQLite connection or on a CSV file.\n",
    "\n",
    "::::{caution}::::\n",
    "Using pandas dataframes with relational databases is a bit limiting beyond simply gathering and pushing data.  The only two supported approaches are SQLite3 and using the Object Relational Mapping connection provided by [SQLAlchemy](https://www.sqlalchemy.org/).  There is an example of connecting to a SQL server using this kind of approach in [this notebook](../extras/251-SQL_Alchemy.ipynb).\n",
    "::::"
   ]
  }
 ],
 "metadata": {
  "kernelspec": {
   "display_name": "Python 3.9.12 ('base')",
   "language": "python",
   "name": "python3"
  },
  "language_info": {
   "codemirror_mode": {
    "name": "ipython",
    "version": 3
   },
   "file_extension": ".py",
   "mimetype": "text/x-python",
   "name": "python",
   "nbconvert_exporter": "python",
   "pygments_lexer": "ipython3",
   "version": "3.9.12"
  },
  "orig_nbformat": 4,
  "vscode": {
   "interpreter": {
    "hash": "d4d1e4263499bec80672ea0156c357c1ee493ec2b1c70f0acce89fc37c4a6abe"
   }
  }
 },
 "nbformat": 4,
 "nbformat_minor": 2
}
