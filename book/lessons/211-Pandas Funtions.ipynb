{
 "cells": [
  {
   "attachments": {},
   "cell_type": "markdown",
   "metadata": {},
   "source": [
    "# Pandas Functions\n",
    "\n",
    "So far, we have looked at the basics of using the programming language, python. As we proceed to learning how python is used in data analysis, let's study some common functions used in pandas library for data manipulation (or data cleaning). It is important to note that this list of methods are not exhastive. Let's look at some commonly used pandas functions.\n",
    "\n"
   ]
  },
  {
   "attachments": {},
   "cell_type": "markdown",
   "metadata": {},
   "source": [
    "1. .drop(): In a dataset there can be columns with missing values or columns that are not just useful for your analysis. For example, you might have a New York city taxi dataset containing information (trip id, datetime, trip distance, payment types, passenger count) but want to focus on analyzing trip trends in a day. In this case, the payment types and passenger count are not relevant for our analysis. Having them in our dataset will take up unnecessary space and processing time.\n",
    "\n",
    "When working with pandas we can solve this by using the drop() method. "
   ]
  },
  {
   "cell_type": "code",
   "execution_count": null,
   "metadata": {},
   "outputs": [],
   "source": [
    "#Here, we are dropping all the columns that are not needed for our analysis\n",
    "#axis=1 identifies the column\n",
    "#inplace=True does not return a new table but retains the existing table\n",
    "import os\n",
    "import pandas as pd\n",
    "os.chdir('...insert working directory here...')\n",
    "zone=pd.read_csv('taxi+_zone_lookup.csv')\n",
    "zone.drop(['service_zone'], axis=1, inplace=True)"
   ]
  },
  {
   "attachments": {},
   "cell_type": "markdown",
   "metadata": {},
   "source": [
    "2. .fillna(): Sometimes, instead of dropping missing values, we might want to replace cells with N/A with some value. To achieve this we use the .fillna() method. replace() and interpolate() are also used in replacing missing values."
   ]
  },
  {
   "attachments": {},
   "cell_type": "markdown",
   "metadata": {},
   "source": [
    "3. .loc[]: This is an indexing method that is used to simply select particular rows or columns. It selects columns or rows using label names. loc() parameter accepts strings, integers, or list. Another indexing method is .iloc[] which selects columns or rows using purely integer-location based indexing for selection by positions. For example, let's select the Borough columns with some rows from the New York City taxi zone data using loc()."
   ]
  },
  {
   "cell_type": "code",
   "execution_count": null,
   "metadata": {},
   "outputs": [],
   "source": [
    "#displays the column \"Borough\"\n",
    "zone.loc[[3,6,9,15],['Borough']]"
   ]
  },
  {
   "attachments": {},
   "cell_type": "markdown",
   "metadata": {},
   "source": [
    "4. .rename(): Sometimes, column names are written in a way that it's not easy to understand. In such case, we need to rename such column names. The method .rename() takes in couple parameters one of wihich is a dictionary-like object. This dictionary-like object contains a mapping of the old names and new names."
   ]
  },
  {
   "attachments": {},
   "cell_type": "markdown",
   "metadata": {},
   "source": [
    "5. .columns(): When working with a large dataset with so many columns, you want to see all the columns in that dataset. .  columns() displays all the columns in the dataset.\n"
   ]
  },
  {
   "cell_type": "code",
   "execution_count": null,
   "metadata": {},
   "outputs": [],
   "source": [
    "#this prints all the columns in the bankruptcy dataset\n",
    "print(bankruptcy_df.columns())"
   ]
  },
  {
   "attachments": {},
   "cell_type": "markdown",
   "metadata": {},
   "source": [
    "6. .len(): Provides the length (number of rows) of the dataframe. For example"
   ]
  },
  {
   "cell_type": "code",
   "execution_count": null,
   "metadata": {},
   "outputs": [],
   "source": [
    "len(bankruptcy_df)"
   ]
  },
  {
   "attachments": {},
   "cell_type": "markdown",
   "metadata": {},
   "source": [
    "7. .dtypes(): Because it is useful to know the data type of our variables before analysis. I will get the data type of Age in the BostonHousing dataset. This returns al. the data types in the dataframe."
   ]
  },
  {
   "attachments": {},
   "cell_type": "markdown",
   "metadata": {},
   "source": [
    "Again the list of pandas functions that are useful in data manipulation is non-exhastive. You can find more pandas functions [here](https://pandas.pydata.org/docs/reference/frame.html)."
   ]
  }
 ],
 "metadata": {
  "kernelspec": {
   "display_name": "Python 3.10.7 64-bit",
   "language": "python",
   "name": "python3"
  },
  "language_info": {
   "name": "python",
   "version": "3.10.7"
  },
  "orig_nbformat": 4,
  "vscode": {
   "interpreter": {
    "hash": "dfaecb14decf4e6bca5ea4d777791756aa38c2aab07949a3a2abbd9853789f78"
   }
  }
 },
 "nbformat": 4,
 "nbformat_minor": 2
}
