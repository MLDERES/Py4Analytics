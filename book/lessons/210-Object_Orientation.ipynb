{
 "cells": [
  {
   "cell_type": "markdown",
   "metadata": {},
   "source": [
    "# Namespace, Objective Orientation and Packaging\n",
    "In this module we'll look at namespaces, object-oriented techniques and the user of packamges"
   ]
  }
 ],
 "metadata": {
  "kernelspec": {
   "display_name": "Python 3.10.7 64-bit",
   "language": "python",
   "name": "python3"
  },
  "language_info": {
   "name": "python",
   "version": "3.10.7"
  },
  "orig_nbformat": 4,
  "vscode": {
   "interpreter": {
    "hash": "dfaecb14decf4e6bca5ea4d777791756aa38c2aab07949a3a2abbd9853789f78"
   }
  }
 },
 "nbformat": 4,
 "nbformat_minor": 2
}
