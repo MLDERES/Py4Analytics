{
 "cells": [
  {
   "cell_type": "markdown",
   "metadata": {},
   "source": [
    "# Methods\n",
    "\n",
    "So far, we have looked at the basics of using the programming language, python. As we proceed to learning how python is used in data analysis, let's study some common methods used in pandas library for data manipulation (or data cleaning). It is importatnt to note that this list of methods are not exhastive. BEfore we delve in, what are methods in python?\n",
    "\n",
    "A Method is a function that is typically associated with an object. It is a piece of code we execute on an object.\n",
    "\n",
    "\n"
   ]
  },
  {
   "cell_type": "markdown",
   "metadata": {},
   "source": [
    "1. Drop: In a dataset there can be columns with missing values or data categories that are not useful for your analysis. Before dropping any columns with missing values, analyst have to. For example, you might have a New York city taxi dataset containing information (trip id, datetime, trip distance, payment types, passenger count) but want to focus on analyzing trip trends in a day. In this case, the payment tyoes and passenger count are not relevant for our analysis. Having them in our dataset will take up unnecessary space and processing time.\n",
    "\n",
    "When working with pandas we can solve this by using the drop() method. "
   ]
  },
  {
   "cell_type": "markdown",
   "metadata": {},
   "source": [
    "2. fillna(): Sometimes, instead of dropping missing values, we might want to replace cells with N/A with some value. To achieve this we use the .fillna() method. replace() and interpolate() is also used in replacing missing values."
   ]
  },
  {
   "cell_type": "markdown",
   "metadata": {},
   "source": [
    "3. .loc[]: This is an indexing method that is used to simply select particular rows or columns. It selects columns or rows using label names. Another indexing method is .iloc[] which selects columns or rows using positions. For example"
   ]
  },
  {
   "cell_type": "markdown",
   "metadata": {},
   "source": [
    "4. .rename(): Sometimes, column names are written in a way that it's not easy to understand. In such case, we need to rename such column names. The method .rename() takes in couple paramenters on of wihich is a dictionary-like object. This dictionary-like object contains a mapping of the old names and new names.\n",
    "\n",
    "For example"
   ]
  }
 ],
 "metadata": {
  "kernelspec": {
   "display_name": "Python 3.10.7 64-bit",
   "language": "python",
   "name": "python3"
  },
  "language_info": {
   "name": "python",
   "version": "3.10.7"
  },
  "orig_nbformat": 4,
  "vscode": {
   "interpreter": {
    "hash": "dfaecb14decf4e6bca5ea4d777791756aa38c2aab07949a3a2abbd9853789f78"
   }
  }
 },
 "nbformat": 4,
 "nbformat_minor": 2
}
