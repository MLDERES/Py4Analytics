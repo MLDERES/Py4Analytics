{
 "cells": [
  {
   "cell_type": "markdown",
   "metadata": {},
   "source": [
    "# Namespaces and Packaging\n",
    "In this module we'll look at namespaces and the use of Python packages\n",
    "\n",
    "````{tableofcontents}\n",
    "````\n",
    "\n",
    "## Scope\n",
    "A variable is only available from inside the boundary (i.e. file, notebook or function) in which it is created, this is referred to as it's scope.  For example a variable which is defined first in a function exists only in the function and cannot be used outside of that function."
   ]
  },
  {
   "cell_type": "code",
   "execution_count": null,
   "metadata": {},
   "outputs": [],
   "source": [
    "def my_func():\n",
    "    x = 10\n",
    "    print(x)"
   ]
  },
  {
   "cell_type": "markdown",
   "metadata": {},
   "source": [
    "In the example above, `x` is defined in the `my_func()` function.  Therefore, it can't be use outside of the function."
   ]
  },
  {
   "cell_type": "code",
   "execution_count": 1,
   "metadata": {},
   "outputs": [
    {
     "ename": "NameError",
     "evalue": "name 'x' is not defined",
     "output_type": "error",
     "traceback": [
      "\u001b[0;31m---------------------------------------------------------------------------\u001b[0m",
      "\u001b[0;31mNameError\u001b[0m                                 Traceback (most recent call last)",
      "\u001b[1;32m/workspaces/py4analytics/book/lessons/210-Object_Orientation.ipynb Cell 4\u001b[0m in \u001b[0;36m<cell line: 6>\u001b[0;34m()\u001b[0m\n\u001b[1;32m      <a href='vscode-notebook-cell://dev-container%2B643a5c5465616368696e675c707934616e616c7974696373/workspaces/py4analytics/book/lessons/210-Object_Orientation.ipynb#W5sdnNjb2RlLXJlbW90ZQ%3D%3D?line=2'>3</a>\u001b[0m     \u001b[39mprint\u001b[39m(x)\n\u001b[1;32m      <a href='vscode-notebook-cell://dev-container%2B643a5c5465616368696e675c707934616e616c7974696373/workspaces/py4analytics/book/lessons/210-Object_Orientation.ipynb#W5sdnNjb2RlLXJlbW90ZQ%3D%3D?line=4'>5</a>\u001b[0m \u001b[39m# This will fail because x was defined in the function\u001b[39;00m\n\u001b[0;32m----> <a href='vscode-notebook-cell://dev-container%2B643a5c5465616368696e675c707934616e616c7974696373/workspaces/py4analytics/book/lessons/210-Object_Orientation.ipynb#W5sdnNjb2RlLXJlbW90ZQ%3D%3D?line=5'>6</a>\u001b[0m \u001b[39mprint\u001b[39m(x)\n",
      "\u001b[0;31mNameError\u001b[0m: name 'x' is not defined"
     ]
    }
   ],
   "source": [
    "def my_func():\n",
    "    x = 10\n",
    "    print(x)\n",
    "\n",
    "# This will fail because x was defined in the function\n",
    "print(x)"
   ]
  },
  {
   "cell_type": "markdown",
   "metadata": {},
   "source": [
    "If we were to instead define `x` outside of the function (and inside the same file or notebook) then we can use `x` in any code block in the same file.  The next example uses the variable `y` instead because we have already defined `x` in the outer scope (i.e. the notebook)"
   ]
  },
  {
   "cell_type": "code",
   "execution_count": 4,
   "metadata": {},
   "outputs": [
    {
     "name": "stdout",
     "output_type": "stream",
     "text": [
      "inside the function y=  10\n",
      "outside the function y=  10\n"
     ]
    }
   ],
   "source": [
    "# Defining y outside of a block makes it available to all the inner blocks\n",
    "y = 10\n",
    "\n",
    "def my_new_func():\n",
    "    print(\"inside the function y= \", y)\n",
    "\n",
    "my_new_func()\n",
    "print(\"outside the function y= \",y)"
   ]
  },
  {
   "cell_type": "markdown",
   "metadata": {},
   "source": [
    "This often trips up new developers because the value isn't available or it doesn't have the value that might be expected.  What do you think will be the output of the next block?  Make your guess then run the cell and see if you're right."
   ]
  },
  {
   "cell_type": "code",
   "execution_count": 5,
   "metadata": {},
   "outputs": [
    {
     "name": "stdout",
     "output_type": "stream",
     "text": [
      "The value of z in the function is =  10\n",
      "The value of z outise the function is =  21\n"
     ]
    }
   ],
   "source": [
    "z = 21\n",
    "\n",
    "def my_z_func():\n",
    "    z = 10\n",
    "    print('The value of z in the function is = ', z)\n",
    "\n",
    "my_z_func()\n",
    "print('The value of z outside the function is = ', z)\n"
   ]
  },
  {
   "cell_type": "markdown",
   "metadata": {},
   "source": [
    "What's happening here is that `z` is being redefined in the function and when the function completes, the value of `z` reverts back to what it was outside of the function.\n",
    "\n",
    "Variables defined within a function are refered to as _locally_ scoped.  Variables defined outside the function at the file level are _globally_ scoped."
   ]
  },
  {
   "cell_type": "markdown",
   "metadata": {},
   "source": [
    "### Function parameter scope\n",
    "Function parameters are a special kind of locally scoped variables.  When the arguments are set in the function definition they become local to the function.  The next example shows this.  First a new variable `a` is defined to have __global__ scope.  So therefore when the `my_b_func` is called, the value of `a` takes on the value of the global variable.  When `my_a_func` is called though, a new __local__ scoped variable `a` is created and takes on the value of the parameter made in the call (22).  The `a` in the `my_a_func` function is a different variable than the __globally__ scoped `a` on the first line of the cell."
   ]
  },
  {
   "cell_type": "code",
   "execution_count": 6,
   "metadata": {},
   "outputs": [
    {
     "name": "stdout",
     "output_type": "stream",
     "text": [
      "Value in my_a_func: 22\n",
      "Value in my_b_func: 5\n",
      "Value outside of all fuctions: 5\n"
     ]
    }
   ],
   "source": [
    "a = 5\n",
    "\n",
    "def my_a_func(a):\n",
    "    print(f'Value in my_a_func:',a)\n",
    "\n",
    "def my_b_func():\n",
    "    print(f'Value in my_b_func:',a)\n",
    "\n",
    "my_a_func(22)\n",
    "my_b_func()\n",
    "\n",
    "print(f'Value outside of all fuctions:',a)"
   ]
  },
  {
   "cell_type": "markdown",
   "metadata": {},
   "source": [
    "\n",
    "````{caution} Global keyword\n",
    "If you search online you are no doubt going to find the `global` keyword available in Python which allows a __global__ variable to be changed in a __local__ context.  While this is technically possible, it is not a recommended practice because it can make finding errors even more complex than it already is when multiple variables have the same name.  Your best choice is to re-write your algorithm to avoid using this keyword whenever possible."
   ]
  },
  {
   "cell_type": "markdown",
   "metadata": {},
   "source": [
    "## Modules / Namespaces\n",
    "A _module_ in Python is defined by the boundaries of a file with a `.py` extension.  Therefore a file named `my_file.py` becomes a _module_ called `my_file` as far as Python is concerned.  Similarly, if we want to define a function in the `my_file` module, we simply create the function in the `my_file.py` file.  This gives us the ability to have more than one top-level function with the same name in our program.\n",
    "\n",
    "How does Python know which one we want to call if there are multiple `my_func` in our project?  The _module_ is the boundary.  So that if we want to use the `my_func` from `my_file1.py` we simply call `my_file1.my_func()`.\n",
    "\n",
    "### Importing a module\n",
    "Using the name of module and the function name over and over again can get a little redundant in our programs.  Python allows us to bring either an entire module or a particular function directly into our current namespace by using the `import` function.  The [import system](https://docs.python.org/3/reference/import.html) in Python is incredibly powerful as it is the mechanism by which we can reuse code from larger libraries and share code across projects.\n",
    "\n",
    "## Packages\n",
    "The next namespace boundary we have is a package.  Packages can contain one or more relevant modules.  Physically, a package is simply a folder with one or more module files.  This means that we can put multiple modules together and use package boundaries which creates new namespaces.\n",
    "\n",
    "You may have noticed this in other places in these notebooks.  There is a folder which has some helper functions in this in a `src` directory.  One such file is [data.py](../src/data.py).  In order to functions in that file, we use an `import` along with the name of the module and the element we want to import (e.g. variables, functions, classes, etc).  So that if we want to import the `remove_columns` function, we would do something like: (_realistically, there is a little more work that needs to happen, but this is close enough in order to make the point_)\n",
    "\n",
    "```python\n",
    "from data import remove_columns\n",
    "```"
   ]
  },
  {
   "cell_type": "markdown",
   "metadata": {},
   "source": [
    "## Working with Classes\n"
   ]
  }
 ],
 "metadata": {
  "kernelspec": {
   "display_name": "Python 3.9.12 ('base')",
   "language": "python",
   "name": "python3"
  },
  "language_info": {
   "codemirror_mode": {
    "name": "ipython",
    "version": 3
   },
   "file_extension": ".py",
   "mimetype": "text/x-python",
   "name": "python",
   "nbconvert_exporter": "python",
   "pygments_lexer": "ipython3",
   "version": "3.9.12"
  },
  "orig_nbformat": 4,
  "vscode": {
   "interpreter": {
    "hash": "d4d1e4263499bec80672ea0156c357c1ee493ec2b1c70f0acce89fc37c4a6abe"
   }
  }
 },
 "nbformat": 4,
 "nbformat_minor": 2
}
