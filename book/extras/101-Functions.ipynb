{
 "cells": [
  {
   "cell_type": "markdown",
   "metadata": {},
   "source": [
    "<a id='optional-parameters'></a>\n",
    "\n",
    "# Optional Parameters\n",
    "Sometimes when dealing with functions, we want to give the caller the flexibility of specifying a parameter, but we can offer a sensible default.  For instance, let's say we are writing a hello world function and we want to be able to allow the function to print the string in english or spanish.  We can add a parameter to the function which requires the caller to specify which language they would like to use.  But we expect most often that our user will prefer english.  We can save them the trouble of specifying this, by defining a default value for language.  The caller then can be explicit about which language or just use our default."
   ]
  },
  {
   "cell_type": "code",
   "execution_count": 7,
   "metadata": {},
   "outputs": [
    {
     "name": "stdout",
     "output_type": "stream",
     "text": [
      "Hello World\n",
      "Hola Mundo\n"
     ]
    }
   ],
   "source": [
    "# define a function that prints hello world in english or spanish depending on the input\n",
    "def hello_world(language='english'):\n",
    "    if language == 'english':\n",
    "        print('Hello World')\n",
    "    elif language == 'spanish':\n",
    "        print('Hola Mundo')\n",
    "    else:\n",
    "        print('I don\\'t know that language')\n",
    "\n",
    "# call the function\n",
    "hello_world() # If we don't specify, it will assuming english\n",
    "\n",
    "# call the function with a different language\n",
    "hello_world('spanish')"
   ]
  },
  {
   "cell_type": "markdown",
   "metadata": {},
   "source": [
    "Sometimes functions take a number of optional parameters, so it's best to be explicit about what you mean rather than calling the function and counting on the order of the parameters.  For instance, \n",
    "```python\n",
    "def my_func(a, b=0, c='all'):\n",
    "    print(a)\n",
    "    print(b)\n",
    "    print(c)\n",
    "```\n",
    "````\n",
    "In this example, `a` is required, but `b` and `c` are optional.  This means you can specify values for these parameters and if you don't the defaults will be `0` and `\"all\"`.\n",
    "\n",
    "You can try this in the next cell.  Try a few of your own combinations until you get the hang of it."
   ]
  },
  {
   "cell_type": "code",
   "execution_count": 11,
   "metadata": {},
   "outputs": [
    {
     "name": "stdout",
     "output_type": "stream",
     "text": [
      "a= 1\n",
      "b= 2\n",
      "c= 3\n",
      "a= 1\n",
      "b= 2\n",
      "c= all\n",
      "a= 1\n",
      "b= 0\n",
      "c= 3\n"
     ]
    }
   ],
   "source": [
    "def my_func(a, b=0, c='all'):\n",
    "    print(\"a=\", a)\n",
    "    print(\"b=\", b)\n",
    "    print(\"c=\", c)\n",
    "\n",
    "# Here we depend on the order of the arguments (not a great idea, better to be explicit)\n",
    "my_func(1, 2, 3)\n"
   ]
  },
  {
   "cell_type": "code",
   "execution_count": 13,
   "metadata": {},
   "outputs": [
    {
     "name": "stdout",
     "output_type": "stream",
     "text": [
      "a= 1\n",
      "b= 2\n",
      "c= all\n",
      "---\n",
      "a= 1\n",
      "b= 0\n",
      "c= 3\n"
     ]
    }
   ],
   "source": [
    "# Here we can specify the arguments by name, but only the ones we want to change\n",
    "my_func(1, b=2)\n",
    "print('---')\n",
    "my_func(1, c=3)\n",
    "# And we can put the optional parameters in any order, so long as we specify them by name\n",
    "print('---')\n",
    "my_func(1, c=3, b=2)"
   ]
  }
 ],
 "metadata": {
  "kernelspec": {
   "display_name": "Python 3.9.12 ('base')",
   "language": "python",
   "name": "python3"
  },
  "language_info": {
   "codemirror_mode": {
    "name": "ipython",
    "version": 3
   },
   "file_extension": ".py",
   "mimetype": "text/x-python",
   "name": "python",
   "nbconvert_exporter": "python",
   "pygments_lexer": "ipython3",
   "version": "3.9.12"
  },
  "orig_nbformat": 4,
  "vscode": {
   "interpreter": {
    "hash": "d4d1e4263499bec80672ea0156c357c1ee493ec2b1c70f0acce89fc37c4a6abe"
   }
  }
 },
 "nbformat": 4,
 "nbformat_minor": 2
}
