{
 "cells": [
  {
   "cell_type": "markdown",
   "id": "058437c7",
   "metadata": {},
   "source": [
    "## Using **Personas** to Simulate Hallux Data\n",
    "\n",
    "\n",
    "### This example has two goals\n",
    "\n",
    "* To assign personas to the different entities in the Hallux database either randomly or based on existing data.\n",
    "\n",
    "* To use the assigned personas to predict an entity's behavoior in order to create new data.\n",
    "\n"
   ]
  },
  {
   "cell_type": "markdown",
   "id": "ffda4cbe",
   "metadata": {},
   "source": [
    "### The example starts by importing the required libraries and creating dictionaries\n"
   ]
  },
  {
   "cell_type": "code",
   "execution_count": 2,
   "id": "4d275d05",
   "metadata": {},
   "outputs": [],
   "source": [
    "\n",
    "# import libraries\n",
    "\n",
    "from os import getenv\n",
    "import pandas as pd\n",
    "import random\n",
    "from datetime import *; from dateutil.relativedelta import *\n",
    "import pymssql\n",
    "from sqlalchemy import create_engine\n",
    "\n",
    "\n",
    "# Personas dictionary (defined in Hallux tables Persona_Type and Persona)\n",
    "\n",
    "Personas = {\n",
    "    \"Album\" : (\"Bomb\",\"Non-Certified\",\"Gold\",\"Platinum\",\"Multi Platinum\",\"Diamond\"), \n",
    "    \"Band\" : (\"Bar Band\",\"Cover\",\"Tribute\",\"1 hit wonder\",\"Popular\",\"Cult Following\",\"Megaband\"),\n",
    "    \"Customer\" : (\"Occasioanl\",\"Discount\",\"Loyal\"),\n",
    "    \"Employee\" : (\"Bad\",\"Good\",\"Overachiever\"),\n",
    "    \"Experience\" : (\"Bad\",\"Good\",\"Wonderful\"),\n",
    "    \"Fan\" : (\"Casual\",\"Fan\",\"Fanatic\"),\n",
    "    \"Music\" : (\"Popular\", \"Regional\",\"Seasonal\",\"Specialty\",\"Nostalgic\"),\n",
    "    \"Musician\" : (\"Amateur\",\"Studio\",\"Backup\",\"Lead\",\"Superstar\"),\n",
    "    \"Performance\" : (\"Bad\",\"Good\",\"Epic\"),\n",
    "    \"Person\" : (\"Student\",\"Young Adult\",\"Mature\"),\n",
    "    \"Song\" : (\"Bad\",\"Good\",\"Popular\",\"Hit\"),\n",
    "    \"Video\" : (\"Bad\",\"Good\",\"Viral\")\n",
    "}\n",
    "\n",
    "# Hallux entity types dictionary defined in the Entity_Type table\n",
    "# Added an additional value list (table, id column, persona type)\n",
    "# and put in the order needed for processing if not using random selection\n",
    "# For example, a band's persona will be determined by the personas of its band members.\n",
    "\n",
    "Entities = {\n",
    "    \n",
    "    \"Genre\" : (\"Genre\",\"Genre_Id\",\"Music\"), \n",
    "    \"Member\" : (\"Band_Member\",\"Member_Id\",\"Musician\"),\n",
    "    \"Band\" : (\"Band\",\"Band_Id\",\"Band\"),\n",
    "    \"Agent\"   : (\"Agent\",\"Agent_Id\",\"Employee\"),\n",
    "    \"Album\" : (\"Album\",\"Album_Id\",\"Album\"), \n",
    "    \"Song\" : (\"Song\",\"Song_Id\",\"Song\"),\n",
    "    \"Performance\" : (\"Performance\",\"Performance_Id\",\"Performance\"),\n",
    "    \"Producer\"   : (\"Producer\",\"Producer_Id\",\"Employee\"),\n",
    "    \"Video\" : (\"Video\",\"Video_Id\",\"Video\"),\n",
    "    \"Profile\" : (\"Customer_Profile\",\"Profile_Id\",\"Person\"),\n",
    "    \"Customer\" : (\"Customer\",\"Customer_Id\",\"Customer\"),\n",
    "    \"Follower\" : (\"Band_Follower\",\"Follower_Id\",\"Fan\"),\n",
    "    \"Playlist\" : (\"Playlist\",\"Playlist_Id\",\"Experience\"),\n",
    "    \"Order\"   : (\"Order\",\"Order_Id\",\"Experience\"),\n",
    "    \"Stream\"   : (\"Stream\",\"Stream_Id\",\"Experience\")\n",
    "}\n",
    "\n"
   ]
  },
  {
   "cell_type": "markdown",
   "id": "368a9600",
   "metadata": {},
   "source": [
    "### Set an individual entity's persona\n",
    "\n",
    "The set_persona function will update the database with an entities persona \n",
    "\n",
    "*Note: This function uses a stored procedure to update data.  \n",
    "This allows for greater security and users do not need update, insert or delete permission on specific tables, only execute permission for this stored procedure.*  \n"
   ]
  },
  {
   "cell_type": "code",
   "execution_count": 20,
   "id": "ff7b99af",
   "metadata": {},
   "outputs": [],
   "source": [
    "\n",
    "def set_persona ( a_entity_type, a_entity_id, a_persona_type, a_persona ):   \n",
    "\n",
    "    sp_exec_sql = \"exec prc_set_Persona  @a_Entity_Type = %s, @a_Entity_Id = %s, @a_Persona_Type = %s, @a_Persona = %s\"\n",
    "\n",
    "    ret_val = -1\n",
    "    \n",
    "    curr_parms = (a_entity_type, a_entity_id, a_persona_type, a_persona )\n",
    "    cursor.execute(sp_exec_sql,curr_parms)    \n",
    "    \n",
    "    sp_ret_val = cursor.fetchone()\n",
    "    ret_val = sp_ret_val[0]\n",
    "    \n",
    "    return ret_val\n"
   ]
  },
  {
   "cell_type": "markdown",
   "id": "93515fc7",
   "metadata": {},
   "source": [
    "### Get an individual entity's persona\n",
    "\n",
    "The get_persona function will return an entity's persona \n",
    "\n",
    "*any note*  "
   ]
  },
  {
   "cell_type": "code",
   "execution_count": 4,
   "id": "4340f9d6",
   "metadata": {},
   "outputs": [],
   "source": [
    "\n",
    "def get_persona ( a_entity_type, a_entity_id, a_persona_type):   \n",
    "    \n",
    "    my_persona = ''\n",
    "    \n",
    "    return my_persona\n"
   ]
  },
  {
   "cell_type": "markdown",
   "id": "a50cb5f9",
   "metadata": {},
   "source": [
    "###  What is my Persona? \n",
    "\n",
    "The my_persona function will determine the persona for an entity\n",
    "\n",
    "*Will start by using a random selection* "
   ]
  },
  {
   "cell_type": "code",
   "execution_count": 5,
   "id": "a30afe17",
   "metadata": {},
   "outputs": [],
   "source": [
    "\n",
    "\n",
    "def whats_my_persona ( a_entity_type, a_entity_id, a_persona_type ):   \n",
    "\n",
    "    \n",
    "    my_persona = ''\n",
    "        \n",
    "    \n",
    "    if a_persona_type in Personas:\n",
    "        persona_list = Personas[a_persona_type]\n",
    "        ndx = random.randint(1, len(persona_list)) - 1       \n",
    "        my_persona = persona_list[ndx]\n",
    "                             \n",
    "\n",
    "    return my_persona\n",
    "\n",
    "\n",
    "\n"
   ]
  },
  {
   "cell_type": "markdown",
   "id": "5d1eaaff",
   "metadata": {},
   "source": [
    "###  Assign Personas \n",
    "\n",
    "The assign_personas function will loop thru all the members of a specific Hallux entity and assign them personas \n",
    "\n",
    "*This is where the hard work is done!*  "
   ]
  },
  {
   "cell_type": "code",
   "execution_count": 6,
   "id": "f75a23fe",
   "metadata": {},
   "outputs": [],
   "source": [
    "\n",
    "def assign_personas ( a_entity_type, a_persona_type ):   \n",
    "\n",
    "    \n",
    "    ret_val = -1\n",
    "    \n",
    "    if a_entity_type not in ('Member') :\n",
    "        return 0\n",
    "    \n",
    "    # get all the entity ids\n",
    "    \n",
    "    if a_entity_type in Entities:\n",
    "        \n",
    "        entity_list = Entities[a_entity_type]\n",
    "        sql_select = 'SELECT ' + entity_list[1] + ' FROM ' + entity_list[0] + ' order by ' + entity_list[1]\n",
    "        df_entity = pd.read_sql(sql_select, eng)\n",
    "        df_entity.set_index(entity_list[1])\n",
    "        ret_val = len(df_entity)\n",
    "    \n",
    "    # assign and save persona\n",
    "    \n",
    "    for i in range(len(df_entity)):\n",
    "        \n",
    "        curr_entity_id = df_entity[entity_list[1]][i]\n",
    "        curr_persona   = whats_my_persona ( a_entity_type, curr_entity_id, a_persona_type )\n",
    "    \n",
    "        if curr_persona != '' :\n",
    "            ret_sub = set_persona ( a_entity_type, curr_entity_id, a_persona_type, curr_persona )   \n",
    "            if ret_sub < 0 :\n",
    "                #ret_val = ret_sub\n",
    "                break\n",
    "            \n",
    "    \n",
    "    return ret_val\n",
    "\n",
    "\n"
   ]
  },
  {
   "cell_type": "markdown",
   "id": "03691fe4",
   "metadata": {},
   "source": [
    "### Simulate Follower Data\n",
    "\n",
    "This fuction will determine which bands the specified customer profile will follow, if any \n",
    "\n",
    "*any note*  "
   ]
  },
  {
   "cell_type": "code",
   "execution_count": 7,
   "id": "60ebd32b",
   "metadata": {},
   "outputs": [],
   "source": [
    "\n",
    "def sim_follower_data (a_start_date, a_end_date):   \n",
    "    \n",
    "    ret_val = 0\n",
    "    return ret_val\n"
   ]
  },
  {
   "cell_type": "markdown",
   "id": "6af55c56",
   "metadata": {},
   "source": [
    "### Simulate Playlist Data\n",
    "\n",
    "This fuction will determine which playlists the specified customer profile will create, if any \n",
    "\n",
    "*any note*  "
   ]
  },
  {
   "cell_type": "code",
   "execution_count": 8,
   "id": "e762883f",
   "metadata": {},
   "outputs": [],
   "source": [
    "\n",
    "def sim_playlist_data (a_start_date, a_end_date):   \n",
    "    \n",
    "    ret_val = 0\n",
    "    return ret_val\n",
    "\n"
   ]
  },
  {
   "cell_type": "markdown",
   "id": "7899c7cd",
   "metadata": {},
   "source": [
    "### Simuate Streaming Data\n",
    "\n",
    "This fuction will determine which songs the specified customer profile will stream, if any \n",
    "\n",
    "*any note*  "
   ]
  },
  {
   "cell_type": "code",
   "execution_count": 9,
   "id": "855e5d0f",
   "metadata": {},
   "outputs": [],
   "source": [
    "\n",
    "def sim_streaming_data (a_start_date, a_end_date):   \n",
    "    \n",
    "    ret_val = 0\n",
    "    return ret_val\n",
    "\n",
    "\n"
   ]
  },
  {
   "cell_type": "markdown",
   "id": "4668a759",
   "metadata": {},
   "source": [
    "### Simuate Data\n",
    "\n",
    "This fuction calls the appropriate simulation function based on the entitity type, otherwise return -1\n",
    "\n"
   ]
  },
  {
   "cell_type": "code",
   "execution_count": 10,
   "id": "f5359349",
   "metadata": {},
   "outputs": [],
   "source": [
    "\n",
    "def sim_data ( a_entity_type, a_start_date, a_end_date ):   \n",
    "\n",
    "    ret_val = -1\n",
    "    \n",
    "    if a_entity_type == 'Follower':\n",
    "        ret_val = sim_follower_data (a_start_date, a_end_date )\n",
    "        \n",
    "    if a_entity_type == 'Playlist':\n",
    "        ret_val = sim_playlist_data (a_start_date, a_end_date )\n",
    "        \n",
    "    if a_entity_type == 'Stream':\n",
    "        ret_val = sim_streaming_data (a_start_date, a_end_date )\n",
    "        \n",
    "    \n",
    "    return ret_val\n",
    "\n"
   ]
  },
  {
   "cell_type": "markdown",
   "id": "3075ab83",
   "metadata": {},
   "source": [
    "### Here we go...\n",
    "\n",
    "* Initalization, database engine \n",
    "\n",
    "* Assign personas to Hallux entities \n",
    "\n",
    "* Generate the data for the specified date range!\n"
   ]
  },
  {
   "cell_type": "code",
   "execution_count": 22,
   "id": "c1485df8",
   "metadata": {},
   "outputs": [
    {
     "name": "stdout",
     "output_type": "stream",
     "text": [
      "0\n",
      "Step 1\n",
      "Step 2\n"
     ]
    }
   ],
   "source": [
    "\n",
    "\n",
    "hallux_svr = getenv(\"halluxsvr\")\n",
    "hallux_usr = getenv(\"halluxusr\")\n",
    "hallux_psd = getenv(\"halluxpsd\")\n",
    "hallux_db  = getenv(\"halluxdb\")\n",
    "\n",
    "\n",
    "# for use in creating a dataframe\n",
    "conn_string = f\"mssql+pyodbc://{hallux_usr}:{hallux_psd}@{hallux_svr}/{hallux_db}?driver=SQL+Server+Native+Client+11.0&TrustServerCertificate=yes\"\n",
    "eng = create_engine(conn_string, fast_executemany=True)\n",
    "\n",
    "# used for executing dynamic sql\n",
    "conn   = pymssql.connect(hallux_svr, hallux_usr, hallux_psd, hallux_db)\n",
    "cursor = conn.cursor()\n",
    "\n",
    "\n",
    "\n",
    "# Let's start with band members!\n",
    "\n",
    "# STEP 1 - loop thru the entities and assign the appropriate persona\n",
    "print(\"Step 1\")\n",
    "\n",
    "for curr_entity, curr_value in Entities.items():\n",
    "    ret = assign_personas (curr_entity, curr_value[2])\n",
    "    print(curr_entity, ret)\n",
    "\n",
    "# STEP 2 - Loop thru the entities and Simulate data \n",
    "print(\"Step 2\")\n",
    "\n",
    "start_date = date(2023, 1, 1)\n",
    "end_date   = date(2023, 12, 31)  \n",
    "\n",
    "for curr_entity, curr_value in Entities.items():\n",
    "    #ret = sim_data (curr_entity, start_date, end_date)\n",
    "    print(curr_entity, ret )\n",
    "\n",
    "\n",
    "conn.close()\n",
    "eng.dispose()\n",
    "\n"
   ]
  },
  {
   "cell_type": "code",
   "execution_count": null,
   "id": "7857df24",
   "metadata": {},
   "outputs": [],
   "source": []
  }
 ],
 "metadata": {
  "kernelspec": {
   "display_name": "Python 3 (ipykernel)",
   "language": "python",
   "name": "python3"
  },
  "language_info": {
   "codemirror_mode": {
    "name": "ipython",
    "version": 3
   },
   "file_extension": ".py",
   "mimetype": "text/x-python",
   "name": "python",
   "nbconvert_exporter": "python",
   "pygments_lexer": "ipython3",
   "version": "3.9.12"
  }
 },
 "nbformat": 4,
 "nbformat_minor": 5
}
