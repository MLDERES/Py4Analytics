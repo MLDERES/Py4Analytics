{
 "cells": [
  {
   "cell_type": "markdown",
   "id": "058437c7",
   "metadata": {},
   "source": [
    "## Using **Personas** to Simulate Hallux Data\n",
    "\n",
    "\n",
    "### This example has two goals\n",
    "\n",
    "* To assign personas to the different entities in the Hallux database either randomly or based on existing data.\n",
    "\n",
    "* To use the assigned personas to predict an entity's behavoior in order to create new data.\n",
    "\n"
   ]
  },
  {
   "cell_type": "markdown",
   "id": "ffda4cbe",
   "metadata": {},
   "source": [
    "### The example starts by importing the required libraries and creating dictionaries\n"
   ]
  },
  {
   "cell_type": "code",
   "execution_count": 12,
   "id": "4d275d05",
   "metadata": {},
   "outputs": [],
   "source": [
    "\n",
    "# import libraries\n",
    "\n",
    "from os import getenv\n",
    "import pandas as pd\n",
    "from datetime import *; from dateutil.relativedelta import *\n",
    "import pymssql\n",
    "from sqlalchemy import create_engine\n",
    "\n",
    "\n",
    "# Personas dictionary (defined in Hallux tables Person_type and Persona)\n",
    "\n",
    "Personas = {\n",
    "    \"Album\" : (\"Bomb\",\"Non-Certified\",\"Gold\",\"Platinum\",\"Multi Platinum\",\"Diamond\"), \n",
    "    \"Band\" : (\"Bar Band\",\"Cover\",\"Tribute\",\"1 hit wonder\",\"Popular\",\"Cult Following\",\"Megaband\"),\n",
    "    \"Customer\" : (\"Occasioanl\",\"Discount\",\"Loyal\"),\n",
    "    \"Employee\" : (\"Bad\",\"Good\",\"Overachiever\"),\n",
    "    \"Experience\" : (\"Bad\",\"Good\",\"Wonderful\"),\n",
    "    \"Fan\" : (\"Casual\",\"Fan\",\"Fanatic\"),\n",
    "    \"Music\" : (\"Popular\", \"Regional\",\"Seasonal\",\"Specialty\",\"Nostalgic\"),\n",
    "    \"Musician\" : (\"Amateur\",\"Studio\",\"Backup\",\"Lead\",\"Superstar\"),\n",
    "    \"Performance\" : (\"Bad\",\"Good\",\"Epic\"),\n",
    "    \"Person\" : (\"Student\",\"Young Adult\",\"Mature\"),\n",
    "    \"Song\" : (\"Bad\",\"Good\",\"Popular\",\"Hit\"),\n",
    "    \"Video\" : (\"Bad\",\"Good\",\"Viral\")\n",
    "}\n",
    "\n",
    "# Hallux entity types dictionary with value list (id column, persona type)\n",
    "\n",
    "Entities = {\n",
    "    \"Agent\"   : (\"Agent_Id\",\"Employee\"),\n",
    "    \"Album\" : (\"Album_Id\",\"Album\"), \n",
    "    \"Band\" : (\"Band_Id\",\"Band\"),\n",
    "    \"Customer\" : (\"Customer_Id\",\"Customer\"),\n",
    "    \"Follower\" : (\"Follower_Id\",\"Fan\"),\n",
    "    \"Genre\" : (\"Genre_Id\",\"Music\"), \n",
    "    \"Member\" : (\"Member_Id\",\"Musician\"),\n",
    "    \"Order\"   : (\"Order_Id\",\"Experience\"),\n",
    "    \"Performance\" : (\"Performance_Id\",\"Performance\"),\n",
    "    \"Playlist\" : (\"Playlist_Id\",\"\"),\n",
    "    \"Producer\"   : (\"Producer_Id\",\"Employee\"),\n",
    "    \"Profile\" : (\"Profile_Id\",\"Person\"),\n",
    "    \"Song\" : (\"Song_Id\",\"Song\"),\n",
    "    \"Stream\"   : (\"Stream_Id\",\"Experience\"),\n",
    "    \"Video\" : (\"Video_Id\",\"Video\"),\n",
    "}\n",
    "\n"
   ]
  },
  {
   "cell_type": "markdown",
   "id": "368a9600",
   "metadata": {},
   "source": [
    "### Determine an individual entity's persona\n",
    "\n",
    "The set_persona function will update the database with an entities persona \n",
    "\n",
    "*any note*  \n"
   ]
  },
  {
   "cell_type": "code",
   "execution_count": 13,
   "id": "ff7b99af",
   "metadata": {},
   "outputs": [],
   "source": [
    "\n",
    "def set_persona (a_entity_type, a_entity_id, a_persona_type ):   \n",
    "    \n",
    "    my_persona_id = -1\n",
    "    \n",
    "    return my_persona_id\n"
   ]
  },
  {
   "cell_type": "markdown",
   "id": "93515fc7",
   "metadata": {},
   "source": [
    "### Get an individual entity's persona\n",
    "\n",
    "The get_persona function will return an entity's persona \n",
    "\n",
    "*any note*  "
   ]
  },
  {
   "cell_type": "code",
   "execution_count": 14,
   "id": "4340f9d6",
   "metadata": {},
   "outputs": [],
   "source": [
    "\n",
    "def get_persona (a_entity_type, a_entity_id, a_persona_type):   \n",
    "    \n",
    "    my_persona_id = -1\n",
    "    \n",
    "    return my_persona_id\n"
   ]
  },
  {
   "cell_type": "markdown",
   "id": "a50cb5f9",
   "metadata": {},
   "source": [
    "###  Determine Persona \n",
    "\n",
    "The my_persona function will determine the persona for an entity\n",
    "\n",
    "*any note* "
   ]
  },
  {
   "cell_type": "code",
   "execution_count": 15,
   "id": "a30afe17",
   "metadata": {},
   "outputs": [],
   "source": [
    "\n",
    "\n",
    "def my_personas ( a_entity_type, a_entity_id, a_persona_type ):   \n",
    "\n",
    "    \n",
    "    my_persona_id = -1\n",
    "    \n",
    "    return my_persona_id\n",
    "\n",
    "\n",
    "\n"
   ]
  },
  {
   "cell_type": "markdown",
   "id": "5d1eaaff",
   "metadata": {},
   "source": [
    "###  Assign Personas \n",
    "\n",
    "The assign_personas function will loop thru all the members of a specific Hallux entity and assign them personas \n",
    "\n",
    "*This is where the hard work is done!*  "
   ]
  },
  {
   "cell_type": "code",
   "execution_count": 26,
   "id": "f75a23fe",
   "metadata": {},
   "outputs": [],
   "source": [
    "\n",
    "def assign_personas ( a_entity_type, a_persona_type ):   \n",
    "\n",
    "    \n",
    "    ret_val = -1\n",
    "    \n",
    "    # loop thru the entities and assign each a persona\n",
    "    # determine_persona\n",
    "    # set_persona\n",
    "    \n",
    "    return ret_val\n",
    "\n",
    "\n"
   ]
  },
  {
   "cell_type": "markdown",
   "id": "03691fe4",
   "metadata": {},
   "source": [
    "### Simulate Follower Data\n",
    "\n",
    "This fuction will determine which bands the specified customer profile will follow, if any \n",
    "\n",
    "*any note*  "
   ]
  },
  {
   "cell_type": "code",
   "execution_count": 22,
   "id": "60ebd32b",
   "metadata": {},
   "outputs": [],
   "source": [
    "\n",
    "def sim_follower_data (a_start_date, a_end_date):   \n",
    "    \n",
    "    ret_val = 0\n",
    "    return ret_val\n"
   ]
  },
  {
   "cell_type": "markdown",
   "id": "6af55c56",
   "metadata": {},
   "source": [
    "### Simulate Playlist Data\n",
    "\n",
    "This fuction will determine which playlists the specified customer profile will create, if any \n",
    "\n",
    "*any note*  "
   ]
  },
  {
   "cell_type": "code",
   "execution_count": 23,
   "id": "e762883f",
   "metadata": {},
   "outputs": [],
   "source": [
    "\n",
    "def sim_playlist_data (a_start_date, a_end_date):   \n",
    "    \n",
    "    ret_val = 0\n",
    "    return ret_val\n",
    "\n"
   ]
  },
  {
   "cell_type": "markdown",
   "id": "7899c7cd",
   "metadata": {},
   "source": [
    "### Simuate Streaming Data\n",
    "\n",
    "This fuction will determine which songs the specified customer profile will stream, if any \n",
    "\n",
    "*any note*  "
   ]
  },
  {
   "cell_type": "code",
   "execution_count": 24,
   "id": "855e5d0f",
   "metadata": {},
   "outputs": [],
   "source": [
    "\n",
    "def sim_streaming_data (a_start_date, a_end_date):   \n",
    "    \n",
    "    ret_val = 0\n",
    "    return ret_val\n",
    "\n",
    "\n"
   ]
  },
  {
   "cell_type": "markdown",
   "id": "4668a759",
   "metadata": {},
   "source": [
    "### Simuate Data\n",
    "\n",
    "This fuction calls the appropriate simulation function based on the entitity type, otherwise return -1\n",
    "\n"
   ]
  },
  {
   "cell_type": "code",
   "execution_count": 20,
   "id": "f5359349",
   "metadata": {},
   "outputs": [],
   "source": [
    "\n",
    "def sim_data ( a_entity_type, a_start_date, a_end_date ):   \n",
    "\n",
    "    ret_val = -1\n",
    "    \n",
    "    if a_entity_type == 'Follower':\n",
    "        ret_val = sim_follower_data (a_start_date, a_end_date )\n",
    "        \n",
    "    if a_entity_type == 'Playlist':\n",
    "        ret_val = sim_playlist_data (a_start_date, a_end_date )\n",
    "        \n",
    "    if a_entity_type == 'Stream':\n",
    "        ret_val = sim_streaming_data (a_start_date, a_end_date )\n",
    "        \n",
    "    \n",
    "    return ret_val\n",
    "\n"
   ]
  },
  {
   "cell_type": "markdown",
   "id": "3075ab83",
   "metadata": {},
   "source": [
    "### Here we go...\n",
    "\n",
    "* Initalization, database engine \n",
    "\n",
    "* Assign personas to Hallux entities \n",
    "\n",
    "* Generate the data for the specified date range!\n"
   ]
  },
  {
   "cell_type": "code",
   "execution_count": 27,
   "id": "c1485df8",
   "metadata": {},
   "outputs": [
    {
     "name": "stdout",
     "output_type": "stream",
     "text": [
      "Agent -1\n",
      "Album -1\n",
      "Band -1\n",
      "Customer -1\n",
      "Follower -1\n",
      "Genre -1\n",
      "Member -1\n",
      "Order -1\n",
      "Performance -1\n",
      "Playlist -1\n",
      "Producer -1\n",
      "Profile -1\n",
      "Song -1\n",
      "Stream -1\n",
      "Video -1\n",
      "Agent -1\n",
      "Album -1\n",
      "Band -1\n",
      "Customer -1\n",
      "Follower 0\n",
      "Genre -1\n",
      "Member -1\n",
      "Order -1\n",
      "Performance -1\n",
      "Playlist 0\n",
      "Producer -1\n",
      "Profile -1\n",
      "Song -1\n",
      "Stream 0\n",
      "Video -1\n"
     ]
    }
   ],
   "source": [
    "\n",
    "\n",
    "hallux_svr = getenv(\"halluxsvr\")\n",
    "hallux_usr = getenv(\"halluxusr\")\n",
    "hallux_psd = getenv(\"halluxpsd\")\n",
    "hallux_db  = getenv(\"halluxdb\")\n",
    "\n",
    "\n",
    "# for use in creating a dataframe\n",
    "conn_string = f\"mssql+pyodbc://{hallux_usr}:{hallux_psd}@{hallux_svr}/{hallux_db}?driver=SQL+Server+Native+Client+11.0&TrustServerCertificate=yes\"\n",
    "eng = create_engine(conn_string, fast_executemany=True)\n",
    "\n",
    "# used for executing dynamic sql\n",
    "conn   = pymssql.connect(hallux_svr, hallux_usr, hallux_psd, hallux_db)\n",
    "\n",
    "\n",
    "# STEP 1 - loop thru the entities and assign the appropriate persona\n",
    "\n",
    "for curr_entity, curr_value in Entities.items():\n",
    "    ret = assign_personas (curr_entity, curr_value[1])\n",
    "    print(curr_entity, ret)\n",
    "\n",
    "\n",
    "# STEP 2 - Loop thru the entities and Simulate data \n",
    "\n",
    "start_date = date(2023, 1, 1)\n",
    "end_date   = date(2023, 12, 31)  \n",
    "\n",
    "for curr_entity, curr_value in Entities.items():\n",
    "    ret = sim_data (curr_entity, start_date, end_date)\n",
    "    print(curr_entity, ret)\n",
    "\n",
    "\n",
    "conn.close()\n",
    "eng.dispose()\n",
    "\n"
   ]
  },
  {
   "cell_type": "code",
   "execution_count": null,
   "id": "7857df24",
   "metadata": {},
   "outputs": [],
   "source": []
  }
 ],
 "metadata": {
  "kernelspec": {
   "display_name": "Python 3 (ipykernel)",
   "language": "python",
   "name": "python3"
  },
  "language_info": {
   "codemirror_mode": {
    "name": "ipython",
    "version": 3
   },
   "file_extension": ".py",
   "mimetype": "text/x-python",
   "name": "python",
   "nbconvert_exporter": "python",
   "pygments_lexer": "ipython3",
   "version": "3.9.12"
  }
 },
 "nbformat": 4,
 "nbformat_minor": 5
}
